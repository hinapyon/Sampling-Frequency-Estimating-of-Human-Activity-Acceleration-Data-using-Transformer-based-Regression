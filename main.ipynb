{
  "cells": [
    {
      "cell_type": "code",
      "execution_count": 1,
      "metadata": {
        "id": "Bas6JwyhMhbQ"
      },
      "outputs": [],
      "source": [
        "#ライブラリをインポート\n",
        "import os #OSに依存する様々な機能を利用するためのモジュール(ファイルやディレクトリ操作など)\n",
        "import re #正規表現を利用するためのモジュール\n",
        "import csv  #csvファイルを扱うためのモジュール\n",
        "import math #数学的計算のためのモジュール\n",
        "from decimal import Decimal #小数点桁落ちをなくすためのモジュール\n",
        "import matplotlib.pyplot as plt #グラフ描画のためのモジュール\n",
        "import japanize_matplotlib #グラフ描画に日本語を用いるためのモジュール\n",
        "import numpy as np  #多次元配列計算のためのモジュール\n",
        "import pandas as pd #データフレームを扱うためのモジュール\n",
        "from scipy import signal  #信号処理のためのモジュール\n",
        "from scipy.stats import skew, kurtosis  #歪度と尖度を調べるためのモジュール\n",
        "from sklearn.model_selection import train_test_split  #データをトレーニング用とテスト用に分けるためのモジュール\n",
        "from sklearn import preprocessing #データを正規化するためのモジュール\n",
        "from sklearn.preprocessing import StandardScaler  #データを標準化するためのモジュール\n",
        "from sklearn.preprocessing import LabelEncoder  #カテゴリ変数を数値化するためのモジュール\n",
        "from sklearn.linear_model import LinearRegression #線型回帰\n",
        "from sklearn.svm import SVC #サポートベクターマシン\n",
        "from sklearn.ensemble import RandomForestClassifier #ランダムフォレスト\n",
        "from sklearn.neighbors import KNeighborsClassifier  #k-近傍法\n",
        "from sklearn.metrics import accuracy_score, mean_squared_error, mean_absolute_error, r2_score #機械学習モデルの性能評価のためのモジュール\n",
        "import xgboost as xgb #XGBoost\n",
        "import lightgbm as lgb  #LightGBM\n",
        "import tensorflow as tf #TensorFlow(Googleが開発したオープンソースの機械学習フレームワーク)\n",
        "from tensorflow import keras  #TensorFlow用のニューラルネットワークライブラリAPI\n",
        "from tensorflow.keras import layers #ニューラルネットワークのレイヤーを定義するためのモジュール\n",
        "from keras.utils import plot_model  #モデルをプロットするためのモジュール\n",
        "import torch  #PyTorch\n",
        "import torch.nn as nn #ニューラルネットワークのためのモジュール\n",
        "import torch.optim as optim #パラメータの最適化を行うためのモジュール\n",
        "from torch.utils.data import DataLoader, Dataset  #データをバッチ単位でロードするためのユーティリティクラス"
      ]
    },
    {
      "cell_type": "code",
      "execution_count": 2,
      "metadata": {
        "colab": {
          "base_uri": "https://localhost:8080/"
        },
        "id": "EzO3A-XWpV6C",
        "outputId": "63fbb5df-df6b-449f-e8a1-564fb5dc07fa"
      },
      "outputs": [
        {
          "name": "stdout",
          "output_type": "stream",
          "text": [
            "Mounted at /content/drive\n"
          ]
        }
      ],
      "source": [
        "#Google colab用\n",
        "from google.colab import drive\n",
        "drive.mount('/content/drive')"
      ]
    },
    {
      "cell_type": "code",
      "execution_count": 3,
      "metadata": {
        "id": "lXD7LMLAf155"
      },
      "outputs": [],
      "source": [
        "#よく使うgit command\n",
        "\n",
        "#google colabと揃える\n",
        "#git fetch origin main\n",
        "#git reset --hard origin/main"
      ]
    },
    {
      "cell_type": "code",
      "execution_count": 4,
      "metadata": {
        "id": "O9M_5p5ZMhbW"
      },
      "outputs": [],
      "source": [
        "#定数を定義\n",
        "BINS = 4000  #ヒストグラムのビンの数\n",
        "EPSILON = .00001  #スムージングパラメータ\n",
        "UPPER_LIMIT = 1.1 #静止区間の上限\n",
        "LOWER_LIMIT = 0.9 #静止区間の加減\n",
        "STATIONARY_INTERVALS = 5  #静止区間除去のサンプルの間隔(静止区間が何サンプル連続したら除去するか)\n",
        "TRAIN_SIZE = 0.8  #機械学習のトレーニングデータの割合\n",
        "N_ESTIMATORS = 100  #決定木の数"
      ]
    },
    {
      "cell_type": "code",
      "execution_count": 5,
      "metadata": {
        "id": "1ayIViPuMhbX"
      },
      "outputs": [],
      "source": [
        "#ディレクトリ内のAMWS020のデータセットのファイル名と周波数を取得する関数\n",
        "def get_Hz_and_filename(path: str) -> list[int, str]:\n",
        "    filename = os.listdir(path) #引数のパスのディレクトリの中のファイル名一覧を取得\n",
        "    Hz_and_filename=[]  #ファイル名と周波数を格納するリストを宣言\n",
        "\n",
        "    for file in filename:\n",
        "        Hz = re.search(r'\\d+', file)    #正規表現を用いてファイル名の中で一番最初に出てくる数字(周波数)を取得\n",
        "        if Hz:  #数字の入っていないファイル名があるとエラーを吐くので、このif文でチェックする\n",
        "            Hz_and_filename.append([int(Hz.group(0)), file])    #ファイル名と周波数を格納\n",
        "\n",
        "    return Hz_and_filename"
      ]
    },
    {
      "cell_type": "code",
      "execution_count": 6,
      "metadata": {
        "id": "XS5pSF8QMhbY"
      },
      "outputs": [],
      "source": [
        "#ファイル名と周波数を分けて出力する関数\n",
        "def divide_Hz_and_filename(Hz_and_filename: list[int, str]) -> tuple[list[int], list[str]]:\n",
        "    Hz = []\n",
        "    filename = []\n",
        "    for row in Hz_and_filename:\n",
        "      Hz.append(row[0])\n",
        "      filename.append(row[1])\n",
        "\n",
        "    return Hz, filename"
      ]
    },
    {
      "cell_type": "code",
      "execution_count": 7,
      "metadata": {
        "id": "RpqmEX_lMhbY"
      },
      "outputs": [],
      "source": [
        "#加速度データのCSVファイルから3軸加速度を取得する関数\n",
        "def get_acceleration(filename: str) -> tuple[list[float], list[float], list[float]]:\n",
        "    AccX, AccY, AccZ = [], [], []\n",
        "    with open(filename) as f:\n",
        "        reader = csv.reader(f)\n",
        "        for row in reader:\n",
        "            AccX.append(float(row[2]))\n",
        "            AccY.append(float(row[3]))\n",
        "            AccZ.append(float(row[4]))\n",
        "\n",
        "    return AccX, AccY, AccZ"
      ]
    },
    {
      "cell_type": "code",
      "execution_count": 8,
      "metadata": {
        "id": "K9qcaVkWMhbZ"
      },
      "outputs": [],
      "source": [
        "#静止区間を除去する関数\n",
        "def acc_to_remove_stationary_intervals(AccX: list[float], AccY: list[float], AccZ: list[float]) -> list[float]:\n",
        "    #各軸の加速度の平均を求める\n",
        "    AvgAccX = sum(AccX) / len(AccX)\n",
        "    AvgAccY = sum(AccY) / len(AccY)\n",
        "    AvgAccZ = sum(AccZ) / len(AccZ)\n",
        "\n",
        "    AvgResultantAcc = math.sqrt(AvgAccX ** 2 + AvgAccY ** 2 + AvgAccZ ** 2) #重力加速度の推定値=合成加速度の平均を求める\n",
        "\n",
        "    ResultantAcc = [math.sqrt(x ** 2 + y ** 2 + z ** 2) for x, y, z in zip(AccX, AccY, AccZ)]   #各時刻の合成加速度を求める\n",
        "\n",
        "    #各時刻の合成加速度から静止区間(重力加速度の推定値に近い値が一定以上以上連続している区間)を除去する\n",
        "    i = 0 #ループ変数\n",
        "    counter = 0 #静止区間がSTATIONARY_INTERVALS分続いているかをカウントする変数\n",
        "    while i < len(ResultantAcc):\n",
        "        if AvgResultantAcc * LOWER_LIMIT < ResultantAcc[i] < AvgResultantAcc * UPPER_LIMIT:   #平均のLOWER_LIMIT倍~UPPER_LIMIT倍の範囲を調べる\n",
        "            counter += 1    #範囲内ならカウントを増やす\n",
        "            if counter == STATIONARY_INTERVALS: #カウントがSTATIONARY_INTERVALSに達したらその区間を削除\n",
        "                del ResultantAcc[i+1-STATIONARY_INTERVALS:i+1]    #スライスでは選択範囲の開始位置startと終了位置stopを[start:stop]のように書くとstart <= x < stopの範囲が選択される #start番目の値は含まれるがstop番目の値は含まれない\n",
        "                counter = 0 #カウンターをリセット\n",
        "                i -= STATIONARY_INTERVALS   #削除した分インデックスがズレるので補正する\n",
        "        else:\n",
        "            counter = 0 #カウンターをリセット\n",
        "        i += 1\n",
        "\n",
        "    return ResultantAcc  #静止区間を除去した後のリストを返す"
      ]
    },
    {
      "cell_type": "code",
      "execution_count": 9,
      "metadata": {
        "id": "eQQgVSMLMhba"
      },
      "outputs": [],
      "source": [
        "#連続する2サンプルの差分を取る関数\n",
        "def calculate_differences_of_acceleration(ResultantAcc: list[float]) -> list[float]:\n",
        "    DifferenceAcc = [math.fabs(Decimal(ResultantAcc[i + 1]) - Decimal(ResultantAcc[i])) for i in range(len(ResultantAcc) - 1)]  #連続する2サンプルの誤差を取る\n",
        "    return DifferenceAcc"
      ]
    },
    {
      "cell_type": "code",
      "execution_count": 10,
      "metadata": {
        "id": "Wwv2Q2U0Mhba"
      },
      "outputs": [],
      "source": [
        "#KLダイバージェンス関数 #引数として与える2つの分布は非負の値の集合でなければならないことに注意\n",
        "def KL_divergence(a: list[float], b: list[float]) -> float:\n",
        "    min_value = min(min(a), min(b)) #a,bの最小値の小さい方\n",
        "    max_value = max(max(a), max(b)) #a,bの最大値の大きい方\n",
        "\n",
        "    #a,bのヒストグラムを作成し、同じ数のビンで区切る\n",
        "    a_hist, _ = np.histogram(a, bins=BINS, range=(min_value, max_value))\n",
        "    b_hist, _ = np.histogram(b, bins=BINS, range=(min_value, max_value))\n",
        "\n",
        "    #正規化する(確率分布に変換する、合計を1にする)ために全合計で割る\n",
        "    a_hist = (a_hist + EPSILON) / a_hist.sum()\n",
        "    b_hist = (b_hist + EPSILON) / b_hist.sum()\n",
        "\n",
        "    #KLダイバージェンスの値を返す\n",
        "    return np.sum([ai * np.log(ai / bi) for ai, bi in zip(a_hist, b_hist)])"
      ]
    },
    {
      "cell_type": "code",
      "execution_count": 11,
      "metadata": {
        "id": "LYPgBNbLMhbb"
      },
      "outputs": [],
      "source": [
        "#JSダイバージェンス関数 #引数として与える2つの分布は非負の値の集合でなければならないことに注意\n",
        "def JS_divergence(a: list[float], b: list[float]) -> float:\n",
        "    min_value = min(min(a), min(b)) #a,bの最小値の小さい方\n",
        "    max_value = max(max(a), max(b)) #a,bの最大値の大きい方\n",
        "\n",
        "    #a,bのヒストグラムを作成し、同じ数のビンで区切る\n",
        "    a_hist, _ = np.histogram(a, bins=BINS, range=(min_value, max_value))\n",
        "    b_hist, _ = np.histogram(b, bins=BINS, range=(min_value, max_value))\n",
        "\n",
        "    #正規化する(確率分布に変換する、合計を1にする)ために全合計で割る\n",
        "    a_hist = (a_hist + EPSILON) / a_hist.sum()\n",
        "    b_hist = (b_hist + EPSILON) / b_hist.sum()\n",
        "\n",
        "    #2つの分布の平均値を求める\n",
        "    mean_hist = (a_hist + b_hist) / 2.0\n",
        "\n",
        "    #平均とそれぞれの分布のKLダイバージェンスを算出\n",
        "    kl_a = np.sum([ai * np.log(ai / bi) for ai, bi in zip(a_hist, mean_hist)])\n",
        "    kl_b = np.sum([ai * np.log(ai / bi) for ai, bi in zip(b_hist, mean_hist)])\n",
        "\n",
        "    #JSダイバージェンスの値を返す\n",
        "    return (kl_a + kl_b) / 2.0"
      ]
    },
    {
      "cell_type": "code",
      "execution_count": 12,
      "metadata": {
        "id": "d2LkruC2Mhbc"
      },
      "outputs": [],
      "source": [
        "#データフレームの各行の中で2番目に小さい値が格納されている場所を調べる関数(最小値は同じ確率分布同士の0.0)\n",
        "def get_index_and_columns_of_second_smallest(df: pd.DataFrame) -> list[str, str]:\n",
        "    index_and_columns_of_second_smallest = []  #データフレームの中で2番目に小さい値が格納されている場所のインデックス名とカラム名を格納する変数\n",
        "    for i in range(len(df)):\n",
        "        sorted_row = df.iloc[i].sort_values()   #.ilocでデータフレームの要素を行、列の番号の添字で指定する    #各行の要素を昇順に並び替える\n",
        "        second_smallest_columns = sorted_row.index[1] #各行の2番目に小さい値が格納されているカラム[1]の名前を取得\n",
        "        #second_smallest_label = df.columns.get_loc(second_smallest_index)\n",
        "        index_and_columns_of_second_smallest.append((df.index[i], second_smallest_columns))    #インデックスとカラムのラベル名の組を二次元配列に追加\n",
        "    return index_and_columns_of_second_smallest"
      ]
    },
    {
      "cell_type": "code",
      "execution_count": 13,
      "metadata": {
        "id": "5ThEXp0RMhbc"
      },
      "outputs": [],
      "source": [
        "#KL・JSダイバージェンスの推定精度を算出する関数\n",
        "def calculate_accuracy(index_and_columns_of_second_smallest: list[str, str]) -> tuple[float, list[int]]:\n",
        "    counter = 0\n",
        "    error_index_list = []\n",
        "    for i in range(len(index_and_columns_of_second_smallest)):\n",
        "        #インデックスとカラムのラベル名が同じならばカウンターを1増やす\n",
        "        if index_and_columns_of_second_smallest[i][0] == index_and_columns_of_second_smallest[i][1]:\n",
        "            counter += 1\n",
        "        else:\n",
        "            error_index_list.append(i)\n",
        "            print(f\"間違ってるやつは{i}番目の{index_and_columns_of_second_smallest[i][0]}と{index_and_columns_of_second_smallest[i][1]}です\")\n",
        "\n",
        "    return (counter / len(index_and_columns_of_second_smallest)) * 100, error_index_list  #精度を100分率で返す"
      ]
    },
    {
      "cell_type": "code",
      "execution_count": 14,
      "metadata": {
        "id": "mcsauMQVMhbd"
      },
      "outputs": [],
      "source": [
        "#入力された加速度の差分のリストからヒストグラムを作る関数（ビンの範囲が全加速度の差分データの最小値〜最大値）\n",
        "def create_histogram(DifferenceAcc_list: list[float]) -> np.histogram:\n",
        "    min_value = min(map(lambda x:max(x), DifferenceAcc_list))   #入力されたリストの中で最も小さい数\n",
        "    max_value = max(map(lambda x:max(x), DifferenceAcc_list))   #入力されたリストの中で最も大きい数\n",
        "\n",
        "    DifferenceAcc_hist = np.zeros((len(DifferenceAcc_list), BINS), dtype=float)\n",
        "\n",
        "    for i in range(len(DifferenceAcc_list)):\n",
        "        DifferenceAcc_hist[i], _ = np.histogram(DifferenceAcc_list[i], bins=BINS, range=(min_value, max_value), density=True) #ヒストグラムを作成し、同じ数のビンで区切る\n",
        "    return DifferenceAcc_hist"
      ]
    },
    {
      "cell_type": "code",
      "execution_count": 15,
      "metadata": {
        "id": "w8t7sIyfMhbe"
      },
      "outputs": [],
      "source": [
        "#入力された加速度の差分のリストからヒストグラムを作る関数（ビンの範囲が各加速度の差分データの最小値〜最大値）\n",
        "def create_histogram2(DifferenceAcc_list: list[float]) -> np.histogram:\n",
        "    DifferenceAcc_hist = np.zeros((len(DifferenceAcc_list), BINS), dtype=float)\n",
        "    for i in range(len(DifferenceAcc_list)):\n",
        "        min_value = min(DifferenceAcc_list[i])\n",
        "        max_value = max(DifferenceAcc_list[i])\n",
        "        #DifferenceAcc_hist[i], _ = np.histogram(DifferenceAcc_list[i], bins=BINS, range=(min_value, max_value)) #ヒストグラムを作成し、同じ数のビンで区切る\n",
        "        DifferenceAcc_hist[i], _ = np.histogram(DifferenceAcc_list[i], bins=BINS, density=True) #ヒストグラムを作成し、同じ数のビンで区切る\n",
        "    return DifferenceAcc_hist"
      ]
    },
    {
      "cell_type": "code",
      "execution_count": 16,
      "metadata": {
        "id": "rcSTCGpbMhbe"
      },
      "outputs": [],
      "source": [
        "#加速度データのCSVファイルからヒストグラムを作成する一連の流れを自動化した関数\n",
        "def read_Acc_to_histogram(path: str) -> tuple[np.histogram, np.array]:\n",
        "    Hz_and_filename = get_Hz_and_filename(path)\n",
        "    Hz_and_filename.sort(reverse=True)  #周波数の大きい順にソート\n",
        "    Hz, filename = divide_Hz_and_filename(Hz_and_filename)\n",
        "    Hz = np.array(Hz)\n",
        "\n",
        "    #使う変数を宣言\n",
        "    AccX, AccY, AccZ = [], [], []\n",
        "    ResultantAcc = []\n",
        "    DifferenceAcc_list = []\n",
        "\n",
        "    #各データセットからデータを読み込み静止区間を除去したものを二次元配列に格納\n",
        "    for i in filename:\n",
        "        AccX, AccY, AccZ = get_acceleration(path+i)\n",
        "        ResultantAcc = acc_to_remove_stationary_intervals(AccX, AccY, AccZ)\n",
        "        DifferenceAcc_list.append(calculate_differences_of_acceleration(ResultantAcc))\n",
        "\n",
        "    DifferenceAcc_hist = create_histogram2(DifferenceAcc_list)\n",
        "    return DifferenceAcc_hist, Hz"
      ]
    },
    {
      "cell_type": "code",
      "execution_count": 17,
      "metadata": {
        "id": "OReV0IogMhbf"
      },
      "outputs": [],
      "source": [
        "#各加速度データをダウンサンプリングする関数\n",
        "def resampling_Acc(originHz: int, newHz: int, AccX: list[float], AccY: list[float], AccZ: list[float], Hz: np.array) -> tuple[list[float], list[float], list[float], np.array]:\n",
        "    i = 0   #カウンター変数\n",
        "\n",
        "    while (Hz[i] == originHz):\n",
        "        originlen = len(AccX[i])    #元々のデータの長さ\n",
        "        sampling_factor = int(originlen * (newHz/originHz)) #ダウンサンプリングした後のデータの長さ\n",
        "        newAccX = signal.resample(AccX[i], sampling_factor)    #データをダウンサンプリング\n",
        "        newAccY = signal.resample(AccY[i], sampling_factor)    #データをダウンサンプリング\n",
        "        newAccZ = signal.resample(AccZ[i], sampling_factor)    #データをダウンサンプリング\n",
        "        AccX.append(newAccX)   #ダウンサンプリングデータを加速度データに追加\n",
        "        AccY.append(newAccY)   #ダウンサンプリングデータを加速度データに追加\n",
        "        AccZ.append(newAccZ)   #ダウンサンプリングデータを加速度データに追加\n",
        "        Hz = np.append(Hz, newHz)   #ダウンサンプリングレートを追加\n",
        "        i += 1\n",
        "\n",
        "    return AccX, AccY, AccZ, Hz"
      ]
    },
    {
      "cell_type": "code",
      "execution_count": 18,
      "metadata": {
        "id": "8mua7tfnMhbg"
      },
      "outputs": [],
      "source": [
        "#KLダイバージェンスとJSダイバージェンス算出の一連の流れを自動化した関数\n",
        "def KL_and_JS(path: str):\n",
        "    Hz_and_filename = get_Hz_and_filename(path)\n",
        "    Hz_and_filename.sort(reverse=True)  #周波数の大きい順にソート\n",
        "    Hz, filename = divide_Hz_and_filename(Hz_and_filename)\n",
        "    Hz = [str(hz) + \"Hz\" for hz in Hz]  #周波数の値+\"Hz\"のリストを作りデータフレームのラベルに用いる\n",
        "\n",
        "    #使う変数を宣言\n",
        "    AccX, AccY, AccZ = [], [], []\n",
        "    ResultantAcc = []\n",
        "    DifferenceAcc_list = []\n",
        "    resultKLD = [[0.0 for j in range(len(filename))] for i in range(len(filename))]  # resultKLDの要素を0.0で初期化\n",
        "    resultJSD = [[0.0 for j in range(len(filename))] for i in range(len(filename))]  # resultKLDの要素を0.0で初期化\n",
        "    error_index_list = []\n",
        "\n",
        "    #各データセットからデータを読み込み静止区間を除去したものを二次元配列に格納\n",
        "    for i in filename:\n",
        "        AccX, AccY, AccZ = get_acceleration(path+i)\n",
        "        ResultantAcc = acc_to_remove_stationary_intervals(AccX, AccY, AccZ)\n",
        "        DifferenceAcc_list.append(calculate_differences_of_acceleration(ResultantAcc))\n",
        "\n",
        "    #KLダイバージェンスの値を格納\n",
        "    for i in range(len(filename)):\n",
        "        for j in range(len(filename)):\n",
        "            resultKLD[i][j] = KL_divergence(DifferenceAcc_list[i], DifferenceAcc_list[j])\n",
        "\n",
        "    #JSダイバージェンスの値を格納\n",
        "    for i in range(len(filename)):\n",
        "        for j in range(len(filename)):\n",
        "            resultJSD[i][j] = JS_divergence(DifferenceAcc_list[i], DifferenceAcc_list[j])\n",
        "\n",
        "    #結果を出力\n",
        "    df_KLD = pd.DataFrame(resultKLD, index=Hz, columns=Hz)\n",
        "    display(df_KLD)\n",
        "    accuracyKLD, error_index_list = calculate_accuracy(get_index_and_columns_of_second_smallest(df_KLD))\n",
        "    for i in range(len(error_index_list)):\n",
        "        print(filename[error_index_list[i]])\n",
        "    print(f\"KLダイバージェンスによる推定精度は{accuracyKLD}%です\")\n",
        "\n",
        "    df_JSD = pd.DataFrame(resultJSD, index=Hz, columns=Hz)\n",
        "    display(df_JSD)\n",
        "    accuracyJSD, error_index_list = calculate_accuracy(get_index_and_columns_of_second_smallest(df_JSD))\n",
        "    for i in range(len(error_index_list)):\n",
        "        print(filename[error_index_list[i]])\n",
        "    print(f\"JSダイバージェンスによる推定精度は{accuracyJSD}%です\")"
      ]
    },
    {
      "cell_type": "code",
      "execution_count": 19,
      "metadata": {
        "id": "0oqeycUiMhbh"
      },
      "outputs": [],
      "source": [
        "#ランダムフォレストによる機械学習モデル構築と性能評価までを自動化した関数\n",
        "def random_forest(path: str):\n",
        "    DifferenceAcc_hist, Hz = read_Acc_to_histogram(path)\n",
        "\n",
        "    x_train, x_test, y_train, y_test = train_test_split(DifferenceAcc_hist, Hz, train_size = TRAIN_SIZE, shuffle = True)\n",
        "\n",
        "    # 学習する\n",
        "    clf = RandomForestClassifier(n_estimators=N_ESTIMATORS, random_state=1234)\n",
        "    clf.fit(x_train, y_train)\n",
        "    y_pred = clf.predict(x_test)\n",
        "    print(\"正解率 = \", accuracy_score(y_test, y_pred))"
      ]
    },
    {
      "cell_type": "code",
      "execution_count": 20,
      "metadata": {
        "id": "LQsnouRmMhbh"
      },
      "outputs": [],
      "source": [
        "#k-近傍法による機械学習モデル構築と性能評価までを自動化した関数\n",
        "def k_neighbors(path: str):\n",
        "    DifferenceAcc_hist, Hz = read_Acc_to_histogram(path)\n",
        "\n",
        "    scaler = StandardScaler()\n",
        "    scaler.fit(DifferenceAcc_hist)\n",
        "    newdata = scaler.transform(DifferenceAcc_hist)\n",
        "\n",
        "    x_train, x_test, y_train, y_test = train_test_split(newdata, Hz, train_size = TRAIN_SIZE, shuffle = True)\n",
        "\n",
        "    # 学習する\n",
        "    clf = KNeighborsClassifier()\n",
        "    clf.fit(x_train, y_train)\n",
        "    y_pred = clf.predict(x_test)\n",
        "    print(\"正解率 = \", accuracy_score(y_test, y_pred))"
      ]
    },
    {
      "cell_type": "code",
      "execution_count": 21,
      "metadata": {
        "id": "Qm1OuT3jMhbi"
      },
      "outputs": [],
      "source": [
        "#XGBoostによる機械学習モデル構築と性能評価までを自動化した関数\n",
        "def xgboost(path: str):\n",
        "    DifferenceAcc_hist, Hz = read_Acc_to_histogram(path)\n",
        "\n",
        "    le = LabelEncoder()\n",
        "    Hz = le.fit_transform(Hz)\n",
        "    # 学習する\n",
        "    x_train, x_test, y_train, y_test = train_test_split(DifferenceAcc_hist, Hz, train_size = TRAIN_SIZE, shuffle = True)\n",
        "    clf = xgb.XGBClassifier(objective='multi:softmax')\n",
        "    clf.fit(x_train, y_train)\n",
        "    y_pred = clf.predict(x_test)\n",
        "    print(\"正解率 = \", accuracy_score(y_test, y_pred))\n"
      ]
    },
    {
      "cell_type": "code",
      "execution_count": 22,
      "metadata": {
        "id": "JVpTvHM5Mhbj"
      },
      "outputs": [],
      "source": [
        "path = \"/content/drive/MyDrive/my_walk_data(100Hz15minutes)/\"  #Google colab用\n",
        "#path = \"my_walk_data(100Hz15minutes)/\"  #local用"
      ]
    },
    {
      "cell_type": "code",
      "execution_count": 23,
      "metadata": {
        "colab": {
          "base_uri": "https://localhost:8080/"
        },
        "id": "oGsWzd3RPIgl",
        "outputId": "bb7fd56b-4cb6-4d93-b297-6a0761a39921"
      },
      "outputs": [
        {
          "name": "stdout",
          "output_type": "stream",
          "text": [
            "Found GPU at: /device:GPU:0\n"
          ]
        }
      ],
      "source": [
        "#GPUを使うためのコマンド\n",
        "import tensorflow as tf\n",
        "device_name = tf.test.gpu_device_name()\n",
        "if device_name != '/device:GPU:0':\n",
        "  raise SystemError('GPU device not found')\n",
        "print('Found GPU at: {}'.format(device_name))"
      ]
    },
    {
      "cell_type": "code",
      "execution_count": 24,
      "metadata": {
        "id": "69BaPE4mMhbj"
      },
      "outputs": [],
      "source": [
        "#一連の流れ\n",
        "Hz_and_filename = get_Hz_and_filename(path)\n",
        "Hz_and_filename.sort(reverse=True)  #周波数の大きい順にソート\n",
        "Hz, filename = divide_Hz_and_filename(Hz_and_filename)\n",
        "Hz = np.array(Hz)\n",
        "\n",
        "#使う変数を宣言\n",
        "readAccX, readAccY, readAccZ = [], [], []   #データ読み込む用\n",
        "AccX, AccY, AccZ = [], [], []\n",
        "ResultantAcc = []\n",
        "DifferenceAcc_list = []\n",
        "\n",
        "#各データセットからデータを読み込み二次元配列に格納\n",
        "for i in filename:\n",
        "    readAccX, readAccY, readAccZ = get_acceleration(path+i)\n",
        "    AccX.append(readAccX), AccY.append(readAccY), AccZ.append(readAccZ)\n",
        "\n",
        "#各加速度データをダウンサンプリング\n",
        "for i in range(9, 1, -1):\n",
        "    AccX, AccY, AccZ, Hz = resampling_Acc(100, i * 10, AccX, AccY, AccZ, Hz)\n",
        "\n",
        "#静止区間を除去\n",
        "for i in range(len(Hz)):\n",
        "    ResultantAcc.append(acc_to_remove_stationary_intervals(AccX[i], AccY[i], AccZ[i]))"
      ]
    },
    {
      "cell_type": "code",
      "execution_count": 25,
      "metadata": {
        "id": "SViZlTY7Mhbk"
      },
      "outputs": [],
      "source": [
        "#ヒストグラム作成\n",
        "for i in range(len(ResultantAcc)):\n",
        "    DifferenceAcc_list.append(calculate_differences_of_acceleration(ResultantAcc[i]))\n",
        "DifferenceAcc_hist = create_histogram2(DifferenceAcc_list)"
      ]
    },
    {
      "cell_type": "code",
      "execution_count": 26,
      "metadata": {
        "colab": {
          "base_uri": "https://localhost:8080/",
          "height": 547
        },
        "id": "qHwPbRCD0ZT3",
        "outputId": "2d6859e2-c097-4e29-c4e9-49305cd35302"
      },
      "outputs": [
        {
          "data": {
            "image/png": "[encoded data removed]",
            "text/plain": [
              "<Figure size 900x600 with 3 Axes>"
            ]
          },
          "metadata": {},
          "output_type": "display_data"
        }
      ],
      "source": [
        "#グラフを表示する領域を，figオブジェクトとして作成。\n",
        "fig = plt.figure(figsize = (9,6))\n",
        "xl1 = \"acceleration (0.1mG)\"\n",
        "yl1 = \"frequency\"\n",
        "\n",
        "#グラフを描画するsubplot領域を作成。\n",
        "ax1 = fig.add_subplot(3, 1, 1)\n",
        "ax2 = fig.add_subplot(3, 1, 2)\n",
        "ax3 = fig.add_subplot(3, 1, 3)\n",
        "\n",
        "#各subplot領域にデータを渡す\n",
        "ax1.hist(DifferenceAcc_list[0], bins=BINS,density=True, range=(0, 6000), label=\"100 Hz\")\n",
        "ax2.hist(DifferenceAcc_list[125], bins=BINS,density=True, range=(0, 6000), label=\"50 Hz\")\n",
        "ax3.hist(DifferenceAcc_list[200], bins=BINS,density=True, range=(0, 6000), label=\"20 Hz\")\n",
        "\n",
        "#各subplotにxラベルを追加\n",
        "ax1.set_xlabel(xl1)\n",
        "ax2.set_xlabel(xl1)\n",
        "ax3.set_xlabel(xl1)\n",
        "\n",
        "#各subplotにyラベルを追加\n",
        "ax1.set_ylabel(yl1)\n",
        "ax2.set_ylabel(yl1)\n",
        "ax3.set_ylabel(yl1)\n",
        "\n",
        "#各subplotのy軸の範囲を指定\n",
        "ax1.set_ylim(0, 0.0020)\n",
        "ax2.set_ylim(0, 0.0020)\n",
        "ax3.set_ylim(0, 0.0020)\n",
        "\n",
        "# 凡例表示\n",
        "ax1.legend(loc = 'upper right')\n",
        "ax2.legend(loc = 'upper right')\n",
        "ax3.legend(loc = 'upper right')\n",
        "\n",
        "plt.show()"
      ]
    },
    {
      "cell_type": "code",
      "execution_count": 27,
      "metadata": {
        "id": "kzl6RJa8otDE"
      },
      "outputs": [],
      "source": [
        "fig.savefig(\"sample.svg\")"
      ]
    },
    {
      "cell_type": "code",
      "execution_count": null,
      "metadata": {
        "id": "fZnFEGWuMhbo"
      },
      "outputs": [],
      "source": [
        "#入力データの標準化\n",
        "scaler = StandardScaler()\n",
        "# Fit the scaler to x_train\n",
        "scaler.fit(DifferenceAcc_hist)\n",
        "# Use the scaler to transform x_train and x_test\n",
        "DifferenceAcc_hist = scaler.transform(DifferenceAcc_hist)"
      ]
    },
    {
      "cell_type": "code",
      "execution_count": null,
      "metadata": {
        "id": "T_glacXNpV6M"
      },
      "outputs": [],
      "source": [
        "#トレーニングデータとテストデータの分割\n",
        "x_train, x_test, y_train, y_test = train_test_split(DifferenceAcc_hist, Hz, train_size = TRAIN_SIZE, shuffle = True)"
      ]
    },
    {
      "cell_type": "code",
      "execution_count": null,
      "metadata": {
        "id": "XnJa0g0SpV6M"
      },
      "outputs": [],
      "source": [
        "#Transformer Decoder用の正解データの標準化\n",
        "scaler.fit(y_train.reshape(-1, 1))\n",
        "y_train_input = scaler.transform(y_train.reshape(-1, 1))\n",
        "y_test_input = scaler.transform(y_test.reshape(-1, 1))"
      ]
    },
    {
      "cell_type": "code",
      "execution_count": null,
      "metadata": {
        "id": "VBVb-qwKMhbp"
      },
      "outputs": [],
      "source": [
        "#transformer regression\n",
        "#各種パラメータ\n",
        "NUM_HEADS = 8\n",
        "KEY_DIM = int(BINS/NUM_HEADS)\n",
        "DROPOUT = 0.1\n",
        "N = 1\n",
        "\n",
        "# Define the input shape\n",
        "input_shape = BINS\n",
        "output_shape = 1\n",
        "\n",
        "#形を定義(このモジュールは行列でないとダメっぽい)\n",
        "inputs_encoder = layers.Input(shape=input_shape)\n",
        "inputs_decoder = layers.Input(shape=output_shape)"
      ]
    },
    {
      "cell_type": "code",
      "execution_count": null,
      "metadata": {
        "id": "YoU_op8GMhbq"
      },
      "outputs": [],
      "source": [
        "#Encoderに対する入力の形状\n",
        "x_encoder = layers.Reshape((10, int(BINS/10)))(inputs_encoder)"
      ]
    },
    {
      "cell_type": "code",
      "execution_count": null,
      "metadata": {
        "id": "ZyTxLjsqMhbr"
      },
      "outputs": [],
      "source": [
        "#Decoderに対する入力の形状\n",
        "y_decoder = layers.Reshape((1, 1))(inputs_decoder)\n",
        "y_decoder =tf.tile(y_decoder, [1, 10, int(BINS/10)])"
      ]
    },
    {
      "cell_type": "code",
      "execution_count": null,
      "metadata": {
        "id": "yOK4W-ruMhbs"
      },
      "outputs": [],
      "source": [
        "#Transformer Encoder Layer(BERT)\n",
        "for i in range(N):\n",
        "      #Multi-Head-Attention Layer\n",
        "      attention_encoder = layers.MultiHeadAttention(num_heads=NUM_HEADS, key_dim=KEY_DIM, use_bias=True)(x_encoder, x_encoder, x_encoder)\n",
        "\n",
        "      #Dropout Layer\n",
        "      attention_encoder = layers.Dropout(rate=DROPOUT)(attention_encoder)\n",
        "      #Add & Norm Layer\n",
        "      attention_encoder = layers.LayerNormalization()(x_encoder + attention_encoder)\n",
        "\n",
        "      #Feed-Forward-Network\n",
        "      ffn_encoder = layers.Dense(int(BINS/10) * 4, use_bias=True, activation=\"relu\")(attention_encoder)\n",
        "      ffn_encoder = layers.Dense(int(BINS/10), use_bias=True)(ffn_encoder)\n",
        "\n",
        "      #Dropout Layer\n",
        "      ffn_encoder = layers.Dropout(rate=DROPOUT)(ffn_encoder)\n",
        "      #Add & Norm Layer\n",
        "      x_encoder = layers.LayerNormalization()(attention_encoder + ffn_encoder)"
      ]
    },
    {
      "cell_type": "code",
      "execution_count": null,
      "metadata": {
        "id": "nVgyUbZ-0h9-"
      },
      "outputs": [],
      "source": [
        "#Transformer Encoder Layer(GPT-2)\n",
        "for i in range(N):\n",
        "      #Norm Layer\n",
        "      y_encoder = layers.LayerNormalization()(x_encoder)\n",
        "      #Multi-Head-Attention Layer\n",
        "      y_encoder = layers.MultiHeadAttention(num_heads=NUM_HEADS, key_dim=KEY_DIM, use_bias=True, dropout=DROPOUT)(y_encoder, y_encoder, y_encoder, use_causal_mask=True)\n",
        "\n",
        "      #Dropout Layer\n",
        "      y_encoder = layers.Dropout(rate=DROPOUT)(y_encoder)\n",
        "      #Add Layer\n",
        "      x_encoder = layers.add([x_encoder + y_encoder])\n",
        "\n",
        "      #Norm Layer\n",
        "      y_encoder = layers.LayerNormalization()(x_encoder)\n",
        "      #Feed-Forward-Network\n",
        "      y_encoder = layers.Dense(int(BINS/10) * 4, use_bias=True, activation=\"gelu\")(y_encoder)\n",
        "      y_encoder = layers.Dense(int(BINS/10), use_bias=True)(y_encoder)\n",
        "\n",
        "      #Dropout Layer\n",
        "      y_encoder = layers.Dropout(rate=DROPOUT)(y_encoder)\n",
        "      #Add Layer\n",
        "      x_encoder = layers.add([x_encoder + y_encoder])"
      ]
    },
    {
      "cell_type": "code",
      "execution_count": null,
      "metadata": {
        "id": "WULfruUPMhbt"
      },
      "outputs": [],
      "source": [
        "#Transformer Decoder\n",
        "for i in range(N):\n",
        "      #Multi-Head-Attention Layer\n",
        "      attention_decoder = layers.MultiHeadAttention(num_heads=NUM_HEADS, key_dim=KEY_DIM, use_bias=True)(y_decoder, y_decoder, y_decoder)\n",
        "\n",
        "      #Dropout Layer\n",
        "      attention_decoder = layers.Dropout(rate=DROPOUT)(attention_decoder)\n",
        "      #Add & Norm層\n",
        "      y_decoder = layers.LayerNormalization()(y_decoder + attention_decoder)\n",
        "\n",
        "      #Multi-Head-Attention Layer\n",
        "      attention_decoder = layers.MultiHeadAttention(num_heads=NUM_HEADS, key_dim=KEY_DIM, use_bias=True)(y_decoder, x_encoder, x_encoder, use_causal_mask=True)\n",
        "\n",
        "      #Dropout Layer\n",
        "      attention_decoder = layers.Dropout(rate=DROPOUT)(attention_decoder)\n",
        "      #Add & Norm層\n",
        "      attention_decoder = layers.LayerNormalization()(y_decoder + attention_decoder)\n",
        "\n",
        "      #Feed Forward層\n",
        "      ffn_decoder = layers.Dense(int(BINS/10) * 4, use_bias=True, activation=\"relu\")(attention_decoder)\n",
        "      ffn_decoder = layers.Dense(int(BINS/10), use_bias=True)(ffn_decoder)\n",
        "\n",
        "      #Dropout Layer\n",
        "      ffn_decoder = layers.Dropout(rate=DROPOUT)(ffn_decoder)\n",
        "      #Add & Norm層\n",
        "      y_decoder = layers.LayerNormalization()(attention_decoder + ffn_decoder)"
      ]
    },
    {
      "cell_type": "code",
      "execution_count": null,
      "metadata": {
        "id": "BJvmkemrqIN8"
      },
      "outputs": [],
      "source": [
        "#only Encoder(BERT)\n",
        "x = layers.Flatten()(x_encoder)\n",
        "outputs = layers.Dense(1, activation=\"relu\")(x)\n",
        "model = keras.Model(inputs=inputs_encoder, outputs=outputs)"
      ]
    },
    {
      "cell_type": "code",
      "execution_count": null,
      "metadata": {
        "id": "9TQTdNIVzHfv"
      },
      "outputs": [],
      "source": [
        "#only Encoder(Dense追加BERT)\n",
        "x = layers.Flatten()(x_encoder)\n",
        "x = layers.Dense(128, activation=\"relu\")(x)\n",
        "x = layers.Dropout(0.1)(x)\n",
        "x = layers.Dense(64, activation=\"relu\")(x)\n",
        "x = layers.Dropout(0.1)(x)\n",
        "outputs = layers.Dense(1, activation=\"relu\")(x)\n",
        "model = keras.Model(inputs=inputs_encoder, outputs=outputs)"
      ]
    },
    {
      "cell_type": "code",
      "execution_count": null,
      "metadata": {
        "id": "47gFrQGX7Wy_"
      },
      "outputs": [],
      "source": [
        "#only Encoder(GPT-2)\n",
        "x_encoder = layers.LayerNormalization()(x_encoder)\n",
        "x = layers.Flatten()(x_encoder)\n",
        "outputs = layers.Dense(1, activation=\"gelu\")(x)\n",
        "model = keras.Model(inputs=inputs_encoder, outputs=outputs)"
      ]
    },
    {
      "cell_type": "code",
      "execution_count": null,
      "metadata": {
        "id": "nof5V50A7Zkh"
      },
      "outputs": [],
      "source": [
        "#only Encoder(Dense追加GPT-2)\n",
        "#Norm Layer\n",
        "x_encoder = layers.LayerNormalization()(x_encoder)\n",
        "x = layers.Flatten()(x_encoder)\n",
        "x = layers.Dense(128, activation=\"gelu\")(x)\n",
        "x = layers.Dropout(0.1)(x)\n",
        "x = layers.Dense(64, activation=\"gelu\")(x)\n",
        "x = layers.Dropout(0.1)(x)\n",
        "outputs = layers.Dense(1, activation=\"gelu\")(x)\n",
        "model = keras.Model(inputs=inputs_encoder, outputs=outputs)"
      ]
    },
    {
      "cell_type": "code",
      "execution_count": null,
      "metadata": {
        "id": "Z1YXlsPWg_52"
      },
      "outputs": [],
      "source": [
        "#En & De\n",
        "x = layers.Flatten()(y_decoder)\n",
        "outputs = layers.Dense(1, activation=\"relu\")(x)\n",
        "model = keras.Model(inputs=[inputs_encoder, inputs_decoder], outputs=outputs)"
      ]
    },
    {
      "cell_type": "code",
      "execution_count": null,
      "metadata": {
        "id": "_11VxK2ZFSrN"
      },
      "outputs": [],
      "source": [
        "#En & De(Dense追加)\n",
        "x = layers.Flatten()(y_decoder)\n",
        "x = layers.Dense(128, activation=\"relu\")(x)\n",
        "x = layers.Dropout(0.1)(x)\n",
        "x = layers.Dense(64, activation=\"relu\")(x)\n",
        "x = layers.Dropout(0.1)(x)\n",
        "outputs = layers.Dense(1, activation=\"relu\")(x)"
      ]
    },
    {
      "cell_type": "code",
      "execution_count": null,
      "metadata": {
        "id": "qZGS8v4KMhb1"
      },
      "outputs": [],
      "source": [
        "# Compile the model\n",
        "model.compile(\n",
        "    optimizer=keras.optimizers.Adam(),\n",
        "    loss=keras.losses.mean_squared_error,\n",
        "    metrics=[keras.metrics.mean_squared_error],\n",
        ")"
      ]
    },
    {
      "cell_type": "code",
      "execution_count": null,
      "metadata": {
        "id": "FYKD1BgdMhb3"
      },
      "outputs": [],
      "source": [
        "model.summary()"
      ]
    },
    {
      "cell_type": "code",
      "execution_count": null,
      "metadata": {
        "id": "CWCrFTw3Mhb5"
      },
      "outputs": [],
      "source": [
        "#モデルの画像を出力\n",
        "plot_model(model, show_shapes=True, show_layer_names=False)"
      ]
    },
    {
      "cell_type": "code",
      "execution_count": null,
      "metadata": {
        "id": "hdXo4M1nZi2H"
      },
      "outputs": [],
      "source": [
        "mae = []\n",
        "mse = []\n",
        "r2 = []\n",
        "var = []"
      ]
    },
    {
      "cell_type": "code",
      "execution_count": null,
      "metadata": {
        "id": "wTfnzaMAznvt"
      },
      "outputs": [],
      "source": [
        "for i in range(30):\n",
        "  #only Encoder Transformer 試行用\n",
        "  x_train, x_test, y_train, y_test = train_test_split(DifferenceAcc_hist, Hz, train_size = TRAIN_SIZE, shuffle = True)\n",
        "  history = model.fit(x_train, y_train, batch_size=32, epochs=300, shuffle=True, validation_split=0.2)\n",
        "  y_pred = tf.cast(tf.clip_by_value(model.predict(x_test), 20, 100), tf.int32)\n",
        "  mae.append(mean_absolute_error(y_pred, y_test))\n",
        "  mse.append(mean_squared_error(y_pred, y_test))\n",
        "  r2.append(r2_score(y_pred, y_test))\n",
        "  diff = y_test - y_pred\n",
        "  var.append(np.var(diff))"
      ]
    },
    {
      "cell_type": "code",
      "execution_count": null,
      "metadata": {
        "id": "PvXckrSyXtSf"
      },
      "outputs": [],
      "source": [
        "metrics = ['loss', 'mean_squared_error']  # 使用する評価関数を指定\n",
        "\n",
        "plt.figure(figsize=(20, 10))  # グラフを表示するスペースを用意\n",
        "\n",
        "for i in range(len(metrics)):\n",
        "\n",
        "    metric = metrics[i]\n",
        "\n",
        "    plt.subplot(1, 2, i+1)  # figureを1×2のスペースに分け、i+1番目のスペースを使う\n",
        "    plt.title(metric)  # グラフのタイトルを表示\n",
        "\n",
        "    plt_train = history.history[metric]  # historyから訓練データの評価を取り出す\n",
        "    plt_test = history.history['val_' + metric]  # historyからテストデータの評価を取り出す\n",
        "\n",
        "    plt.plot(plt_train, label='training')  # 訓練データの評価をグラフにプロット\n",
        "    plt.plot(plt_test, label='validation')  # テストデータの評価をグラフにプロット\n",
        "    plt.legend()  # ラベルの表示\n",
        "\n",
        "plt.show()  # グラフの表示"
      ]
    },
    {
      "cell_type": "code",
      "execution_count": null,
      "metadata": {
        "id": "fhGsLgiscGsG"
      },
      "outputs": [],
      "source": [
        "for i in range(50):\n",
        "  #En & De Transformer 試行用\n",
        "  x_train, x_test, y_train, y_test = train_test_split(DifferenceAcc_hist, Hz, train_size = TRAIN_SIZE, shuffle = True)\n",
        "  #Transformer Decoder用の正解データの標準化\n",
        "  scaler.fit(y_train.reshape(-1, 1))\n",
        "  y_train_input = scaler.transform(y_train.reshape(-1, 1))\n",
        "  y_test_input = scaler.transform(y_test.reshape(-1, 1))\n",
        "  history = model.fit([x_train, y_train_input], y_train, batch_size=32, epochs=200, shuffle=True, validation_split=0.2)\n",
        "  y_pred = tf.cast(tf.clip_by_value(model.predict([x_test, y_test_input]), 20, 100), tf.int32)\n",
        "  mmm.append(mean_absolute_error(y_pred, y_test))"
      ]
    },
    {
      "cell_type": "code",
      "execution_count": null,
      "metadata": {
        "id": "d_OpiceqMhb7"
      },
      "outputs": [],
      "source": [
        "#旧Transformer\n",
        "import tensorflow as tf\n",
        "from tensorflow import keras\n",
        "from tensorflow.keras import layers\n",
        "\n",
        "#transformer regression\n",
        "# Define the input shape\n",
        "input_shape = (BINS,)\n",
        "\n",
        "# Define the model\n",
        "inputs = layers.Input(shape=input_shape)\n",
        "x = layers.Reshape((100, 40))(inputs)\n",
        "#y = layers.Reshape((100, 40))(inputs)\n",
        "x = layers.MultiHeadAttention(num_heads=8, key_dim=64)(x, x)\n",
        "#y = layers.MultiHeadAttention(num_heads=8, key_dim=64)(x, y)\n",
        "#x = layers.Flatten()(y)\n",
        "x = layers.Flatten()(x)\n",
        "#x = layers.Dense(256, activation=\"relu\")(x)\n",
        "#x = layers.Dropout(0.1)(x)\n",
        "x = layers.Dense(128, activation=\"relu\")(x)\n",
        "x = layers.Dropout(0.1)(x)\n",
        "x = layers.Dense(64, activation=\"relu\")(x)\n",
        "x = layers.Dropout(0.1)(x)\n",
        "outputs = layers.Dense(1, activation=\"relu\")(x)\n",
        "\n",
        "model = keras.Model(inputs=inputs, outputs=outputs)\n",
        "\n",
        "# Compile the model\n",
        "model.compile(\n",
        "    optimizer=keras.optimizers.Adam(),\n",
        "    loss=keras.losses.mean_squared_error,\n",
        "    metrics=[keras.metrics.mean_squared_error],\n",
        ")"
      ]
    },
    {
      "cell_type": "code",
      "execution_count": null,
      "metadata": {
        "id": "Fev3wDdIpV6T"
      },
      "outputs": [],
      "source": [
        "#旧Transformer試行用\n",
        "x_train, x_test, y_train, y_test = train_test_split(DifferenceAcc_hist, Hz, train_size = TRAIN_SIZE, shuffle = True)\n",
        "history = model.fit(x_train, y_train, batch_size=16, epochs=50, shuffle=True, validation_split=0.2)\n",
        "y_pred = tf.cast(tf.clip_by_value(model.predict(x_test), 20, 100), tf.int32)\n",
        "mean_absolute_error(y_pred, y_test)"
      ]
    },
    {
      "cell_type": "code",
      "execution_count": null,
      "metadata": {
        "id": "SLSkjYyJMhb8"
      },
      "outputs": [],
      "source": [
        "from sklearn.metrics import mean_squared_error, mean_absolute_error, r2_score\n",
        "#予測値をint型に限定\n",
        "#y_pred = tf.cast(model.predict(x_test), tf.int32)\n",
        "#予測値の範囲を限定\n",
        "#y_pred = tf.clip_by_value(model.predict(x_test), 20, 100)\n",
        "\n",
        "#予測値の型と範囲を限定\n",
        "y_pred = tf.cast(tf.clip_by_value(model.predict(x_test), 20, 100), tf.int32)\n",
        "\n",
        "#平均二乗誤差\n",
        "mse = mean_squared_error(y_pred, y_test)\n",
        "\n",
        "#二乗平均平方誤差\n",
        "rmse = np.sqrt(mse)\n",
        "\n",
        "#平均絶対誤差\n",
        "mae = mean_absolute_error(y_pred, y_test)\n",
        "\n",
        "#決定係数\n",
        "r2 = r2_score(y_pred, y_test)"
      ]
    },
    {
      "cell_type": "code",
      "execution_count": null,
      "metadata": {
        "id": "KuJLY3A1Mhb_"
      },
      "outputs": [],
      "source": [
        "#一連のやつ\n",
        "Hz_and_filename = get_Hz_and_filename(path)\n",
        "Hz_and_filename.sort(reverse=True)  #周波数の大きい順にソート\n",
        "Hz, filename = divide_Hz_and_filename(Hz_and_filename)\n",
        "Hz = np.array(Hz)\n",
        "\n",
        "#使う変数を宣言\n",
        "AccX, AccY, AccZ = [], [], []\n",
        "ResultantAcc = []\n",
        "DifferenceAcc_list = []\n",
        "\n",
        "#各データセットからデータを読み込み静止区間を除去したものを二次元配列に格納\n",
        "for i in filename:\n",
        "    AccX, AccY, AccZ = get_acceleration(path+i)\n",
        "    ResultantAcc.append(acc_to_remove_stationary_intervals(AccX, AccY, AccZ))"
      ]
    },
    {
      "cell_type": "code",
      "execution_count": null,
      "metadata": {
        "id": "jYU9urwfMhcB"
      },
      "outputs": [],
      "source": [
        "#ヒストグラム作成\n",
        "for i in range(len(ResultantAcc)):\n",
        "    DifferenceAcc_list.append(calculate_differences_of_acceleration(ResultantAcc[i]))\n",
        "DifferenceAcc_hist = create_histogram2(DifferenceAcc_list)"
      ]
    },
    {
      "cell_type": "code",
      "execution_count": null,
      "metadata": {
        "id": "hrvCmcIkMhcD"
      },
      "outputs": [],
      "source": [
        "#尖度\n",
        "DifferenceAcc_kurtosis = np.zeros(len(DifferenceAcc_hist))\n",
        "for i in range(len(DifferenceAcc_hist)):\n",
        "    DifferenceAcc_kurtosis[i] = kurtosis(DifferenceAcc_hist[i])\n",
        "\n",
        "#歪度\n",
        "DifferenceAcc_skewness = np.zeros(len(DifferenceAcc_hist))\n",
        "for i in range(len(DifferenceAcc_hist)):\n",
        "    DifferenceAcc_skewness[i] = skew(DifferenceAcc_hist[i])\n",
        "\n",
        "#分散\n",
        "histogram_var = np.zeros(len(DifferenceAcc_list))\n",
        "for i in range(len(DifferenceAcc_hist)):\n",
        "    histogram_var[i] = np.var(DifferenceAcc_list[i])"
      ]
    },
    {
      "cell_type": "code",
      "execution_count": null,
      "metadata": {
        "id": "SNY2kR-hMhcF"
      },
      "outputs": [],
      "source": [
        "#X_newに尖度＋歪度+分散を連結したもの\n",
        "X_new = np.concatenate((DifferenceAcc_kurtosis.reshape(-1, 1), DifferenceAcc_skewness.reshape(-1, 1), histogram_var.reshape(-1, 1)), axis=1)\n",
        "#XはDifferenceAcc_hist+X_new\n",
        "X = np.concatenate((DifferenceAcc_hist, X_new), axis=1)"
      ]
    }
  ],
  "metadata": {
    "accelerator": "GPU",
    "colab": {
      "gpuType": "T4",
      "provenance": []
    },
    "kernelspec": {
      "display_name": "Python 3",
      "name": "python3"
    },
    "language_info": {
      "codemirror_mode": {
        "name": "ipython",
        "version": 3
      },
      "file_extension": ".py",
      "mimetype": "text/x-python",
      "name": "python",
      "nbconvert_exporter": "python",
      "pygments_lexer": "ipython3",
      "version": "3.11.3"
    },
    "vscode": {
      "interpreter": {
        "hash": "919e6181955fbc636a96e4fdb04fb1b969c9681582829f05a2534c8d07862e2e"
      }
    }
  },
  "nbformat": 4,
  "nbformat_minor": 0
}
