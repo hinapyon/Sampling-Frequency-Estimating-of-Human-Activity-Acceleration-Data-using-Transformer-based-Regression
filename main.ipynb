{
 "cells": [
  {
   "cell_type": "code",
   "execution_count": 83,
   "metadata": {},
   "outputs": [],
   "source": [
    "#ライブラリをインポート\n",
    "import os #OSに依存する様々な機能を利用するためのモジュール(ファイルやディレクトリ操作など)\n",
    "import re #正規表現を利用するためのモジュール\n",
    "import csv  #csvファイルを扱うためのモジュール\n",
    "import math #数学的計算のためのモジュール\n",
    "import matplotlib.pyplot as plt #グラフ描画のためのモジュール\n",
    "import numpy as np  #多次元配列計算のためのモジュール\n",
    "import pandas as pd #データフレームを扱うためのモジュール\n",
    "from scipy import signal  #信号処理のためのモジュール\n",
    "from scipy.stats import skew, kurtosis  #歪度と尖度を調べるためのモジュール\n",
    "from sklearn.model_selection import train_test_split  #データをトレーニング用とテスト用に分けるためのモジュール\n",
    "from sklearn import preprocessing #データを正規化するためのモジュール\n",
    "from sklearn.preprocessing import StandardScaler  #データを標準化するためのモジュール\n",
    "from sklearn.preprocessing import LabelEncoder  #カテゴリ変数を数値化するためのモジュール\n",
    "from sklearn.linear_model import LinearRegression #線型回帰\n",
    "from sklearn.svm import SVC #サポートベクターマシン\n",
    "from sklearn.ensemble import RandomForestClassifier #ランダムフォレスト\n",
    "from sklearn.neighbors import KNeighborsClassifier  #k-近傍法\n",
    "from sklearn.metrics import accuracy_score, mean_squared_error, mean_absolute_error, r2_score #機械学習モデルの性能評価のためのモジュール\n",
    "import xgboost as xgb #XGBoost\n",
    "import lightgbm as lgb  #LightGBM\n",
    "import tensorflow as tf #TensorFlow(Googleが開発したオープンソースの機械学習フレームワーク)\n",
    "from tensorflow import keras  #TensorFlow用のニューラルネットワークライブラリAPI\n",
    "from tensorflow.keras import layers #ニューラルネットワークのレイヤーを定義するためのモジュール\n",
    "import torch  #PyTorch\n",
    "import torch.nn as nn #ニューラルネットワークのためのモジュール\n",
    "import torch.optim as optim #パラメータの最適化を行うためのモジュール\n",
    "from torch.utils.data import DataLoader, Dataset  #データをバッチ単位でロードするためのユーティリティクラスz"
   ]
  },
  {
   "cell_type": "code",
   "execution_count": 84,
   "metadata": {},
   "outputs": [],
   "source": [
    "#定数を定義\n",
    "BINS = 4000  #ヒストグラムのビンの数\n",
    "EPSILON = .00001  #スムージングパラメータ\n",
    "UPPER_LIMIT = 1.1 #静止区間の上限\n",
    "LOWER_LIMIT = 0.9 #静止区間の加減\n",
    "STATIONARY_INTERVALS = 5  #静止区間除去のサンプルの間隔(静止区間が何サンプル連続したら除去するか)\n",
    "TRAIN_SIZE = 0.8  #機械学習のトレーニングデータの割合\n",
    "N_ESTIMATORS = 100  #決定木の数"
   ]
  },
  {
   "cell_type": "code",
   "execution_count": 85,
   "metadata": {},
   "outputs": [],
   "source": [
    "#ディレクトリ内のAMWS020のデータセットのファイル名と周波数を取得する関数\n",
    "def get_Hz_and_filename(path: str) -> list[int, str]:\n",
    "    filename = os.listdir(path) #引数のパスのディレクトリの中のファイル名一覧を取得\n",
    "    Hz_and_filename=[]  #ファイル名と周波数を格納するリストを宣言\n",
    "\n",
    "    for file in filename:\n",
    "        Hz = re.search(r'\\d+', file)    #正規表現を用いてファイル名の中で一番最初に出てくる数字(周波数)を取得\n",
    "        if Hz:  #数字の入っていないファイル名があるとエラーを吐くので、このif文でチェックする\n",
    "            Hz_and_filename.append([int(Hz.group(0)), file])    #ファイル名と周波数を格納\n",
    "\n",
    "    return Hz_and_filename"
   ]
  },
  {
   "cell_type": "code",
   "execution_count": 86,
   "metadata": {},
   "outputs": [],
   "source": [
    "#ファイル名と周波数を分けて出力する関数\n",
    "def divide_Hz_and_filename(Hz_and_filename: list[int, str]) -> tuple[list[int], list[str]]:\n",
    "    Hz = []\n",
    "    filename = []\n",
    "    for row in Hz_and_filename:\n",
    "      Hz.append(row[0])\n",
    "      filename.append(row[1])\n",
    "\n",
    "    return Hz, filename"
   ]
  },
  {
   "cell_type": "code",
   "execution_count": 87,
   "metadata": {},
   "outputs": [],
   "source": [
    "#加速度データのCSVファイルから3軸加速度を取得する関数\n",
    "def get_acceleration(filename: str) -> tuple[list[float], list[float], list[float]]:\n",
    "    AccX, AccY, AccZ = [], [], []\n",
    "    with open(filename) as f:\n",
    "        reader = csv.reader(f)\n",
    "        for row in reader:\n",
    "            AccX.append(float(row[2]))\n",
    "            AccY.append(float(row[3]))\n",
    "            AccZ.append(float(row[4]))\n",
    "\n",
    "    return AccX, AccY, AccZ"
   ]
  },
  {
   "cell_type": "code",
   "execution_count": 88,
   "metadata": {},
   "outputs": [],
   "source": [
    "#静止区間を除去する関数\n",
    "def acc_to_remove_stationary_intervals(AccX: list[float], AccY: list[float], AccZ: list[float]) -> list[float]:\n",
    "    #各軸の加速度の平均を求める\n",
    "    AvgAccX = sum(AccX) / len(AccX)\n",
    "    AvgAccY = sum(AccY) / len(AccY)\n",
    "    AvgAccZ = sum(AccZ) / len(AccZ)\n",
    "\n",
    "    AvgResultantAcc = math.sqrt(AvgAccX ** 2 + AvgAccY ** 2 + AvgAccZ ** 2) #重力加速度の推定値=合成加速度の平均を求める\n",
    "\n",
    "    ResultantAcc = [math.sqrt(x ** 2 + y ** 2 + z ** 2) for x, y, z in zip(AccX, AccY, AccZ)]   #各時刻の合成加速度を求める\n",
    "\n",
    "    #各時刻の合成加速度から静止区間(重力加速度の推定値に近い値が一定以上以上連続している区間)を除去する\n",
    "    i = 0 #ループ変数\n",
    "    counter = 0 #静止区間がSTATIONARY_INTERVALS分続いているかをカウントする変数\n",
    "    while i < len(ResultantAcc):\n",
    "        if AvgResultantAcc * LOWER_LIMIT < ResultantAcc[i] < AvgResultantAcc * UPPER_LIMIT:   #平均のLOWER_LIMIT倍~UPPER_LIMIT倍の範囲を調べる\n",
    "            counter += 1    #範囲内ならカウントを増やす\n",
    "            if counter == STATIONARY_INTERVALS: #カウントがSTATIONARY_INTERVALSに達したらその区間を削除\n",
    "                del ResultantAcc[i+1-STATIONARY_INTERVALS:i+1]    #スライスでは選択範囲の開始位置startと終了位置stopを[start:stop]のように書くとstart <= x < stopの範囲が選択される #start番目の値は含まれるがstop番目の値は含まれない\n",
    "                counter = 0 #カウンターをリセット\n",
    "                i -= STATIONARY_INTERVALS   #削除した分インデックスがズレるので補正する\n",
    "        else:\n",
    "            counter = 0 #カウンターをリセット\n",
    "        i += 1\n",
    "\n",
    "    return ResultantAcc  #静止区間を除去した後のリストを返す"
   ]
  },
  {
   "cell_type": "code",
   "execution_count": 89,
   "metadata": {},
   "outputs": [],
   "source": [
    "#連続する2サンプルの差分を取る関数\n",
    "def calculate_differences_of_acceleration(ResultantAcc: list[float]) -> list[float]:\n",
    "    DifferenceAcc = [math.fabs(ResultantAcc[i + 1] * 100000 - ResultantAcc[i] * 100000) for i in range(len(ResultantAcc) - 1)]  #100000倍して誤差を取る\n",
    "    return DifferenceAcc"
   ]
  },
  {
   "cell_type": "code",
   "execution_count": 90,
   "metadata": {},
   "outputs": [],
   "source": [
    "#KLダイバージェンス関数 #引数として与える2つの分布は非負の値の集合でなければならないことに注意\n",
    "def KL_divergence(a: list[float], b: list[float]) -> float:\n",
    "    min_value = min(min(a), min(b)) #a,bの最小値の小さい方\n",
    "    max_value = max(max(a), max(b)) #a,bの最大値の大きい方\n",
    "\n",
    "    #a,bのヒストグラムを作成し、同じ数のビンで区切る\n",
    "    a_hist, _ = np.histogram(a, bins=BINS, range=(min_value, max_value))\n",
    "    b_hist, _ = np.histogram(b, bins=BINS, range=(min_value, max_value))\n",
    "\n",
    "    #正規化する(確率分布に変換する、合計を1にする)ために全合計で割る\n",
    "    a_hist = (a_hist + EPSILON) / a_hist.sum()\n",
    "    b_hist = (b_hist + EPSILON) / b_hist.sum()\n",
    "\n",
    "    #KLダイバージェンスの値を返す\n",
    "    return np.sum([ai * np.log(ai / bi) for ai, bi in zip(a_hist, b_hist)])"
   ]
  },
  {
   "cell_type": "code",
   "execution_count": 91,
   "metadata": {},
   "outputs": [],
   "source": [
    "#JSダイバージェンス関数 #引数として与える2つの分布は非負の値の集合でなければならないことに注意\n",
    "def JS_divergence(a: list[float], b: list[float]) -> float:\n",
    "    min_value = min(min(a), min(b)) #a,bの最小値の小さい方\n",
    "    max_value = max(max(a), max(b)) #a,bの最大値の大きい方\n",
    "\n",
    "    #a,bのヒストグラムを作成し、同じ数のビンで区切る\n",
    "    a_hist, _ = np.histogram(a, bins=BINS, range=(min_value, max_value))\n",
    "    b_hist, _ = np.histogram(b, bins=BINS, range=(min_value, max_value))\n",
    "\n",
    "    #正規化する(確率分布に変換する、合計を1にする)ために全合計で割る\n",
    "    a_hist = (a_hist + EPSILON) / a_hist.sum()\n",
    "    b_hist = (b_hist + EPSILON) / b_hist.sum()\n",
    "\n",
    "    #2つの分布の平均値を求める\n",
    "    mean_hist = (a_hist + b_hist) / 2.0\n",
    "\n",
    "    #平均とそれぞれの分布のKLダイバージェンスを算出\n",
    "    kl_a = np.sum([ai * np.log(ai / bi) for ai, bi in zip(a_hist, mean_hist)])\n",
    "    kl_b = np.sum([ai * np.log(ai / bi) for ai, bi in zip(b_hist, mean_hist)])\n",
    "\n",
    "    #JSダイバージェンスの値を返す\n",
    "    return (kl_a + kl_b) / 2.0"
   ]
  },
  {
   "cell_type": "code",
   "execution_count": 92,
   "metadata": {},
   "outputs": [],
   "source": [
    "#データフレームの各行の中で2番目に小さい値が格納されている場所を調べる関数(最小値は同じ確率分布同士の0.0)\n",
    "def get_index_and_columns_of_second_smallest(df: pd.DataFrame) -> list[str, str]:\n",
    "    index_and_columns_of_second_smallest = []  #データフレームの中で2番目に小さい値が格納されている場所のインデックス名とカラム名を格納する変数\n",
    "    for i in range(len(df)):\n",
    "        sorted_row = df.iloc[i].sort_values()   #.ilocでデータフレームの要素を行、列の番号の添字で指定する    #各行の要素を昇順に並び替える\n",
    "        second_smallest_columns = sorted_row.index[1] #各行の2番目に小さい値が格納されているカラム[1]の名前を取得\n",
    "        #second_smallest_label = df.columns.get_loc(second_smallest_index)\n",
    "        index_and_columns_of_second_smallest.append((df.index[i], second_smallest_columns))    #インデックスとカラムのラベル名の組を二次元配列に追加\n",
    "    return index_and_columns_of_second_smallest"
   ]
  },
  {
   "cell_type": "code",
   "execution_count": 93,
   "metadata": {},
   "outputs": [],
   "source": [
    "#KL・JSダイバージェンスの推定精度を算出する関数\n",
    "def calculate_accuracy(index_and_columns_of_second_smallest: list[str, str]) -> tuple[float, list[int]]:\n",
    "    counter = 0\n",
    "    error_index_list = []\n",
    "    for i in range(len(index_and_columns_of_second_smallest)):\n",
    "        #インデックスとカラムのラベル名が同じならばカウンターを1増やす\n",
    "        if index_and_columns_of_second_smallest[i][0] == index_and_columns_of_second_smallest[i][1]:\n",
    "            counter += 1\n",
    "        else:\n",
    "            error_index_list.append(i)\n",
    "            print(f\"間違ってるやつは{i}番目の{index_and_columns_of_second_smallest[i][0]}と{index_and_columns_of_second_smallest[i][1]}です\")\n",
    "\n",
    "    return (counter / len(index_and_columns_of_second_smallest)) * 100, error_index_list  #精度を100分率で返す"
   ]
  },
  {
   "cell_type": "code",
   "execution_count": 94,
   "metadata": {},
   "outputs": [],
   "source": [
    "#入力された加速度の差分のリストからヒストグラムを作る関数（ビンの範囲が全加速度の差分データの最小値〜最大値）\n",
    "def create_histogram(DifferenceAcc_list: list[float]) -> np.histogram:\n",
    "    min_value = min(map(lambda x:max(x), DifferenceAcc_list))   #入力されたリストの中で最も小さい数\n",
    "    max_value = max(map(lambda x:max(x), DifferenceAcc_list))   #入力されたリストの中で最も大きい数\n",
    "\n",
    "    DifferenceAcc_hist = np.zeros((len(DifferenceAcc_list), BINS), dtype=float)\n",
    "\n",
    "    for i in range(len(DifferenceAcc_list)):\n",
    "        DifferenceAcc_hist[i], _ = np.histogram(DifferenceAcc_list[i], bins=BINS, range=(min_value, max_value)) #ヒストグラムを作成し、同じ数のビンで区切る\n",
    "    return DifferenceAcc_hist"
   ]
  },
  {
   "cell_type": "code",
   "execution_count": 95,
   "metadata": {},
   "outputs": [],
   "source": [
    "#入力された加速度の差分のリストからヒストグラムを作る関数（ビンの範囲が各加速度の差分データの最小値〜最大値）\n",
    "def create_histogram2(DifferenceAcc_list: list[float]) -> np.histogram:\n",
    "    DifferenceAcc_hist = np.zeros((len(DifferenceAcc_list), BINS), dtype=float)\n",
    "    for i in range(len(DifferenceAcc_list)):\n",
    "        min_value = min(DifferenceAcc_list[i])\n",
    "        max_value = max(DifferenceAcc_list[i])\n",
    "        #DifferenceAcc_hist[i], _ = np.histogram(DifferenceAcc_list[i], bins=BINS, range=(min_value, max_value)) #ヒストグラムを作成し、同じ数のビンで区切る\n",
    "        DifferenceAcc_hist[i], _ = np.histogram(DifferenceAcc_list[i], bins=BINS) #ヒストグラムを作成し、同じ数のビンで区切る\n",
    "    return DifferenceAcc_hist"
   ]
  },
  {
   "cell_type": "code",
   "execution_count": 96,
   "metadata": {},
   "outputs": [],
   "source": [
    "#加速度データのCSVファイルからヒストグラムを作成する一連の流れを自動化した関数\n",
    "def read_Acc_to_histogram(path: str) -> tuple[np.histogram, np.array]:\n",
    "    Hz_and_filename = get_Hz_and_filename(path)\n",
    "    Hz_and_filename.sort(reverse=True)  #周波数の大きい順にソート\n",
    "    Hz, filename = divide_Hz_and_filename(Hz_and_filename)\n",
    "    Hz = np.array(Hz)\n",
    "\n",
    "    #使う変数を宣言\n",
    "    AccX, AccY, AccZ = [], [], []\n",
    "    ResultantAcc = []\n",
    "    DifferenceAcc_list = []\n",
    "\n",
    "    #各データセットからデータを読み込み静止区間を除去したものを二次元配列に格納\n",
    "    for i in filename:\n",
    "        AccX, AccY, AccZ = get_acceleration(path+i)\n",
    "        ResultantAcc = acc_to_remove_stationary_intervals(AccX, AccY, AccZ)\n",
    "        DifferenceAcc_list.append(calculate_differences_of_acceleration(ResultantAcc))\n",
    "\n",
    "    DifferenceAcc_hist = create_histogram2(DifferenceAcc_list)\n",
    "    return DifferenceAcc_hist, Hz"
   ]
  },
  {
   "cell_type": "code",
   "execution_count": 97,
   "metadata": {},
   "outputs": [],
   "source": [
    "#各加速度データをダウンサンプリングする関数\n",
    "def resampling_Acc(originHz: int, newHz: int, AccX: list[float], AccY: list[float], AccZ: list[float], Hz: np.array) -> tuple[list[float], list[float], list[float], np.array]:\n",
    "    i = 0   #カウンター変数\n",
    "\n",
    "    while (Hz[i] == originHz):\n",
    "        originlen = len(AccX[i])    #元々のデータの長さ\n",
    "        sampling_factor = int(originlen * (newHz/originHz)) #ダウンサンプリングした後のデータの長さ\n",
    "        newAccX = signal.resample(AccX[i], sampling_factor)    #データをダウンサンプリング\n",
    "        newAccY = signal.resample(AccY[i], sampling_factor)    #データをダウンサンプリング\n",
    "        newAccZ = signal.resample(AccZ[i], sampling_factor)    #データをダウンサンプリング\n",
    "        AccX.append(newAccX)   #ダウンサンプリングデータを加速度データに追加\n",
    "        AccY.append(newAccY)   #ダウンサンプリングデータを加速度データに追加\n",
    "        AccZ.append(newAccZ)   #ダウンサンプリングデータを加速度データに追加\n",
    "        Hz = np.append(Hz, newHz)   #ダウンサンプリングレートを追加\n",
    "        i += 1\n",
    "\n",
    "    return AccX, AccY, AccZ, Hz"
   ]
  },
  {
   "cell_type": "code",
   "execution_count": 98,
   "metadata": {},
   "outputs": [],
   "source": [
    "#KLダイバージェンスとJSダイバージェンス算出の一連の流れを自動化した関数\n",
    "def KL_and_JS(path: str):\n",
    "    Hz_and_filename = get_Hz_and_filename(path)\n",
    "    Hz_and_filename.sort(reverse=True)  #周波数の大きい順にソート\n",
    "    Hz, filename = divide_Hz_and_filename(Hz_and_filename)\n",
    "    Hz = [str(hz) + \"Hz\" for hz in Hz]  #周波数の値+\"Hz\"のリストを作りデータフレームのラベルに用いる\n",
    "\n",
    "    #使う変数を宣言\n",
    "    AccX, AccY, AccZ = [], [], []\n",
    "    ResultantAcc = []\n",
    "    DifferenceAcc_list = []\n",
    "    resultKLD = [[0.0 for j in range(len(filename))] for i in range(len(filename))]  # resultKLDの要素を0.0で初期化\n",
    "    resultJSD = [[0.0 for j in range(len(filename))] for i in range(len(filename))]  # resultKLDの要素を0.0で初期化\n",
    "    error_index_list = []\n",
    "\n",
    "    #各データセットからデータを読み込み静止区間を除去したものを二次元配列に格納\n",
    "    for i in filename:\n",
    "        AccX, AccY, AccZ = get_acceleration(path+i)\n",
    "        ResultantAcc = acc_to_remove_stationary_intervals(AccX, AccY, AccZ)\n",
    "        DifferenceAcc_list.append(calculate_differences_of_acceleration(ResultantAcc))\n",
    "\n",
    "    #KLダイバージェンスの値を格納\n",
    "    for i in range(len(filename)):\n",
    "        for j in range(len(filename)):\n",
    "            resultKLD[i][j] = KL_divergence(DifferenceAcc_list[i], DifferenceAcc_list[j])\n",
    "\n",
    "    #JSダイバージェンスの値を格納\n",
    "    for i in range(len(filename)):\n",
    "        for j in range(len(filename)):\n",
    "            resultJSD[i][j] = JS_divergence(DifferenceAcc_list[i], DifferenceAcc_list[j])\n",
    "\n",
    "    #結果を出力\n",
    "    df_KLD = pd.DataFrame(resultKLD, index=Hz, columns=Hz)\n",
    "    display(df_KLD)\n",
    "    accuracyKLD, error_index_list = calculate_accuracy(get_index_and_columns_of_second_smallest(df_KLD))\n",
    "    for i in range(len(error_index_list)):\n",
    "        print(filename[error_index_list[i]])\n",
    "    print(f\"KLダイバージェンスによる推定精度は{accuracyKLD}%です\")\n",
    "\n",
    "    df_JSD = pd.DataFrame(resultJSD, index=Hz, columns=Hz)\n",
    "    display(df_JSD)\n",
    "    accuracyJSD, error_index_list = calculate_accuracy(get_index_and_columns_of_second_smallest(df_JSD))\n",
    "    for i in range(len(error_index_list)):\n",
    "        print(filename[error_index_list[i]])\n",
    "    print(f\"JSダイバージェンスによる推定精度は{accuracyJSD}%です\")"
   ]
  },
  {
   "cell_type": "code",
   "execution_count": 99,
   "metadata": {},
   "outputs": [],
   "source": [
    "#ランダムフォレストによる機械学習モデル構築と性能評価までを自動化した関数\n",
    "def random_forest(path: str):\n",
    "    DifferenceAcc_hist, Hz = read_Acc_to_histogram(path)\n",
    "\n",
    "    x_train, x_test, y_train, y_test = train_test_split(DifferenceAcc_hist, Hz, train_size = TRAIN_SIZE, shuffle = True)\n",
    "\n",
    "    # 学習する\n",
    "    clf = RandomForestClassifier(n_estimators=N_ESTIMATORS, random_state=1234)\n",
    "    clf.fit(x_train, y_train)\n",
    "    y_pred = clf.predict(x_test)\n",
    "    print(\"正解率 = \", accuracy_score(y_test, y_pred))"
   ]
  },
  {
   "cell_type": "code",
   "execution_count": 100,
   "metadata": {},
   "outputs": [],
   "source": [
    "#k-近傍法による機械学習モデル構築と性能評価までを自動化した関数\n",
    "def k_neighbors(path: str):\n",
    "    DifferenceAcc_hist, Hz = read_Acc_to_histogram(path)\n",
    "\n",
    "    scaler = StandardScaler()\n",
    "    scaler.fit(DifferenceAcc_hist)\n",
    "    newdata = scaler.transform(DifferenceAcc_hist)\n",
    "\n",
    "    x_train, x_test, y_train, y_test = train_test_split(newdata, Hz, train_size = TRAIN_SIZE, shuffle = True)\n",
    "\n",
    "    # 学習する\n",
    "    clf = KNeighborsClassifier()\n",
    "    clf.fit(x_train, y_train)\n",
    "    y_pred = clf.predict(x_test)\n",
    "    print(\"正解率 = \", accuracy_score(y_test, y_pred))"
   ]
  },
  {
   "cell_type": "code",
   "execution_count": 101,
   "metadata": {},
   "outputs": [],
   "source": [
    "#XGBoostによる機械学習モデル構築と性能評価までを自動化した関数\n",
    "def xgboost(path: str):\n",
    "    DifferenceAcc_hist, Hz = read_Acc_to_histogram(path)\n",
    "\n",
    "    le = LabelEncoder()\n",
    "    Hz = le.fit_transform(Hz)\n",
    "    # 学習する\n",
    "    x_train, x_test, y_train, y_test = train_test_split(DifferenceAcc_hist, Hz, train_size = TRAIN_SIZE, shuffle = True)\n",
    "    clf = xgb.XGBClassifier(objective='multi:softmax')\n",
    "    clf.fit(x_train, y_train)\n",
    "    y_pred = clf.predict(x_test)\n",
    "    print(\"正解率 = \", accuracy_score(y_test, y_pred))\n"
   ]
  },
  {
   "cell_type": "code",
   "execution_count": 166,
   "metadata": {},
   "outputs": [],
   "source": [
    "path = \"my_walk_data(100Hz15minutes)/\""
   ]
  },
  {
   "cell_type": "code",
   "execution_count": 167,
   "metadata": {},
   "outputs": [],
   "source": [
    "#一連のやつ\n",
    "Hz_and_filename = get_Hz_and_filename(path)\n",
    "Hz_and_filename.sort(reverse=True)  #周波数の大きい順にソート\n",
    "Hz, filename = divide_Hz_and_filename(Hz_and_filename)\n",
    "Hz = np.array(Hz)\n",
    "\n",
    "#使う変数を宣言\n",
    "readAccX, readAccY, readAccZ = [], [], []   #データ読み込む用\n",
    "AccX, AccY, AccZ = [], [], []\n",
    "ResultantAcc = []\n",
    "DifferenceAcc_list = []\n",
    "\n",
    "#各データセットからデータを読み込み二次元配列に格納\n",
    "for i in filename:\n",
    "    readAccX, readAccY, readAccZ = get_acceleration(path+i)\n",
    "    AccX.append(readAccX), AccY.append(readAccY), AccZ.append(readAccZ)\n",
    "\n",
    "#各加速度データをダウンサンプリング\n",
    "for i in range(9, 1, -1):\n",
    "    AccX, AccY, AccZ, Hz = resampling_Acc(100, i * 10, AccX, AccY, AccZ, Hz)\n",
    "\n",
    "#静止区間を除去\n",
    "for i in range(len(Hz)):\n",
    "    ResultantAcc.append(acc_to_remove_stationary_intervals(AccX[i], AccY[i], AccZ[i]))"
   ]
  },
  {
   "cell_type": "code",
   "execution_count": 168,
   "metadata": {},
   "outputs": [],
   "source": [
    "#ヒストグラム作成\n",
    "for i in range(len(ResultantAcc)):\n",
    "    DifferenceAcc_list.append(calculate_differences_of_acceleration(ResultantAcc[i]))\n",
    "DifferenceAcc_hist = create_histogram2(DifferenceAcc_list)"
   ]
  },
  {
   "cell_type": "code",
   "execution_count": 169,
   "metadata": {},
   "outputs": [
    {
     "data": {
      "text/plain": [
       "81"
      ]
     },
     "execution_count": 169,
     "metadata": {},
     "output_type": "execute_result"
    }
   ],
   "source": [
    "len(ResultantAcc)"
   ]
  },
  {
   "cell_type": "code",
   "execution_count": 170,
   "metadata": {},
   "outputs": [
    {
     "data": {
      "text/plain": [
       "81"
      ]
     },
     "execution_count": 170,
     "metadata": {},
     "output_type": "execute_result"
    }
   ],
   "source": [
    "len(Hz)"
   ]
  },
  {
   "cell_type": "code",
   "execution_count": 171,
   "metadata": {},
   "outputs": [],
   "source": [
    "#標準化\n",
    "scaler = StandardScaler()\n",
    "\n",
    "# Fit the scaler to x_train\n",
    "scaler.fit(DifferenceAcc_hist)\n",
    "\n",
    "# Use the scaler to transform x_train and x_test\n",
    "DifferenceAcc_hist = scaler.transform(DifferenceAcc_hist)"
   ]
  },
  {
   "cell_type": "code",
   "execution_count": 223,
   "metadata": {},
   "outputs": [],
   "source": [
    "x_train, x_test, y_train, y_test = train_test_split(DifferenceAcc_hist, Hz, train_size = TRAIN_SIZE, shuffle = True)"
   ]
  },
  {
   "cell_type": "code",
   "execution_count": 243,
   "metadata": {},
   "outputs": [],
   "source": [
    "#transformer regression\n",
    "# Define the input shape\n",
    "input_shape = (BINS,)\n",
    "\n",
    "# Define the model\n",
    "inputs = layers.Input(shape=input_shape)\n",
    "x = layers.Reshape((100, 40))(inputs)\n",
    "x = layers.MultiHeadAttention(num_heads=8, key_dim=32)(x, x)\n",
    "x = layers.Flatten()(x)\n",
    "x = layers.Dense(128, activation=\"relu\")(x)\n",
    "x = layers.Dropout(0.1)(x)\n",
    "x = layers.Dense(64, activation=\"relu\")(x)\n",
    "x = layers.Dropout(0.1)(x)\n",
    "x = layers.Dense(32, activation=\"relu\")(x)\n",
    "x = layers.Dropout(0.1)(x)\n",
    "outputs = layers.Dense(1, activation=None)(x)\n",
    "\n",
    "model = keras.Model(inputs=inputs, outputs=outputs)\n",
    "\n",
    "# Compile the model\n",
    "model.compile(\n",
    "    optimizer=keras.optimizers.Adam(),\n",
    "    loss=keras.losses.mean_squared_error,\n",
    "    metrics=[keras.metrics.mean_squared_error],\n",
    ")"
   ]
  },
  {
   "cell_type": "code",
   "execution_count": 244,
   "metadata": {},
   "outputs": [
    {
     "name": "stdout",
     "output_type": "stream",
     "text": [
      "Epoch 1/50\n",
      "4/4 [==============================] - 7s 124ms/step - loss: 4093.4299 - mean_squared_error: 4093.4299 - val_loss: 4195.0605 - val_mean_squared_error: 4195.0605\n",
      "Epoch 2/50\n",
      "4/4 [==============================] - 0s 57ms/step - loss: 3515.3643 - mean_squared_error: 3515.3643 - val_loss: 2517.2205 - val_mean_squared_error: 2517.2205\n",
      "Epoch 3/50\n",
      "4/4 [==============================] - 0s 38ms/step - loss: 2137.4265 - mean_squared_error: 2137.4265 - val_loss: 717.6589 - val_mean_squared_error: 717.6589\n",
      "Epoch 4/50\n",
      "4/4 [==============================] - 0s 40ms/step - loss: 2318.1702 - mean_squared_error: 2318.1702 - val_loss: 355.4865 - val_mean_squared_error: 355.4865\n",
      "Epoch 5/50\n",
      "4/4 [==============================] - 0s 40ms/step - loss: 1209.0800 - mean_squared_error: 1209.0800 - val_loss: 717.9086 - val_mean_squared_error: 717.9086\n",
      "Epoch 6/50\n",
      "4/4 [==============================] - 0s 39ms/step - loss: 1388.3906 - mean_squared_error: 1388.3906 - val_loss: 885.5933 - val_mean_squared_error: 885.5933\n",
      "Epoch 7/50\n",
      "4/4 [==============================] - 0s 40ms/step - loss: 1241.5663 - mean_squared_error: 1241.5663 - val_loss: 418.1564 - val_mean_squared_error: 418.1564\n",
      "Epoch 8/50\n",
      "4/4 [==============================] - 0s 40ms/step - loss: 957.8878 - mean_squared_error: 957.8878 - val_loss: 266.7917 - val_mean_squared_error: 266.7917\n",
      "Epoch 9/50\n",
      "4/4 [==============================] - 0s 40ms/step - loss: 848.1740 - mean_squared_error: 848.1740 - val_loss: 269.8415 - val_mean_squared_error: 269.8415\n",
      "Epoch 10/50\n",
      "4/4 [==============================] - 0s 51ms/step - loss: 1037.9453 - mean_squared_error: 1037.9453 - val_loss: 378.6557 - val_mean_squared_error: 378.6557\n",
      "Epoch 11/50\n",
      "4/4 [==============================] - 0s 41ms/step - loss: 781.4489 - mean_squared_error: 781.4489 - val_loss: 608.6293 - val_mean_squared_error: 608.6293\n",
      "Epoch 12/50\n",
      "4/4 [==============================] - 0s 39ms/step - loss: 573.2468 - mean_squared_error: 573.2468 - val_loss: 252.8259 - val_mean_squared_error: 252.8259\n",
      "Epoch 13/50\n",
      "4/4 [==============================] - 0s 40ms/step - loss: 446.7459 - mean_squared_error: 446.7459 - val_loss: 61.3976 - val_mean_squared_error: 61.3976\n",
      "Epoch 14/50\n",
      "4/4 [==============================] - 0s 41ms/step - loss: 407.7509 - mean_squared_error: 407.7509 - val_loss: 217.3295 - val_mean_squared_error: 217.3295\n",
      "Epoch 15/50\n",
      "4/4 [==============================] - 0s 44ms/step - loss: 338.8703 - mean_squared_error: 338.8703 - val_loss: 255.1717 - val_mean_squared_error: 255.1717\n",
      "Epoch 16/50\n",
      "4/4 [==============================] - 0s 40ms/step - loss: 279.4247 - mean_squared_error: 279.4247 - val_loss: 79.8470 - val_mean_squared_error: 79.8470\n",
      "Epoch 17/50\n",
      "4/4 [==============================] - 0s 39ms/step - loss: 346.8547 - mean_squared_error: 346.8547 - val_loss: 125.8016 - val_mean_squared_error: 125.8016\n",
      "Epoch 18/50\n",
      "4/4 [==============================] - 0s 39ms/step - loss: 309.1451 - mean_squared_error: 309.1451 - val_loss: 336.3323 - val_mean_squared_error: 336.3323\n",
      "Epoch 19/50\n",
      "4/4 [==============================] - 0s 39ms/step - loss: 345.1866 - mean_squared_error: 345.1866 - val_loss: 208.0904 - val_mean_squared_error: 208.0904\n",
      "Epoch 20/50\n",
      "4/4 [==============================] - 0s 40ms/step - loss: 207.7735 - mean_squared_error: 207.7735 - val_loss: 228.2706 - val_mean_squared_error: 228.2706\n",
      "Epoch 21/50\n",
      "4/4 [==============================] - 0s 39ms/step - loss: 305.5389 - mean_squared_error: 305.5389 - val_loss: 259.7414 - val_mean_squared_error: 259.7414\n",
      "Epoch 22/50\n",
      "4/4 [==============================] - 0s 41ms/step - loss: 324.7311 - mean_squared_error: 324.7311 - val_loss: 332.1216 - val_mean_squared_error: 332.1216\n",
      "Epoch 23/50\n",
      "4/4 [==============================] - 0s 40ms/step - loss: 146.4712 - mean_squared_error: 146.4712 - val_loss: 110.9709 - val_mean_squared_error: 110.9709\n",
      "Epoch 24/50\n",
      "4/4 [==============================] - 0s 40ms/step - loss: 170.2404 - mean_squared_error: 170.2404 - val_loss: 119.3207 - val_mean_squared_error: 119.3207\n",
      "Epoch 25/50\n",
      "4/4 [==============================] - 0s 39ms/step - loss: 186.3867 - mean_squared_error: 186.3867 - val_loss: 152.8029 - val_mean_squared_error: 152.8029\n",
      "Epoch 26/50\n",
      "4/4 [==============================] - 0s 40ms/step - loss: 136.8362 - mean_squared_error: 136.8362 - val_loss: 138.6077 - val_mean_squared_error: 138.6077\n",
      "Epoch 27/50\n",
      "4/4 [==============================] - 0s 40ms/step - loss: 134.1023 - mean_squared_error: 134.1023 - val_loss: 101.1385 - val_mean_squared_error: 101.1385\n",
      "Epoch 28/50\n",
      "4/4 [==============================] - 0s 39ms/step - loss: 169.0042 - mean_squared_error: 169.0042 - val_loss: 100.7477 - val_mean_squared_error: 100.7477\n",
      "Epoch 29/50\n",
      "4/4 [==============================] - 0s 39ms/step - loss: 166.1931 - mean_squared_error: 166.1931 - val_loss: 174.5327 - val_mean_squared_error: 174.5327\n",
      "Epoch 30/50\n",
      "4/4 [==============================] - 0s 40ms/step - loss: 180.3097 - mean_squared_error: 180.3097 - val_loss: 116.4528 - val_mean_squared_error: 116.4528\n",
      "Epoch 31/50\n",
      "4/4 [==============================] - 0s 39ms/step - loss: 139.4514 - mean_squared_error: 139.4514 - val_loss: 99.1867 - val_mean_squared_error: 99.1867\n",
      "Epoch 32/50\n",
      "4/4 [==============================] - 0s 39ms/step - loss: 150.2330 - mean_squared_error: 150.2330 - val_loss: 204.0727 - val_mean_squared_error: 204.0727\n",
      "Epoch 33/50\n",
      "4/4 [==============================] - 0s 44ms/step - loss: 231.9356 - mean_squared_error: 231.9356 - val_loss: 206.9292 - val_mean_squared_error: 206.9292\n",
      "Epoch 34/50\n",
      "4/4 [==============================] - 0s 40ms/step - loss: 145.7555 - mean_squared_error: 145.7555 - val_loss: 170.3421 - val_mean_squared_error: 170.3421\n",
      "Epoch 35/50\n",
      "4/4 [==============================] - 0s 39ms/step - loss: 243.8214 - mean_squared_error: 243.8214 - val_loss: 110.2749 - val_mean_squared_error: 110.2749\n",
      "Epoch 36/50\n",
      "4/4 [==============================] - 0s 41ms/step - loss: 120.7237 - mean_squared_error: 120.7237 - val_loss: 214.5856 - val_mean_squared_error: 214.5856\n",
      "Epoch 37/50\n",
      "4/4 [==============================] - 0s 39ms/step - loss: 192.7502 - mean_squared_error: 192.7502 - val_loss: 110.2029 - val_mean_squared_error: 110.2029\n",
      "Epoch 38/50\n",
      "4/4 [==============================] - 0s 39ms/step - loss: 221.9324 - mean_squared_error: 221.9324 - val_loss: 170.3465 - val_mean_squared_error: 170.3465\n",
      "Epoch 39/50\n",
      "4/4 [==============================] - 0s 39ms/step - loss: 205.8933 - mean_squared_error: 205.8933 - val_loss: 213.8640 - val_mean_squared_error: 213.8640\n",
      "Epoch 40/50\n",
      "4/4 [==============================] - 0s 41ms/step - loss: 151.4201 - mean_squared_error: 151.4201 - val_loss: 112.4132 - val_mean_squared_error: 112.4132\n",
      "Epoch 41/50\n",
      "4/4 [==============================] - 0s 42ms/step - loss: 197.6605 - mean_squared_error: 197.6605 - val_loss: 83.2504 - val_mean_squared_error: 83.2504\n",
      "Epoch 42/50\n",
      "4/4 [==============================] - 0s 41ms/step - loss: 140.6582 - mean_squared_error: 140.6582 - val_loss: 140.9881 - val_mean_squared_error: 140.9881\n",
      "Epoch 43/50\n",
      "4/4 [==============================] - 0s 40ms/step - loss: 150.3678 - mean_squared_error: 150.3678 - val_loss: 80.3687 - val_mean_squared_error: 80.3687\n",
      "Epoch 44/50\n",
      "4/4 [==============================] - 0s 39ms/step - loss: 198.5707 - mean_squared_error: 198.5707 - val_loss: 107.9312 - val_mean_squared_error: 107.9312\n",
      "Epoch 45/50\n",
      "4/4 [==============================] - 0s 40ms/step - loss: 158.8658 - mean_squared_error: 158.8658 - val_loss: 137.4221 - val_mean_squared_error: 137.4221\n",
      "Epoch 46/50\n",
      "4/4 [==============================] - 0s 40ms/step - loss: 176.5547 - mean_squared_error: 176.5547 - val_loss: 162.8080 - val_mean_squared_error: 162.8080\n",
      "Epoch 47/50\n",
      "4/4 [==============================] - 0s 40ms/step - loss: 164.4294 - mean_squared_error: 164.4294 - val_loss: 187.3455 - val_mean_squared_error: 187.3455\n",
      "Epoch 48/50\n",
      "4/4 [==============================] - 0s 44ms/step - loss: 142.0116 - mean_squared_error: 142.0116 - val_loss: 143.7334 - val_mean_squared_error: 143.7334\n",
      "Epoch 49/50\n",
      "4/4 [==============================] - 0s 40ms/step - loss: 152.5309 - mean_squared_error: 152.5309 - val_loss: 94.0558 - val_mean_squared_error: 94.0558\n",
      "Epoch 50/50\n",
      "4/4 [==============================] - 0s 39ms/step - loss: 191.8981 - mean_squared_error: 191.8981 - val_loss: 92.8663 - val_mean_squared_error: 92.8663\n"
     ]
    },
    {
     "data": {
      "text/plain": [
       "<keras.callbacks.History at 0x15fe3a0d0>"
      ]
     },
     "execution_count": 244,
     "metadata": {},
     "output_type": "execute_result"
    }
   ],
   "source": [
    "# Train the model\n",
    "model.fit(x_train, y_train, batch_size=16, epochs=50, validation_split=0.2)"
   ]
  },
  {
   "cell_type": "code",
   "execution_count": 245,
   "metadata": {},
   "outputs": [
    {
     "name": "stdout",
     "output_type": "stream",
     "text": [
      "1/1 [==============================] - 0s 174ms/step\n"
     ]
    }
   ],
   "source": [
    "from sklearn.metrics import mean_squared_error, mean_absolute_error, r2_score\n",
    "#予測値をint型に限定\n",
    "#y_pred = tf.cast(model.predict(x_test), tf.int32)\n",
    "#予測値の範囲を限定\n",
    "#y_pred = tf.clip_by_value(model.predict(x_test), 20, 100)\n",
    "\n",
    "#予測値の型と範囲を限定\n",
    "y_pred = tf.cast(tf.clip_by_value(model.predict(x_test), 20, 100), tf.int32)\n",
    "\n",
    "#平均二乗誤差\n",
    "mse = mean_squared_error(y_pred, y_test)\n",
    "\n",
    "#二乗平均平方誤差\n",
    "rmse = np.sqrt(mse)\n",
    "\n",
    "#平均絶対誤差\n",
    "mae = mean_absolute_error(y_pred, y_test)\n",
    "\n",
    "#決定係数\n",
    "r2 = r2_score(y_pred, y_test)"
   ]
  },
  {
   "cell_type": "code",
   "execution_count": 246,
   "metadata": {},
   "outputs": [
    {
     "data": {
      "text/plain": [
       "8.470588235294118"
      ]
     },
     "execution_count": 246,
     "metadata": {},
     "output_type": "execute_result"
    }
   ],
   "source": [
    "mae"
   ]
  },
  {
   "cell_type": "code",
   "execution_count": 21,
   "metadata": {},
   "outputs": [],
   "source": [
    "#一連のやつ\n",
    "Hz_and_filename = get_Hz_and_filename(path)\n",
    "Hz_and_filename.sort(reverse=True)  #周波数の大きい順にソート\n",
    "Hz, filename = divide_Hz_and_filename(Hz_and_filename)\n",
    "Hz = np.array(Hz)\n",
    "\n",
    "#使う変数を宣言\n",
    "AccX, AccY, AccZ = [], [], []\n",
    "ResultantAcc = []\n",
    "DifferenceAcc_list = []\n",
    "\n",
    "#各データセットからデータを読み込み静止区間を除去したものを二次元配列に格納\n",
    "for i in filename:\n",
    "    AccX, AccY, AccZ = get_acceleration(path+i)\n",
    "    ResultantAcc.append(acc_to_remove_stationary_intervals(AccX, AccY, AccZ))"
   ]
  },
  {
   "cell_type": "code",
   "execution_count": 31,
   "metadata": {},
   "outputs": [],
   "source": [
    "for i in range(len(ResultantAcc)):\n",
    "    DifferenceAcc_list.append(calculate_differences_of_acceleration(ResultantAcc[i]))\n",
    "DifferenceAcc_hist = create_histogram2(DifferenceAcc_list)"
   ]
  },
  {
   "cell_type": "code",
   "execution_count": null,
   "metadata": {},
   "outputs": [],
   "source": [
    "#尖度\n",
    "DifferenceAcc_kurtosis = np.zeros(len(DifferenceAcc_hist))\n",
    "for i in range(len(DifferenceAcc_hist)):\n",
    "    DifferenceAcc_kurtosis[i] = kurtosis(DifferenceAcc_hist[i])\n",
    "\n",
    "#歪度\n",
    "DifferenceAcc_skewness = np.zeros(len(DifferenceAcc_hist))\n",
    "for i in range(len(DifferenceAcc_hist)):\n",
    "    DifferenceAcc_skewness[i] = skew(DifferenceAcc_hist[i])\n",
    "\n",
    "#分散\n",
    "histogram_var = np.zeros(len(DifferenceAcc_list))\n",
    "for i in range(len(DifferenceAcc_hist)):\n",
    "    histogram_var[i] = np.var(DifferenceAcc_list[i])"
   ]
  },
  {
   "cell_type": "code",
   "execution_count": null,
   "metadata": {},
   "outputs": [],
   "source": [
    "#X_newに尖度＋歪度+分散を連結したもの\n",
    "X_new = np.concatenate((DifferenceAcc_kurtosis.reshape(-1, 1), DifferenceAcc_skewness.reshape(-1, 1), histogram_var.reshape(-1, 1)), axis=1)\n",
    "#XはDifferenceAcc_hist+X_new\n",
    "X = np.concatenate((DifferenceAcc_hist, X_new), axis=1)"
   ]
  },
  {
   "cell_type": "code",
   "execution_count": null,
   "metadata": {},
   "outputs": [],
   "source": []
  }
 ],
 "metadata": {
  "kernelspec": {
   "display_name": "Python 3 (ipykernel)",
   "language": "python",
   "name": "python3"
  },
  "language_info": {
   "codemirror_mode": {
    "name": "ipython",
    "version": 3
   },
   "file_extension": ".py",
   "mimetype": "text/x-python",
   "name": "python",
   "nbconvert_exporter": "python",
   "pygments_lexer": "ipython3",
   "version": "3.11.3"
  },
  "vscode": {
   "interpreter": {
    "hash": "919e6181955fbc636a96e4fdb04fb1b969c9681582829f05a2534c8d07862e2e"
   }
  }
 },
 "nbformat": 4,
 "nbformat_minor": 2
}
