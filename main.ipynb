{
 "cells": [
  {
   "cell_type": "code",
   "execution_count": 32,
   "metadata": {},
   "outputs": [],
   "source": [
    "#ライブラリをインポート\n",
    "import os #OSに依存する様々な機能を利用するためのモジュール(ファイルやディレクトリ操作など)\n",
    "import re #正規表現を利用するためのモジュール\n",
    "import csv  #csvファイルを扱うためのモジュール\n",
    "import math #数学的計算のためのモジュール\n",
    "import matplotlib.pyplot as plt #グラフ描画のためのモジュール\n",
    "import numpy as np  #多次元配列計算のためのモジュール\n",
    "import pandas as pd #データフレームを扱うためのモジュール\n",
    "from scipy import signal  #信号処理のためのモジュール\n",
    "from scipy.stats import skew, kurtosis  #歪度と尖度を調べるためのモジュール\n",
    "from sklearn.model_selection import train_test_split  #データをトレーニング用とテスト用に分けるためのモジュール\n",
    "from sklearn import preprocessing #データを正規化するためのモジュール\n",
    "from sklearn.preprocessing import StandardScaler  #データを標準化するためのモジュール\n",
    "from sklearn.preprocessing import LabelEncoder  #カテゴリ変数を数値化するためのモジュール\n",
    "from sklearn.linear_model import LinearRegression #線型回帰\n",
    "from sklearn.svm import SVC #サポートベクターマシン\n",
    "from sklearn.ensemble import RandomForestClassifier #ランダムフォレスト\n",
    "from sklearn.neighbors import KNeighborsClassifier  #k-近傍法\n",
    "from sklearn.metrics import accuracy_score, mean_squared_error, mean_absolute_error, r2_score #機械学習モデルの性能評価のためのモジュール\n",
    "import xgboost as xgb #XGBoost\n",
    "import lightgbm as lgb  #LightGBM\n",
    "import tensorflow as tf #TensorFlow(Googleが開発したオープンソースの機械学習フレームワーク)\n",
    "from tensorflow import keras  #TensorFlow用のニューラルネットワークライブラリAPI\n",
    "from tensorflow.keras import layers #ニューラルネットワークのレイヤーを定義するためのモジュール\n",
    "import torch  #PyTorch\n",
    "import torch.nn as nn #ニューラルネットワークのためのモジュール\n",
    "import torch.optim as optim #パラメータの最適化を行うためのモジュール\n",
    "from torch.utils.data import DataLoader, Dataset  #データをバッチ単位でロードするためのユーティリティクラスz"
   ]
  },
  {
   "cell_type": "code",
   "execution_count": 33,
   "metadata": {},
   "outputs": [],
   "source": [
    "#定数を定義\n",
    "BINS = 4000  #ヒストグラムのビンの数\n",
    "EPSILON = .00001  #スムージングパラメータ\n",
    "UPPER_LIMIT = 1.1 #静止区間の上限\n",
    "LOWER_LIMIT = 0.9 #静止区間の加減\n",
    "STATIONARY_INTERVALS = 5  #静止区間除去のサンプルの間隔(静止区間が何サンプル連続したら除去するか)\n",
    "TRAIN_SIZE = 0.8  #機械学習のトレーニングデータの割合\n",
    "N_ESTIMATORS = 100  #決定木の数"
   ]
  },
  {
   "cell_type": "code",
   "execution_count": 34,
   "metadata": {},
   "outputs": [],
   "source": [
    "#ディレクトリ内のAMWS020のデータセットのファイル名と周波数を取得する関数\n",
    "def get_Hz_and_filename(path: str) -> list[int, str]:\n",
    "    filename = os.listdir(path) #引数のパスのディレクトリの中のファイル名一覧を取得\n",
    "    Hz_and_filename=[]  #ファイル名と周波数を格納するリストを宣言\n",
    "\n",
    "    for file in filename:\n",
    "        Hz = re.search(r'\\d+', file)    #正規表現を用いてファイル名の中で一番最初に出てくる数字(周波数)を取得\n",
    "        if Hz:  #数字の入っていないファイル名があるとエラーを吐くので、このif文でチェックする\n",
    "            Hz_and_filename.append([int(Hz.group(0)), file])    #ファイル名と周波数を格納\n",
    "\n",
    "    return Hz_and_filename"
   ]
  },
  {
   "cell_type": "code",
   "execution_count": 35,
   "metadata": {},
   "outputs": [],
   "source": [
    "#ファイル名と周波数を分けて出力する関数\n",
    "def divide_Hz_and_filename(Hz_and_filename: list[int, str]) -> tuple[list[int], list[str]]:\n",
    "    Hz = []\n",
    "    filename = []\n",
    "    for row in Hz_and_filename:\n",
    "      Hz.append(row[0])\n",
    "      filename.append(row[1])\n",
    "\n",
    "    return Hz, filename"
   ]
  },
  {
   "cell_type": "code",
   "execution_count": 36,
   "metadata": {},
   "outputs": [],
   "source": [
    "#加速度データのCSVファイルから3軸加速度を取得する関数\n",
    "def get_acceleration(filename: str) -> tuple[list[float], list[float], list[float]]:\n",
    "    AccX, AccY, AccZ = [], [], []\n",
    "    with open(filename) as f:\n",
    "        reader = csv.reader(f)\n",
    "        for row in reader:\n",
    "            AccX.append(float(row[2]))\n",
    "            AccY.append(float(row[3]))\n",
    "            AccZ.append(float(row[4]))\n",
    "\n",
    "    return AccX, AccY, AccZ"
   ]
  },
  {
   "cell_type": "code",
   "execution_count": 37,
   "metadata": {},
   "outputs": [],
   "source": [
    "#静止区間を除去する関数\n",
    "def acc_to_remove_stationary_intervals(AccX: list[float], AccY: list[float], AccZ: list[float]) -> list[float]:\n",
    "    #各軸の加速度の平均を求める\n",
    "    AvgAccX = sum(AccX) / len(AccX)\n",
    "    AvgAccY = sum(AccY) / len(AccY)\n",
    "    AvgAccZ = sum(AccZ) / len(AccZ)\n",
    "\n",
    "    AvgResultantAcc = math.sqrt(AvgAccX ** 2 + AvgAccY ** 2 + AvgAccZ ** 2) #重力加速度の推定値=合成加速度の平均を求める\n",
    "\n",
    "    ResultantAcc = [math.sqrt(x ** 2 + y ** 2 + z ** 2) for x, y, z in zip(AccX, AccY, AccZ)]   #各時刻の合成加速度を求める\n",
    "\n",
    "    #各時刻の合成加速度から静止区間(重力加速度の推定値に近い値が一定以上以上連続している区間)を除去する\n",
    "    i = 0 #ループ変数\n",
    "    counter = 0 #静止区間がSTATIONARY_INTERVALS分続いているかをカウントする変数\n",
    "    while i < len(ResultantAcc):\n",
    "        if AvgResultantAcc * LOWER_LIMIT < ResultantAcc[i] < AvgResultantAcc * UPPER_LIMIT:   #平均のLOWER_LIMIT倍~UPPER_LIMIT倍の範囲を調べる\n",
    "            counter += 1    #範囲内ならカウントを増やす\n",
    "            if counter == STATIONARY_INTERVALS: #カウントがSTATIONARY_INTERVALSに達したらその区間を削除\n",
    "                del ResultantAcc[i+1-STATIONARY_INTERVALS:i+1]    #スライスでは選択範囲の開始位置startと終了位置stopを[start:stop]のように書くとstart <= x < stopの範囲が選択される #start番目の値は含まれるがstop番目の値は含まれない\n",
    "                counter = 0 #カウンターをリセット\n",
    "                i -= STATIONARY_INTERVALS   #削除した分インデックスがズレるので補正する\n",
    "        else:\n",
    "            counter = 0 #カウンターをリセット\n",
    "        i += 1\n",
    "\n",
    "    return ResultantAcc  #静止区間を除去した後のリストを返す"
   ]
  },
  {
   "cell_type": "code",
   "execution_count": 38,
   "metadata": {},
   "outputs": [],
   "source": [
    "#連続する2サンプルの差分を取る関数\n",
    "def calculate_differences_of_acceleration(ResultantAcc: list[float]) -> list[float]:\n",
    "    DifferenceAcc = [math.fabs(ResultantAcc[i + 1] * 100000 - ResultantAcc[i] * 100000) for i in range(len(ResultantAcc) - 1)]  #100000倍して誤差を取る\n",
    "    return DifferenceAcc"
   ]
  },
  {
   "cell_type": "code",
   "execution_count": 39,
   "metadata": {},
   "outputs": [],
   "source": [
    "#KLダイバージェンス関数 #引数として与える2つの分布は非負の値の集合でなければならないことに注意\n",
    "def KL_divergence(a: list[float], b: list[float]) -> float:\n",
    "    min_value = min(min(a), min(b)) #a,bの最小値の小さい方\n",
    "    max_value = max(max(a), max(b)) #a,bの最大値の大きい方\n",
    "\n",
    "    #a,bのヒストグラムを作成し、同じ数のビンで区切る\n",
    "    a_hist, _ = np.histogram(a, bins=BINS, range=(min_value, max_value))\n",
    "    b_hist, _ = np.histogram(b, bins=BINS, range=(min_value, max_value))\n",
    "\n",
    "    #正規化する(確率分布に変換する、合計を1にする)ために全合計で割る\n",
    "    a_hist = (a_hist + EPSILON) / a_hist.sum()\n",
    "    b_hist = (b_hist + EPSILON) / b_hist.sum()\n",
    "\n",
    "    #KLダイバージェンスの値を返す\n",
    "    return np.sum([ai * np.log(ai / bi) for ai, bi in zip(a_hist, b_hist)])"
   ]
  },
  {
   "cell_type": "code",
   "execution_count": 40,
   "metadata": {},
   "outputs": [],
   "source": [
    "#JSダイバージェンス関数 #引数として与える2つの分布は非負の値の集合でなければならないことに注意\n",
    "def JS_divergence(a: list[float], b: list[float]) -> float:\n",
    "    min_value = min(min(a), min(b)) #a,bの最小値の小さい方\n",
    "    max_value = max(max(a), max(b)) #a,bの最大値の大きい方\n",
    "\n",
    "    #a,bのヒストグラムを作成し、同じ数のビンで区切る\n",
    "    a_hist, _ = np.histogram(a, bins=BINS, range=(min_value, max_value))\n",
    "    b_hist, _ = np.histogram(b, bins=BINS, range=(min_value, max_value))\n",
    "\n",
    "    #正規化する(確率分布に変換する、合計を1にする)ために全合計で割る\n",
    "    a_hist = (a_hist + EPSILON) / a_hist.sum()\n",
    "    b_hist = (b_hist + EPSILON) / b_hist.sum()\n",
    "\n",
    "    #2つの分布の平均値を求める\n",
    "    mean_hist = (a_hist + b_hist) / 2.0\n",
    "\n",
    "    #平均とそれぞれの分布のKLダイバージェンスを算出\n",
    "    kl_a = np.sum([ai * np.log(ai / bi) for ai, bi in zip(a_hist, mean_hist)])\n",
    "    kl_b = np.sum([ai * np.log(ai / bi) for ai, bi in zip(b_hist, mean_hist)])\n",
    "\n",
    "    #JSダイバージェンスの値を返す\n",
    "    return (kl_a + kl_b) / 2.0"
   ]
  },
  {
   "cell_type": "code",
   "execution_count": 41,
   "metadata": {},
   "outputs": [],
   "source": [
    "#データフレームの各行の中で2番目に小さい値が格納されている場所を調べる関数(最小値は同じ確率分布同士の0.0)\n",
    "def get_index_and_columns_of_second_smallest(df: pd.DataFrame) -> list[str, str]:\n",
    "    index_and_columns_of_second_smallest = []  #データフレームの中で2番目に小さい値が格納されている場所のインデックス名とカラム名を格納する変数\n",
    "    for i in range(len(df)):\n",
    "        sorted_row = df.iloc[i].sort_values()   #.ilocでデータフレームの要素を行、列の番号の添字で指定する    #各行の要素を昇順に並び替える\n",
    "        second_smallest_columns = sorted_row.index[1] #各行の2番目に小さい値が格納されているカラム[1]の名前を取得\n",
    "        #second_smallest_label = df.columns.get_loc(second_smallest_index)\n",
    "        index_and_columns_of_second_smallest.append((df.index[i], second_smallest_columns))    #インデックスとカラムのラベル名の組を二次元配列に追加\n",
    "    return index_and_columns_of_second_smallest"
   ]
  },
  {
   "cell_type": "code",
   "execution_count": 42,
   "metadata": {},
   "outputs": [],
   "source": [
    "#KL・JSダイバージェンスの推定精度を算出する関数\n",
    "def calculate_accuracy(index_and_columns_of_second_smallest: list[str, str]) -> tuple[float, list[int]]:\n",
    "    counter = 0\n",
    "    error_index_list = []\n",
    "    for i in range(len(index_and_columns_of_second_smallest)):\n",
    "        #インデックスとカラムのラベル名が同じならばカウンターを1増やす\n",
    "        if index_and_columns_of_second_smallest[i][0] == index_and_columns_of_second_smallest[i][1]:\n",
    "            counter += 1\n",
    "        else:\n",
    "            error_index_list.append(i)\n",
    "            print(f\"間違ってるやつは{i}番目の{index_and_columns_of_second_smallest[i][0]}と{index_and_columns_of_second_smallest[i][1]}です\")\n",
    "\n",
    "    return (counter / len(index_and_columns_of_second_smallest)) * 100, error_index_list  #精度を100分率で返す"
   ]
  },
  {
   "cell_type": "code",
   "execution_count": 43,
   "metadata": {},
   "outputs": [],
   "source": [
    "#入力された加速度の差分のリストからヒストグラムを作る関数（ビンの範囲が全加速度の差分データの最小値〜最大値）\n",
    "def create_histogram(DifferenceAcc_list: list[float]) -> np.histogram:\n",
    "    min_value = min(map(lambda x:max(x), DifferenceAcc_list))   #入力されたリストの中で最も小さい数\n",
    "    max_value = max(map(lambda x:max(x), DifferenceAcc_list))   #入力されたリストの中で最も大きい数\n",
    "\n",
    "    DifferenceAcc_hist = np.zeros((len(DifferenceAcc_list), BINS), dtype=float)\n",
    "\n",
    "    for i in range(len(DifferenceAcc_list)):\n",
    "        DifferenceAcc_hist[i], _ = np.histogram(DifferenceAcc_list[i], bins=BINS, range=(min_value, max_value)) #ヒストグラムを作成し、同じ数のビンで区切る\n",
    "    return DifferenceAcc_hist"
   ]
  },
  {
   "cell_type": "code",
   "execution_count": 44,
   "metadata": {},
   "outputs": [],
   "source": [
    "#入力された加速度の差分のリストからヒストグラムを作る関数（ビンの範囲が各加速度の差分データの最小値〜最大値）\n",
    "def create_histogram2(DifferenceAcc_list: list[float]) -> np.histogram:\n",
    "    DifferenceAcc_hist = np.zeros((len(DifferenceAcc_list), BINS), dtype=float)\n",
    "    for i in range(len(DifferenceAcc_list)):\n",
    "        min_value = min(DifferenceAcc_list[i])\n",
    "        max_value = max(DifferenceAcc_list[i])\n",
    "        #DifferenceAcc_hist[i], _ = np.histogram(DifferenceAcc_list[i], bins=BINS, range=(min_value, max_value)) #ヒストグラムを作成し、同じ数のビンで区切る\n",
    "        DifferenceAcc_hist[i], _ = np.histogram(DifferenceAcc_list[i], bins=BINS) #ヒストグラムを作成し、同じ数のビンで区切る\n",
    "    return DifferenceAcc_hist"
   ]
  },
  {
   "cell_type": "code",
   "execution_count": 45,
   "metadata": {},
   "outputs": [],
   "source": [
    "#加速度データのCSVファイルからヒストグラムを作成する一連の流れを自動化した関数\n",
    "def read_Acc_to_histogram(path: str) -> tuple[np.histogram, np.array]:\n",
    "    Hz_and_filename = get_Hz_and_filename(path)\n",
    "    Hz_and_filename.sort(reverse=True)  #周波数の大きい順にソート\n",
    "    Hz, filename = divide_Hz_and_filename(Hz_and_filename)\n",
    "    Hz = np.array(Hz)\n",
    "\n",
    "    #使う変数を宣言\n",
    "    AccX, AccY, AccZ = [], [], []\n",
    "    ResultantAcc = []\n",
    "    DifferenceAcc_list = []\n",
    "\n",
    "    #各データセットからデータを読み込み静止区間を除去したものを二次元配列に格納\n",
    "    for i in filename:\n",
    "        AccX, AccY, AccZ = get_acceleration(path+i)\n",
    "        ResultantAcc = acc_to_remove_stationary_intervals(AccX, AccY, AccZ)\n",
    "        DifferenceAcc_list.append(calculate_differences_of_acceleration(ResultantAcc))\n",
    "\n",
    "    DifferenceAcc_hist = create_histogram2(DifferenceAcc_list)\n",
    "    return DifferenceAcc_hist, Hz"
   ]
  },
  {
   "cell_type": "code",
   "execution_count": 46,
   "metadata": {},
   "outputs": [],
   "source": [
    "#各加速度データをダウンサンプリングする関数\n",
    "def resampling_Acc(originHz: int, newHz: int, AccX: list[float], AccY: list[float], AccZ: list[float], Hz: np.array) -> tuple[list[float], list[float], list[float], np.array]:\n",
    "    i = 0   #カウンター変数\n",
    "\n",
    "    while (Hz[i] == originHz):\n",
    "        originlen = len(AccX[i])    #元々のデータの長さ\n",
    "        sampling_factor = int(originlen * (newHz/originHz)) #ダウンサンプリングした後のデータの長さ\n",
    "        newAccX = signal.resample(AccX[i], sampling_factor)    #データをダウンサンプリング\n",
    "        newAccY = signal.resample(AccY[i], sampling_factor)    #データをダウンサンプリング\n",
    "        newAccZ = signal.resample(AccZ[i], sampling_factor)    #データをダウンサンプリング\n",
    "        AccX.append(newAccX)   #ダウンサンプリングデータを加速度データに追加\n",
    "        AccY.append(newAccY)   #ダウンサンプリングデータを加速度データに追加\n",
    "        AccZ.append(newAccZ)   #ダウンサンプリングデータを加速度データに追加\n",
    "        Hz = np.append(Hz, newHz)   #ダウンサンプリングレートを追加\n",
    "        i += 1\n",
    "\n",
    "    return AccX, AccY, AccZ, Hz"
   ]
  },
  {
   "cell_type": "code",
   "execution_count": 47,
   "metadata": {},
   "outputs": [],
   "source": [
    "#KLダイバージェンスとJSダイバージェンス算出の一連の流れを自動化した関数\n",
    "def KL_and_JS(path: str):\n",
    "    Hz_and_filename = get_Hz_and_filename(path)\n",
    "    Hz_and_filename.sort(reverse=True)  #周波数の大きい順にソート\n",
    "    Hz, filename = divide_Hz_and_filename(Hz_and_filename)\n",
    "    Hz = [str(hz) + \"Hz\" for hz in Hz]  #周波数の値+\"Hz\"のリストを作りデータフレームのラベルに用いる\n",
    "\n",
    "    #使う変数を宣言\n",
    "    AccX, AccY, AccZ = [], [], []\n",
    "    ResultantAcc = []\n",
    "    DifferenceAcc_list = []\n",
    "    resultKLD = [[0.0 for j in range(len(filename))] for i in range(len(filename))]  # resultKLDの要素を0.0で初期化\n",
    "    resultJSD = [[0.0 for j in range(len(filename))] for i in range(len(filename))]  # resultKLDの要素を0.0で初期化\n",
    "    error_index_list = []\n",
    "\n",
    "    #各データセットからデータを読み込み静止区間を除去したものを二次元配列に格納\n",
    "    for i in filename:\n",
    "        AccX, AccY, AccZ = get_acceleration(path+i)\n",
    "        ResultantAcc = acc_to_remove_stationary_intervals(AccX, AccY, AccZ)\n",
    "        DifferenceAcc_list.append(calculate_differences_of_acceleration(ResultantAcc))\n",
    "\n",
    "    #KLダイバージェンスの値を格納\n",
    "    for i in range(len(filename)):\n",
    "        for j in range(len(filename)):\n",
    "            resultKLD[i][j] = KL_divergence(DifferenceAcc_list[i], DifferenceAcc_list[j])\n",
    "\n",
    "    #JSダイバージェンスの値を格納\n",
    "    for i in range(len(filename)):\n",
    "        for j in range(len(filename)):\n",
    "            resultJSD[i][j] = JS_divergence(DifferenceAcc_list[i], DifferenceAcc_list[j])\n",
    "\n",
    "    #結果を出力\n",
    "    df_KLD = pd.DataFrame(resultKLD, index=Hz, columns=Hz)\n",
    "    display(df_KLD)\n",
    "    accuracyKLD, error_index_list = calculate_accuracy(get_index_and_columns_of_second_smallest(df_KLD))\n",
    "    for i in range(len(error_index_list)):\n",
    "        print(filename[error_index_list[i]])\n",
    "    print(f\"KLダイバージェンスによる推定精度は{accuracyKLD}%です\")\n",
    "\n",
    "    df_JSD = pd.DataFrame(resultJSD, index=Hz, columns=Hz)\n",
    "    display(df_JSD)\n",
    "    accuracyJSD, error_index_list = calculate_accuracy(get_index_and_columns_of_second_smallest(df_JSD))\n",
    "    for i in range(len(error_index_list)):\n",
    "        print(filename[error_index_list[i]])\n",
    "    print(f\"JSダイバージェンスによる推定精度は{accuracyJSD}%です\")"
   ]
  },
  {
   "cell_type": "code",
   "execution_count": 48,
   "metadata": {},
   "outputs": [],
   "source": [
    "#ランダムフォレストによる機械学習モデル構築と性能評価までを自動化した関数\n",
    "def random_forest(path: str):\n",
    "    DifferenceAcc_hist, Hz = read_Acc_to_histogram(path)\n",
    "\n",
    "    x_train, x_test, y_train, y_test = train_test_split(DifferenceAcc_hist, Hz, train_size = TRAIN_SIZE, shuffle = True)\n",
    "\n",
    "    # 学習する\n",
    "    clf = RandomForestClassifier(n_estimators=N_ESTIMATORS, random_state=1234)\n",
    "    clf.fit(x_train, y_train)\n",
    "    y_pred = clf.predict(x_test)\n",
    "    print(\"正解率 = \", accuracy_score(y_test, y_pred))"
   ]
  },
  {
   "cell_type": "code",
   "execution_count": 49,
   "metadata": {},
   "outputs": [],
   "source": [
    "#k-近傍法による機械学習モデル構築と性能評価までを自動化した関数\n",
    "def k_neighbors(path: str):\n",
    "    DifferenceAcc_hist, Hz = read_Acc_to_histogram(path)\n",
    "\n",
    "    scaler = StandardScaler()\n",
    "    scaler.fit(DifferenceAcc_hist)\n",
    "    newdata = scaler.transform(DifferenceAcc_hist)\n",
    "\n",
    "    x_train, x_test, y_train, y_test = train_test_split(newdata, Hz, train_size = TRAIN_SIZE, shuffle = True)\n",
    "\n",
    "    # 学習する\n",
    "    clf = KNeighborsClassifier()\n",
    "    clf.fit(x_train, y_train)\n",
    "    y_pred = clf.predict(x_test)\n",
    "    print(\"正解率 = \", accuracy_score(y_test, y_pred))"
   ]
  },
  {
   "cell_type": "code",
   "execution_count": 50,
   "metadata": {},
   "outputs": [],
   "source": [
    "#XGBoostによる機械学習モデル構築と性能評価までを自動化した関数\n",
    "def xgboost(path: str):\n",
    "    DifferenceAcc_hist, Hz = read_Acc_to_histogram(path)\n",
    "\n",
    "    le = LabelEncoder()\n",
    "    Hz = le.fit_transform(Hz)\n",
    "    # 学習する\n",
    "    x_train, x_test, y_train, y_test = train_test_split(DifferenceAcc_hist, Hz, train_size = TRAIN_SIZE, shuffle = True)\n",
    "    clf = xgb.XGBClassifier(objective='multi:softmax')\n",
    "    clf.fit(x_train, y_train)\n",
    "    y_pred = clf.predict(x_test)\n",
    "    print(\"正解率 = \", accuracy_score(y_test, y_pred))\n"
   ]
  },
  {
   "cell_type": "code",
   "execution_count": 51,
   "metadata": {},
   "outputs": [],
   "source": [
    "path = \"my_walk_data(100Hz15minutes)/\""
   ]
  },
  {
   "cell_type": "code",
   "execution_count": 72,
   "metadata": {},
   "outputs": [],
   "source": [
    "#一連のやつ\n",
    "Hz_and_filename = get_Hz_and_filename(path)\n",
    "Hz_and_filename.sort(reverse=True)  #周波数の大きい順にソート\n",
    "Hz, filename = divide_Hz_and_filename(Hz_and_filename)\n",
    "Hz = np.array(Hz)\n",
    "\n",
    "#使う変数を宣言\n",
    "readAccX, readAccY, readAccZ = [], [], []   #データ読み込む用\n",
    "AccX, AccY, AccZ = [], [], []\n",
    "ResultantAcc = []\n",
    "DifferenceAcc_list = []\n",
    "\n",
    "#各データセットからデータを読み込み二次元配列に格納\n",
    "for i in filename:\n",
    "    readAccX, readAccY, readAccZ = get_acceleration(path+i)\n",
    "    AccX.append(readAccX), AccY.append(readAccY), AccZ.append(readAccZ)\n",
    "\n",
    "#各加速度データをダウンサンプリング\n",
    "for i in range(9, 1, -1):\n",
    "    AccX, AccY, AccZ, Hz = resampling_Acc(100, i * 10, AccX, AccY, AccZ, Hz)\n",
    "\n",
    "#静止区間を除去\n",
    "for i in range(len(Hz)):\n",
    "    ResultantAcc.append(acc_to_remove_stationary_intervals(AccX[i], AccY[i], AccZ[i]))"
   ]
  },
  {
   "cell_type": "code",
   "execution_count": 73,
   "metadata": {},
   "outputs": [],
   "source": [
    "#ヒストグラム作成\n",
    "for i in range(len(ResultantAcc)):\n",
    "    DifferenceAcc_list.append(calculate_differences_of_acceleration(ResultantAcc[i]))\n",
    "DifferenceAcc_hist = create_histogram2(DifferenceAcc_list)"
   ]
  },
  {
   "cell_type": "code",
   "execution_count": 74,
   "metadata": {},
   "outputs": [
    {
     "data": {
      "text/plain": [
       "array([100, 100, 100, 100, 100, 100, 100, 100, 100, 100, 100, 100, 100,\n",
       "       100, 100, 100,  90,  90,  90,  90,  90,  90,  90,  90,  90,  90,\n",
       "        90,  90,  90,  90,  90,  90,  80,  80,  80,  80,  80,  80,  80,\n",
       "        80,  80,  80,  80,  80,  80,  80,  80,  80,  70,  70,  70,  70,\n",
       "        70,  70,  70,  70,  70,  70,  70,  70,  70,  70,  70,  70,  60,\n",
       "        60,  60,  60,  60,  60,  60,  60,  60,  60,  60,  60,  60,  60,\n",
       "        60,  60,  50,  50,  50,  50,  50,  50,  50,  50,  50,  50,  50,\n",
       "        50,  50,  50,  50,  50,  40,  40,  40,  40,  40,  40,  40,  40,\n",
       "        40,  40,  40,  40,  40,  40,  40,  40,  30,  30,  30,  30,  30,\n",
       "        30,  30,  30,  30,  30,  30,  30,  30,  30,  30,  30,  20,  20,\n",
       "        20,  20,  20,  20,  20,  20,  20,  20,  20,  20,  20,  20,  20,\n",
       "        20])"
      ]
     },
     "execution_count": 74,
     "metadata": {},
     "output_type": "execute_result"
    }
   ],
   "source": [
    "Hz"
   ]
  },
  {
   "cell_type": "code",
   "execution_count": 75,
   "metadata": {},
   "outputs": [
    {
     "data": {
      "text/plain": [
       "(144, 4000)"
      ]
     },
     "execution_count": 75,
     "metadata": {},
     "output_type": "execute_result"
    }
   ],
   "source": [
    "DifferenceAcc_hist.shape"
   ]
  },
  {
   "cell_type": "code",
   "execution_count": 76,
   "metadata": {},
   "outputs": [],
   "source": [
    "#標準化\n",
    "scaler = StandardScaler()\n",
    "\n",
    "# Fit the scaler to x_train\n",
    "scaler.fit(DifferenceAcc_hist)\n",
    "\n",
    "# Use the scaler to transform x_train and x_test\n",
    "DifferenceAcc_hist = scaler.transform(DifferenceAcc_hist)"
   ]
  },
  {
   "cell_type": "code",
   "execution_count": 77,
   "metadata": {},
   "outputs": [],
   "source": [
    "x_train, x_test, y_train, y_test = train_test_split(DifferenceAcc_hist, Hz, train_size = TRAIN_SIZE, shuffle = True)"
   ]
  },
  {
   "cell_type": "code",
   "execution_count": 136,
   "metadata": {},
   "outputs": [],
   "source": [
    "#transformer regression\n",
    "import tensorflow as tf\n",
    "from tensorflow import keras\n",
    "from tensorflow.keras import layers\n",
    "\n",
    "NUM_HEADS = 16\n",
    "KEY_DIM = 64\n",
    "BINS = 4000\n",
    "DROPOUT = 0.1\n",
    "\n",
    "# Define the input shape\n",
    "input_shape = (BINS,)\n",
    "output_shape = (1,)\n",
    "\n",
    "#形を定義(このモジュールは行列でないとダメっぽい)\n",
    "inputs = layers.Input(shape=input_shape)\n",
    "#outputs = layers.Input(shape=output_shape)\n",
    "inputs = layers.Reshape((10, 400))(inputs)"
   ]
  },
  {
   "cell_type": "code",
   "execution_count": 137,
   "metadata": {},
   "outputs": [
    {
     "data": {
      "text/plain": [
       "TensorShape([None, 10, 400])"
      ]
     },
     "execution_count": 137,
     "metadata": {},
     "output_type": "execute_result"
    }
   ],
   "source": [
    "inputs.shape"
   ]
  },
  {
   "cell_type": "code",
   "execution_count": 138,
   "metadata": {},
   "outputs": [],
   "source": [
    "#Transformer Encoder\n",
    "for i in range(6):\n",
    "      #Multi-Head-Attention層\n",
    "      attention = layers.MultiHeadAttention(num_heads=NUM_HEADS, key_dim=KEY_DIM)(inputs, inputs)\n",
    "\n",
    "      #ドロップアウト層\n",
    "      attention = layers.Dropout(rate=DROPOUT)(attention)\n",
    "      #Add & Norm層\n",
    "      attention = layers.LayerNormalization()(inputs + attention)\n",
    "\n",
    "      #Feed Forward層\n",
    "      ffn = layers.Dense(400 * 4, use_bias=True, activation=\"relu\")(attention)\n",
    "      ffn = layers.Dense(400, use_bias=True)(ffn)\n",
    "\n",
    "      #ドロップアウト層\n",
    "      ffn = layers.Dropout(rate=DROPOUT)(ffn)\n",
    "      #Add & Norm層\n",
    "      ffn = layers.LayerNormalization()(attention + ffn)"
   ]
  },
  {
   "cell_type": "code",
   "execution_count": 139,
   "metadata": {},
   "outputs": [],
   "source": [
    "ffn = layers.Flatten()(ffn)\n",
    "outputs = layers.Dense(1, activation=\"relu\")(ffn)"
   ]
  },
  {
   "cell_type": "code",
   "execution_count": 110,
   "metadata": {},
   "outputs": [],
   "source": [
    "x = layers.Flatten()(x)\n",
    "#x = layers.Dense(256, activation=\"relu\")(x)\n",
    "#x = layers.Dropout(0.1)(x)\n",
    "x = layers.Dense(128, activation=\"relu\")(x)\n",
    "x = layers.Dropout(0.1)(x)\n",
    "x = layers.Dense(64, activation=\"relu\")(x)\n",
    "x = layers.Dropout(0.1)(x)\n",
    "outputs = layers.Dense(1, activation=\"relu\")(x)\n",
    "\n",
    "model = keras.Model(inputs=inputs, outputs=outputs)\n",
    "\n",
    "# Compile the model\n",
    "model.compile(\n",
    "    optimizer=keras.optimizers.Adam(),\n",
    "    loss=keras.losses.mean_squared_error,\n",
    "    metrics=[keras.metrics.mean_squared_error],\n",
    ")"
   ]
  },
  {
   "cell_type": "code",
   "execution_count": 141,
   "metadata": {},
   "outputs": [
    {
     "name": "stdout",
     "output_type": "stream",
     "text": [
      "Model: \"model_11\"\n",
      "__________________________________________________________________________________________________\n",
      " Layer (type)                   Output Shape         Param #     Connected to                     \n",
      "==================================================================================================\n",
      " input_23 (InputLayer)          [(None, 10, 400)]    0           []                               \n",
      "                                                                                                  \n",
      " multi_head_attention_87 (Multi  (None, 10, 400)     1641872     ['input_23[0][0]',               \n",
      " HeadAttention)                                                   'input_23[0][0]']               \n",
      "                                                                                                  \n",
      " dropout_57 (Dropout)           (None, 10, 400)      0           ['multi_head_attention_87[1][0]']\n",
      "                                                                                                  \n",
      " tf.__operators__.add_46 (TFOpL  (None, 10, 400)     0           ['input_23[0][0]',               \n",
      " ambda)                                                           'dropout_57[1][0]']             \n",
      "                                                                                                  \n",
      " layer_normalization_169 (Layer  (None, 10, 400)     800         ['tf.__operators__.add_46[1][0]']\n",
      " Normalization)                                                                                   \n",
      "                                                                                                  \n",
      " dense_190 (Dense)              (None, 10, 1600)     641600      ['layer_normalization_169[1][0]']\n",
      "                                                                                                  \n",
      " dense_191 (Dense)              (None, 10, 400)      640400      ['dense_190[1][0]']              \n",
      "                                                                                                  \n",
      " dropout_58 (Dropout)           (None, 10, 400)      0           ['dense_191[1][0]']              \n",
      "                                                                                                  \n",
      " tf.__operators__.add_47 (TFOpL  (None, 10, 400)     0           ['layer_normalization_169[1][0]',\n",
      " ambda)                                                           'dropout_58[1][0]']             \n",
      "                                                                                                  \n",
      " layer_normalization_170 (Layer  (None, 10, 400)     800         ['tf.__operators__.add_47[1][0]']\n",
      " Normalization)                                                                                   \n",
      "                                                                                                  \n",
      " flatten_10 (Flatten)           (None, 4000)         0           ['layer_normalization_170[1][0]']\n",
      "                                                                                                  \n",
      " dense_192 (Dense)              (None, 1)            4001        ['flatten_10[1][0]']             \n",
      "                                                                                                  \n",
      "==================================================================================================\n",
      "Total params: 2,929,473\n",
      "Trainable params: 2,929,473\n",
      "Non-trainable params: 0\n",
      "__________________________________________________________________________________________________\n"
     ]
    }
   ],
   "source": [
    "model.summary()"
   ]
  },
  {
   "cell_type": "code",
   "execution_count": 70,
   "metadata": {},
   "outputs": [],
   "source": [
    "x = layers.Flatten()(x)\n",
    "outputs = layers.Dense(1, activation=\"relu\")(x)"
   ]
  },
  {
   "cell_type": "code",
   "execution_count": 112,
   "metadata": {},
   "outputs": [
    {
     "name": "stdout",
     "output_type": "stream",
     "text": [
      "1/1 [==============================] - 1s 1s/step\n"
     ]
    }
   ],
   "source": [
    "from sklearn.metrics import mean_squared_error, mean_absolute_error, r2_score\n",
    "#予測値をint型に限定\n",
    "#y_pred = tf.cast(model.predict(x_test), tf.int32)\n",
    "#予測値の範囲を限定\n",
    "#y_pred = tf.clip_by_value(model.predict(x_test), 20, 100)\n",
    "\n",
    "#予測値の型と範囲を限定\n",
    "y_pred = tf.cast(tf.clip_by_value(model.predict(x_test), 20, 100), tf.int32)\n",
    "\n",
    "#平均二乗誤差\n",
    "mse = mean_squared_error(y_pred, y_test)\n",
    "\n",
    "#二乗平均平方誤差\n",
    "rmse = np.sqrt(mse)\n",
    "\n",
    "#平均絶対誤差\n",
    "mae = mean_absolute_error(y_pred, y_test)\n",
    "\n",
    "#決定係数\n",
    "r2 = r2_score(y_pred, y_test)"
   ]
  },
  {
   "cell_type": "code",
   "execution_count": 114,
   "metadata": {},
   "outputs": [
    {
     "data": {
      "text/plain": [
       "15.620689655172415"
      ]
     },
     "execution_count": 114,
     "metadata": {},
     "output_type": "execute_result"
    }
   ],
   "source": [
    "mae"
   ]
  },
  {
   "cell_type": "code",
   "execution_count": 144,
   "metadata": {},
   "outputs": [],
   "source": [
    "#旧Transformer\n",
    "import tensorflow as tf\n",
    "from tensorflow import keras\n",
    "from tensorflow.keras import layers\n",
    "\n",
    "#transformer regression\n",
    "# Define the input shape\n",
    "input_shape = (BINS,)\n",
    "\n",
    "# Define the model\n",
    "inputs = layers.Input(shape=input_shape)\n",
    "x = layers.Reshape((100, 40))(inputs)\n",
    "#y = layers.Reshape((100, 40))(inputs)\n",
    "x = layers.MultiHeadAttention(num_heads=8, key_dim=64)(x, x, x)\n",
    "#y = layers.MultiHeadAttention(num_heads=8, key_dim=64)(x, y)\n",
    "#x = layers.Flatten()(y)\n",
    "x = layers.Flatten()(x)\n",
    "#x = layers.Dense(256, activation=\"relu\")(x)\n",
    "#x = layers.Dropout(0.1)(x)\n",
    "x = layers.Dense(128, activation=\"relu\")(x)\n",
    "x = layers.Dropout(0.1)(x)\n",
    "x = layers.Dense(64, activation=\"relu\")(x)\n",
    "x = layers.Dropout(0.1)(x)\n",
    "outputs = layers.Dense(1, activation=\"relu\")(x)\n",
    "\n",
    "model = keras.Model(inputs=inputs, outputs=outputs)\n",
    "\n",
    "# Compile the model\n",
    "model.compile(\n",
    "    optimizer=keras.optimizers.Adam(),\n",
    "    loss=keras.losses.mean_squared_error,\n",
    "    metrics=[keras.metrics.mean_squared_error],\n",
    ")"
   ]
  },
  {
   "cell_type": "code",
   "execution_count": 145,
   "metadata": {},
   "outputs": [
    {
     "name": "stdout",
     "output_type": "stream",
     "text": [
      "Model: \"model_12\"\n",
      "__________________________________________________________________________________________________\n",
      " Layer (type)                   Output Shape         Param #     Connected to                     \n",
      "==================================================================================================\n",
      " input_24 (InputLayer)          [(None, 4000)]       0           []                               \n",
      "                                                                                                  \n",
      " reshape_19 (Reshape)           (None, 100, 40)      0           ['input_24[0][0]']               \n",
      "                                                                                                  \n",
      " multi_head_attention_88 (Multi  (None, 100, 40)     83496       ['reshape_19[0][0]',             \n",
      " HeadAttention)                                                   'reshape_19[0][0]',             \n",
      "                                                                  'reshape_19[0][0]']             \n",
      "                                                                                                  \n",
      " flatten_11 (Flatten)           (None, 4000)         0           ['multi_head_attention_88[0][0]']\n",
      "                                                                                                  \n",
      " dense_193 (Dense)              (None, 128)          512128      ['flatten_11[0][0]']             \n",
      "                                                                                                  \n",
      " dropout_59 (Dropout)           (None, 128)          0           ['dense_193[0][0]']              \n",
      "                                                                                                  \n",
      " dense_194 (Dense)              (None, 64)           8256        ['dropout_59[0][0]']             \n",
      "                                                                                                  \n",
      " dropout_60 (Dropout)           (None, 64)           0           ['dense_194[0][0]']              \n",
      "                                                                                                  \n",
      " dense_195 (Dense)              (None, 1)            65          ['dropout_60[0][0]']             \n",
      "                                                                                                  \n",
      "==================================================================================================\n",
      "Total params: 603,945\n",
      "Trainable params: 603,945\n",
      "Non-trainable params: 0\n",
      "__________________________________________________________________________________________________\n"
     ]
    }
   ],
   "source": [
    "model.summary()"
   ]
  },
  {
   "cell_type": "code",
   "execution_count": 143,
   "metadata": {},
   "outputs": [],
   "source": [
    "x_train, x_test, y_train, y_test = train_test_split(DifferenceAcc_hist, Hz, train_size = TRAIN_SIZE, shuffle = True)"
   ]
  },
  {
   "cell_type": "code",
   "execution_count": 146,
   "metadata": {},
   "outputs": [
    {
     "name": "stdout",
     "output_type": "stream",
     "text": [
      "Epoch 1/50\n",
      "6/6 [==============================] - 9s 136ms/step - loss: 3557.3420 - mean_squared_error: 3557.3420 - val_loss: 2855.0906 - val_mean_squared_error: 2855.0906\n",
      "Epoch 2/50\n",
      "6/6 [==============================] - 0s 68ms/step - loss: 1468.9847 - mean_squared_error: 1468.9847 - val_loss: 2622.1516 - val_mean_squared_error: 2622.1516\n",
      "Epoch 3/50\n",
      "6/6 [==============================] - 0s 64ms/step - loss: 1334.6145 - mean_squared_error: 1334.6145 - val_loss: 679.8878 - val_mean_squared_error: 679.8878\n",
      "Epoch 4/50\n",
      "6/6 [==============================] - 0s 47ms/step - loss: 1091.3304 - mean_squared_error: 1091.3304 - val_loss: 595.4581 - val_mean_squared_error: 595.4581\n",
      "Epoch 5/50\n",
      "6/6 [==============================] - 0s 48ms/step - loss: 822.4337 - mean_squared_error: 822.4337 - val_loss: 597.3545 - val_mean_squared_error: 597.3545\n",
      "Epoch 6/50\n",
      "6/6 [==============================] - 0s 50ms/step - loss: 540.6285 - mean_squared_error: 540.6285 - val_loss: 409.8044 - val_mean_squared_error: 409.8044\n",
      "Epoch 7/50\n",
      "6/6 [==============================] - 0s 49ms/step - loss: 362.9818 - mean_squared_error: 362.9818 - val_loss: 210.0158 - val_mean_squared_error: 210.0158\n",
      "Epoch 8/50\n",
      "6/6 [==============================] - 0s 49ms/step - loss: 300.9163 - mean_squared_error: 300.9163 - val_loss: 226.7109 - val_mean_squared_error: 226.7109\n",
      "Epoch 9/50\n",
      "6/6 [==============================] - 0s 60ms/step - loss: 276.6211 - mean_squared_error: 276.6211 - val_loss: 202.8494 - val_mean_squared_error: 202.8494\n",
      "Epoch 10/50\n",
      "6/6 [==============================] - 0s 51ms/step - loss: 172.3042 - mean_squared_error: 172.3042 - val_loss: 141.5259 - val_mean_squared_error: 141.5259\n",
      "Epoch 11/50\n",
      "6/6 [==============================] - 0s 53ms/step - loss: 150.6241 - mean_squared_error: 150.6241 - val_loss: 104.8895 - val_mean_squared_error: 104.8895\n",
      "Epoch 12/50\n",
      "6/6 [==============================] - 0s 53ms/step - loss: 146.6483 - mean_squared_error: 146.6483 - val_loss: 95.1073 - val_mean_squared_error: 95.1073\n",
      "Epoch 13/50\n",
      "6/6 [==============================] - 0s 49ms/step - loss: 122.2667 - mean_squared_error: 122.2667 - val_loss: 92.7785 - val_mean_squared_error: 92.7785\n",
      "Epoch 14/50\n",
      "6/6 [==============================] - 0s 50ms/step - loss: 127.4911 - mean_squared_error: 127.4911 - val_loss: 86.5379 - val_mean_squared_error: 86.5379\n",
      "Epoch 15/50\n",
      "6/6 [==============================] - 0s 49ms/step - loss: 120.3502 - mean_squared_error: 120.3502 - val_loss: 111.8710 - val_mean_squared_error: 111.8710\n",
      "Epoch 16/50\n",
      "6/6 [==============================] - 0s 52ms/step - loss: 138.3156 - mean_squared_error: 138.3156 - val_loss: 88.7002 - val_mean_squared_error: 88.7002\n",
      "Epoch 17/50\n",
      "6/6 [==============================] - 0s 49ms/step - loss: 104.6586 - mean_squared_error: 104.6586 - val_loss: 85.8651 - val_mean_squared_error: 85.8651\n",
      "Epoch 18/50\n",
      "6/6 [==============================] - 0s 48ms/step - loss: 99.7811 - mean_squared_error: 99.7811 - val_loss: 88.3531 - val_mean_squared_error: 88.3531\n",
      "Epoch 19/50\n",
      "6/6 [==============================] - 0s 48ms/step - loss: 104.7991 - mean_squared_error: 104.7991 - val_loss: 82.9592 - val_mean_squared_error: 82.9592\n",
      "Epoch 20/50\n",
      "6/6 [==============================] - 0s 49ms/step - loss: 85.6743 - mean_squared_error: 85.6743 - val_loss: 81.8637 - val_mean_squared_error: 81.8637\n",
      "Epoch 21/50\n",
      "6/6 [==============================] - 0s 49ms/step - loss: 94.8261 - mean_squared_error: 94.8261 - val_loss: 108.8681 - val_mean_squared_error: 108.8681\n",
      "Epoch 22/50\n",
      "6/6 [==============================] - 0s 52ms/step - loss: 72.6043 - mean_squared_error: 72.6043 - val_loss: 93.7635 - val_mean_squared_error: 93.7635\n",
      "Epoch 23/50\n",
      "6/6 [==============================] - 0s 49ms/step - loss: 78.7601 - mean_squared_error: 78.7601 - val_loss: 73.7550 - val_mean_squared_error: 73.7550\n",
      "Epoch 24/50\n",
      "6/6 [==============================] - 0s 49ms/step - loss: 93.7581 - mean_squared_error: 93.7581 - val_loss: 81.9089 - val_mean_squared_error: 81.9089\n",
      "Epoch 25/50\n",
      "6/6 [==============================] - 0s 49ms/step - loss: 91.4368 - mean_squared_error: 91.4368 - val_loss: 85.7498 - val_mean_squared_error: 85.7498\n",
      "Epoch 26/50\n",
      "6/6 [==============================] - 0s 49ms/step - loss: 89.7215 - mean_squared_error: 89.7215 - val_loss: 88.8528 - val_mean_squared_error: 88.8528\n",
      "Epoch 27/50\n",
      "6/6 [==============================] - 0s 50ms/step - loss: 82.2452 - mean_squared_error: 82.2452 - val_loss: 76.3498 - val_mean_squared_error: 76.3498\n",
      "Epoch 28/50\n",
      "6/6 [==============================] - 0s 48ms/step - loss: 71.6287 - mean_squared_error: 71.6287 - val_loss: 75.3536 - val_mean_squared_error: 75.3536\n",
      "Epoch 29/50\n",
      "6/6 [==============================] - 0s 53ms/step - loss: 88.9168 - mean_squared_error: 88.9168 - val_loss: 79.3708 - val_mean_squared_error: 79.3708\n",
      "Epoch 30/50\n",
      "6/6 [==============================] - 0s 50ms/step - loss: 81.3439 - mean_squared_error: 81.3439 - val_loss: 76.0410 - val_mean_squared_error: 76.0410\n",
      "Epoch 31/50\n",
      "6/6 [==============================] - 0s 57ms/step - loss: 94.8157 - mean_squared_error: 94.8157 - val_loss: 150.8826 - val_mean_squared_error: 150.8826\n",
      "Epoch 32/50\n",
      "6/6 [==============================] - 0s 51ms/step - loss: 78.9516 - mean_squared_error: 78.9516 - val_loss: 155.7945 - val_mean_squared_error: 155.7945\n",
      "Epoch 33/50\n",
      "6/6 [==============================] - 0s 57ms/step - loss: 120.5791 - mean_squared_error: 120.5791 - val_loss: 140.1986 - val_mean_squared_error: 140.1986\n",
      "Epoch 34/50\n",
      "6/6 [==============================] - 0s 57ms/step - loss: 72.3837 - mean_squared_error: 72.3837 - val_loss: 82.6463 - val_mean_squared_error: 82.6463\n",
      "Epoch 35/50\n",
      "6/6 [==============================] - 0s 52ms/step - loss: 55.4503 - mean_squared_error: 55.4503 - val_loss: 82.8147 - val_mean_squared_error: 82.8147\n",
      "Epoch 36/50\n",
      "6/6 [==============================] - 0s 52ms/step - loss: 92.6600 - mean_squared_error: 92.6600 - val_loss: 84.7923 - val_mean_squared_error: 84.7923\n",
      "Epoch 37/50\n",
      "6/6 [==============================] - 0s 51ms/step - loss: 80.3568 - mean_squared_error: 80.3568 - val_loss: 82.6277 - val_mean_squared_error: 82.6277\n",
      "Epoch 38/50\n",
      "6/6 [==============================] - 0s 50ms/step - loss: 72.4561 - mean_squared_error: 72.4561 - val_loss: 84.5001 - val_mean_squared_error: 84.5001\n",
      "Epoch 39/50\n",
      "6/6 [==============================] - 0s 52ms/step - loss: 69.0700 - mean_squared_error: 69.0700 - val_loss: 86.2964 - val_mean_squared_error: 86.2964\n",
      "Epoch 40/50\n",
      "6/6 [==============================] - 0s 49ms/step - loss: 53.2629 - mean_squared_error: 53.2629 - val_loss: 93.5984 - val_mean_squared_error: 93.5984\n",
      "Epoch 41/50\n",
      "6/6 [==============================] - 0s 51ms/step - loss: 83.8296 - mean_squared_error: 83.8296 - val_loss: 124.8482 - val_mean_squared_error: 124.8482\n",
      "Epoch 42/50\n",
      "6/6 [==============================] - 0s 49ms/step - loss: 75.8268 - mean_squared_error: 75.8268 - val_loss: 102.4212 - val_mean_squared_error: 102.4212\n",
      "Epoch 43/50\n",
      "6/6 [==============================] - 0s 50ms/step - loss: 74.4815 - mean_squared_error: 74.4815 - val_loss: 83.0861 - val_mean_squared_error: 83.0861\n",
      "Epoch 44/50\n",
      "6/6 [==============================] - 0s 49ms/step - loss: 60.2540 - mean_squared_error: 60.2540 - val_loss: 111.6093 - val_mean_squared_error: 111.6093\n",
      "Epoch 45/50\n",
      "6/6 [==============================] - 0s 50ms/step - loss: 69.6941 - mean_squared_error: 69.6941 - val_loss: 129.4923 - val_mean_squared_error: 129.4923\n",
      "Epoch 46/50\n",
      "6/6 [==============================] - 0s 50ms/step - loss: 68.8131 - mean_squared_error: 68.8131 - val_loss: 84.0055 - val_mean_squared_error: 84.0055\n",
      "Epoch 47/50\n",
      "6/6 [==============================] - 0s 48ms/step - loss: 76.6666 - mean_squared_error: 76.6666 - val_loss: 123.9434 - val_mean_squared_error: 123.9434\n",
      "Epoch 48/50\n",
      "6/6 [==============================] - 0s 48ms/step - loss: 64.4881 - mean_squared_error: 64.4881 - val_loss: 113.6449 - val_mean_squared_error: 113.6449\n",
      "Epoch 49/50\n",
      "6/6 [==============================] - 0s 51ms/step - loss: 57.7212 - mean_squared_error: 57.7212 - val_loss: 87.6567 - val_mean_squared_error: 87.6567\n",
      "Epoch 50/50\n",
      "6/6 [==============================] - 0s 50ms/step - loss: 56.4999 - mean_squared_error: 56.4999 - val_loss: 108.8425 - val_mean_squared_error: 108.8425\n"
     ]
    },
    {
     "data": {
      "text/plain": [
       "<keras.callbacks.History at 0x1a0d20450>"
      ]
     },
     "execution_count": 146,
     "metadata": {},
     "output_type": "execute_result"
    }
   ],
   "source": [
    "model.fit(x_train, y_train, batch_size=16, epochs=50, shuffle=True, validation_split=0.2)"
   ]
  },
  {
   "cell_type": "code",
   "execution_count": 147,
   "metadata": {},
   "outputs": [
    {
     "name": "stdout",
     "output_type": "stream",
     "text": [
      "WARNING:tensorflow:5 out of the last 5 calls to <function Model.make_predict_function.<locals>.predict_function at 0x1a0d1b4c0> triggered tf.function retracing. Tracing is expensive and the excessive number of tracings could be due to (1) creating @tf.function repeatedly in a loop, (2) passing tensors with different shapes, (3) passing Python objects instead of tensors. For (1), please define your @tf.function outside of the loop. For (2), @tf.function has reduce_retracing=True option that can avoid unnecessary retracing. For (3), please refer to https://www.tensorflow.org/guide/function#controlling_retracing and https://www.tensorflow.org/api_docs/python/tf/function for  more details.\n",
      "1/1 [==============================] - 0s 240ms/step\n"
     ]
    },
    {
     "data": {
      "text/plain": [
       "5.655172413793103"
      ]
     },
     "execution_count": 147,
     "metadata": {},
     "output_type": "execute_result"
    }
   ],
   "source": [
    "y_pred = tf.cast(tf.clip_by_value(model.predict(x_test), 20, 100), tf.int32)\n",
    "mean_absolute_error(y_pred, y_test)"
   ]
  },
  {
   "cell_type": "code",
   "execution_count": null,
   "metadata": {},
   "outputs": [],
   "source": [
    "#一連のやつ\n",
    "Hz_and_filename = get_Hz_and_filename(path)\n",
    "Hz_and_filename.sort(reverse=True)  #周波数の大きい順にソート\n",
    "Hz, filename = divide_Hz_and_filename(Hz_and_filename)\n",
    "Hz = np.array(Hz)\n",
    "\n",
    "#使う変数を宣言\n",
    "AccX, AccY, AccZ = [], [], []\n",
    "ResultantAcc = []\n",
    "DifferenceAcc_list = []\n",
    "\n",
    "#各データセットからデータを読み込み静止区間を除去したものを二次元配列に格納\n",
    "for i in filename:\n",
    "    AccX, AccY, AccZ = get_acceleration(path+i)\n",
    "    ResultantAcc.append(acc_to_remove_stationary_intervals(AccX, AccY, AccZ))"
   ]
  },
  {
   "cell_type": "code",
   "execution_count": null,
   "metadata": {},
   "outputs": [],
   "source": [
    "for i in range(len(ResultantAcc)):\n",
    "    DifferenceAcc_list.append(calculate_differences_of_acceleration(ResultantAcc[i]))\n",
    "DifferenceAcc_hist = create_histogram2(DifferenceAcc_list)"
   ]
  },
  {
   "cell_type": "code",
   "execution_count": null,
   "metadata": {},
   "outputs": [],
   "source": [
    "#尖度\n",
    "DifferenceAcc_kurtosis = np.zeros(len(DifferenceAcc_hist))\n",
    "for i in range(len(DifferenceAcc_hist)):\n",
    "    DifferenceAcc_kurtosis[i] = kurtosis(DifferenceAcc_hist[i])\n",
    "\n",
    "#歪度\n",
    "DifferenceAcc_skewness = np.zeros(len(DifferenceAcc_hist))\n",
    "for i in range(len(DifferenceAcc_hist)):\n",
    "    DifferenceAcc_skewness[i] = skew(DifferenceAcc_hist[i])\n",
    "\n",
    "#分散\n",
    "histogram_var = np.zeros(len(DifferenceAcc_list))\n",
    "for i in range(len(DifferenceAcc_hist)):\n",
    "    histogram_var[i] = np.var(DifferenceAcc_list[i])"
   ]
  },
  {
   "cell_type": "code",
   "execution_count": null,
   "metadata": {},
   "outputs": [],
   "source": [
    "#X_newに尖度＋歪度+分散を連結したもの\n",
    "X_new = np.concatenate((DifferenceAcc_kurtosis.reshape(-1, 1), DifferenceAcc_skewness.reshape(-1, 1), histogram_var.reshape(-1, 1)), axis=1)\n",
    "#XはDifferenceAcc_hist+X_new\n",
    "X = np.concatenate((DifferenceAcc_hist, X_new), axis=1)"
   ]
  }
 ],
 "metadata": {
  "kernelspec": {
   "display_name": "Python 3 (ipykernel)",
   "language": "python",
   "name": "python3"
  },
  "language_info": {
   "codemirror_mode": {
    "name": "ipython",
    "version": 3
   },
   "file_extension": ".py",
   "mimetype": "text/x-python",
   "name": "python",
   "nbconvert_exporter": "python",
   "pygments_lexer": "ipython3",
   "version": "3.11.3"
  },
  "vscode": {
   "interpreter": {
    "hash": "919e6181955fbc636a96e4fdb04fb1b969c9681582829f05a2534c8d07862e2e"
   }
  }
 },
 "nbformat": 4,
 "nbformat_minor": 2
}
