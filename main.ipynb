{
 "cells": [
  {
   "cell_type": "code",
   "execution_count": 138,
   "metadata": {},
   "outputs": [],
   "source": [
    "#ライブラリをインポート\n",
    "import os #OSに依存する様々な機能を利用するためのモジュール(ファイルやディレクトリ操作など)\n",
    "import re #正規表現を利用するためのモジュール\n",
    "import csv  #csvファイルを扱うためのモジュール\n",
    "import math #数学的計算のためのモジュール\n",
    "import matplotlib.pyplot as plt #グラフ描画のためのモジュール\n",
    "import numpy as np  #多次元配列計算のためのモジュール\n",
    "import pandas as pd #データフレームを扱うためのモジュール\n",
    "from scipy import signal  #信号処理のためのモジュール\n",
    "from scipy.stats import skew, kurtosis  #歪度と尖度を調べるためのモジュール\n",
    "from sklearn.model_selection import train_test_split  #データをトレーニング用とテスト用に分けるためのモジュール\n",
    "from sklearn import preprocessing #データを正規化するためのモジュール\n",
    "from sklearn.preprocessing import StandardScaler  #データを標準化するためのモジュール\n",
    "from sklearn.preprocessing import LabelEncoder  #カテゴリ変数を数値化するためのモジュール\n",
    "from sklearn.linear_model import LinearRegression #線型回帰\n",
    "from sklearn.svm import SVC #サポートベクターマシン\n",
    "from sklearn.ensemble import RandomForestClassifier #ランダムフォレスト\n",
    "from sklearn.neighbors import KNeighborsClassifier  #k-近傍法\n",
    "from sklearn.metrics import accuracy_score, mean_squared_error, mean_absolute_error, r2_score #機械学習モデルの性能評価のためのモジュール\n",
    "import xgboost as xgb #XGBoost\n",
    "import lightgbm as lgb  #LightGBM\n",
    "import tensorflow as tf #TensorFlow(Googleが開発したオープンソースの機械学習フレームワーク)\n",
    "from tensorflow import keras  #TensorFlow用のニューラルネットワークライブラリAPI\n",
    "from tensorflow.keras import layers #ニューラルネットワークのレイヤーを定義するためのモジュール\n",
    "from keras.utils import plot_model  #モデルをプロットするためのモジュール\n",
    "import torch  #PyTorch\n",
    "import torch.nn as nn #ニューラルネットワークのためのモジュール\n",
    "import torch.optim as optim #パラメータの最適化を行うためのモジュール\n",
    "from torch.utils.data import DataLoader, Dataset  #データをバッチ単位でロードするためのユーティリティクラスz"
   ]
  },
  {
   "cell_type": "code",
   "execution_count": 2,
   "metadata": {},
   "outputs": [],
   "source": [
    "#定数を定義\n",
    "BINS = 4000  #ヒストグラムのビンの数\n",
    "EPSILON = .00001  #スムージングパラメータ\n",
    "UPPER_LIMIT = 1.1 #静止区間の上限\n",
    "LOWER_LIMIT = 0.9 #静止区間の加減\n",
    "STATIONARY_INTERVALS = 5  #静止区間除去のサンプルの間隔(静止区間が何サンプル連続したら除去するか)\n",
    "TRAIN_SIZE = 0.8  #機械学習のトレーニングデータの割合\n",
    "N_ESTIMATORS = 100  #決定木の数"
   ]
  },
  {
   "cell_type": "code",
   "execution_count": 3,
   "metadata": {},
   "outputs": [],
   "source": [
    "#ディレクトリ内のAMWS020のデータセットのファイル名と周波数を取得する関数\n",
    "def get_Hz_and_filename(path: str) -> list[int, str]:\n",
    "    filename = os.listdir(path) #引数のパスのディレクトリの中のファイル名一覧を取得\n",
    "    Hz_and_filename=[]  #ファイル名と周波数を格納するリストを宣言\n",
    "\n",
    "    for file in filename:\n",
    "        Hz = re.search(r'\\d+', file)    #正規表現を用いてファイル名の中で一番最初に出てくる数字(周波数)を取得\n",
    "        if Hz:  #数字の入っていないファイル名があるとエラーを吐くので、このif文でチェックする\n",
    "            Hz_and_filename.append([int(Hz.group(0)), file])    #ファイル名と周波数を格納\n",
    "\n",
    "    return Hz_and_filename"
   ]
  },
  {
   "cell_type": "code",
   "execution_count": 4,
   "metadata": {},
   "outputs": [],
   "source": [
    "#ファイル名と周波数を分けて出力する関数\n",
    "def divide_Hz_and_filename(Hz_and_filename: list[int, str]) -> tuple[list[int], list[str]]:\n",
    "    Hz = []\n",
    "    filename = []\n",
    "    for row in Hz_and_filename:\n",
    "      Hz.append(row[0])\n",
    "      filename.append(row[1])\n",
    "\n",
    "    return Hz, filename"
   ]
  },
  {
   "cell_type": "code",
   "execution_count": 5,
   "metadata": {},
   "outputs": [],
   "source": [
    "#加速度データのCSVファイルから3軸加速度を取得する関数\n",
    "def get_acceleration(filename: str) -> tuple[list[float], list[float], list[float]]:\n",
    "    AccX, AccY, AccZ = [], [], []\n",
    "    with open(filename) as f:\n",
    "        reader = csv.reader(f)\n",
    "        for row in reader:\n",
    "            AccX.append(float(row[2]))\n",
    "            AccY.append(float(row[3]))\n",
    "            AccZ.append(float(row[4]))\n",
    "\n",
    "    return AccX, AccY, AccZ"
   ]
  },
  {
   "cell_type": "code",
   "execution_count": 6,
   "metadata": {},
   "outputs": [],
   "source": [
    "#静止区間を除去する関数\n",
    "def acc_to_remove_stationary_intervals(AccX: list[float], AccY: list[float], AccZ: list[float]) -> list[float]:\n",
    "    #各軸の加速度の平均を求める\n",
    "    AvgAccX = sum(AccX) / len(AccX)\n",
    "    AvgAccY = sum(AccY) / len(AccY)\n",
    "    AvgAccZ = sum(AccZ) / len(AccZ)\n",
    "\n",
    "    AvgResultantAcc = math.sqrt(AvgAccX ** 2 + AvgAccY ** 2 + AvgAccZ ** 2) #重力加速度の推定値=合成加速度の平均を求める\n",
    "\n",
    "    ResultantAcc = [math.sqrt(x ** 2 + y ** 2 + z ** 2) for x, y, z in zip(AccX, AccY, AccZ)]   #各時刻の合成加速度を求める\n",
    "\n",
    "    #各時刻の合成加速度から静止区間(重力加速度の推定値に近い値が一定以上以上連続している区間)を除去する\n",
    "    i = 0 #ループ変数\n",
    "    counter = 0 #静止区間がSTATIONARY_INTERVALS分続いているかをカウントする変数\n",
    "    while i < len(ResultantAcc):\n",
    "        if AvgResultantAcc * LOWER_LIMIT < ResultantAcc[i] < AvgResultantAcc * UPPER_LIMIT:   #平均のLOWER_LIMIT倍~UPPER_LIMIT倍の範囲を調べる\n",
    "            counter += 1    #範囲内ならカウントを増やす\n",
    "            if counter == STATIONARY_INTERVALS: #カウントがSTATIONARY_INTERVALSに達したらその区間を削除\n",
    "                del ResultantAcc[i+1-STATIONARY_INTERVALS:i+1]    #スライスでは選択範囲の開始位置startと終了位置stopを[start:stop]のように書くとstart <= x < stopの範囲が選択される #start番目の値は含まれるがstop番目の値は含まれない\n",
    "                counter = 0 #カウンターをリセット\n",
    "                i -= STATIONARY_INTERVALS   #削除した分インデックスがズレるので補正する\n",
    "        else:\n",
    "            counter = 0 #カウンターをリセット\n",
    "        i += 1\n",
    "\n",
    "    return ResultantAcc  #静止区間を除去した後のリストを返す"
   ]
  },
  {
   "cell_type": "code",
   "execution_count": 7,
   "metadata": {},
   "outputs": [],
   "source": [
    "#連続する2サンプルの差分を取る関数\n",
    "def calculate_differences_of_acceleration(ResultantAcc: list[float]) -> list[float]:\n",
    "    DifferenceAcc = [math.fabs(ResultantAcc[i + 1] * 100000 - ResultantAcc[i] * 100000) for i in range(len(ResultantAcc) - 1)]  #100000倍して誤差を取る\n",
    "    return DifferenceAcc"
   ]
  },
  {
   "cell_type": "code",
   "execution_count": 8,
   "metadata": {},
   "outputs": [],
   "source": [
    "#KLダイバージェンス関数 #引数として与える2つの分布は非負の値の集合でなければならないことに注意\n",
    "def KL_divergence(a: list[float], b: list[float]) -> float:\n",
    "    min_value = min(min(a), min(b)) #a,bの最小値の小さい方\n",
    "    max_value = max(max(a), max(b)) #a,bの最大値の大きい方\n",
    "\n",
    "    #a,bのヒストグラムを作成し、同じ数のビンで区切る\n",
    "    a_hist, _ = np.histogram(a, bins=BINS, range=(min_value, max_value))\n",
    "    b_hist, _ = np.histogram(b, bins=BINS, range=(min_value, max_value))\n",
    "\n",
    "    #正規化する(確率分布に変換する、合計を1にする)ために全合計で割る\n",
    "    a_hist = (a_hist + EPSILON) / a_hist.sum()\n",
    "    b_hist = (b_hist + EPSILON) / b_hist.sum()\n",
    "\n",
    "    #KLダイバージェンスの値を返す\n",
    "    return np.sum([ai * np.log(ai / bi) for ai, bi in zip(a_hist, b_hist)])"
   ]
  },
  {
   "cell_type": "code",
   "execution_count": 9,
   "metadata": {},
   "outputs": [],
   "source": [
    "#JSダイバージェンス関数 #引数として与える2つの分布は非負の値の集合でなければならないことに注意\n",
    "def JS_divergence(a: list[float], b: list[float]) -> float:\n",
    "    min_value = min(min(a), min(b)) #a,bの最小値の小さい方\n",
    "    max_value = max(max(a), max(b)) #a,bの最大値の大きい方\n",
    "\n",
    "    #a,bのヒストグラムを作成し、同じ数のビンで区切る\n",
    "    a_hist, _ = np.histogram(a, bins=BINS, range=(min_value, max_value))\n",
    "    b_hist, _ = np.histogram(b, bins=BINS, range=(min_value, max_value))\n",
    "\n",
    "    #正規化する(確率分布に変換する、合計を1にする)ために全合計で割る\n",
    "    a_hist = (a_hist + EPSILON) / a_hist.sum()\n",
    "    b_hist = (b_hist + EPSILON) / b_hist.sum()\n",
    "\n",
    "    #2つの分布の平均値を求める\n",
    "    mean_hist = (a_hist + b_hist) / 2.0\n",
    "\n",
    "    #平均とそれぞれの分布のKLダイバージェンスを算出\n",
    "    kl_a = np.sum([ai * np.log(ai / bi) for ai, bi in zip(a_hist, mean_hist)])\n",
    "    kl_b = np.sum([ai * np.log(ai / bi) for ai, bi in zip(b_hist, mean_hist)])\n",
    "\n",
    "    #JSダイバージェンスの値を返す\n",
    "    return (kl_a + kl_b) / 2.0"
   ]
  },
  {
   "cell_type": "code",
   "execution_count": 10,
   "metadata": {},
   "outputs": [],
   "source": [
    "#データフレームの各行の中で2番目に小さい値が格納されている場所を調べる関数(最小値は同じ確率分布同士の0.0)\n",
    "def get_index_and_columns_of_second_smallest(df: pd.DataFrame) -> list[str, str]:\n",
    "    index_and_columns_of_second_smallest = []  #データフレームの中で2番目に小さい値が格納されている場所のインデックス名とカラム名を格納する変数\n",
    "    for i in range(len(df)):\n",
    "        sorted_row = df.iloc[i].sort_values()   #.ilocでデータフレームの要素を行、列の番号の添字で指定する    #各行の要素を昇順に並び替える\n",
    "        second_smallest_columns = sorted_row.index[1] #各行の2番目に小さい値が格納されているカラム[1]の名前を取得\n",
    "        #second_smallest_label = df.columns.get_loc(second_smallest_index)\n",
    "        index_and_columns_of_second_smallest.append((df.index[i], second_smallest_columns))    #インデックスとカラムのラベル名の組を二次元配列に追加\n",
    "    return index_and_columns_of_second_smallest"
   ]
  },
  {
   "cell_type": "code",
   "execution_count": 11,
   "metadata": {},
   "outputs": [],
   "source": [
    "#KL・JSダイバージェンスの推定精度を算出する関数\n",
    "def calculate_accuracy(index_and_columns_of_second_smallest: list[str, str]) -> tuple[float, list[int]]:\n",
    "    counter = 0\n",
    "    error_index_list = []\n",
    "    for i in range(len(index_and_columns_of_second_smallest)):\n",
    "        #インデックスとカラムのラベル名が同じならばカウンターを1増やす\n",
    "        if index_and_columns_of_second_smallest[i][0] == index_and_columns_of_second_smallest[i][1]:\n",
    "            counter += 1\n",
    "        else:\n",
    "            error_index_list.append(i)\n",
    "            print(f\"間違ってるやつは{i}番目の{index_and_columns_of_second_smallest[i][0]}と{index_and_columns_of_second_smallest[i][1]}です\")\n",
    "\n",
    "    return (counter / len(index_and_columns_of_second_smallest)) * 100, error_index_list  #精度を100分率で返す"
   ]
  },
  {
   "cell_type": "code",
   "execution_count": 12,
   "metadata": {},
   "outputs": [],
   "source": [
    "#入力された加速度の差分のリストからヒストグラムを作る関数（ビンの範囲が全加速度の差分データの最小値〜最大値）\n",
    "def create_histogram(DifferenceAcc_list: list[float]) -> np.histogram:\n",
    "    min_value = min(map(lambda x:max(x), DifferenceAcc_list))   #入力されたリストの中で最も小さい数\n",
    "    max_value = max(map(lambda x:max(x), DifferenceAcc_list))   #入力されたリストの中で最も大きい数\n",
    "\n",
    "    DifferenceAcc_hist = np.zeros((len(DifferenceAcc_list), BINS), dtype=float)\n",
    "\n",
    "    for i in range(len(DifferenceAcc_list)):\n",
    "        DifferenceAcc_hist[i], _ = np.histogram(DifferenceAcc_list[i], bins=BINS, range=(min_value, max_value)) #ヒストグラムを作成し、同じ数のビンで区切る\n",
    "    return DifferenceAcc_hist"
   ]
  },
  {
   "cell_type": "code",
   "execution_count": 13,
   "metadata": {},
   "outputs": [],
   "source": [
    "#入力された加速度の差分のリストからヒストグラムを作る関数（ビンの範囲が各加速度の差分データの最小値〜最大値）\n",
    "def create_histogram2(DifferenceAcc_list: list[float]) -> np.histogram:\n",
    "    DifferenceAcc_hist = np.zeros((len(DifferenceAcc_list), BINS), dtype=float)\n",
    "    for i in range(len(DifferenceAcc_list)):\n",
    "        min_value = min(DifferenceAcc_list[i])\n",
    "        max_value = max(DifferenceAcc_list[i])\n",
    "        #DifferenceAcc_hist[i], _ = np.histogram(DifferenceAcc_list[i], bins=BINS, range=(min_value, max_value)) #ヒストグラムを作成し、同じ数のビンで区切る\n",
    "        DifferenceAcc_hist[i], _ = np.histogram(DifferenceAcc_list[i], bins=BINS) #ヒストグラムを作成し、同じ数のビンで区切る\n",
    "    return DifferenceAcc_hist"
   ]
  },
  {
   "cell_type": "code",
   "execution_count": 14,
   "metadata": {},
   "outputs": [],
   "source": [
    "#加速度データのCSVファイルからヒストグラムを作成する一連の流れを自動化した関数\n",
    "def read_Acc_to_histogram(path: str) -> tuple[np.histogram, np.array]:\n",
    "    Hz_and_filename = get_Hz_and_filename(path)\n",
    "    Hz_and_filename.sort(reverse=True)  #周波数の大きい順にソート\n",
    "    Hz, filename = divide_Hz_and_filename(Hz_and_filename)\n",
    "    Hz = np.array(Hz)\n",
    "\n",
    "    #使う変数を宣言\n",
    "    AccX, AccY, AccZ = [], [], []\n",
    "    ResultantAcc = []\n",
    "    DifferenceAcc_list = []\n",
    "\n",
    "    #各データセットからデータを読み込み静止区間を除去したものを二次元配列に格納\n",
    "    for i in filename:\n",
    "        AccX, AccY, AccZ = get_acceleration(path+i)\n",
    "        ResultantAcc = acc_to_remove_stationary_intervals(AccX, AccY, AccZ)\n",
    "        DifferenceAcc_list.append(calculate_differences_of_acceleration(ResultantAcc))\n",
    "\n",
    "    DifferenceAcc_hist = create_histogram2(DifferenceAcc_list)\n",
    "    return DifferenceAcc_hist, Hz"
   ]
  },
  {
   "cell_type": "code",
   "execution_count": 15,
   "metadata": {},
   "outputs": [],
   "source": [
    "#各加速度データをダウンサンプリングする関数\n",
    "def resampling_Acc(originHz: int, newHz: int, AccX: list[float], AccY: list[float], AccZ: list[float], Hz: np.array) -> tuple[list[float], list[float], list[float], np.array]:\n",
    "    i = 0   #カウンター変数\n",
    "\n",
    "    while (Hz[i] == originHz):\n",
    "        originlen = len(AccX[i])    #元々のデータの長さ\n",
    "        sampling_factor = int(originlen * (newHz/originHz)) #ダウンサンプリングした後のデータの長さ\n",
    "        newAccX = signal.resample(AccX[i], sampling_factor)    #データをダウンサンプリング\n",
    "        newAccY = signal.resample(AccY[i], sampling_factor)    #データをダウンサンプリング\n",
    "        newAccZ = signal.resample(AccZ[i], sampling_factor)    #データをダウンサンプリング\n",
    "        AccX.append(newAccX)   #ダウンサンプリングデータを加速度データに追加\n",
    "        AccY.append(newAccY)   #ダウンサンプリングデータを加速度データに追加\n",
    "        AccZ.append(newAccZ)   #ダウンサンプリングデータを加速度データに追加\n",
    "        Hz = np.append(Hz, newHz)   #ダウンサンプリングレートを追加\n",
    "        i += 1\n",
    "\n",
    "    return AccX, AccY, AccZ, Hz"
   ]
  },
  {
   "cell_type": "code",
   "execution_count": 16,
   "metadata": {},
   "outputs": [],
   "source": [
    "#KLダイバージェンスとJSダイバージェンス算出の一連の流れを自動化した関数\n",
    "def KL_and_JS(path: str):\n",
    "    Hz_and_filename = get_Hz_and_filename(path)\n",
    "    Hz_and_filename.sort(reverse=True)  #周波数の大きい順にソート\n",
    "    Hz, filename = divide_Hz_and_filename(Hz_and_filename)\n",
    "    Hz = [str(hz) + \"Hz\" for hz in Hz]  #周波数の値+\"Hz\"のリストを作りデータフレームのラベルに用いる\n",
    "\n",
    "    #使う変数を宣言\n",
    "    AccX, AccY, AccZ = [], [], []\n",
    "    ResultantAcc = []\n",
    "    DifferenceAcc_list = []\n",
    "    resultKLD = [[0.0 for j in range(len(filename))] for i in range(len(filename))]  # resultKLDの要素を0.0で初期化\n",
    "    resultJSD = [[0.0 for j in range(len(filename))] for i in range(len(filename))]  # resultKLDの要素を0.0で初期化\n",
    "    error_index_list = []\n",
    "\n",
    "    #各データセットからデータを読み込み静止区間を除去したものを二次元配列に格納\n",
    "    for i in filename:\n",
    "        AccX, AccY, AccZ = get_acceleration(path+i)\n",
    "        ResultantAcc = acc_to_remove_stationary_intervals(AccX, AccY, AccZ)\n",
    "        DifferenceAcc_list.append(calculate_differences_of_acceleration(ResultantAcc))\n",
    "\n",
    "    #KLダイバージェンスの値を格納\n",
    "    for i in range(len(filename)):\n",
    "        for j in range(len(filename)):\n",
    "            resultKLD[i][j] = KL_divergence(DifferenceAcc_list[i], DifferenceAcc_list[j])\n",
    "\n",
    "    #JSダイバージェンスの値を格納\n",
    "    for i in range(len(filename)):\n",
    "        for j in range(len(filename)):\n",
    "            resultJSD[i][j] = JS_divergence(DifferenceAcc_list[i], DifferenceAcc_list[j])\n",
    "\n",
    "    #結果を出力\n",
    "    df_KLD = pd.DataFrame(resultKLD, index=Hz, columns=Hz)\n",
    "    display(df_KLD)\n",
    "    accuracyKLD, error_index_list = calculate_accuracy(get_index_and_columns_of_second_smallest(df_KLD))\n",
    "    for i in range(len(error_index_list)):\n",
    "        print(filename[error_index_list[i]])\n",
    "    print(f\"KLダイバージェンスによる推定精度は{accuracyKLD}%です\")\n",
    "\n",
    "    df_JSD = pd.DataFrame(resultJSD, index=Hz, columns=Hz)\n",
    "    display(df_JSD)\n",
    "    accuracyJSD, error_index_list = calculate_accuracy(get_index_and_columns_of_second_smallest(df_JSD))\n",
    "    for i in range(len(error_index_list)):\n",
    "        print(filename[error_index_list[i]])\n",
    "    print(f\"JSダイバージェンスによる推定精度は{accuracyJSD}%です\")"
   ]
  },
  {
   "cell_type": "code",
   "execution_count": 17,
   "metadata": {},
   "outputs": [],
   "source": [
    "#ランダムフォレストによる機械学習モデル構築と性能評価までを自動化した関数\n",
    "def random_forest(path: str):\n",
    "    DifferenceAcc_hist, Hz = read_Acc_to_histogram(path)\n",
    "\n",
    "    x_train, x_test, y_train, y_test = train_test_split(DifferenceAcc_hist, Hz, train_size = TRAIN_SIZE, shuffle = True)\n",
    "\n",
    "    # 学習する\n",
    "    clf = RandomForestClassifier(n_estimators=N_ESTIMATORS, random_state=1234)\n",
    "    clf.fit(x_train, y_train)\n",
    "    y_pred = clf.predict(x_test)\n",
    "    print(\"正解率 = \", accuracy_score(y_test, y_pred))"
   ]
  },
  {
   "cell_type": "code",
   "execution_count": 18,
   "metadata": {},
   "outputs": [],
   "source": [
    "#k-近傍法による機械学習モデル構築と性能評価までを自動化した関数\n",
    "def k_neighbors(path: str):\n",
    "    DifferenceAcc_hist, Hz = read_Acc_to_histogram(path)\n",
    "\n",
    "    scaler = StandardScaler()\n",
    "    scaler.fit(DifferenceAcc_hist)\n",
    "    newdata = scaler.transform(DifferenceAcc_hist)\n",
    "\n",
    "    x_train, x_test, y_train, y_test = train_test_split(newdata, Hz, train_size = TRAIN_SIZE, shuffle = True)\n",
    "\n",
    "    # 学習する\n",
    "    clf = KNeighborsClassifier()\n",
    "    clf.fit(x_train, y_train)\n",
    "    y_pred = clf.predict(x_test)\n",
    "    print(\"正解率 = \", accuracy_score(y_test, y_pred))"
   ]
  },
  {
   "cell_type": "code",
   "execution_count": 19,
   "metadata": {},
   "outputs": [],
   "source": [
    "#XGBoostによる機械学習モデル構築と性能評価までを自動化した関数\n",
    "def xgboost(path: str):\n",
    "    DifferenceAcc_hist, Hz = read_Acc_to_histogram(path)\n",
    "\n",
    "    le = LabelEncoder()\n",
    "    Hz = le.fit_transform(Hz)\n",
    "    # 学習する\n",
    "    x_train, x_test, y_train, y_test = train_test_split(DifferenceAcc_hist, Hz, train_size = TRAIN_SIZE, shuffle = True)\n",
    "    clf = xgb.XGBClassifier(objective='multi:softmax')\n",
    "    clf.fit(x_train, y_train)\n",
    "    y_pred = clf.predict(x_test)\n",
    "    print(\"正解率 = \", accuracy_score(y_test, y_pred))\n"
   ]
  },
  {
   "cell_type": "code",
   "execution_count": 20,
   "metadata": {},
   "outputs": [],
   "source": [
    "path = \"my_walk_data(100Hz15minutes)/\""
   ]
  },
  {
   "cell_type": "code",
   "execution_count": 21,
   "metadata": {},
   "outputs": [],
   "source": [
    "#一連のやつ\n",
    "Hz_and_filename = get_Hz_and_filename(path)\n",
    "Hz_and_filename.sort(reverse=True)  #周波数の大きい順にソート\n",
    "Hz, filename = divide_Hz_and_filename(Hz_and_filename)\n",
    "Hz = np.array(Hz)\n",
    "\n",
    "#使う変数を宣言\n",
    "readAccX, readAccY, readAccZ = [], [], []   #データ読み込む用\n",
    "AccX, AccY, AccZ = [], [], []\n",
    "ResultantAcc = []\n",
    "DifferenceAcc_list = []\n",
    "\n",
    "#各データセットからデータを読み込み二次元配列に格納\n",
    "for i in filename:\n",
    "    readAccX, readAccY, readAccZ = get_acceleration(path+i)\n",
    "    AccX.append(readAccX), AccY.append(readAccY), AccZ.append(readAccZ)\n",
    "\n",
    "#各加速度データをダウンサンプリング\n",
    "for i in range(9, 1, -1):\n",
    "    AccX, AccY, AccZ, Hz = resampling_Acc(100, i * 10, AccX, AccY, AccZ, Hz)\n",
    "\n",
    "#静止区間を除去\n",
    "for i in range(len(Hz)):\n",
    "    ResultantAcc.append(acc_to_remove_stationary_intervals(AccX[i], AccY[i], AccZ[i]))"
   ]
  },
  {
   "cell_type": "code",
   "execution_count": 22,
   "metadata": {},
   "outputs": [],
   "source": [
    "#ヒストグラム作成\n",
    "for i in range(len(ResultantAcc)):\n",
    "    DifferenceAcc_list.append(calculate_differences_of_acceleration(ResultantAcc[i]))\n",
    "DifferenceAcc_hist = create_histogram2(DifferenceAcc_list)"
   ]
  },
  {
   "cell_type": "code",
   "execution_count": 23,
   "metadata": {},
   "outputs": [
    {
     "data": {
      "text/plain": [
       "array([100, 100, 100, 100, 100, 100, 100, 100, 100, 100, 100, 100, 100,\n",
       "       100, 100, 100,  90,  90,  90,  90,  90,  90,  90,  90,  90,  90,\n",
       "        90,  90,  90,  90,  90,  90,  80,  80,  80,  80,  80,  80,  80,\n",
       "        80,  80,  80,  80,  80,  80,  80,  80,  80,  70,  70,  70,  70,\n",
       "        70,  70,  70,  70,  70,  70,  70,  70,  70,  70,  70,  70,  60,\n",
       "        60,  60,  60,  60,  60,  60,  60,  60,  60,  60,  60,  60,  60,\n",
       "        60,  60,  50,  50,  50,  50,  50,  50,  50,  50,  50,  50,  50,\n",
       "        50,  50,  50,  50,  50,  40,  40,  40,  40,  40,  40,  40,  40,\n",
       "        40,  40,  40,  40,  40,  40,  40,  40,  30,  30,  30,  30,  30,\n",
       "        30,  30,  30,  30,  30,  30,  30,  30,  30,  30,  30,  20,  20,\n",
       "        20,  20,  20,  20,  20,  20,  20,  20,  20,  20,  20,  20,  20,\n",
       "        20])"
      ]
     },
     "execution_count": 23,
     "metadata": {},
     "output_type": "execute_result"
    }
   ],
   "source": [
    "Hz"
   ]
  },
  {
   "cell_type": "code",
   "execution_count": 24,
   "metadata": {},
   "outputs": [
    {
     "data": {
      "text/plain": [
       "(144, 4000)"
      ]
     },
     "execution_count": 24,
     "metadata": {},
     "output_type": "execute_result"
    }
   ],
   "source": [
    "DifferenceAcc_hist.shape"
   ]
  },
  {
   "cell_type": "code",
   "execution_count": 25,
   "metadata": {},
   "outputs": [],
   "source": [
    "#標準化\n",
    "scaler = StandardScaler()\n",
    "\n",
    "# Fit the scaler to x_train\n",
    "scaler.fit(DifferenceAcc_hist)\n",
    "\n",
    "# Use the scaler to transform x_train and x_test\n",
    "DifferenceAcc_hist = scaler.transform(DifferenceAcc_hist)"
   ]
  },
  {
   "cell_type": "code",
   "execution_count": 105,
   "metadata": {},
   "outputs": [],
   "source": [
    "x_train, x_test, y_train, y_test = train_test_split(DifferenceAcc_hist, Hz, train_size = TRAIN_SIZE, shuffle = True)"
   ]
  },
  {
   "cell_type": "code",
   "execution_count": 144,
   "metadata": {},
   "outputs": [],
   "source": [
    "#transformer regression\n",
    "#各種パラメータ\n",
    "NUM_HEADS = 8\n",
    "KEY_DIM = 50\n",
    "BINS = 4000\n",
    "DROPOUT = 0.1\n",
    "N = 1\n",
    "\n",
    "# Define the input shape\n",
    "input_shape = (BINS,)\n",
    "output_shape = (1,)\n",
    "\n",
    "#形を定義(このモジュールは行列でないとダメっぽい)\n",
    "inputs_encoder = layers.Input(shape=input_shape)\n",
    "inputs_decoder = layers.Input(shape=output_shape)"
   ]
  },
  {
   "cell_type": "code",
   "execution_count": 145,
   "metadata": {},
   "outputs": [],
   "source": [
    "x_encoder = layers.Reshape((10, 400))(inputs_encoder)"
   ]
  },
  {
   "cell_type": "code",
   "execution_count": 146,
   "metadata": {},
   "outputs": [],
   "source": [
    "y_decoder = layers.Reshape((1, 1))(inputs_decoder)\n",
    "y_decoder =tf.tile(y_decoder, [1, 10, 400])"
   ]
  },
  {
   "cell_type": "code",
   "execution_count": 147,
   "metadata": {},
   "outputs": [],
   "source": [
    "#Transformer Encoder\n",
    "for i in range(N):\n",
    "      #Multi-Head-Attention層\n",
    "      attention_encoder = layers.MultiHeadAttention(num_heads=NUM_HEADS, key_dim=KEY_DIM, use_bias=True)(x_encoder, x_encoder, x_encoder)\n",
    "\n",
    "      #ドロップアウト層\n",
    "      attention_encoder = layers.Dropout(rate=DROPOUT)(attention_encoder)\n",
    "      #Add & Norm層\n",
    "      attention_encoder = layers.LayerNormalization()(x_encoder + attention_encoder)\n",
    "\n",
    "      #Feed Forward層\n",
    "      ffn_encoder = layers.Dense(400 * 4, use_bias=True, activation=\"relu\")(attention_encoder)\n",
    "      ffn_encoder = layers.Dense(400, use_bias=True)(ffn_encoder)\n",
    "\n",
    "      #ドロップアウト層\n",
    "      ffn_encoder = layers.Dropout(rate=DROPOUT)(ffn_encoder)\n",
    "      #Add & Norm層\n",
    "      x_encoder = layers.LayerNormalization()(attention_encoder + ffn_encoder)"
   ]
  },
  {
   "cell_type": "code",
   "execution_count": 127,
   "metadata": {},
   "outputs": [
    {
     "data": {
      "text/plain": [
       "<KerasTensor: shape=(None, 10, 400) dtype=float32 (created by layer 'layer_normalization_63')>"
      ]
     },
     "execution_count": 127,
     "metadata": {},
     "output_type": "execute_result"
    }
   ],
   "source": [
    "x"
   ]
  },
  {
   "cell_type": "code",
   "execution_count": 128,
   "metadata": {},
   "outputs": [
    {
     "data": {
      "text/plain": [
       "<KerasTensor: shape=(None, 10, 400) dtype=float32 (created by layer 'tf.tile_9')>"
      ]
     },
     "execution_count": 128,
     "metadata": {},
     "output_type": "execute_result"
    }
   ],
   "source": [
    "y_decoder"
   ]
  },
  {
   "cell_type": "code",
   "execution_count": 148,
   "metadata": {},
   "outputs": [],
   "source": [
    "#Transformer Decoder\n",
    "for i in range(N):\n",
    "      #Multi-Head-Attention層\n",
    "      attention_decoder = layers.MultiHeadAttention(num_heads=NUM_HEADS, key_dim=KEY_DIM)(y_decoder, y_decoder, y_decoder)\n",
    "\n",
    "      #ドロップアウト層\n",
    "      attention_decoder = layers.Dropout(rate=DROPOUT)(attention_decoder)\n",
    "      #Add & Norm層\n",
    "      y_decoder = layers.LayerNormalization()(y_decoder + attention_decoder)\n",
    "\n",
    "      #Multi-Head-Attention層\n",
    "      attention_decoder = layers.MultiHeadAttention(num_heads=NUM_HEADS, key_dim=KEY_DIM)(x_encoder, x_encoder, y_decoder, use_causal_mask=True)\n",
    "\n",
    "      #ドロップアウト層\n",
    "      attention_decoder = layers.Dropout(rate=DROPOUT)(attention_decoder)\n",
    "      #Add & Norm層\n",
    "      attention_decoder = layers.LayerNormalization()(y_decoder + attention_decoder)\n",
    "\n",
    "      #Feed Forward層\n",
    "      ffn_decoder = layers.Dense(400 * 4, use_bias=True, activation=\"relu\")(attention_decoder)\n",
    "      ffn_decoder = layers.Dense(400, use_bias=True)(ffn_decoder)\n",
    "\n",
    "      #ドロップアウト層\n",
    "      ffn_decoder = layers.Dropout(rate=DROPOUT)(ffn_decoder)\n",
    "      #Add & Norm層\n",
    "      y_decoder = layers.LayerNormalization()(attention_decoder + ffn_decoder)"
   ]
  },
  {
   "cell_type": "code",
   "execution_count": 130,
   "metadata": {},
   "outputs": [
    {
     "data": {
      "text/plain": [
       "<KerasTensor: shape=(None, 10, 400) dtype=float32 (created by layer 'layer_normalization_66')>"
      ]
     },
     "execution_count": 130,
     "metadata": {},
     "output_type": "execute_result"
    }
   ],
   "source": [
    "x"
   ]
  },
  {
   "cell_type": "code",
   "execution_count": 149,
   "metadata": {},
   "outputs": [],
   "source": [
    "x = layers.Flatten()(y_decoder)\n",
    "x = layers.Dense(128, activation=\"relu\")(x)\n",
    "x = layers.Dropout(0.1)(x)\n",
    "x = layers.Dense(64, activation=\"relu\")(x)\n",
    "x = layers.Dropout(0.1)(x)\n",
    "outputs = layers.Dense(1, activation=\"relu\")(x)"
   ]
  },
  {
   "cell_type": "code",
   "execution_count": 150,
   "metadata": {},
   "outputs": [],
   "source": [
    "model = keras.Model(inputs=[inputs_encoder, inputs_decoder], outputs=outputs)"
   ]
  },
  {
   "cell_type": "code",
   "execution_count": 151,
   "metadata": {},
   "outputs": [],
   "source": [
    "# Compile the model\n",
    "model.compile(\n",
    "    optimizer=keras.optimizers.Adam(),\n",
    "    loss=keras.losses.mean_squared_error,\n",
    "    metrics=[keras.metrics.mean_squared_error],\n",
    ")"
   ]
  },
  {
   "cell_type": "code",
   "execution_count": 152,
   "metadata": {},
   "outputs": [
    {
     "name": "stdout",
     "output_type": "stream",
     "text": [
      "Model: \"model_5\"\n",
      "__________________________________________________________________________________________________\n",
      " Layer (type)                   Output Shape         Param #     Connected to                     \n",
      "==================================================================================================\n",
      " input_21 (InputLayer)          [(None, 4000)]       0           []                               \n",
      "                                                                                                  \n",
      " reshape_20 (Reshape)           (None, 10, 400)      0           ['input_21[0][0]']               \n",
      "                                                                                                  \n",
      " multi_head_attention_43 (Multi  (None, 10, 400)     641600      ['reshape_20[0][0]',             \n",
      " HeadAttention)                                                   'reshape_20[0][0]',             \n",
      "                                                                  'reshape_20[0][0]']             \n",
      "                                                                                                  \n",
      " dropout_78 (Dropout)           (None, 10, 400)      0           ['multi_head_attention_43[0][0]']\n",
      "                                                                                                  \n",
      " input_22 (InputLayer)          [(None, 1)]          0           []                               \n",
      "                                                                                                  \n",
      " tf.__operators__.add_67 (TFOpL  (None, 10, 400)     0           ['reshape_20[0][0]',             \n",
      " ambda)                                                           'dropout_78[0][0]']             \n",
      "                                                                                                  \n",
      " reshape_21 (Reshape)           (None, 1, 1)         0           ['input_22[0][0]']               \n",
      "                                                                                                  \n",
      " layer_normalization_67 (LayerN  (None, 10, 400)     800         ['tf.__operators__.add_67[0][0]']\n",
      " ormalization)                                                                                    \n",
      "                                                                                                  \n",
      " tf.tile_10 (TFOpLambda)        (None, 10, 400)      0           ['reshape_21[0][0]']             \n",
      "                                                                                                  \n",
      " dense_69 (Dense)               (None, 10, 1600)     641600      ['layer_normalization_67[0][0]'] \n",
      "                                                                                                  \n",
      " multi_head_attention_44 (Multi  (None, 10, 400)     641600      ['tf.tile_10[0][0]',             \n",
      " HeadAttention)                                                   'tf.tile_10[0][0]',             \n",
      "                                                                  'tf.tile_10[0][0]']             \n",
      "                                                                                                  \n",
      " dense_70 (Dense)               (None, 10, 400)      640400      ['dense_69[0][0]']               \n",
      "                                                                                                  \n",
      " dropout_80 (Dropout)           (None, 10, 400)      0           ['multi_head_attention_44[0][0]']\n",
      "                                                                                                  \n",
      " dropout_79 (Dropout)           (None, 10, 400)      0           ['dense_70[0][0]']               \n",
      "                                                                                                  \n",
      " tf.__operators__.add_69 (TFOpL  (None, 10, 400)     0           ['tf.tile_10[0][0]',             \n",
      " ambda)                                                           'dropout_80[0][0]']             \n",
      "                                                                                                  \n",
      " tf.__operators__.add_68 (TFOpL  (None, 10, 400)     0           ['layer_normalization_67[0][0]', \n",
      " ambda)                                                           'dropout_79[0][0]']             \n",
      "                                                                                                  \n",
      " layer_normalization_69 (LayerN  (None, 10, 400)     800         ['tf.__operators__.add_69[0][0]']\n",
      " ormalization)                                                                                    \n",
      "                                                                                                  \n",
      " layer_normalization_68 (LayerN  (None, 10, 400)     800         ['tf.__operators__.add_68[0][0]']\n",
      " ormalization)                                                                                    \n",
      "                                                                                                  \n",
      " multi_head_attention_45 (Multi  (None, 10, 400)     641600      ['layer_normalization_68[0][0]', \n",
      " HeadAttention)                                                   'layer_normalization_68[0][0]', \n",
      "                                                                  'layer_normalization_69[0][0]'] \n",
      "                                                                                                  \n",
      " dropout_81 (Dropout)           (None, 10, 400)      0           ['multi_head_attention_45[0][0]']\n",
      "                                                                                                  \n",
      " tf.__operators__.add_70 (TFOpL  (None, 10, 400)     0           ['layer_normalization_69[0][0]', \n",
      " ambda)                                                           'dropout_81[0][0]']             \n",
      "                                                                                                  \n",
      " layer_normalization_70 (LayerN  (None, 10, 400)     800         ['tf.__operators__.add_70[0][0]']\n",
      " ormalization)                                                                                    \n",
      "                                                                                                  \n",
      " dense_71 (Dense)               (None, 10, 1600)     641600      ['layer_normalization_70[0][0]'] \n",
      "                                                                                                  \n",
      " dense_72 (Dense)               (None, 10, 400)      640400      ['dense_71[0][0]']               \n",
      "                                                                                                  \n",
      " dropout_82 (Dropout)           (None, 10, 400)      0           ['dense_72[0][0]']               \n",
      "                                                                                                  \n",
      " tf.__operators__.add_71 (TFOpL  (None, 10, 400)     0           ['layer_normalization_70[0][0]', \n",
      " ambda)                                                           'dropout_82[0][0]']             \n",
      "                                                                                                  \n",
      " layer_normalization_71 (LayerN  (None, 10, 400)     800         ['tf.__operators__.add_71[0][0]']\n",
      " ormalization)                                                                                    \n",
      "                                                                                                  \n",
      " flatten_5 (Flatten)            (None, 4000)         0           ['layer_normalization_71[0][0]'] \n",
      "                                                                                                  \n",
      " dense_73 (Dense)               (None, 128)          512128      ['flatten_5[0][0]']              \n",
      "                                                                                                  \n",
      " dropout_83 (Dropout)           (None, 128)          0           ['dense_73[0][0]']               \n",
      "                                                                                                  \n",
      " dense_74 (Dense)               (None, 64)           8256        ['dropout_83[0][0]']             \n",
      "                                                                                                  \n",
      " dropout_84 (Dropout)           (None, 64)           0           ['dense_74[0][0]']               \n",
      "                                                                                                  \n",
      " dense_75 (Dense)               (None, 1)            65          ['dropout_84[0][0]']             \n",
      "                                                                                                  \n",
      "==================================================================================================\n",
      "Total params: 5,013,249\n",
      "Trainable params: 5,013,249\n",
      "Non-trainable params: 0\n",
      "__________________________________________________________________________________________________\n"
     ]
    }
   ],
   "source": [
    "model.summary()"
   ]
  },
  {
   "cell_type": "code",
   "execution_count": 153,
   "metadata": {},
   "outputs": [
    {
     "name": "stdout",
     "output_type": "stream",
     "text": [
      "You must install pydot (`pip install pydot`) and install graphviz (see instructions at https://graphviz.gitlab.io/download/) for plot_model to work.\n"
     ]
    }
   ],
   "source": [
    "plot_model(model, show_shapes=True, show_layer_names=False)"
   ]
  },
  {
   "cell_type": "code",
   "execution_count": 112,
   "metadata": {},
   "outputs": [
    {
     "name": "stdout",
     "output_type": "stream",
     "text": [
      "1/1 [==============================] - 1s 1s/step\n"
     ]
    }
   ],
   "source": [
    "from sklearn.metrics import mean_squared_error, mean_absolute_error, r2_score\n",
    "#予測値をint型に限定\n",
    "#y_pred = tf.cast(model.predict(x_test), tf.int32)\n",
    "#予測値の範囲を限定\n",
    "#y_pred = tf.clip_by_value(model.predict(x_test), 20, 100)\n",
    "\n",
    "#予測値の型と範囲を限定\n",
    "y_pred = tf.cast(tf.clip_by_value(model.predict(x_test), 20, 100), tf.int32)\n",
    "\n",
    "#平均二乗誤差\n",
    "mse = mean_squared_error(y_pred, y_test)\n",
    "\n",
    "#二乗平均平方誤差\n",
    "rmse = np.sqrt(mse)\n",
    "\n",
    "#平均絶対誤差\n",
    "mae = mean_absolute_error(y_pred, y_test)\n",
    "\n",
    "#決定係数\n",
    "r2 = r2_score(y_pred, y_test)"
   ]
  },
  {
   "cell_type": "code",
   "execution_count": 114,
   "metadata": {},
   "outputs": [
    {
     "data": {
      "text/plain": [
       "15.620689655172415"
      ]
     },
     "execution_count": 114,
     "metadata": {},
     "output_type": "execute_result"
    }
   ],
   "source": [
    "mae"
   ]
  },
  {
   "cell_type": "code",
   "execution_count": 227,
   "metadata": {},
   "outputs": [],
   "source": [
    "#旧Transformer\n",
    "import tensorflow as tf\n",
    "from tensorflow import keras\n",
    "from tensorflow.keras import layers\n",
    "\n",
    "#transformer regression\n",
    "# Define the input shape\n",
    "input_shape = (BINS,)\n",
    "\n",
    "# Define the model\n",
    "inputs = layers.Input(shape=input_shape)\n",
    "x = layers.Reshape((100, 40))(inputs)\n",
    "#y = layers.Reshape((100, 40))(inputs)\n",
    "x = layers.MultiHeadAttention(num_heads=8, key_dim=64)(x, x)\n",
    "#y = layers.MultiHeadAttention(num_heads=8, key_dim=64)(x, y)\n",
    "#x = layers.Flatten()(y)\n",
    "x = layers.Flatten()(x)\n",
    "#x = layers.Dense(256, activation=\"relu\")(x)\n",
    "#x = layers.Dropout(0.1)(x)\n",
    "x = layers.Dense(128, activation=\"relu\")(x)\n",
    "x = layers.Dropout(0.1)(x)\n",
    "x = layers.Dense(64, activation=\"relu\")(x)\n",
    "x = layers.Dropout(0.1)(x)\n",
    "outputs = layers.Dense(1, activation=\"relu\")(x)\n",
    "\n",
    "model = keras.Model(inputs=inputs, outputs=outputs)\n",
    "\n",
    "# Compile the model\n",
    "model.compile(\n",
    "    optimizer=keras.optimizers.Adam(),\n",
    "    loss=keras.losses.mean_squared_error,\n",
    "    metrics=[keras.metrics.mean_squared_error],\n",
    ")"
   ]
  },
  {
   "cell_type": "code",
   "execution_count": 75,
   "metadata": {},
   "outputs": [],
   "source": [
    "x_train, x_test, y_train, y_test = train_test_split(DifferenceAcc_hist, Hz, train_size = TRAIN_SIZE, shuffle = True)"
   ]
  },
  {
   "cell_type": "code",
   "execution_count": 89,
   "metadata": {},
   "outputs": [
    {
     "name": "stdout",
     "output_type": "stream",
     "text": [
      "Epoch 1/50\n",
      "6/6 [==============================] - 15s 318ms/step - loss: 2200.1484 - mean_squared_error: 2200.1484 - val_loss: 840.3710 - val_mean_squared_error: 840.3710\n",
      "Epoch 2/50\n",
      "6/6 [==============================] - 1s 136ms/step - loss: 790.1361 - mean_squared_error: 790.1361 - val_loss: 805.4481 - val_mean_squared_error: 805.4481\n",
      "Epoch 3/50\n",
      "6/6 [==============================] - 1s 134ms/step - loss: 926.2453 - mean_squared_error: 926.2453 - val_loss: 637.2686 - val_mean_squared_error: 637.2686\n",
      "Epoch 4/50\n",
      "6/6 [==============================] - 1s 140ms/step - loss: 440.6672 - mean_squared_error: 440.6672 - val_loss: 283.8417 - val_mean_squared_error: 283.8417\n",
      "Epoch 5/50\n",
      "6/6 [==============================] - 1s 132ms/step - loss: 718.0422 - mean_squared_error: 718.0422 - val_loss: 528.7120 - val_mean_squared_error: 528.7120\n",
      "Epoch 6/50\n",
      "6/6 [==============================] - 1s 131ms/step - loss: 835.9980 - mean_squared_error: 835.9980 - val_loss: 847.4346 - val_mean_squared_error: 847.4346\n",
      "Epoch 7/50\n",
      "6/6 [==============================] - 1s 130ms/step - loss: 888.5031 - mean_squared_error: 888.5031 - val_loss: 522.4054 - val_mean_squared_error: 522.4054\n",
      "Epoch 8/50\n",
      "6/6 [==============================] - 1s 135ms/step - loss: 745.3305 - mean_squared_error: 745.3305 - val_loss: 497.0220 - val_mean_squared_error: 497.0220\n",
      "Epoch 9/50\n",
      "6/6 [==============================] - 1s 141ms/step - loss: 673.4594 - mean_squared_error: 673.4594 - val_loss: 552.5933 - val_mean_squared_error: 552.5933\n",
      "Epoch 10/50\n",
      "6/6 [==============================] - 1s 147ms/step - loss: 666.0777 - mean_squared_error: 666.0777 - val_loss: 890.6987 - val_mean_squared_error: 890.6987\n",
      "Epoch 11/50\n",
      "6/6 [==============================] - 1s 143ms/step - loss: 448.9071 - mean_squared_error: 448.9071 - val_loss: 583.4879 - val_mean_squared_error: 583.4879\n",
      "Epoch 12/50\n",
      "6/6 [==============================] - 1s 143ms/step - loss: 455.0545 - mean_squared_error: 455.0545 - val_loss: 768.9324 - val_mean_squared_error: 768.9324\n",
      "Epoch 13/50\n",
      "6/6 [==============================] - 1s 142ms/step - loss: 409.5786 - mean_squared_error: 409.5786 - val_loss: 855.7448 - val_mean_squared_error: 855.7448\n",
      "Epoch 14/50\n",
      "6/6 [==============================] - 1s 139ms/step - loss: 381.2691 - mean_squared_error: 381.2691 - val_loss: 982.0671 - val_mean_squared_error: 982.0671\n",
      "Epoch 15/50\n",
      "6/6 [==============================] - 1s 140ms/step - loss: 363.7357 - mean_squared_error: 363.7357 - val_loss: 487.4389 - val_mean_squared_error: 487.4389\n",
      "Epoch 16/50\n",
      "6/6 [==============================] - 1s 144ms/step - loss: 451.5872 - mean_squared_error: 451.5872 - val_loss: 359.9988 - val_mean_squared_error: 359.9988\n",
      "Epoch 17/50\n",
      "6/6 [==============================] - 1s 168ms/step - loss: 525.9800 - mean_squared_error: 525.9800 - val_loss: 753.5310 - val_mean_squared_error: 753.5310\n",
      "Epoch 18/50\n",
      "6/6 [==============================] - 1s 241ms/step - loss: 663.6364 - mean_squared_error: 663.6364 - val_loss: 389.9815 - val_mean_squared_error: 389.9815\n",
      "Epoch 19/50\n",
      "6/6 [==============================] - 1s 144ms/step - loss: 558.9760 - mean_squared_error: 558.9760 - val_loss: 595.0031 - val_mean_squared_error: 595.0031\n",
      "Epoch 20/50\n",
      "6/6 [==============================] - 1s 148ms/step - loss: 500.7598 - mean_squared_error: 500.7598 - val_loss: 408.4268 - val_mean_squared_error: 408.4268\n",
      "Epoch 21/50\n",
      "6/6 [==============================] - 1s 154ms/step - loss: 459.9620 - mean_squared_error: 459.9620 - val_loss: 518.5016 - val_mean_squared_error: 518.5016\n",
      "Epoch 22/50\n",
      "6/6 [==============================] - 1s 146ms/step - loss: 459.2288 - mean_squared_error: 459.2288 - val_loss: 552.2287 - val_mean_squared_error: 552.2287\n",
      "Epoch 23/50\n",
      "6/6 [==============================] - 1s 143ms/step - loss: 601.6937 - mean_squared_error: 601.6937 - val_loss: 535.8331 - val_mean_squared_error: 535.8332\n",
      "Epoch 24/50\n",
      "6/6 [==============================] - 1s 143ms/step - loss: 861.3423 - mean_squared_error: 861.3423 - val_loss: 1068.4559 - val_mean_squared_error: 1068.4559\n",
      "Epoch 25/50\n",
      "6/6 [==============================] - 1s 142ms/step - loss: 1084.7546 - mean_squared_error: 1084.7546 - val_loss: 801.4525 - val_mean_squared_error: 801.4525\n",
      "Epoch 26/50\n",
      "6/6 [==============================] - 1s 141ms/step - loss: 896.2053 - mean_squared_error: 896.2053 - val_loss: 593.5524 - val_mean_squared_error: 593.5524\n",
      "Epoch 27/50\n",
      "6/6 [==============================] - 1s 151ms/step - loss: 888.0816 - mean_squared_error: 888.0816 - val_loss: 602.1197 - val_mean_squared_error: 602.1197\n",
      "Epoch 28/50\n",
      "6/6 [==============================] - 1s 141ms/step - loss: 764.3285 - mean_squared_error: 764.3285 - val_loss: 576.7889 - val_mean_squared_error: 576.7889\n",
      "Epoch 29/50\n",
      "6/6 [==============================] - 1s 146ms/step - loss: 686.2222 - mean_squared_error: 686.2222 - val_loss: 470.6024 - val_mean_squared_error: 470.6024\n",
      "Epoch 30/50\n",
      "6/6 [==============================] - 1s 147ms/step - loss: 628.6408 - mean_squared_error: 628.6408 - val_loss: 554.0590 - val_mean_squared_error: 554.0590\n",
      "Epoch 31/50\n",
      "6/6 [==============================] - 1s 146ms/step - loss: 707.7034 - mean_squared_error: 707.7034 - val_loss: 428.0267 - val_mean_squared_error: 428.0267\n",
      "Epoch 32/50\n",
      "6/6 [==============================] - 1s 143ms/step - loss: 655.0059 - mean_squared_error: 655.0059 - val_loss: 465.4890 - val_mean_squared_error: 465.4890\n",
      "Epoch 33/50\n",
      "6/6 [==============================] - 1s 141ms/step - loss: 656.9048 - mean_squared_error: 656.9048 - val_loss: 427.4536 - val_mean_squared_error: 427.4536\n",
      "Epoch 34/50\n",
      "6/6 [==============================] - 1s 141ms/step - loss: 703.2830 - mean_squared_error: 703.2830 - val_loss: 432.6162 - val_mean_squared_error: 432.6162\n",
      "Epoch 35/50\n",
      "6/6 [==============================] - 1s 143ms/step - loss: 626.0183 - mean_squared_error: 626.0183 - val_loss: 455.6193 - val_mean_squared_error: 455.6193\n",
      "Epoch 36/50\n",
      "6/6 [==============================] - 1s 144ms/step - loss: 603.9586 - mean_squared_error: 603.9586 - val_loss: 477.3569 - val_mean_squared_error: 477.3569\n",
      "Epoch 37/50\n",
      "6/6 [==============================] - 1s 154ms/step - loss: 562.8208 - mean_squared_error: 562.8208 - val_loss: 381.3329 - val_mean_squared_error: 381.3329\n",
      "Epoch 38/50\n",
      "6/6 [==============================] - 1s 151ms/step - loss: 485.9232 - mean_squared_error: 485.9232 - val_loss: 441.2464 - val_mean_squared_error: 441.2464\n",
      "Epoch 39/50\n",
      "6/6 [==============================] - 1s 143ms/step - loss: 805.0405 - mean_squared_error: 805.0405 - val_loss: 619.6360 - val_mean_squared_error: 619.6360\n",
      "Epoch 40/50\n",
      "6/6 [==============================] - 1s 144ms/step - loss: 861.8656 - mean_squared_error: 861.8656 - val_loss: 541.0798 - val_mean_squared_error: 541.0798\n",
      "Epoch 41/50\n",
      "6/6 [==============================] - 1s 151ms/step - loss: 754.5959 - mean_squared_error: 754.5959 - val_loss: 642.4506 - val_mean_squared_error: 642.4506\n",
      "Epoch 42/50\n",
      "6/6 [==============================] - 1s 145ms/step - loss: 821.7288 - mean_squared_error: 821.7288 - val_loss: 552.4204 - val_mean_squared_error: 552.4204\n",
      "Epoch 43/50\n",
      "6/6 [==============================] - 1s 144ms/step - loss: 737.2401 - mean_squared_error: 737.2401 - val_loss: 675.0115 - val_mean_squared_error: 675.0115\n",
      "Epoch 44/50\n",
      "6/6 [==============================] - 1s 146ms/step - loss: 748.4592 - mean_squared_error: 748.4592 - val_loss: 548.2240 - val_mean_squared_error: 548.2240\n",
      "Epoch 45/50\n",
      "6/6 [==============================] - 1s 150ms/step - loss: 879.0940 - mean_squared_error: 879.0940 - val_loss: 523.0807 - val_mean_squared_error: 523.0807\n",
      "Epoch 46/50\n",
      "6/6 [==============================] - 1s 146ms/step - loss: 753.2700 - mean_squared_error: 753.2700 - val_loss: 683.6131 - val_mean_squared_error: 683.6131\n",
      "Epoch 47/50\n",
      "6/6 [==============================] - 1s 145ms/step - loss: 796.7719 - mean_squared_error: 796.7719 - val_loss: 531.3394 - val_mean_squared_error: 531.3394\n",
      "Epoch 48/50\n",
      "6/6 [==============================] - 1s 146ms/step - loss: 797.0910 - mean_squared_error: 797.0910 - val_loss: 609.4800 - val_mean_squared_error: 609.4800\n",
      "Epoch 49/50\n",
      "6/6 [==============================] - 1s 152ms/step - loss: 820.6635 - mean_squared_error: 820.6635 - val_loss: 580.1127 - val_mean_squared_error: 580.1127\n",
      "Epoch 50/50\n",
      "6/6 [==============================] - 1s 155ms/step - loss: 809.6136 - mean_squared_error: 809.6136 - val_loss: 568.6323 - val_mean_squared_error: 568.6323\n"
     ]
    },
    {
     "data": {
      "text/plain": [
       "<keras.callbacks.History at 0x1a64e9a90>"
      ]
     },
     "execution_count": 89,
     "metadata": {},
     "output_type": "execute_result"
    }
   ],
   "source": [
    "model.fit([x_train, y_train], y_train, batch_size=16, epochs=50, shuffle=True, validation_split=0.2)"
   ]
  },
  {
   "cell_type": "code",
   "execution_count": 92,
   "metadata": {},
   "outputs": [
    {
     "name": "stdout",
     "output_type": "stream",
     "text": [
      "1/1 [==============================] - 0s 77ms/step\n"
     ]
    }
   ],
   "source": [
    "y_pred = tf.cast(tf.clip_by_value(model.predict([x_test, y_test]), 20, 100), tf.int32)"
   ]
  },
  {
   "cell_type": "code",
   "execution_count": 93,
   "metadata": {},
   "outputs": [
    {
     "data": {
      "text/plain": [
       "18.413793103448278"
      ]
     },
     "execution_count": 93,
     "metadata": {},
     "output_type": "execute_result"
    }
   ],
   "source": [
    "mean_absolute_error(y_pred, y_test)"
   ]
  },
  {
   "cell_type": "code",
   "execution_count": 94,
   "metadata": {},
   "outputs": [
    {
     "data": {
      "text/plain": [
       "<tf.Tensor: shape=(29, 1), dtype=int32, numpy=\n",
       "array([[62],\n",
       "       [62],\n",
       "       [62],\n",
       "       [62],\n",
       "       [62],\n",
       "       [62],\n",
       "       [62],\n",
       "       [62],\n",
       "       [62],\n",
       "       [62],\n",
       "       [62],\n",
       "       [62],\n",
       "       [62],\n",
       "       [62],\n",
       "       [62],\n",
       "       [62],\n",
       "       [62],\n",
       "       [62],\n",
       "       [62],\n",
       "       [62],\n",
       "       [62],\n",
       "       [62],\n",
       "       [62],\n",
       "       [62],\n",
       "       [62],\n",
       "       [62],\n",
       "       [62],\n",
       "       [62],\n",
       "       [62]], dtype=int32)>"
      ]
     },
     "execution_count": 94,
     "metadata": {},
     "output_type": "execute_result"
    }
   ],
   "source": [
    "y_pred"
   ]
  },
  {
   "cell_type": "code",
   "execution_count": 338,
   "metadata": {},
   "outputs": [
    {
     "data": {
      "text/plain": [
       "array([ 50,  60,  60, 100,  50,  30,  80,  80,  60,  60,  80,  60,  50,\n",
       "        90,  80,  60,  40,  90,  60,  90,  50, 100,  90,  90,  30,  70,\n",
       "        70,  20, 100])"
      ]
     },
     "execution_count": 338,
     "metadata": {},
     "output_type": "execute_result"
    }
   ],
   "source": [
    "y_test"
   ]
  },
  {
   "cell_type": "code",
   "execution_count": null,
   "metadata": {},
   "outputs": [],
   "source": [
    "#一連のやつ\n",
    "Hz_and_filename = get_Hz_and_filename(path)\n",
    "Hz_and_filename.sort(reverse=True)  #周波数の大きい順にソート\n",
    "Hz, filename = divide_Hz_and_filename(Hz_and_filename)\n",
    "Hz = np.array(Hz)\n",
    "\n",
    "#使う変数を宣言\n",
    "AccX, AccY, AccZ = [], [], []\n",
    "ResultantAcc = []\n",
    "DifferenceAcc_list = []\n",
    "\n",
    "#各データセットからデータを読み込み静止区間を除去したものを二次元配列に格納\n",
    "for i in filename:\n",
    "    AccX, AccY, AccZ = get_acceleration(path+i)\n",
    "    ResultantAcc.append(acc_to_remove_stationary_intervals(AccX, AccY, AccZ))"
   ]
  },
  {
   "cell_type": "code",
   "execution_count": null,
   "metadata": {},
   "outputs": [],
   "source": [
    "for i in range(len(ResultantAcc)):\n",
    "    DifferenceAcc_list.append(calculate_differences_of_acceleration(ResultantAcc[i]))\n",
    "DifferenceAcc_hist = create_histogram2(DifferenceAcc_list)"
   ]
  },
  {
   "cell_type": "code",
   "execution_count": null,
   "metadata": {},
   "outputs": [],
   "source": [
    "#尖度\n",
    "DifferenceAcc_kurtosis = np.zeros(len(DifferenceAcc_hist))\n",
    "for i in range(len(DifferenceAcc_hist)):\n",
    "    DifferenceAcc_kurtosis[i] = kurtosis(DifferenceAcc_hist[i])\n",
    "\n",
    "#歪度\n",
    "DifferenceAcc_skewness = np.zeros(len(DifferenceAcc_hist))\n",
    "for i in range(len(DifferenceAcc_hist)):\n",
    "    DifferenceAcc_skewness[i] = skew(DifferenceAcc_hist[i])\n",
    "\n",
    "#分散\n",
    "histogram_var = np.zeros(len(DifferenceAcc_list))\n",
    "for i in range(len(DifferenceAcc_hist)):\n",
    "    histogram_var[i] = np.var(DifferenceAcc_list[i])"
   ]
  },
  {
   "cell_type": "code",
   "execution_count": null,
   "metadata": {},
   "outputs": [],
   "source": [
    "#X_newに尖度＋歪度+分散を連結したもの\n",
    "X_new = np.concatenate((DifferenceAcc_kurtosis.reshape(-1, 1), DifferenceAcc_skewness.reshape(-1, 1), histogram_var.reshape(-1, 1)), axis=1)\n",
    "#XはDifferenceAcc_hist+X_new\n",
    "X = np.concatenate((DifferenceAcc_hist, X_new), axis=1)"
   ]
  }
 ],
 "metadata": {
  "kernelspec": {
   "display_name": "Python 3 (ipykernel)",
   "language": "python",
   "name": "python3"
  },
  "language_info": {
   "codemirror_mode": {
    "name": "ipython",
    "version": 3
   },
   "file_extension": ".py",
   "mimetype": "text/x-python",
   "name": "python",
   "nbconvert_exporter": "python",
   "pygments_lexer": "ipython3",
   "version": "3.11.3"
  },
  "vscode": {
   "interpreter": {
    "hash": "919e6181955fbc636a96e4fdb04fb1b969c9681582829f05a2534c8d07862e2e"
   }
  }
 },
 "nbformat": 4,
 "nbformat_minor": 2
}
