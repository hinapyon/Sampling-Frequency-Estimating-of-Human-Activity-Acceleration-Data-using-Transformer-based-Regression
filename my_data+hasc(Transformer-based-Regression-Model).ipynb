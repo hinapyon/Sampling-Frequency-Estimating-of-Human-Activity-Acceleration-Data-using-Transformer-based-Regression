{
  "cells": [
    {
      "cell_type": "markdown",
      "metadata": {
        "id": "view-in-github",
        "colab_type": "text"
      },
      "source": [
        "<a href=\"https://colab.research.google.com/github/hinapyon/Sampling-Frequency-Estimating-of-Human-Activity-Acceleration-Data-using-Transformer-based-Regression/blob/main/my_data%2Bhasc(Transformer-based-Regression-Model).ipynb\" target=\"_parent\"><img src=\"https://colab.research.google.com/assets/colab-badge.svg\" alt=\"Open In Colab\"/></a>"
      ]
    },
    {
      "cell_type": "code",
      "execution_count": 1,
      "metadata": {
        "id": "oTsgcWLEa9Nt"
      },
      "outputs": [],
      "source": [
        "#ライブラリをインポート\n",
        "import os #OSに依存する様々な機能を利用するためのモジュール(ファイルやディレクトリ操作など)\n",
        "import re #正規表現を利用するためのモジュール\n",
        "import csv  #csvファイルを扱うためのモジュール\n",
        "import math #数学的計算のためのモジュール\n",
        "from decimal import Decimal #小数点桁落ちをなくすためのモジュール\n",
        "import matplotlib.pyplot as plt #グラフ描画のためのモジュール\n",
        "import numpy as np  #多次元配列計算のためのモジュール\n",
        "import pandas as pd #データフレームを扱うためのモジュール\n",
        "from scipy import signal  #信号処理のためのモジュール\n",
        "from scipy.stats import skew, kurtosis  #歪度と尖度を調べるためのモジュール\n",
        "from sklearn.model_selection import train_test_split  #データをトレーニング用とテスト用に分けるためのモジュール\n",
        "from sklearn import preprocessing #データを正規化するためのモジュール\n",
        "from sklearn.preprocessing import StandardScaler  #データを標準化するためのモジュール\n",
        "from sklearn.preprocessing import LabelEncoder  #カテゴリ変数を数値化するためのモジュール\n",
        "from sklearn.metrics import accuracy_score, mean_squared_error, mean_absolute_error, r2_score #機械学習モデルの性能評価のためのモジュール\n",
        "import tensorflow as tf #TensorFlow(Googleが開発したオープンソースの機械学習フレームワーク)\n",
        "from tensorflow import keras  #TensorFlow用のニューラルネットワークライブラリAPI\n",
        "from tensorflow.keras import layers #ニューラルネットワークのレイヤーを定義するためのモジュール"
      ]
    },
    {
      "cell_type": "code",
      "execution_count": 2,
      "metadata": {
        "colab": {
          "base_uri": "https://localhost:8080/"
        },
        "id": "CrXcc8k3bDt9",
        "outputId": "7857ade3-fc0f-4c2c-cbc9-21b713a8b395"
      },
      "outputs": [
        {
          "output_type": "stream",
          "name": "stdout",
          "text": [
            "Drive already mounted at /content/drive; to attempt to forcibly remount, call drive.mount(\"/content/drive\", force_remount=True).\n"
          ]
        }
      ],
      "source": [
        "from google.colab import drive\n",
        "drive.mount('/content/drive')"
      ]
    },
    {
      "cell_type": "code",
      "execution_count": 3,
      "metadata": {
        "id": "-E1jV0_ybIY8"
      },
      "outputs": [],
      "source": [
        "#定数を定義\n",
        "BINS = 50  #ヒストグラムのビンの数\n",
        "EPSILON = .00001  #スムージングパラメータ\n",
        "UPPER_LIMIT = 1.1 #静止区間の上限\n",
        "LOWER_LIMIT = 0.9 #静止区間の加減\n",
        "STATIONARY_INTERVALS = 5  #静止区間除去のサンプルの間隔(静止区間が何サンプル連続したら除去するか)\n",
        "TRAIN_SIZE = 0.8  #機械学習のトレーニングデータの割合\n",
        "N_ESTIMATORS = 100  #決定木の数"
      ]
    },
    {
      "cell_type": "code",
      "execution_count": 4,
      "metadata": {
        "id": "Q_PFKcu2bMqW"
      },
      "outputs": [],
      "source": [
        "#ディレクトリ内のAMWS020のデータセットのファイル名と周波数を取得する関数\n",
        "def get_Hz_and_filename(path: str) -> list[int, str]:\n",
        "    filename = os.listdir(path) #引数のパスのディレクトリの中のファイル名一覧を取得\n",
        "    Hz_and_filename=[]  #ファイル名と周波数を格納するリストを宣言\n",
        "\n",
        "    for file in filename:\n",
        "        Hz = re.search(r'\\d+', file)    #正規表現を用いてファイル名の中で一番最初に出てくる数字(周波数)を取得\n",
        "        if Hz:  #数字の入っていないファイル名があるとエラーを吐くので、このif文でチェックする\n",
        "            Hz_and_filename.append([int(Hz.group(0)), file])    #ファイル名と周波数を格納\n",
        "\n",
        "    return Hz_and_filename"
      ]
    },
    {
      "cell_type": "code",
      "execution_count": 5,
      "metadata": {
        "id": "Mmd5z_SLbUNl"
      },
      "outputs": [],
      "source": [
        "#ファイル名と周波数を分けて出力する関数\n",
        "def divide_Hz_and_filename(Hz_and_filename: list[int, str]) -> tuple[list[int], list[str]]:\n",
        "    Hz = []\n",
        "    filename = []\n",
        "    for row in Hz_and_filename:\n",
        "      Hz.append(row[0])\n",
        "      filename.append(row[1])\n",
        "\n",
        "    return Hz, filename"
      ]
    },
    {
      "cell_type": "code",
      "execution_count": 6,
      "metadata": {
        "id": "nab3m0AvbXY6"
      },
      "outputs": [],
      "source": [
        "#自分の加速度データのCSVファイルから3軸加速度を取得する関数\n",
        "#なんか分割したら3, 4, 5色々おかしくなった\n",
        "def get_acceleration(filename: str) -> tuple[list[float], list[float], list[float]]:\n",
        "    AccX, AccY, AccZ = [], [], []\n",
        "    with open(filename) as f:\n",
        "        reader = csv.reader(f)\n",
        "        for row in reader:\n",
        "            AccX.append(float(row[3]))\n",
        "            AccY.append(float(row[4]))\n",
        "            AccZ.append(float(row[5]))\n",
        "\n",
        "    return AccX, AccY, AccZ"
      ]
    },
    {
      "cell_type": "code",
      "execution_count": 7,
      "metadata": {
        "id": "MBcD5SbVbtzz"
      },
      "outputs": [],
      "source": [
        "#自分の加速度データのCSVファイルから3軸加速度を取得する関数\n",
        "def get_accelerationHasc(filename: str) -> tuple[list[float], list[float], list[float]]:\n",
        "    AccX, AccY, AccZ = [], [], []\n",
        "    with open(filename) as f:\n",
        "        reader = csv.reader(f)\n",
        "        for row in reader:\n",
        "            AccX.append(float(row[1]))\n",
        "            AccY.append(float(row[2]))\n",
        "            AccZ.append(float(row[3]))\n",
        "\n",
        "    return AccX, AccY, AccZ"
      ]
    },
    {
      "cell_type": "code",
      "execution_count": 8,
      "metadata": {
        "id": "Ryj7pQ-TbxHG"
      },
      "outputs": [],
      "source": [
        "#静止区間を除去する関数\n",
        "def acc_to_remove_stationary_intervals(AccX: list[float], AccY: list[float], AccZ: list[float]) -> list[float]:\n",
        "    #各軸の加速度の平均を求める\n",
        "    AvgAccX = sum(AccX) / len(AccX)\n",
        "    AvgAccY = sum(AccY) / len(AccY)\n",
        "    AvgAccZ = sum(AccZ) / len(AccZ)\n",
        "\n",
        "    AvgResultantAcc = math.sqrt(AvgAccX ** 2 + AvgAccY ** 2 + AvgAccZ ** 2) #重力加速度の推定値=合成加速度の平均を求める\n",
        "\n",
        "    ResultantAcc = [math.sqrt(x ** 2 + y ** 2 + z ** 2) for x, y, z in zip(AccX, AccY, AccZ)]   #各時刻の合成加速度を求める\n",
        "\n",
        "    #各時刻の合成加速度から静止区間(重力加速度の推定値に近い値が一定以上以上連続している区間)を除去する\n",
        "    i = 0 #ループ変数\n",
        "    counter = 0 #静止区間がSTATIONARY_INTERVALS分続いているかをカウントする変数\n",
        "    while i < len(ResultantAcc):\n",
        "        if AvgResultantAcc * LOWER_LIMIT < ResultantAcc[i] < AvgResultantAcc * UPPER_LIMIT:   #平均のLOWER_LIMIT倍~UPPER_LIMIT倍の範囲を調べる\n",
        "            counter += 1    #範囲内ならカウントを増やす\n",
        "            if counter == STATIONARY_INTERVALS: #カウントがSTATIONARY_INTERVALSに達したらその区間を削除\n",
        "                del ResultantAcc[i+1-STATIONARY_INTERVALS:i+1]    #スライスでは選択範囲の開始位置startと終了位置stopを[start:stop]のように書くとstart <= x < stopの範囲が選択される #start番目の値は含まれるがstop番目の値は含まれない\n",
        "                counter = 0 #カウンターをリセット\n",
        "                i -= STATIONARY_INTERVALS   #削除した分インデックスがズレるので補正する\n",
        "        else:\n",
        "            counter = 0 #カウンターをリセット\n",
        "        i += 1\n",
        "\n",
        "    return ResultantAcc  #静止区間を除去した後のリストを返す"
      ]
    },
    {
      "cell_type": "code",
      "execution_count": 9,
      "metadata": {
        "id": "FNwGq1s2bzxl"
      },
      "outputs": [],
      "source": [
        "#連続する2サンプルの差分を取る関数\n",
        "def calculate_differences_of_acceleration(ResultantAcc: list[float]) -> list[float]:\n",
        "    #DifferenceAcc = [math.fabs(ResultantAcc[i + 1] * 100000 - ResultantAcc[i] * 100000) for i in range(len(ResultantAcc) - 1)]  #100000倍して誤差を取る\n",
        "    DifferenceAcc = [math.fabs(Decimal(ResultantAcc[i + 1]) - Decimal(ResultantAcc[i])) for i in range(len(ResultantAcc) - 1)]  #連続する2サンプルの誤差を取る\n",
        "    return DifferenceAcc"
      ]
    },
    {
      "cell_type": "code",
      "execution_count": 10,
      "metadata": {
        "id": "hbUSs34Ib4Z_"
      },
      "outputs": [],
      "source": [
        "#入力された加速度の差分のリストからヒストグラムを作る関数（ビンの範囲が各加速度の差分データの最小値〜最大値）\n",
        "def create_histogram2(DifferenceAcc_list: list[float]) -> np.histogram:\n",
        "    DifferenceAcc_hist = np.zeros((len(DifferenceAcc_list), BINS), dtype=float)\n",
        "    for i in range(len(DifferenceAcc_list)):\n",
        "        min_value = min(DifferenceAcc_list[i])\n",
        "        max_value = max(DifferenceAcc_list[i])\n",
        "        #DifferenceAcc_hist[i], _ = np.histogram(DifferenceAcc_list[i], bins=BINS, range=(min_value, max_value)) #ヒストグラムを作成し、同じ数のビンで区切る\n",
        "        DifferenceAcc_hist[i], _ = np.histogram(DifferenceAcc_list[i], bins=BINS, density=True) #ヒストグラムを作成し、同じ数のビンで区切る\n",
        "    return DifferenceAcc_hist"
      ]
    },
    {
      "cell_type": "code",
      "execution_count": 11,
      "metadata": {
        "id": "DqeTnb2lb9wM"
      },
      "outputs": [],
      "source": [
        "#各加速度データをダウンサンプリングする関数\n",
        "def resampling_Acc(originHz: int, newHz: int, AccX: list[float], AccY: list[float], AccZ: list[float], Hz: np.array) -> tuple[list[float], list[float], list[float], np.array]:\n",
        "    i = 0   #カウンター変数\n",
        "\n",
        "    while (Hz[i] == originHz):\n",
        "        originlen = len(AccX[i])    #元々のデータの長さ\n",
        "        sampling_factor = int(originlen * (newHz/originHz)) #ダウンサンプリングした後のデータの長さ\n",
        "        newAccX = signal.resample(AccX[i], sampling_factor)    #データをダウンサンプリング\n",
        "        newAccY = signal.resample(AccY[i], sampling_factor)    #データをダウンサンプリング\n",
        "        newAccZ = signal.resample(AccZ[i], sampling_factor)    #データをダウンサンプリング\n",
        "        AccX.append(newAccX)   #ダウンサンプリングデータを加速度データに追加\n",
        "        AccY.append(newAccY)   #ダウンサンプリングデータを加速度データに追加\n",
        "        AccZ.append(newAccZ)   #ダウンサンプリングデータを加速度データに追加\n",
        "        Hz = np.append(Hz, newHz)   #ダウンサンプリングレートを追加\n",
        "        i += 1\n",
        "\n",
        "    return AccX, AccY, AccZ, Hz"
      ]
    },
    {
      "cell_type": "code",
      "execution_count": 12,
      "metadata": {
        "colab": {
          "base_uri": "https://localhost:8080/"
        },
        "id": "RiHKUsoFcSgD",
        "outputId": "1906c4ec-2776-447e-d839-1b1e4f84bb69"
      },
      "outputs": [
        {
          "output_type": "stream",
          "name": "stdout",
          "text": [
            "Found GPU at: /device:GPU:0\n"
          ]
        }
      ],
      "source": [
        "import tensorflow as tf\n",
        "device_name = tf.test.gpu_device_name()\n",
        "if device_name != '/device:GPU:0':\n",
        "  raise SystemError('GPU device not found')\n",
        "print('Found GPU at: {}'.format(device_name))"
      ]
    },
    {
      "cell_type": "code",
      "execution_count": 13,
      "metadata": {
        "id": "5nDyzHfwcJBx"
      },
      "outputs": [],
      "source": [
        "path = \"/content/drive/MyDrive/my_walk_data(100Hz15minutes)/\"  #Google colab用\n",
        "#path = \"my_walk_data(100Hz15minutesTo20seconds)/\"  #local用"
      ]
    },
    {
      "cell_type": "code",
      "execution_count": 14,
      "metadata": {
        "id": "eyDRU90UcfAi"
      },
      "outputs": [],
      "source": [
        "#一連の流れ\n",
        "Hz_and_filename = get_Hz_and_filename(path)\n",
        "Hz_and_filename.sort(reverse=True)  #周波数の大きい順にソート\n",
        "Hz, filename = divide_Hz_and_filename(Hz_and_filename)\n",
        "Hz = np.array(Hz)\n",
        "\n",
        "#使う変数を宣言\n",
        "readAccX, readAccY, readAccZ = [], [], []   #データ読み込む用\n",
        "AccX, AccY, AccZ = [], [], []\n",
        "ResultantAcc = []\n",
        "DifferenceAcc_list = []\n",
        "\n",
        "#各データセットからデータを読み込み二次元配列に格納\n",
        "for i in filename:\n",
        "    readAccX, readAccY, readAccZ = get_acceleration(path+i)\n",
        "    AccX.append(readAccX), AccY.append(readAccY), AccZ.append(readAccZ)\n",
        "\n",
        "#各加速度データをダウンサンプリング\n",
        "for i in range(9, 1, -1):\n",
        "    AccX, AccY, AccZ, Hz = resampling_Acc(100, i * 10, AccX, AccY, AccZ, Hz)\n",
        "\n",
        "#静止区間を除去\n",
        "for i in range(len(Hz)):\n",
        "    ResultantAcc.append(acc_to_remove_stationary_intervals(AccX[i], AccY[i], AccZ[i]))"
      ]
    },
    {
      "cell_type": "code",
      "execution_count": 15,
      "metadata": {
        "id": "5DEuTTiKchl6"
      },
      "outputs": [],
      "source": [
        "#ヒストグラム作成\n",
        "for i in range(len(ResultantAcc)):\n",
        "    DifferenceAcc_list.append(calculate_differences_of_acceleration(ResultantAcc[i]))\n",
        "DifferenceAcc_hist = create_histogram2(DifferenceAcc_list)"
      ]
    },
    {
      "cell_type": "code",
      "execution_count": 16,
      "metadata": {
        "id": "rIQXdUwvb-gQ"
      },
      "outputs": [],
      "source": [
        "pathHasc = \"/content/drive/MyDrive/hasc/\"\n",
        "filename = os.listdir(pathHasc) #引数のパスのディレクトリの中のファイル名一覧を取得\n",
        "#filename.remove(\".DS_Store\")"
      ]
    },
    {
      "cell_type": "code",
      "execution_count": 17,
      "metadata": {
        "id": "G2h7cewPcKKq"
      },
      "outputs": [],
      "source": [
        "#使う変数を宣言\n",
        "readAccX, readAccY, readAccZ = [], [], []   #データ読み込む用\n",
        "AccX, AccY, AccZ = [], [], []\n",
        "ResultantAcc = []\n",
        "DifferenceAcc_list = []\n",
        "\n",
        "#各データセットからデータを読み込み二次元配列に格納\n",
        "for i in filename:\n",
        "    readAccX, readAccY, readAccZ = get_accelerationHasc(pathHasc+i)\n",
        "    AccX.append(readAccX), AccY.append(readAccY), AccZ.append(readAccZ)\n",
        "\n",
        "HzHasc = np.ones(len(filename)) * 100\n",
        "\n",
        "#各加速度データをダウンサンプリング\n",
        "for i in range(9, 1, -1):\n",
        "    AccX, AccY, AccZ, HzHasc = resampling_Acc(100, i * 10, AccX, AccY, AccZ, HzHasc)\n",
        "\n",
        "#静止区間を除去\n",
        "for i in range(len(HzHasc)):\n",
        "    ResultantAcc.append(acc_to_remove_stationary_intervals(AccX[i], AccY[i], AccZ[i]))"
      ]
    },
    {
      "cell_type": "code",
      "execution_count": 18,
      "metadata": {
        "id": "PR_ij4tecrTm"
      },
      "outputs": [],
      "source": [
        "#ヒストグラム作成\n",
        "for i in range(len(ResultantAcc)):\n",
        "    DifferenceAcc_list.append(calculate_differences_of_acceleration(ResultantAcc[i]))\n",
        "DifferenceAcc_histHasc = create_histogram2(DifferenceAcc_list)"
      ]
    },
    {
      "cell_type": "code",
      "execution_count": 19,
      "metadata": {
        "id": "wUCx1z4JyVHe"
      },
      "outputs": [],
      "source": [
        "pathKaggle = \"/content/drive/MyDrive/11.Walk/\"\n",
        "filename = os.listdir(pathKaggle) #引数のパスのディレクトリの中のファイル名一覧を取得\n",
        "#filename.remove(\".DS_Store\")"
      ]
    },
    {
      "cell_type": "code",
      "execution_count": 20,
      "metadata": {
        "id": "1BlBKAJkyeHp"
      },
      "outputs": [],
      "source": [
        "#使う変数を宣言\n",
        "readAccX, readAccY, readAccZ = [], [], []   #データ読み込む用\n",
        "AccX, AccY, AccZ = [], [], []\n",
        "ResultantAcc = []\n",
        "DifferenceAcc_list = []\n",
        "\n",
        "#各データセットからデータを読み込み二次元配列に格納\n",
        "for i in filename:\n",
        "    readAccX, readAccY, readAccZ = get_accelerationHasc(pathKaggle+i)\n",
        "    AccX.append(readAccX), AccY.append(readAccY), AccZ.append(readAccZ)\n",
        "\n",
        "HzKaggle = np.ones(len(filename)) * 100\n",
        "\n",
        "#各加速度データをダウンサンプリング\n",
        "for i in range(9, 1, -1):\n",
        "    AccX, AccY, AccZ, HzKaggle = resampling_Acc(100, i * 10, AccX, AccY, AccZ, HzKaggle)\n",
        "\n",
        "#静止区間を除去\n",
        "for i in range(len(HzKaggle)):\n",
        "    ResultantAcc.append(acc_to_remove_stationary_intervals(AccX[i], AccY[i], AccZ[i]))"
      ]
    },
    {
      "cell_type": "code",
      "execution_count": 21,
      "metadata": {
        "id": "wi4emrNEytHW"
      },
      "outputs": [],
      "source": [
        "#ヒストグラム作成\n",
        "for i in range(len(ResultantAcc)):\n",
        "    DifferenceAcc_list.append(calculate_differences_of_acceleration(ResultantAcc[i]))\n",
        "DifferenceAcc_histKaggle = create_histogram2(DifferenceAcc_list)"
      ]
    },
    {
      "cell_type": "code",
      "execution_count": 22,
      "metadata": {
        "id": "vTkauiAMdjMf"
      },
      "outputs": [],
      "source": [
        "#標準化\n",
        "scaler = StandardScaler()\n",
        "# Fit the scaler to x_train\n",
        "scaler.fit(DifferenceAcc_hist)\n",
        "# Use the scaler to transform x_train and x_test\n",
        "DifferenceAcc_hist = scaler.transform(DifferenceAcc_hist)"
      ]
    },
    {
      "cell_type": "code",
      "execution_count": 23,
      "metadata": {
        "id": "V8SRN1Jednsw"
      },
      "outputs": [],
      "source": [
        "#標準化\n",
        "scaler = StandardScaler()\n",
        "# Fit the scaler to x_train\n",
        "scaler.fit(DifferenceAcc_histHasc)\n",
        "# Use the scaler to transform x_train and x_test\n",
        "DifferenceAcc_histHasc = scaler.transform(DifferenceAcc_histHasc)"
      ]
    },
    {
      "cell_type": "code",
      "execution_count": 24,
      "metadata": {
        "id": "vECR1vmvyxNV"
      },
      "outputs": [],
      "source": [
        "#標準化\n",
        "scaler = StandardScaler()\n",
        "# Fit the scaler to x_train\n",
        "scaler.fit(DifferenceAcc_histKaggle)\n",
        "# Use the scaler to transform x_train and x_test\n",
        "DifferenceAcc_histKaggle = scaler.transform(DifferenceAcc_histKaggle)"
      ]
    },
    {
      "cell_type": "code",
      "execution_count": 41,
      "metadata": {
        "id": "wdkRN2n9dxeT"
      },
      "outputs": [],
      "source": [
        "#transformer regression\n",
        "#各種パラメータ\n",
        "NUM_HEADS = 2\n",
        "KEY_DIM = 25\n",
        "BINS = 50\n",
        "DROPOUT = 0.1\n",
        "N = 1\n",
        "\n",
        "# Define the input shape\n",
        "input_shape = (BINS,)\n",
        "output_shape = (1,)\n",
        "\n",
        "#形を定義(このモジュールは行列でないとダメっぽい)\n",
        "inputs_encoder = layers.Input(shape=input_shape)\n",
        "inputs_decoder = layers.Input(shape=output_shape)"
      ]
    },
    {
      "cell_type": "code",
      "execution_count": 42,
      "metadata": {
        "id": "8DfD41iqd2fh"
      },
      "outputs": [],
      "source": [
        "#Encoderに対する入力の形状\n",
        "x_encoder = layers.Reshape((1, 50))(inputs_encoder)"
      ]
    },
    {
      "cell_type": "code",
      "execution_count": 43,
      "metadata": {
        "id": "IdfPrQ4Rd558"
      },
      "outputs": [],
      "source": [
        "#Transformer Encoder Layer(BERT)\n",
        "for i in range(N):\n",
        "      #Multi-Head-Attention Layer\n",
        "      attention_encoder = layers.MultiHeadAttention(num_heads=NUM_HEADS, key_dim=KEY_DIM, use_bias=True)(x_encoder, x_encoder, x_encoder)\n",
        "\n",
        "      #Dropout Layer\n",
        "      attention_encoder = layers.Dropout(rate=DROPOUT)(attention_encoder)\n",
        "      #Add & Norm Layer\n",
        "      attention_encoder = layers.LayerNormalization()(x_encoder + attention_encoder)\n",
        "\n",
        "      #Feed-Forward-Network\n",
        "      ffn_encoder = layers.Dense(BINS * 4, use_bias=True, activation=\"relu\")(attention_encoder)\n",
        "      ffn_encoder = layers.Dense(BINS, use_bias=True)(ffn_encoder)\n",
        "\n",
        "      #Dropout Layer\n",
        "      ffn_encoder = layers.Dropout(rate=DROPOUT)(ffn_encoder)\n",
        "      #Add & Norm Layer\n",
        "      x_encoder = layers.LayerNormalization()(attention_encoder + ffn_encoder)"
      ]
    },
    {
      "cell_type": "code",
      "execution_count": 44,
      "metadata": {
        "id": "cAQZaPQHd8VO"
      },
      "outputs": [],
      "source": [
        "x = layers.Flatten()(x_encoder)\n",
        "x = layers.Dense(32, activation=\"relu\")(x)\n",
        "x = layers.Dropout(0.1)(x)\n",
        "x = layers.Dense(16, activation=\"relu\")(x)\n",
        "x = layers.Dropout(0.1)(x)\n",
        "outputs = layers.Dense(1, activation=\"relu\")(x)"
      ]
    },
    {
      "cell_type": "code",
      "execution_count": 45,
      "metadata": {
        "id": "i-knZZwMd-n8"
      },
      "outputs": [],
      "source": [
        "model = keras.Model(inputs=inputs_encoder, outputs=outputs)"
      ]
    },
    {
      "cell_type": "code",
      "execution_count": 46,
      "metadata": {
        "id": "7-IwMOl3eBLI"
      },
      "outputs": [],
      "source": [
        "# Compile the model\n",
        "model.compile(\n",
        "    optimizer=keras.optimizers.Adam(),\n",
        "    loss=keras.losses.mean_squared_error,\n",
        "    metrics=[keras.metrics.mean_squared_error],\n",
        ")"
      ]
    },
    {
      "cell_type": "code",
      "execution_count": 55,
      "metadata": {
        "id": "VeFKmnTieEqR"
      },
      "outputs": [],
      "source": [
        "mae = []\n",
        "mse = []\n",
        "r2 = []"
      ]
    },
    {
      "cell_type": "code",
      "execution_count": 56,
      "metadata": {
        "id": "NkoUJJqyHdyK",
        "outputId": "8c2d35e2-ee73-48b5-fe5b-30e9e621e22a",
        "colab": {
          "base_uri": "https://localhost:8080/"
        }
      },
      "outputs": [
        {
          "output_type": "stream",
          "name": "stdout",
          "text": [
            "Epoch 1/50\n",
            "6/6 [==============================] - 0s 18ms/step - loss: 757.9605 - mean_squared_error: 757.9605 - val_loss: 996.9775 - val_mean_squared_error: 996.9775\n",
            "Epoch 2/50\n",
            "6/6 [==============================] - 0s 12ms/step - loss: 272.1977 - mean_squared_error: 272.1977 - val_loss: 383.6170 - val_mean_squared_error: 383.6170\n",
            "Epoch 3/50\n",
            "6/6 [==============================] - 0s 14ms/step - loss: 283.5361 - mean_squared_error: 283.5361 - val_loss: 376.9479 - val_mean_squared_error: 376.9479\n",
            "Epoch 4/50\n",
            "6/6 [==============================] - 0s 12ms/step - loss: 190.3436 - mean_squared_error: 190.3436 - val_loss: 398.1996 - val_mean_squared_error: 398.1996\n",
            "Epoch 5/50\n",
            "6/6 [==============================] - 0s 16ms/step - loss: 164.8629 - mean_squared_error: 164.8629 - val_loss: 439.0816 - val_mean_squared_error: 439.0816\n",
            "Epoch 6/50\n",
            "6/6 [==============================] - 0s 14ms/step - loss: 153.1382 - mean_squared_error: 153.1382 - val_loss: 419.9609 - val_mean_squared_error: 419.9609\n",
            "Epoch 7/50\n",
            "6/6 [==============================] - 0s 12ms/step - loss: 199.4832 - mean_squared_error: 199.4832 - val_loss: 422.0661 - val_mean_squared_error: 422.0661\n",
            "Epoch 8/50\n",
            "6/6 [==============================] - 0s 12ms/step - loss: 169.3194 - mean_squared_error: 169.3194 - val_loss: 431.1647 - val_mean_squared_error: 431.1647\n",
            "Epoch 9/50\n",
            "6/6 [==============================] - 0s 13ms/step - loss: 135.5675 - mean_squared_error: 135.5675 - val_loss: 472.5432 - val_mean_squared_error: 472.5432\n",
            "Epoch 10/50\n",
            "6/6 [==============================] - 0s 13ms/step - loss: 147.2158 - mean_squared_error: 147.2158 - val_loss: 469.0215 - val_mean_squared_error: 469.0215\n",
            "Epoch 11/50\n",
            "6/6 [==============================] - 0s 12ms/step - loss: 118.4472 - mean_squared_error: 118.4472 - val_loss: 455.4789 - val_mean_squared_error: 455.4789\n",
            "Epoch 12/50\n",
            "6/6 [==============================] - 0s 12ms/step - loss: 157.1245 - mean_squared_error: 157.1245 - val_loss: 452.4038 - val_mean_squared_error: 452.4038\n",
            "Epoch 13/50\n",
            "6/6 [==============================] - 0s 12ms/step - loss: 146.3966 - mean_squared_error: 146.3966 - val_loss: 398.6889 - val_mean_squared_error: 398.6889\n",
            "Epoch 14/50\n",
            "6/6 [==============================] - 0s 16ms/step - loss: 148.7516 - mean_squared_error: 148.7516 - val_loss: 423.2654 - val_mean_squared_error: 423.2654\n",
            "Epoch 15/50\n",
            "6/6 [==============================] - 0s 12ms/step - loss: 161.6026 - mean_squared_error: 161.6026 - val_loss: 472.2185 - val_mean_squared_error: 472.2185\n",
            "Epoch 16/50\n",
            "6/6 [==============================] - 0s 12ms/step - loss: 151.2629 - mean_squared_error: 151.2629 - val_loss: 468.4556 - val_mean_squared_error: 468.4556\n",
            "Epoch 17/50\n",
            "6/6 [==============================] - 0s 12ms/step - loss: 134.1118 - mean_squared_error: 134.1118 - val_loss: 443.0784 - val_mean_squared_error: 443.0784\n",
            "Epoch 18/50\n",
            "6/6 [==============================] - 0s 14ms/step - loss: 158.7009 - mean_squared_error: 158.7009 - val_loss: 405.4263 - val_mean_squared_error: 405.4263\n",
            "Epoch 19/50\n",
            "6/6 [==============================] - 0s 15ms/step - loss: 193.5218 - mean_squared_error: 193.5218 - val_loss: 442.2581 - val_mean_squared_error: 442.2581\n",
            "Epoch 20/50\n",
            "6/6 [==============================] - 0s 13ms/step - loss: 169.5567 - mean_squared_error: 169.5567 - val_loss: 401.8437 - val_mean_squared_error: 401.8437\n",
            "Epoch 21/50\n",
            "6/6 [==============================] - 0s 13ms/step - loss: 159.8544 - mean_squared_error: 159.8544 - val_loss: 401.3558 - val_mean_squared_error: 401.3558\n",
            "Epoch 22/50\n",
            "6/6 [==============================] - 0s 14ms/step - loss: 148.7082 - mean_squared_error: 148.7082 - val_loss: 437.5058 - val_mean_squared_error: 437.5058\n",
            "Epoch 23/50\n",
            "6/6 [==============================] - 0s 12ms/step - loss: 134.0280 - mean_squared_error: 134.0280 - val_loss: 422.8031 - val_mean_squared_error: 422.8031\n",
            "Epoch 24/50\n",
            "6/6 [==============================] - 0s 12ms/step - loss: 130.8052 - mean_squared_error: 130.8052 - val_loss: 420.4849 - val_mean_squared_error: 420.4849\n",
            "Epoch 25/50\n",
            "6/6 [==============================] - 0s 12ms/step - loss: 143.7569 - mean_squared_error: 143.7569 - val_loss: 395.7965 - val_mean_squared_error: 395.7965\n",
            "Epoch 26/50\n",
            "6/6 [==============================] - 0s 12ms/step - loss: 162.6963 - mean_squared_error: 162.6963 - val_loss: 402.1812 - val_mean_squared_error: 402.1812\n",
            "Epoch 27/50\n",
            "6/6 [==============================] - 0s 12ms/step - loss: 143.7165 - mean_squared_error: 143.7165 - val_loss: 385.6387 - val_mean_squared_error: 385.6387\n",
            "Epoch 28/50\n",
            "6/6 [==============================] - 0s 12ms/step - loss: 150.5099 - mean_squared_error: 150.5099 - val_loss: 378.2817 - val_mean_squared_error: 378.2817\n",
            "Epoch 29/50\n",
            "6/6 [==============================] - 0s 15ms/step - loss: 135.5837 - mean_squared_error: 135.5837 - val_loss: 435.9138 - val_mean_squared_error: 435.9138\n",
            "Epoch 30/50\n",
            "6/6 [==============================] - 0s 12ms/step - loss: 154.0087 - mean_squared_error: 154.0087 - val_loss: 382.4132 - val_mean_squared_error: 382.4132\n",
            "Epoch 31/50\n",
            "6/6 [==============================] - 0s 13ms/step - loss: 134.7758 - mean_squared_error: 134.7758 - val_loss: 370.3409 - val_mean_squared_error: 370.3409\n",
            "Epoch 32/50\n",
            "6/6 [==============================] - 0s 16ms/step - loss: 127.3941 - mean_squared_error: 127.3941 - val_loss: 405.0572 - val_mean_squared_error: 405.0572\n",
            "Epoch 33/50\n",
            "6/6 [==============================] - 0s 14ms/step - loss: 108.0456 - mean_squared_error: 108.0456 - val_loss: 411.7503 - val_mean_squared_error: 411.7503\n",
            "Epoch 34/50\n",
            "6/6 [==============================] - 0s 15ms/step - loss: 142.2424 - mean_squared_error: 142.2424 - val_loss: 435.5183 - val_mean_squared_error: 435.5183\n",
            "Epoch 35/50\n",
            "6/6 [==============================] - 0s 12ms/step - loss: 156.6319 - mean_squared_error: 156.6319 - val_loss: 434.4512 - val_mean_squared_error: 434.4512\n",
            "Epoch 36/50\n",
            "6/6 [==============================] - 0s 14ms/step - loss: 144.8666 - mean_squared_error: 144.8666 - val_loss: 432.5798 - val_mean_squared_error: 432.5798\n",
            "Epoch 37/50\n",
            "6/6 [==============================] - 0s 12ms/step - loss: 141.2041 - mean_squared_error: 141.2041 - val_loss: 453.7854 - val_mean_squared_error: 453.7854\n",
            "Epoch 38/50\n",
            "6/6 [==============================] - 0s 15ms/step - loss: 155.2021 - mean_squared_error: 155.2021 - val_loss: 470.9247 - val_mean_squared_error: 470.9247\n",
            "Epoch 39/50\n",
            "6/6 [==============================] - 0s 15ms/step - loss: 166.9112 - mean_squared_error: 166.9112 - val_loss: 481.1894 - val_mean_squared_error: 481.1894\n",
            "Epoch 40/50\n",
            "6/6 [==============================] - 0s 13ms/step - loss: 145.6305 - mean_squared_error: 145.6305 - val_loss: 459.2360 - val_mean_squared_error: 459.2360\n",
            "Epoch 41/50\n",
            "6/6 [==============================] - 0s 12ms/step - loss: 127.4881 - mean_squared_error: 127.4881 - val_loss: 438.0005 - val_mean_squared_error: 438.0005\n",
            "Epoch 42/50\n",
            "6/6 [==============================] - 0s 15ms/step - loss: 137.7692 - mean_squared_error: 137.7692 - val_loss: 389.3353 - val_mean_squared_error: 389.3353\n",
            "Epoch 43/50\n",
            "6/6 [==============================] - 0s 12ms/step - loss: 125.7948 - mean_squared_error: 125.7948 - val_loss: 426.8020 - val_mean_squared_error: 426.8020\n",
            "Epoch 44/50\n",
            "6/6 [==============================] - 0s 16ms/step - loss: 136.1152 - mean_squared_error: 136.1152 - val_loss: 475.4489 - val_mean_squared_error: 475.4489\n",
            "Epoch 45/50\n",
            "6/6 [==============================] - 0s 15ms/step - loss: 146.8804 - mean_squared_error: 146.8804 - val_loss: 458.4339 - val_mean_squared_error: 458.4339\n",
            "Epoch 46/50\n",
            "6/6 [==============================] - 0s 12ms/step - loss: 144.1295 - mean_squared_error: 144.1295 - val_loss: 420.0143 - val_mean_squared_error: 420.0143\n",
            "Epoch 47/50\n",
            "6/6 [==============================] - 0s 15ms/step - loss: 148.8426 - mean_squared_error: 148.8426 - val_loss: 431.0239 - val_mean_squared_error: 431.0239\n",
            "Epoch 48/50\n",
            "6/6 [==============================] - 0s 12ms/step - loss: 154.3761 - mean_squared_error: 154.3761 - val_loss: 442.4449 - val_mean_squared_error: 442.4449\n",
            "Epoch 49/50\n",
            "6/6 [==============================] - 0s 12ms/step - loss: 143.4747 - mean_squared_error: 143.4747 - val_loss: 465.1220 - val_mean_squared_error: 465.1219\n",
            "Epoch 50/50\n",
            "6/6 [==============================] - 0s 16ms/step - loss: 152.3825 - mean_squared_error: 152.3825 - val_loss: 505.4529 - val_mean_squared_error: 505.4529\n",
            "15/15 [==============================] - 0s 3ms/step\n"
          ]
        }
      ],
      "source": [
        "#自分ので構築→Hascので試す\n",
        "history = model.fit(DifferenceAcc_hist, Hz, batch_size=32, epochs=50, shuffle=True, validation_split=0.2)\n",
        "y_pred = tf.cast(tf.clip_by_value(model.predict(DifferenceAcc_histHasc), 20, 100), tf.int32)\n",
        "mae.append(mean_absolute_error(y_pred, HzHasc))\n",
        "mse.append(mean_squared_error(y_pred, HzHasc))\n",
        "r2.append(r2_score(y_pred, HzHasc))"
      ]
    },
    {
      "cell_type": "code",
      "execution_count": 49,
      "metadata": {
        "id": "V_ZYBN1vHdyK",
        "outputId": "25886f56-d21c-4a89-df1f-b9c1566c02f2",
        "colab": {
          "base_uri": "https://localhost:8080/"
        }
      },
      "outputs": [
        {
          "output_type": "stream",
          "name": "stdout",
          "text": [
            "Epoch 1/50\n",
            "6/6 [==============================] - 0s 40ms/step - loss: 160.4266 - mean_squared_error: 160.4266 - val_loss: 412.0172 - val_mean_squared_error: 412.0172\n",
            "Epoch 2/50\n",
            "6/6 [==============================] - 0s 25ms/step - loss: 179.5195 - mean_squared_error: 179.5195 - val_loss: 516.1815 - val_mean_squared_error: 516.1815\n",
            "Epoch 3/50\n",
            "6/6 [==============================] - 0s 20ms/step - loss: 165.1607 - mean_squared_error: 165.1607 - val_loss: 525.3163 - val_mean_squared_error: 525.3163\n",
            "Epoch 4/50\n",
            "6/6 [==============================] - 0s 25ms/step - loss: 187.1523 - mean_squared_error: 187.1523 - val_loss: 458.3602 - val_mean_squared_error: 458.3602\n",
            "Epoch 5/50\n",
            "6/6 [==============================] - 0s 22ms/step - loss: 188.9974 - mean_squared_error: 188.9974 - val_loss: 416.6579 - val_mean_squared_error: 416.6579\n",
            "Epoch 6/50\n",
            "6/6 [==============================] - 0s 18ms/step - loss: 156.2565 - mean_squared_error: 156.2565 - val_loss: 485.5429 - val_mean_squared_error: 485.5429\n",
            "Epoch 7/50\n",
            "6/6 [==============================] - 0s 21ms/step - loss: 160.2005 - mean_squared_error: 160.2005 - val_loss: 547.3448 - val_mean_squared_error: 547.3448\n",
            "Epoch 8/50\n",
            "6/6 [==============================] - 0s 19ms/step - loss: 136.7947 - mean_squared_error: 136.7947 - val_loss: 468.0751 - val_mean_squared_error: 468.0751\n",
            "Epoch 9/50\n",
            "6/6 [==============================] - 0s 21ms/step - loss: 167.9096 - mean_squared_error: 167.9096 - val_loss: 361.4559 - val_mean_squared_error: 361.4559\n",
            "Epoch 10/50\n",
            "6/6 [==============================] - 0s 22ms/step - loss: 180.3331 - mean_squared_error: 180.3331 - val_loss: 271.7857 - val_mean_squared_error: 271.7857\n",
            "Epoch 11/50\n",
            "6/6 [==============================] - 0s 16ms/step - loss: 178.6453 - mean_squared_error: 178.6453 - val_loss: 261.5326 - val_mean_squared_error: 261.5326\n",
            "Epoch 12/50\n",
            "6/6 [==============================] - 0s 12ms/step - loss: 149.9696 - mean_squared_error: 149.9696 - val_loss: 308.1841 - val_mean_squared_error: 308.1841\n",
            "Epoch 13/50\n",
            "6/6 [==============================] - 0s 14ms/step - loss: 167.9211 - mean_squared_error: 167.9211 - val_loss: 334.1862 - val_mean_squared_error: 334.1862\n",
            "Epoch 14/50\n",
            "6/6 [==============================] - 0s 17ms/step - loss: 139.3887 - mean_squared_error: 139.3887 - val_loss: 397.5911 - val_mean_squared_error: 397.5911\n",
            "Epoch 15/50\n",
            "6/6 [==============================] - 0s 11ms/step - loss: 175.6067 - mean_squared_error: 175.6067 - val_loss: 462.2952 - val_mean_squared_error: 462.2952\n",
            "Epoch 16/50\n",
            "6/6 [==============================] - 0s 14ms/step - loss: 164.9500 - mean_squared_error: 164.9500 - val_loss: 515.5692 - val_mean_squared_error: 515.5692\n",
            "Epoch 17/50\n",
            "6/6 [==============================] - 0s 12ms/step - loss: 160.8908 - mean_squared_error: 160.8908 - val_loss: 489.5474 - val_mean_squared_error: 489.5474\n",
            "Epoch 18/50\n",
            "6/6 [==============================] - 0s 12ms/step - loss: 161.9688 - mean_squared_error: 161.9688 - val_loss: 533.4927 - val_mean_squared_error: 533.4927\n",
            "Epoch 19/50\n",
            "6/6 [==============================] - 0s 18ms/step - loss: 135.6133 - mean_squared_error: 135.6133 - val_loss: 638.2654 - val_mean_squared_error: 638.2655\n",
            "Epoch 20/50\n",
            "6/6 [==============================] - 0s 13ms/step - loss: 188.2299 - mean_squared_error: 188.2299 - val_loss: 611.5295 - val_mean_squared_error: 611.5295\n",
            "Epoch 21/50\n",
            "6/6 [==============================] - 0s 12ms/step - loss: 200.7467 - mean_squared_error: 200.7467 - val_loss: 471.9380 - val_mean_squared_error: 471.9380\n",
            "Epoch 22/50\n",
            "6/6 [==============================] - 0s 12ms/step - loss: 161.4081 - mean_squared_error: 161.4081 - val_loss: 506.8758 - val_mean_squared_error: 506.8758\n",
            "Epoch 23/50\n",
            "6/6 [==============================] - 0s 15ms/step - loss: 135.0234 - mean_squared_error: 135.0234 - val_loss: 497.5405 - val_mean_squared_error: 497.5405\n",
            "Epoch 24/50\n",
            "6/6 [==============================] - 0s 12ms/step - loss: 184.6556 - mean_squared_error: 184.6556 - val_loss: 376.3793 - val_mean_squared_error: 376.3793\n",
            "Epoch 25/50\n",
            "6/6 [==============================] - 0s 13ms/step - loss: 166.6112 - mean_squared_error: 166.6112 - val_loss: 385.1119 - val_mean_squared_error: 385.1119\n",
            "Epoch 26/50\n",
            "6/6 [==============================] - 0s 14ms/step - loss: 136.1038 - mean_squared_error: 136.1038 - val_loss: 457.7599 - val_mean_squared_error: 457.7599\n",
            "Epoch 27/50\n",
            "6/6 [==============================] - 0s 12ms/step - loss: 141.9668 - mean_squared_error: 141.9668 - val_loss: 444.4087 - val_mean_squared_error: 444.4087\n",
            "Epoch 28/50\n",
            "6/6 [==============================] - 0s 14ms/step - loss: 199.3312 - mean_squared_error: 199.3312 - val_loss: 435.8853 - val_mean_squared_error: 435.8853\n",
            "Epoch 29/50\n",
            "6/6 [==============================] - 0s 12ms/step - loss: 174.3528 - mean_squared_error: 174.3528 - val_loss: 371.8481 - val_mean_squared_error: 371.8481\n",
            "Epoch 30/50\n",
            "6/6 [==============================] - 0s 12ms/step - loss: 174.6126 - mean_squared_error: 174.6126 - val_loss: 396.6652 - val_mean_squared_error: 396.6652\n",
            "Epoch 31/50\n",
            "6/6 [==============================] - 0s 15ms/step - loss: 155.5111 - mean_squared_error: 155.5111 - val_loss: 501.3532 - val_mean_squared_error: 501.3532\n",
            "Epoch 32/50\n",
            "6/6 [==============================] - 0s 11ms/step - loss: 154.9901 - mean_squared_error: 154.9901 - val_loss: 519.0641 - val_mean_squared_error: 519.0641\n",
            "Epoch 33/50\n",
            "6/6 [==============================] - 0s 15ms/step - loss: 145.4955 - mean_squared_error: 145.4955 - val_loss: 496.0641 - val_mean_squared_error: 496.0641\n",
            "Epoch 34/50\n",
            "6/6 [==============================] - 0s 12ms/step - loss: 162.0246 - mean_squared_error: 162.0246 - val_loss: 436.8964 - val_mean_squared_error: 436.8964\n",
            "Epoch 35/50\n",
            "6/6 [==============================] - 0s 12ms/step - loss: 138.9656 - mean_squared_error: 138.9656 - val_loss: 321.8542 - val_mean_squared_error: 321.8542\n",
            "Epoch 36/50\n",
            "6/6 [==============================] - 0s 14ms/step - loss: 204.1809 - mean_squared_error: 204.1809 - val_loss: 347.5345 - val_mean_squared_error: 347.5346\n",
            "Epoch 37/50\n",
            "6/6 [==============================] - 0s 21ms/step - loss: 170.9665 - mean_squared_error: 170.9665 - val_loss: 345.8341 - val_mean_squared_error: 345.8341\n",
            "Epoch 38/50\n",
            "6/6 [==============================] - 0s 23ms/step - loss: 168.3515 - mean_squared_error: 168.3515 - val_loss: 389.1309 - val_mean_squared_error: 389.1309\n",
            "Epoch 39/50\n",
            "6/6 [==============================] - 0s 21ms/step - loss: 150.3486 - mean_squared_error: 150.3486 - val_loss: 383.4692 - val_mean_squared_error: 383.4692\n",
            "Epoch 40/50\n",
            "6/6 [==============================] - 0s 30ms/step - loss: 163.7413 - mean_squared_error: 163.7413 - val_loss: 366.9351 - val_mean_squared_error: 366.9351\n",
            "Epoch 41/50\n",
            "6/6 [==============================] - 0s 20ms/step - loss: 184.2986 - mean_squared_error: 184.2986 - val_loss: 362.9937 - val_mean_squared_error: 362.9937\n",
            "Epoch 42/50\n",
            "6/6 [==============================] - 0s 26ms/step - loss: 188.9458 - mean_squared_error: 188.9458 - val_loss: 348.0884 - val_mean_squared_error: 348.0884\n",
            "Epoch 43/50\n",
            "6/6 [==============================] - 0s 25ms/step - loss: 191.0158 - mean_squared_error: 191.0158 - val_loss: 370.9378 - val_mean_squared_error: 370.9378\n",
            "Epoch 44/50\n",
            "6/6 [==============================] - 0s 25ms/step - loss: 194.1928 - mean_squared_error: 194.1928 - val_loss: 428.7930 - val_mean_squared_error: 428.7930\n",
            "Epoch 45/50\n",
            "6/6 [==============================] - 0s 12ms/step - loss: 174.7386 - mean_squared_error: 174.7386 - val_loss: 461.0747 - val_mean_squared_error: 461.0747\n",
            "Epoch 46/50\n",
            "6/6 [==============================] - 0s 12ms/step - loss: 168.8583 - mean_squared_error: 168.8583 - val_loss: 464.9063 - val_mean_squared_error: 464.9063\n",
            "Epoch 47/50\n",
            "6/6 [==============================] - 0s 12ms/step - loss: 160.1916 - mean_squared_error: 160.1916 - val_loss: 438.6030 - val_mean_squared_error: 438.6030\n",
            "Epoch 48/50\n",
            "6/6 [==============================] - 0s 26ms/step - loss: 156.5054 - mean_squared_error: 156.5054 - val_loss: 494.6041 - val_mean_squared_error: 494.6041\n",
            "Epoch 49/50\n",
            "6/6 [==============================] - 0s 26ms/step - loss: 182.9421 - mean_squared_error: 182.9421 - val_loss: 482.7979 - val_mean_squared_error: 482.7979\n",
            "Epoch 50/50\n",
            "6/6 [==============================] - 0s 20ms/step - loss: 191.8598 - mean_squared_error: 191.8598 - val_loss: 449.5457 - val_mean_squared_error: 449.5457\n",
            "53/53 [==============================] - 0s 5ms/step\n"
          ]
        }
      ],
      "source": [
        "#自分ので構築→Kaggleので試す\n",
        "history = model.fit(DifferenceAcc_hist, Hz, batch_size=32, epochs=50, shuffle=True, validation_split=0.2)\n",
        "y_pred = tf.cast(tf.clip_by_value(model.predict(DifferenceAcc_histKaggle), 20, 100), tf.int32)\n",
        "mae.append(mean_absolute_error(y_pred, HzKaggle))\n",
        "mse.append(mean_squared_error(y_pred, HzKaggle))\n",
        "r2.append(r2_score(y_pred, HzKaggle))"
      ]
    },
    {
      "cell_type": "code",
      "execution_count": 57,
      "metadata": {
        "id": "TzbKsZVmeHnW",
        "outputId": "8510e481-f27c-49a0-c8de-10f5062857d9",
        "colab": {
          "base_uri": "https://localhost:8080/"
        }
      },
      "outputs": [
        {
          "output_type": "stream",
          "name": "stdout",
          "text": [
            "Epoch 1/50\n",
            "12/12 [==============================] - 0s 18ms/step - loss: 457.5711 - mean_squared_error: 457.5711 - val_loss: 918.5728 - val_mean_squared_error: 918.5728\n",
            "Epoch 2/50\n",
            "12/12 [==============================] - 0s 14ms/step - loss: 323.9331 - mean_squared_error: 323.9331 - val_loss: 713.1569 - val_mean_squared_error: 713.1569\n",
            "Epoch 3/50\n",
            "12/12 [==============================] - 0s 13ms/step - loss: 247.6858 - mean_squared_error: 247.6858 - val_loss: 498.2965 - val_mean_squared_error: 498.2965\n",
            "Epoch 4/50\n",
            "12/12 [==============================] - 0s 13ms/step - loss: 212.3838 - mean_squared_error: 212.3838 - val_loss: 505.7456 - val_mean_squared_error: 505.7456\n",
            "Epoch 5/50\n",
            "12/12 [==============================] - 0s 14ms/step - loss: 166.6045 - mean_squared_error: 166.6045 - val_loss: 456.1385 - val_mean_squared_error: 456.1385\n",
            "Epoch 6/50\n",
            "12/12 [==============================] - 0s 14ms/step - loss: 150.6330 - mean_squared_error: 150.6330 - val_loss: 495.0816 - val_mean_squared_error: 495.0816\n",
            "Epoch 7/50\n",
            "12/12 [==============================] - 0s 15ms/step - loss: 145.2280 - mean_squared_error: 145.2280 - val_loss: 525.1420 - val_mean_squared_error: 525.1420\n",
            "Epoch 8/50\n",
            "12/12 [==============================] - 0s 13ms/step - loss: 165.8673 - mean_squared_error: 165.8673 - val_loss: 591.4871 - val_mean_squared_error: 591.4871\n",
            "Epoch 9/50\n",
            "12/12 [==============================] - 0s 16ms/step - loss: 147.8592 - mean_squared_error: 147.8592 - val_loss: 470.8044 - val_mean_squared_error: 470.8044\n",
            "Epoch 10/50\n",
            "12/12 [==============================] - 0s 15ms/step - loss: 133.6373 - mean_squared_error: 133.6373 - val_loss: 536.3757 - val_mean_squared_error: 536.3757\n",
            "Epoch 11/50\n",
            "12/12 [==============================] - 0s 15ms/step - loss: 133.6550 - mean_squared_error: 133.6550 - val_loss: 503.8976 - val_mean_squared_error: 503.8976\n",
            "Epoch 12/50\n",
            "12/12 [==============================] - 0s 10ms/step - loss: 136.6009 - mean_squared_error: 136.6009 - val_loss: 504.1130 - val_mean_squared_error: 504.1130\n",
            "Epoch 13/50\n",
            "12/12 [==============================] - 0s 10ms/step - loss: 151.6560 - mean_squared_error: 151.6560 - val_loss: 517.3318 - val_mean_squared_error: 517.3318\n",
            "Epoch 14/50\n",
            "12/12 [==============================] - 0s 10ms/step - loss: 127.0125 - mean_squared_error: 127.0125 - val_loss: 527.3568 - val_mean_squared_error: 527.3568\n",
            "Epoch 15/50\n",
            "12/12 [==============================] - 0s 9ms/step - loss: 145.2180 - mean_squared_error: 145.2180 - val_loss: 504.0630 - val_mean_squared_error: 504.0630\n",
            "Epoch 16/50\n",
            "12/12 [==============================] - 0s 9ms/step - loss: 134.9389 - mean_squared_error: 134.9389 - val_loss: 583.2566 - val_mean_squared_error: 583.2566\n",
            "Epoch 17/50\n",
            "12/12 [==============================] - 0s 11ms/step - loss: 136.6321 - mean_squared_error: 136.6321 - val_loss: 482.3599 - val_mean_squared_error: 482.3599\n",
            "Epoch 18/50\n",
            "12/12 [==============================] - 0s 11ms/step - loss: 157.1786 - mean_squared_error: 157.1786 - val_loss: 557.1133 - val_mean_squared_error: 557.1133\n",
            "Epoch 19/50\n",
            "12/12 [==============================] - 0s 9ms/step - loss: 153.1258 - mean_squared_error: 153.1258 - val_loss: 673.2141 - val_mean_squared_error: 673.2141\n",
            "Epoch 20/50\n",
            "12/12 [==============================] - 0s 9ms/step - loss: 140.8041 - mean_squared_error: 140.8041 - val_loss: 499.4183 - val_mean_squared_error: 499.4183\n",
            "Epoch 21/50\n",
            "12/12 [==============================] - 0s 9ms/step - loss: 123.8891 - mean_squared_error: 123.8891 - val_loss: 551.4898 - val_mean_squared_error: 551.4898\n",
            "Epoch 22/50\n",
            "12/12 [==============================] - 0s 11ms/step - loss: 134.7311 - mean_squared_error: 134.7311 - val_loss: 611.1122 - val_mean_squared_error: 611.1122\n",
            "Epoch 23/50\n",
            "12/12 [==============================] - 0s 9ms/step - loss: 147.6472 - mean_squared_error: 147.6472 - val_loss: 480.6569 - val_mean_squared_error: 480.6569\n",
            "Epoch 24/50\n",
            "12/12 [==============================] - 0s 9ms/step - loss: 122.5634 - mean_squared_error: 122.5634 - val_loss: 551.3123 - val_mean_squared_error: 551.3123\n",
            "Epoch 25/50\n",
            "12/12 [==============================] - 0s 9ms/step - loss: 126.8327 - mean_squared_error: 126.8327 - val_loss: 599.2325 - val_mean_squared_error: 599.2325\n",
            "Epoch 26/50\n",
            "12/12 [==============================] - 0s 9ms/step - loss: 108.9246 - mean_squared_error: 108.9246 - val_loss: 442.5855 - val_mean_squared_error: 442.5855\n",
            "Epoch 27/50\n",
            "12/12 [==============================] - 0s 9ms/step - loss: 132.7929 - mean_squared_error: 132.7929 - val_loss: 645.5714 - val_mean_squared_error: 645.5714\n",
            "Epoch 28/50\n",
            "12/12 [==============================] - 0s 9ms/step - loss: 130.0504 - mean_squared_error: 130.0504 - val_loss: 414.6444 - val_mean_squared_error: 414.6444\n",
            "Epoch 29/50\n",
            "12/12 [==============================] - 0s 9ms/step - loss: 134.6035 - mean_squared_error: 134.6035 - val_loss: 475.3427 - val_mean_squared_error: 475.3427\n",
            "Epoch 30/50\n",
            "12/12 [==============================] - 0s 11ms/step - loss: 116.8706 - mean_squared_error: 116.8706 - val_loss: 624.1988 - val_mean_squared_error: 624.1988\n",
            "Epoch 31/50\n",
            "12/12 [==============================] - 0s 9ms/step - loss: 131.8391 - mean_squared_error: 131.8391 - val_loss: 433.3029 - val_mean_squared_error: 433.3029\n",
            "Epoch 32/50\n",
            "12/12 [==============================] - 0s 11ms/step - loss: 123.7843 - mean_squared_error: 123.7843 - val_loss: 528.8348 - val_mean_squared_error: 528.8348\n",
            "Epoch 33/50\n",
            "12/12 [==============================] - 0s 9ms/step - loss: 120.3260 - mean_squared_error: 120.3260 - val_loss: 562.9173 - val_mean_squared_error: 562.9173\n",
            "Epoch 34/50\n",
            "12/12 [==============================] - 0s 9ms/step - loss: 139.2420 - mean_squared_error: 139.2420 - val_loss: 599.9999 - val_mean_squared_error: 599.9999\n",
            "Epoch 35/50\n",
            "12/12 [==============================] - 0s 9ms/step - loss: 114.6319 - mean_squared_error: 114.6319 - val_loss: 444.1334 - val_mean_squared_error: 444.1334\n",
            "Epoch 36/50\n",
            "12/12 [==============================] - 0s 10ms/step - loss: 121.4061 - mean_squared_error: 121.4061 - val_loss: 453.1649 - val_mean_squared_error: 453.1649\n",
            "Epoch 37/50\n",
            "12/12 [==============================] - 0s 10ms/step - loss: 109.1972 - mean_squared_error: 109.1972 - val_loss: 584.6486 - val_mean_squared_error: 584.6486\n",
            "Epoch 38/50\n",
            "12/12 [==============================] - 0s 9ms/step - loss: 138.3890 - mean_squared_error: 138.3890 - val_loss: 511.8258 - val_mean_squared_error: 511.8258\n",
            "Epoch 39/50\n",
            "12/12 [==============================] - 0s 10ms/step - loss: 122.1960 - mean_squared_error: 122.1960 - val_loss: 483.7910 - val_mean_squared_error: 483.7910\n",
            "Epoch 40/50\n",
            "12/12 [==============================] - 0s 11ms/step - loss: 111.7660 - mean_squared_error: 111.7660 - val_loss: 433.2821 - val_mean_squared_error: 433.2821\n",
            "Epoch 41/50\n",
            "12/12 [==============================] - 0s 9ms/step - loss: 97.3453 - mean_squared_error: 97.3453 - val_loss: 564.4786 - val_mean_squared_error: 564.4786\n",
            "Epoch 42/50\n",
            "12/12 [==============================] - 0s 10ms/step - loss: 133.8026 - mean_squared_error: 133.8026 - val_loss: 542.9146 - val_mean_squared_error: 542.9146\n",
            "Epoch 43/50\n",
            "12/12 [==============================] - 0s 9ms/step - loss: 146.8490 - mean_squared_error: 146.8490 - val_loss: 558.0914 - val_mean_squared_error: 558.0914\n",
            "Epoch 44/50\n",
            "12/12 [==============================] - 0s 9ms/step - loss: 121.1510 - mean_squared_error: 121.1510 - val_loss: 537.8732 - val_mean_squared_error: 537.8732\n",
            "Epoch 45/50\n",
            "12/12 [==============================] - 0s 10ms/step - loss: 140.8047 - mean_squared_error: 140.8047 - val_loss: 528.4169 - val_mean_squared_error: 528.4169\n",
            "Epoch 46/50\n",
            "12/12 [==============================] - 0s 9ms/step - loss: 119.0748 - mean_squared_error: 119.0748 - val_loss: 560.4333 - val_mean_squared_error: 560.4333\n",
            "Epoch 47/50\n",
            "12/12 [==============================] - 0s 10ms/step - loss: 131.0911 - mean_squared_error: 131.0911 - val_loss: 502.4174 - val_mean_squared_error: 502.4174\n",
            "Epoch 48/50\n",
            "12/12 [==============================] - 0s 10ms/step - loss: 131.9263 - mean_squared_error: 131.9263 - val_loss: 573.7512 - val_mean_squared_error: 573.7512\n",
            "Epoch 49/50\n",
            "12/12 [==============================] - 0s 9ms/step - loss: 117.7429 - mean_squared_error: 117.7429 - val_loss: 519.2055 - val_mean_squared_error: 519.2055\n",
            "Epoch 50/50\n",
            "12/12 [==============================] - 0s 9ms/step - loss: 126.4099 - mean_squared_error: 126.4099 - val_loss: 471.7081 - val_mean_squared_error: 471.7081\n",
            "8/8 [==============================] - 0s 4ms/step\n"
          ]
        }
      ],
      "source": [
        "#Hascで構築→自分ので試す\n",
        "history = model.fit(DifferenceAcc_histHasc, HzHasc, batch_size=32, epochs=50, shuffle=True, validation_split=0.2)\n",
        "y_pred = tf.cast(tf.clip_by_value(model.predict(DifferenceAcc_hist), 20, 100), tf.int32)\n",
        "mae.append(mean_absolute_error(y_pred, Hz))\n",
        "mse.append(mean_squared_error(y_pred, Hz))\n",
        "r2.append(r2_score(y_pred, Hz))"
      ]
    },
    {
      "cell_type": "code",
      "execution_count": 51,
      "metadata": {
        "id": "qLbCSxrQHdyL",
        "outputId": "5795faa6-be03-4c93-9f0d-082b19e7aa38",
        "colab": {
          "base_uri": "https://localhost:8080/"
        }
      },
      "outputs": [
        {
          "output_type": "stream",
          "name": "stdout",
          "text": [
            "Epoch 1/50\n",
            "12/12 [==============================] - 0s 12ms/step - loss: 154.5461 - mean_squared_error: 154.5461 - val_loss: 521.9749 - val_mean_squared_error: 521.9749\n",
            "Epoch 2/50\n",
            "12/12 [==============================] - 0s 10ms/step - loss: 135.0904 - mean_squared_error: 135.0904 - val_loss: 362.1398 - val_mean_squared_error: 362.1398\n",
            "Epoch 3/50\n",
            "12/12 [==============================] - 0s 11ms/step - loss: 160.4471 - mean_squared_error: 160.4471 - val_loss: 513.8606 - val_mean_squared_error: 513.8606\n",
            "Epoch 4/50\n",
            "12/12 [==============================] - 0s 12ms/step - loss: 143.0761 - mean_squared_error: 143.0761 - val_loss: 476.5786 - val_mean_squared_error: 476.5786\n",
            "Epoch 5/50\n",
            "12/12 [==============================] - 0s 10ms/step - loss: 154.2027 - mean_squared_error: 154.2027 - val_loss: 243.7733 - val_mean_squared_error: 243.7733\n",
            "Epoch 6/50\n",
            "12/12 [==============================] - 0s 11ms/step - loss: 160.0779 - mean_squared_error: 160.0779 - val_loss: 641.4351 - val_mean_squared_error: 641.4351\n",
            "Epoch 7/50\n",
            "12/12 [==============================] - 0s 10ms/step - loss: 136.6752 - mean_squared_error: 136.6752 - val_loss: 423.8595 - val_mean_squared_error: 423.8595\n",
            "Epoch 8/50\n",
            "12/12 [==============================] - 0s 12ms/step - loss: 150.8648 - mean_squared_error: 150.8648 - val_loss: 472.5620 - val_mean_squared_error: 472.5620\n",
            "Epoch 9/50\n",
            "12/12 [==============================] - 0s 17ms/step - loss: 155.1442 - mean_squared_error: 155.1442 - val_loss: 297.6451 - val_mean_squared_error: 297.6451\n",
            "Epoch 10/50\n",
            "12/12 [==============================] - 0s 14ms/step - loss: 156.1139 - mean_squared_error: 156.1139 - val_loss: 464.9021 - val_mean_squared_error: 464.9021\n",
            "Epoch 11/50\n",
            "12/12 [==============================] - 0s 14ms/step - loss: 172.1371 - mean_squared_error: 172.1371 - val_loss: 318.9293 - val_mean_squared_error: 318.9293\n",
            "Epoch 12/50\n",
            "12/12 [==============================] - 0s 15ms/step - loss: 141.7829 - mean_squared_error: 141.7829 - val_loss: 477.2538 - val_mean_squared_error: 477.2538\n",
            "Epoch 13/50\n",
            "12/12 [==============================] - 0s 14ms/step - loss: 116.1541 - mean_squared_error: 116.1541 - val_loss: 484.4769 - val_mean_squared_error: 484.4769\n",
            "Epoch 14/50\n",
            "12/12 [==============================] - 0s 13ms/step - loss: 126.0835 - mean_squared_error: 126.0835 - val_loss: 468.4924 - val_mean_squared_error: 468.4924\n",
            "Epoch 15/50\n",
            "12/12 [==============================] - 0s 14ms/step - loss: 123.2050 - mean_squared_error: 123.2050 - val_loss: 424.1321 - val_mean_squared_error: 424.1321\n",
            "Epoch 16/50\n",
            "12/12 [==============================] - 0s 15ms/step - loss: 137.1986 - mean_squared_error: 137.1986 - val_loss: 490.9176 - val_mean_squared_error: 490.9176\n",
            "Epoch 17/50\n",
            "12/12 [==============================] - 0s 14ms/step - loss: 132.6414 - mean_squared_error: 132.6414 - val_loss: 369.6403 - val_mean_squared_error: 369.6403\n",
            "Epoch 18/50\n",
            "12/12 [==============================] - 0s 15ms/step - loss: 132.4794 - mean_squared_error: 132.4794 - val_loss: 518.2477 - val_mean_squared_error: 518.2477\n",
            "Epoch 19/50\n",
            "12/12 [==============================] - 0s 14ms/step - loss: 153.9987 - mean_squared_error: 153.9987 - val_loss: 527.5330 - val_mean_squared_error: 527.5330\n",
            "Epoch 20/50\n",
            "12/12 [==============================] - 0s 14ms/step - loss: 141.3594 - mean_squared_error: 141.3594 - val_loss: 355.3822 - val_mean_squared_error: 355.3822\n",
            "Epoch 21/50\n",
            "12/12 [==============================] - 0s 13ms/step - loss: 139.4581 - mean_squared_error: 139.4581 - val_loss: 531.0771 - val_mean_squared_error: 531.0771\n",
            "Epoch 22/50\n",
            "12/12 [==============================] - 0s 13ms/step - loss: 138.6925 - mean_squared_error: 138.6925 - val_loss: 410.9471 - val_mean_squared_error: 410.9471\n",
            "Epoch 23/50\n",
            "12/12 [==============================] - 0s 14ms/step - loss: 130.4414 - mean_squared_error: 130.4414 - val_loss: 441.5728 - val_mean_squared_error: 441.5728\n",
            "Epoch 24/50\n",
            "12/12 [==============================] - 0s 13ms/step - loss: 138.4493 - mean_squared_error: 138.4493 - val_loss: 500.6798 - val_mean_squared_error: 500.6798\n",
            "Epoch 25/50\n",
            "12/12 [==============================] - 0s 13ms/step - loss: 126.4232 - mean_squared_error: 126.4232 - val_loss: 428.3252 - val_mean_squared_error: 428.3252\n",
            "Epoch 26/50\n",
            "12/12 [==============================] - 0s 14ms/step - loss: 152.6866 - mean_squared_error: 152.6866 - val_loss: 427.1820 - val_mean_squared_error: 427.1820\n",
            "Epoch 27/50\n",
            "12/12 [==============================] - 0s 15ms/step - loss: 149.1671 - mean_squared_error: 149.1671 - val_loss: 438.1071 - val_mean_squared_error: 438.1071\n",
            "Epoch 28/50\n",
            "12/12 [==============================] - 0s 15ms/step - loss: 136.5988 - mean_squared_error: 136.5988 - val_loss: 443.9367 - val_mean_squared_error: 443.9367\n",
            "Epoch 29/50\n",
            "12/12 [==============================] - 0s 10ms/step - loss: 142.9232 - mean_squared_error: 142.9232 - val_loss: 507.3911 - val_mean_squared_error: 507.3911\n",
            "Epoch 30/50\n",
            "12/12 [==============================] - 0s 10ms/step - loss: 139.9602 - mean_squared_error: 139.9602 - val_loss: 492.9647 - val_mean_squared_error: 492.9647\n",
            "Epoch 31/50\n",
            "12/12 [==============================] - 0s 9ms/step - loss: 141.5793 - mean_squared_error: 141.5793 - val_loss: 311.5390 - val_mean_squared_error: 311.5390\n",
            "Epoch 32/50\n",
            "12/12 [==============================] - 0s 9ms/step - loss: 137.7717 - mean_squared_error: 137.7717 - val_loss: 490.2869 - val_mean_squared_error: 490.2869\n",
            "Epoch 33/50\n",
            "12/12 [==============================] - 0s 9ms/step - loss: 127.9069 - mean_squared_error: 127.9069 - val_loss: 517.8455 - val_mean_squared_error: 517.8455\n",
            "Epoch 34/50\n",
            "12/12 [==============================] - 0s 9ms/step - loss: 123.1482 - mean_squared_error: 123.1482 - val_loss: 391.8929 - val_mean_squared_error: 391.8929\n",
            "Epoch 35/50\n",
            "12/12 [==============================] - 0s 9ms/step - loss: 116.4918 - mean_squared_error: 116.4918 - val_loss: 458.4088 - val_mean_squared_error: 458.4088\n",
            "Epoch 36/50\n",
            "12/12 [==============================] - 0s 9ms/step - loss: 138.8087 - mean_squared_error: 138.8087 - val_loss: 428.7863 - val_mean_squared_error: 428.7863\n",
            "Epoch 37/50\n",
            "12/12 [==============================] - 0s 9ms/step - loss: 137.8498 - mean_squared_error: 137.8498 - val_loss: 533.6860 - val_mean_squared_error: 533.6860\n",
            "Epoch 38/50\n",
            "12/12 [==============================] - 0s 9ms/step - loss: 158.6513 - mean_squared_error: 158.6513 - val_loss: 464.1639 - val_mean_squared_error: 464.1639\n",
            "Epoch 39/50\n",
            "12/12 [==============================] - 0s 10ms/step - loss: 119.6277 - mean_squared_error: 119.6277 - val_loss: 413.4770 - val_mean_squared_error: 413.4770\n",
            "Epoch 40/50\n",
            "12/12 [==============================] - 0s 10ms/step - loss: 142.2516 - mean_squared_error: 142.2516 - val_loss: 463.9606 - val_mean_squared_error: 463.9606\n",
            "Epoch 41/50\n",
            "12/12 [==============================] - 0s 10ms/step - loss: 137.5715 - mean_squared_error: 137.5715 - val_loss: 533.4751 - val_mean_squared_error: 533.4751\n",
            "Epoch 42/50\n",
            "12/12 [==============================] - 0s 9ms/step - loss: 135.7239 - mean_squared_error: 135.7239 - val_loss: 481.8435 - val_mean_squared_error: 481.8435\n",
            "Epoch 43/50\n",
            "12/12 [==============================] - 0s 9ms/step - loss: 123.6827 - mean_squared_error: 123.6827 - val_loss: 523.6613 - val_mean_squared_error: 523.6613\n",
            "Epoch 44/50\n",
            "12/12 [==============================] - 0s 9ms/step - loss: 150.6095 - mean_squared_error: 150.6095 - val_loss: 517.4178 - val_mean_squared_error: 517.4178\n",
            "Epoch 45/50\n",
            "12/12 [==============================] - 0s 9ms/step - loss: 140.4626 - mean_squared_error: 140.4626 - val_loss: 292.3244 - val_mean_squared_error: 292.3244\n",
            "Epoch 46/50\n",
            "12/12 [==============================] - 0s 10ms/step - loss: 144.6137 - mean_squared_error: 144.6137 - val_loss: 608.0989 - val_mean_squared_error: 608.0989\n",
            "Epoch 47/50\n",
            "12/12 [==============================] - 0s 12ms/step - loss: 169.6899 - mean_squared_error: 169.6899 - val_loss: 486.0795 - val_mean_squared_error: 486.0795\n",
            "Epoch 48/50\n",
            "12/12 [==============================] - 0s 10ms/step - loss: 126.2752 - mean_squared_error: 126.2752 - val_loss: 342.6566 - val_mean_squared_error: 342.6566\n",
            "Epoch 49/50\n",
            "12/12 [==============================] - 0s 10ms/step - loss: 127.3858 - mean_squared_error: 127.3858 - val_loss: 476.5145 - val_mean_squared_error: 476.5145\n",
            "Epoch 50/50\n",
            "12/12 [==============================] - 0s 9ms/step - loss: 142.5747 - mean_squared_error: 142.5747 - val_loss: 451.6611 - val_mean_squared_error: 451.6611\n",
            "53/53 [==============================] - 0s 3ms/step\n"
          ]
        }
      ],
      "source": [
        "#Hascで構築→Kaggleので試す\n",
        "history = model.fit(DifferenceAcc_histHasc, HzHasc, batch_size=32, epochs=50, shuffle=True, validation_split=0.2)\n",
        "y_pred = tf.cast(tf.clip_by_value(model.predict(DifferenceAcc_histKaggle), 20, 100), tf.int32)\n",
        "mae.append(mean_absolute_error(y_pred, HzKaggle))\n",
        "mse.append(mean_squared_error(y_pred, HzKaggle))\n",
        "r2.append(r2_score(y_pred, HzKaggle))"
      ]
    },
    {
      "cell_type": "code",
      "execution_count": 52,
      "metadata": {
        "id": "1EkulfwpzUjm",
        "outputId": "d756e35e-730a-479b-8091-07d9d19383d6",
        "colab": {
          "base_uri": "https://localhost:8080/"
        }
      },
      "outputs": [
        {
          "output_type": "stream",
          "name": "stdout",
          "text": [
            "Epoch 1/50\n",
            "43/43 [==============================] - 0s 8ms/step - loss: 328.0284 - mean_squared_error: 328.0284 - val_loss: 394.9089 - val_mean_squared_error: 394.9089\n",
            "Epoch 2/50\n",
            "43/43 [==============================] - 0s 7ms/step - loss: 265.7581 - mean_squared_error: 265.7581 - val_loss: 423.2846 - val_mean_squared_error: 423.2846\n",
            "Epoch 3/50\n",
            "43/43 [==============================] - 0s 8ms/step - loss: 253.3180 - mean_squared_error: 253.3180 - val_loss: 354.9700 - val_mean_squared_error: 354.9700\n",
            "Epoch 4/50\n",
            "43/43 [==============================] - 0s 8ms/step - loss: 240.4245 - mean_squared_error: 240.4245 - val_loss: 432.1332 - val_mean_squared_error: 432.1332\n",
            "Epoch 5/50\n",
            "43/43 [==============================] - 0s 8ms/step - loss: 243.9875 - mean_squared_error: 243.9875 - val_loss: 375.7432 - val_mean_squared_error: 375.7432\n",
            "Epoch 6/50\n",
            "43/43 [==============================] - 0s 7ms/step - loss: 221.9345 - mean_squared_error: 221.9345 - val_loss: 340.3368 - val_mean_squared_error: 340.3368\n",
            "Epoch 7/50\n",
            "43/43 [==============================] - 0s 8ms/step - loss: 208.0309 - mean_squared_error: 208.0309 - val_loss: 335.7985 - val_mean_squared_error: 335.7985\n",
            "Epoch 8/50\n",
            "43/43 [==============================] - 0s 8ms/step - loss: 202.4778 - mean_squared_error: 202.4778 - val_loss: 338.8547 - val_mean_squared_error: 338.8547\n",
            "Epoch 9/50\n",
            "43/43 [==============================] - 0s 8ms/step - loss: 204.7584 - mean_squared_error: 204.7584 - val_loss: 418.4022 - val_mean_squared_error: 418.4022\n",
            "Epoch 10/50\n",
            "43/43 [==============================] - 0s 8ms/step - loss: 212.6441 - mean_squared_error: 212.6441 - val_loss: 425.8299 - val_mean_squared_error: 425.8299\n",
            "Epoch 11/50\n",
            "43/43 [==============================] - 0s 8ms/step - loss: 193.8343 - mean_squared_error: 193.8343 - val_loss: 428.6041 - val_mean_squared_error: 428.6041\n",
            "Epoch 12/50\n",
            "43/43 [==============================] - 0s 9ms/step - loss: 177.8211 - mean_squared_error: 177.8211 - val_loss: 311.4407 - val_mean_squared_error: 311.4407\n",
            "Epoch 13/50\n",
            "43/43 [==============================] - 0s 8ms/step - loss: 173.5169 - mean_squared_error: 173.5169 - val_loss: 435.3736 - val_mean_squared_error: 435.3736\n",
            "Epoch 14/50\n",
            "43/43 [==============================] - 0s 8ms/step - loss: 183.4486 - mean_squared_error: 183.4486 - val_loss: 300.0649 - val_mean_squared_error: 300.0649\n",
            "Epoch 15/50\n",
            "43/43 [==============================] - 0s 8ms/step - loss: 182.6291 - mean_squared_error: 182.6291 - val_loss: 292.5954 - val_mean_squared_error: 292.5954\n",
            "Epoch 16/50\n",
            "43/43 [==============================] - 0s 8ms/step - loss: 182.7123 - mean_squared_error: 182.7123 - val_loss: 422.6549 - val_mean_squared_error: 422.6549\n",
            "Epoch 17/50\n",
            "43/43 [==============================] - 0s 8ms/step - loss: 168.1151 - mean_squared_error: 168.1151 - val_loss: 328.3068 - val_mean_squared_error: 328.3068\n",
            "Epoch 18/50\n",
            "43/43 [==============================] - 0s 8ms/step - loss: 182.9297 - mean_squared_error: 182.9297 - val_loss: 500.5452 - val_mean_squared_error: 500.5452\n",
            "Epoch 19/50\n",
            "43/43 [==============================] - 0s 8ms/step - loss: 172.3695 - mean_squared_error: 172.3695 - val_loss: 427.5799 - val_mean_squared_error: 427.5799\n",
            "Epoch 20/50\n",
            "43/43 [==============================] - 0s 9ms/step - loss: 166.6016 - mean_squared_error: 166.6016 - val_loss: 428.6281 - val_mean_squared_error: 428.6281\n",
            "Epoch 21/50\n",
            "43/43 [==============================] - 0s 10ms/step - loss: 177.6264 - mean_squared_error: 177.6264 - val_loss: 363.5274 - val_mean_squared_error: 363.5274\n",
            "Epoch 22/50\n",
            "43/43 [==============================] - 0s 11ms/step - loss: 167.5508 - mean_squared_error: 167.5508 - val_loss: 374.4927 - val_mean_squared_error: 374.4927\n",
            "Epoch 23/50\n",
            "43/43 [==============================] - 1s 12ms/step - loss: 172.2724 - mean_squared_error: 172.2724 - val_loss: 397.9807 - val_mean_squared_error: 397.9807\n",
            "Epoch 24/50\n",
            "43/43 [==============================] - 1s 12ms/step - loss: 158.3100 - mean_squared_error: 158.3100 - val_loss: 285.6598 - val_mean_squared_error: 285.6598\n",
            "Epoch 25/50\n",
            "43/43 [==============================] - 0s 11ms/step - loss: 163.5928 - mean_squared_error: 163.5928 - val_loss: 288.4635 - val_mean_squared_error: 288.4635\n",
            "Epoch 26/50\n",
            "43/43 [==============================] - 0s 11ms/step - loss: 154.0225 - mean_squared_error: 154.0225 - val_loss: 409.3011 - val_mean_squared_error: 409.3011\n",
            "Epoch 27/50\n",
            "43/43 [==============================] - 0s 12ms/step - loss: 161.7587 - mean_squared_error: 161.7587 - val_loss: 372.7731 - val_mean_squared_error: 372.7731\n",
            "Epoch 28/50\n",
            "43/43 [==============================] - 0s 11ms/step - loss: 150.7942 - mean_squared_error: 150.7942 - val_loss: 337.9086 - val_mean_squared_error: 337.9086\n",
            "Epoch 29/50\n",
            "43/43 [==============================] - 0s 9ms/step - loss: 169.5814 - mean_squared_error: 169.5814 - val_loss: 290.2265 - val_mean_squared_error: 290.2265\n",
            "Epoch 30/50\n",
            "43/43 [==============================] - 0s 7ms/step - loss: 150.2488 - mean_squared_error: 150.2488 - val_loss: 274.9129 - val_mean_squared_error: 274.9129\n",
            "Epoch 31/50\n",
            "43/43 [==============================] - 0s 9ms/step - loss: 153.7179 - mean_squared_error: 153.7179 - val_loss: 346.4431 - val_mean_squared_error: 346.4431\n",
            "Epoch 32/50\n",
            "43/43 [==============================] - 0s 8ms/step - loss: 158.8765 - mean_squared_error: 158.8765 - val_loss: 289.5281 - val_mean_squared_error: 289.5281\n",
            "Epoch 33/50\n",
            "43/43 [==============================] - 0s 8ms/step - loss: 154.6410 - mean_squared_error: 154.6410 - val_loss: 439.9368 - val_mean_squared_error: 439.9368\n",
            "Epoch 34/50\n",
            "43/43 [==============================] - 0s 8ms/step - loss: 137.9170 - mean_squared_error: 137.9170 - val_loss: 329.7504 - val_mean_squared_error: 329.7504\n",
            "Epoch 35/50\n",
            "43/43 [==============================] - 0s 7ms/step - loss: 146.3546 - mean_squared_error: 146.3546 - val_loss: 390.8893 - val_mean_squared_error: 390.8893\n",
            "Epoch 36/50\n",
            "43/43 [==============================] - 0s 8ms/step - loss: 154.1648 - mean_squared_error: 154.1648 - val_loss: 281.4960 - val_mean_squared_error: 281.4960\n",
            "Epoch 37/50\n",
            "43/43 [==============================] - 0s 8ms/step - loss: 144.2128 - mean_squared_error: 144.2128 - val_loss: 305.9494 - val_mean_squared_error: 305.9494\n",
            "Epoch 38/50\n",
            "43/43 [==============================] - 0s 8ms/step - loss: 146.2827 - mean_squared_error: 146.2827 - val_loss: 369.0901 - val_mean_squared_error: 369.0901\n",
            "Epoch 39/50\n",
            "43/43 [==============================] - 0s 8ms/step - loss: 136.6540 - mean_squared_error: 136.6540 - val_loss: 411.1483 - val_mean_squared_error: 411.1483\n",
            "Epoch 40/50\n",
            "43/43 [==============================] - 0s 8ms/step - loss: 146.6907 - mean_squared_error: 146.6907 - val_loss: 315.1819 - val_mean_squared_error: 315.1819\n",
            "Epoch 41/50\n",
            "43/43 [==============================] - 0s 7ms/step - loss: 155.2673 - mean_squared_error: 155.2673 - val_loss: 394.6276 - val_mean_squared_error: 394.6276\n",
            "Epoch 42/50\n",
            "43/43 [==============================] - 0s 7ms/step - loss: 151.6263 - mean_squared_error: 151.6263 - val_loss: 307.8198 - val_mean_squared_error: 307.8198\n",
            "Epoch 43/50\n",
            "43/43 [==============================] - 0s 9ms/step - loss: 146.1294 - mean_squared_error: 146.1294 - val_loss: 383.0240 - val_mean_squared_error: 383.0240\n",
            "Epoch 44/50\n",
            "43/43 [==============================] - 0s 8ms/step - loss: 146.5046 - mean_squared_error: 146.5046 - val_loss: 405.4062 - val_mean_squared_error: 405.4062\n",
            "Epoch 45/50\n",
            "43/43 [==============================] - 0s 7ms/step - loss: 143.8307 - mean_squared_error: 143.8307 - val_loss: 384.4930 - val_mean_squared_error: 384.4930\n",
            "Epoch 46/50\n",
            "43/43 [==============================] - 0s 8ms/step - loss: 140.6281 - mean_squared_error: 140.6280 - val_loss: 388.3962 - val_mean_squared_error: 388.3962\n",
            "Epoch 47/50\n",
            "43/43 [==============================] - 0s 8ms/step - loss: 145.7422 - mean_squared_error: 145.7422 - val_loss: 446.3885 - val_mean_squared_error: 446.3885\n",
            "Epoch 48/50\n",
            "43/43 [==============================] - 0s 8ms/step - loss: 142.1720 - mean_squared_error: 142.1720 - val_loss: 305.2757 - val_mean_squared_error: 305.2757\n",
            "Epoch 49/50\n",
            "43/43 [==============================] - 0s 8ms/step - loss: 147.5742 - mean_squared_error: 147.5742 - val_loss: 304.8132 - val_mean_squared_error: 304.8132\n",
            "Epoch 50/50\n",
            "43/43 [==============================] - 0s 8ms/step - loss: 142.0502 - mean_squared_error: 142.0502 - val_loss: 243.8881 - val_mean_squared_error: 243.8881\n",
            "8/8 [==============================] - 0s 3ms/step\n"
          ]
        }
      ],
      "source": [
        "#Kaggleで構築→自分ので試す\n",
        "history = model.fit(DifferenceAcc_histKaggle, HzKaggle, batch_size=32, epochs=50, shuffle=True, validation_split=0.2)\n",
        "y_pred = tf.cast(tf.clip_by_value(model.predict(DifferenceAcc_hist), 20, 100), tf.int32)\n",
        "mae.append(mean_absolute_error(y_pred, Hz))\n",
        "mse.append(mean_squared_error(y_pred, Hz))\n",
        "r2.append(r2_score(y_pred, Hz))"
      ]
    },
    {
      "cell_type": "code",
      "execution_count": 53,
      "metadata": {
        "id": "ZJyXhvmezlNM",
        "outputId": "b0585001-103a-4037-a442-792f79f32af3",
        "colab": {
          "base_uri": "https://localhost:8080/"
        }
      },
      "outputs": [
        {
          "output_type": "stream",
          "name": "stdout",
          "text": [
            "Epoch 1/50\n",
            "43/43 [==============================] - 1s 12ms/step - loss: 142.4919 - mean_squared_error: 142.4919 - val_loss: 413.3503 - val_mean_squared_error: 413.3503\n",
            "Epoch 2/50\n",
            "43/43 [==============================] - 1s 12ms/step - loss: 144.0338 - mean_squared_error: 144.0338 - val_loss: 453.1336 - val_mean_squared_error: 453.1336\n",
            "Epoch 3/50\n",
            "43/43 [==============================] - 0s 12ms/step - loss: 141.5326 - mean_squared_error: 141.5326 - val_loss: 430.0413 - val_mean_squared_error: 430.0413\n",
            "Epoch 4/50\n",
            "43/43 [==============================] - 0s 11ms/step - loss: 135.1892 - mean_squared_error: 135.1892 - val_loss: 349.0136 - val_mean_squared_error: 349.0136\n",
            "Epoch 5/50\n",
            "43/43 [==============================] - 1s 12ms/step - loss: 144.1065 - mean_squared_error: 144.1065 - val_loss: 308.0138 - val_mean_squared_error: 308.0138\n",
            "Epoch 6/50\n",
            "43/43 [==============================] - 0s 12ms/step - loss: 132.3889 - mean_squared_error: 132.3889 - val_loss: 417.2016 - val_mean_squared_error: 417.2016\n",
            "Epoch 7/50\n",
            "43/43 [==============================] - 1s 12ms/step - loss: 134.7908 - mean_squared_error: 134.7908 - val_loss: 384.6685 - val_mean_squared_error: 384.6685\n",
            "Epoch 8/50\n",
            "43/43 [==============================] - 0s 9ms/step - loss: 120.7010 - mean_squared_error: 120.7010 - val_loss: 468.3044 - val_mean_squared_error: 468.3044\n",
            "Epoch 9/50\n",
            "43/43 [==============================] - 0s 8ms/step - loss: 146.0515 - mean_squared_error: 146.0515 - val_loss: 313.5174 - val_mean_squared_error: 313.5174\n",
            "Epoch 10/50\n",
            "43/43 [==============================] - 0s 8ms/step - loss: 144.3199 - mean_squared_error: 144.3199 - val_loss: 275.6059 - val_mean_squared_error: 275.6059\n",
            "Epoch 11/50\n",
            "43/43 [==============================] - 0s 8ms/step - loss: 134.5251 - mean_squared_error: 134.5251 - val_loss: 275.3523 - val_mean_squared_error: 275.3523\n",
            "Epoch 12/50\n",
            "43/43 [==============================] - 0s 8ms/step - loss: 133.3968 - mean_squared_error: 133.3968 - val_loss: 300.7782 - val_mean_squared_error: 300.7782\n",
            "Epoch 13/50\n",
            "43/43 [==============================] - 0s 8ms/step - loss: 135.9330 - mean_squared_error: 135.9330 - val_loss: 260.0664 - val_mean_squared_error: 260.0664\n",
            "Epoch 14/50\n",
            "43/43 [==============================] - 0s 8ms/step - loss: 139.8864 - mean_squared_error: 139.8864 - val_loss: 385.3822 - val_mean_squared_error: 385.3822\n",
            "Epoch 15/50\n",
            "43/43 [==============================] - 0s 8ms/step - loss: 134.4707 - mean_squared_error: 134.4707 - val_loss: 372.2950 - val_mean_squared_error: 372.2950\n",
            "Epoch 16/50\n",
            "43/43 [==============================] - 0s 8ms/step - loss: 139.6626 - mean_squared_error: 139.6626 - val_loss: 356.5671 - val_mean_squared_error: 356.5671\n",
            "Epoch 17/50\n",
            "43/43 [==============================] - 0s 8ms/step - loss: 121.0679 - mean_squared_error: 121.0679 - val_loss: 329.6323 - val_mean_squared_error: 329.6323\n",
            "Epoch 18/50\n",
            "43/43 [==============================] - 0s 8ms/step - loss: 140.7161 - mean_squared_error: 140.7161 - val_loss: 291.8426 - val_mean_squared_error: 291.8426\n",
            "Epoch 19/50\n",
            "43/43 [==============================] - 0s 8ms/step - loss: 139.9709 - mean_squared_error: 139.9709 - val_loss: 324.9781 - val_mean_squared_error: 324.9781\n",
            "Epoch 20/50\n",
            "43/43 [==============================] - 0s 8ms/step - loss: 144.4851 - mean_squared_error: 144.4851 - val_loss: 336.1701 - val_mean_squared_error: 336.1701\n",
            "Epoch 21/50\n",
            "43/43 [==============================] - 0s 8ms/step - loss: 126.4628 - mean_squared_error: 126.4628 - val_loss: 325.8625 - val_mean_squared_error: 325.8625\n",
            "Epoch 22/50\n",
            "43/43 [==============================] - 0s 8ms/step - loss: 131.7207 - mean_squared_error: 131.7207 - val_loss: 400.7692 - val_mean_squared_error: 400.7692\n",
            "Epoch 23/50\n",
            "43/43 [==============================] - 0s 8ms/step - loss: 132.5470 - mean_squared_error: 132.5470 - val_loss: 408.6676 - val_mean_squared_error: 408.6676\n",
            "Epoch 24/50\n",
            "43/43 [==============================] - 0s 8ms/step - loss: 131.9050 - mean_squared_error: 131.9050 - val_loss: 415.6491 - val_mean_squared_error: 415.6491\n",
            "Epoch 25/50\n",
            "43/43 [==============================] - 0s 8ms/step - loss: 137.1179 - mean_squared_error: 137.1179 - val_loss: 416.6073 - val_mean_squared_error: 416.6073\n",
            "Epoch 26/50\n",
            "43/43 [==============================] - 0s 7ms/step - loss: 120.6554 - mean_squared_error: 120.6554 - val_loss: 339.2010 - val_mean_squared_error: 339.2010\n",
            "Epoch 27/50\n",
            "43/43 [==============================] - 0s 8ms/step - loss: 129.5339 - mean_squared_error: 129.5339 - val_loss: 314.8358 - val_mean_squared_error: 314.8358\n",
            "Epoch 28/50\n",
            "43/43 [==============================] - 0s 8ms/step - loss: 129.9560 - mean_squared_error: 129.9560 - val_loss: 315.7859 - val_mean_squared_error: 315.7859\n",
            "Epoch 29/50\n",
            "43/43 [==============================] - 0s 8ms/step - loss: 132.7211 - mean_squared_error: 132.7211 - val_loss: 323.6506 - val_mean_squared_error: 323.6506\n",
            "Epoch 30/50\n",
            "43/43 [==============================] - 0s 7ms/step - loss: 126.2146 - mean_squared_error: 126.2146 - val_loss: 283.3291 - val_mean_squared_error: 283.3291\n",
            "Epoch 31/50\n",
            "43/43 [==============================] - 0s 8ms/step - loss: 138.9197 - mean_squared_error: 138.9197 - val_loss: 335.4363 - val_mean_squared_error: 335.4363\n",
            "Epoch 32/50\n",
            "43/43 [==============================] - 0s 7ms/step - loss: 123.5491 - mean_squared_error: 123.5491 - val_loss: 290.0194 - val_mean_squared_error: 290.0194\n",
            "Epoch 33/50\n",
            "43/43 [==============================] - 0s 8ms/step - loss: 119.9334 - mean_squared_error: 119.9334 - val_loss: 434.6730 - val_mean_squared_error: 434.6730\n",
            "Epoch 34/50\n",
            "43/43 [==============================] - 0s 8ms/step - loss: 131.5545 - mean_squared_error: 131.5545 - val_loss: 397.7869 - val_mean_squared_error: 397.7869\n",
            "Epoch 35/50\n",
            "43/43 [==============================] - 0s 7ms/step - loss: 134.5906 - mean_squared_error: 134.5906 - val_loss: 363.0898 - val_mean_squared_error: 363.0898\n",
            "Epoch 36/50\n",
            "43/43 [==============================] - 0s 7ms/step - loss: 128.6239 - mean_squared_error: 128.6239 - val_loss: 396.6890 - val_mean_squared_error: 396.6890\n",
            "Epoch 37/50\n",
            "43/43 [==============================] - 1s 12ms/step - loss: 133.6367 - mean_squared_error: 133.6367 - val_loss: 347.6802 - val_mean_squared_error: 347.6802\n",
            "Epoch 38/50\n",
            "43/43 [==============================] - 1s 12ms/step - loss: 129.5198 - mean_squared_error: 129.5198 - val_loss: 473.7840 - val_mean_squared_error: 473.7840\n",
            "Epoch 39/50\n",
            "43/43 [==============================] - 1s 12ms/step - loss: 129.3024 - mean_squared_error: 129.3024 - val_loss: 416.5512 - val_mean_squared_error: 416.5512\n",
            "Epoch 40/50\n",
            "43/43 [==============================] - 1s 12ms/step - loss: 130.4816 - mean_squared_error: 130.4816 - val_loss: 406.4757 - val_mean_squared_error: 406.4757\n",
            "Epoch 41/50\n",
            "43/43 [==============================] - 0s 11ms/step - loss: 124.5977 - mean_squared_error: 124.5977 - val_loss: 443.3418 - val_mean_squared_error: 443.3418\n",
            "Epoch 42/50\n",
            "43/43 [==============================] - 0s 11ms/step - loss: 125.7214 - mean_squared_error: 125.7214 - val_loss: 422.8953 - val_mean_squared_error: 422.8953\n",
            "Epoch 43/50\n",
            "43/43 [==============================] - 1s 12ms/step - loss: 118.2560 - mean_squared_error: 118.2560 - val_loss: 356.0959 - val_mean_squared_error: 356.0959\n",
            "Epoch 44/50\n",
            "43/43 [==============================] - 0s 8ms/step - loss: 122.4725 - mean_squared_error: 122.4725 - val_loss: 259.6051 - val_mean_squared_error: 259.6051\n",
            "Epoch 45/50\n",
            "43/43 [==============================] - 0s 8ms/step - loss: 120.1330 - mean_squared_error: 120.1330 - val_loss: 338.0978 - val_mean_squared_error: 338.0978\n",
            "Epoch 46/50\n",
            "43/43 [==============================] - 0s 8ms/step - loss: 136.1108 - mean_squared_error: 136.1108 - val_loss: 472.3066 - val_mean_squared_error: 472.3066\n",
            "Epoch 47/50\n",
            "43/43 [==============================] - 0s 8ms/step - loss: 117.6848 - mean_squared_error: 117.6848 - val_loss: 443.4219 - val_mean_squared_error: 443.4219\n",
            "Epoch 48/50\n",
            "43/43 [==============================] - 0s 7ms/step - loss: 128.8907 - mean_squared_error: 128.8907 - val_loss: 383.0399 - val_mean_squared_error: 383.0399\n",
            "Epoch 49/50\n",
            "43/43 [==============================] - 0s 8ms/step - loss: 124.8997 - mean_squared_error: 124.8997 - val_loss: 440.9563 - val_mean_squared_error: 440.9563\n",
            "Epoch 50/50\n",
            "43/43 [==============================] - 0s 8ms/step - loss: 121.0900 - mean_squared_error: 121.0900 - val_loss: 343.6135 - val_mean_squared_error: 343.6135\n",
            "15/15 [==============================] - 0s 3ms/step\n"
          ]
        }
      ],
      "source": [
        "#Kaggleので構築→HASCので試す\n",
        "history = model.fit(DifferenceAcc_histKaggle, HzKaggle, batch_size=32, epochs=50, shuffle=True, validation_split=0.2)\n",
        "y_pred = tf.cast(tf.clip_by_value(model.predict(DifferenceAcc_histHasc), 20, 100), tf.int32)\n",
        "mae.append(mean_absolute_error(y_pred, HzHasc))\n",
        "mse.append(mean_squared_error(y_pred, HzHasc))\n",
        "r2.append(r2_score(y_pred, HzHasc))"
      ]
    },
    {
      "cell_type": "code",
      "execution_count": 58,
      "metadata": {
        "colab": {
          "base_uri": "https://localhost:8080/"
        },
        "id": "6daUiYhjh9Xc",
        "outputId": "5cbcd9b5-47fe-44bd-c9fe-faa53318b122"
      },
      "outputs": [
        {
          "output_type": "execute_result",
          "data": {
            "text/plain": [
              "[19.794871794871796, 24.11111111111111]"
            ]
          },
          "metadata": {},
          "execution_count": 58
        }
      ],
      "source": [
        "mae"
      ]
    },
    {
      "cell_type": "code",
      "execution_count": 39,
      "metadata": {
        "id": "8KRKeZVviZLA",
        "outputId": "1fbf1111-6c98-4ea8-9715-38c4a6f3961a",
        "colab": {
          "base_uri": "https://localhost:8080/"
        }
      },
      "outputs": [
        {
          "output_type": "execute_result",
          "data": {
            "text/plain": [
              "[704.1752136752136,\n",
              " 838.1583924349882,\n",
              " 1301.52,\n",
              " 393.6010638297872,\n",
              " 951.0533333333333,\n",
              " 326.10470085470087]"
            ]
          },
          "metadata": {},
          "execution_count": 39
        }
      ],
      "source": [
        "mse"
      ]
    },
    {
      "cell_type": "code",
      "execution_count": 40,
      "metadata": {
        "id": "RR4SRZsBiagU",
        "outputId": "4944c5e0-fa7a-4fe0-9a3e-d61e692084f1",
        "colab": {
          "base_uri": "https://localhost:8080/"
        }
      },
      "outputs": [
        {
          "output_type": "execute_result",
          "data": {
            "text/plain": [
              "[-4.426248174553819,\n",
              " -3.6160039762601697,\n",
              " -2.2387520383073487,\n",
              " 0.12676362011866837,\n",
              " -2.020044339327833,\n",
              " 0.11111952392531554]"
            ]
          },
          "metadata": {},
          "execution_count": 40
        }
      ],
      "source": [
        "r2"
      ]
    },
    {
      "cell_type": "code",
      "source": [],
      "metadata": {
        "id": "7w4YwhRxHvQv"
      },
      "execution_count": null,
      "outputs": []
    }
  ],
  "metadata": {
    "accelerator": "GPU",
    "colab": {
      "gpuType": "T4",
      "provenance": [],
      "include_colab_link": true
    },
    "kernelspec": {
      "display_name": "Python 3",
      "name": "python3"
    },
    "language_info": {
      "name": "python"
    }
  },
  "nbformat": 4,
  "nbformat_minor": 0
}