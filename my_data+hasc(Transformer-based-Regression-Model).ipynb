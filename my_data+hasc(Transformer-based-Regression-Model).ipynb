{
  "cells": [
    {
      "cell_type": "markdown",
      "metadata": {
        "id": "view-in-github",
        "colab_type": "text"
      },
      "source": [
        "<a href=\"https://colab.research.google.com/github/hinapyon/Sampling-Frequency-Estimating-of-Human-Activity-Acceleration-Data-using-Transformer-based-Regression/blob/main/my_data%2Bhasc(Transformer-based-Regression-Model).ipynb\" target=\"_parent\"><img src=\"https://colab.research.google.com/assets/colab-badge.svg\" alt=\"Open In Colab\"/></a>"
      ]
    },
    {
      "cell_type": "code",
      "execution_count": 1,
      "metadata": {
        "id": "oTsgcWLEa9Nt"
      },
      "outputs": [],
      "source": [
        "#ライブラリをインポート\n",
        "import os #OSに依存する様々な機能を利用するためのモジュール(ファイルやディレクトリ操作など)\n",
        "import re #正規表現を利用するためのモジュール\n",
        "import csv  #csvファイルを扱うためのモジュール\n",
        "import math #数学的計算のためのモジュール\n",
        "from decimal import Decimal #小数点桁落ちをなくすためのモジュール\n",
        "import matplotlib.pyplot as plt #グラフ描画のためのモジュール\n",
        "import numpy as np  #多次元配列計算のためのモジュール\n",
        "import pandas as pd #データフレームを扱うためのモジュール\n",
        "from scipy import signal  #信号処理のためのモジュール\n",
        "from scipy.stats import skew, kurtosis  #歪度と尖度を調べるためのモジュール\n",
        "from sklearn.model_selection import train_test_split  #データをトレーニング用とテスト用に分けるためのモジュール\n",
        "from sklearn import preprocessing #データを正規化するためのモジュール\n",
        "from sklearn.preprocessing import StandardScaler  #データを標準化するためのモジュール\n",
        "from sklearn.preprocessing import LabelEncoder  #カテゴリ変数を数値化するためのモジュール\n",
        "from sklearn.metrics import accuracy_score, mean_squared_error, mean_absolute_error, r2_score #機械学習モデルの性能評価のためのモジュール\n",
        "import tensorflow as tf #TensorFlow(Googleが開発したオープンソースの機械学習フレームワーク)\n",
        "from tensorflow import keras  #TensorFlow用のニューラルネットワークライブラリAPI\n",
        "from tensorflow.keras import layers #ニューラルネットワークのレイヤーを定義するためのモジュール"
      ]
    },
    {
      "cell_type": "code",
      "execution_count": 2,
      "metadata": {
        "colab": {
          "base_uri": "https://localhost:8080/"
        },
        "id": "CrXcc8k3bDt9",
        "outputId": "17702204-7d66-41ce-fcb5-f0934865f968"
      },
      "outputs": [
        {
          "output_type": "stream",
          "name": "stdout",
          "text": [
            "Mounted at /content/drive\n"
          ]
        }
      ],
      "source": [
        "from google.colab import drive\n",
        "drive.mount('/content/drive')"
      ]
    },
    {
      "cell_type": "code",
      "execution_count": 3,
      "metadata": {
        "id": "-E1jV0_ybIY8"
      },
      "outputs": [],
      "source": [
        "#定数を定義\n",
        "BINS = 50  #ヒストグラムのビンの数\n",
        "EPSILON = .00001  #スムージングパラメータ\n",
        "UPPER_LIMIT = 1.1 #静止区間の上限\n",
        "LOWER_LIMIT = 0.9 #静止区間の加減\n",
        "STATIONARY_INTERVALS = 5  #静止区間除去のサンプルの間隔(静止区間が何サンプル連続したら除去するか)\n",
        "TRAIN_SIZE = 0.8  #機械学習のトレーニングデータの割合\n",
        "N_ESTIMATORS = 100  #決定木の数"
      ]
    },
    {
      "cell_type": "code",
      "execution_count": 4,
      "metadata": {
        "id": "Q_PFKcu2bMqW"
      },
      "outputs": [],
      "source": [
        "#ディレクトリ内のAMWS020のデータセットのファイル名と周波数を取得する関数\n",
        "def get_Hz_and_filename(path: str) -> list[int, str]:\n",
        "    filename = os.listdir(path) #引数のパスのディレクトリの中のファイル名一覧を取得\n",
        "    Hz_and_filename=[]  #ファイル名と周波数を格納するリストを宣言\n",
        "\n",
        "    for file in filename:\n",
        "        Hz = re.search(r'\\d+', file)    #正規表現を用いてファイル名の中で一番最初に出てくる数字(周波数)を取得\n",
        "        if Hz:  #数字の入っていないファイル名があるとエラーを吐くので、このif文でチェックする\n",
        "            Hz_and_filename.append([int(Hz.group(0)), file])    #ファイル名と周波数を格納\n",
        "\n",
        "    return Hz_and_filename"
      ]
    },
    {
      "cell_type": "code",
      "execution_count": 5,
      "metadata": {
        "id": "Mmd5z_SLbUNl"
      },
      "outputs": [],
      "source": [
        "#ファイル名と周波数を分けて出力する関数\n",
        "def divide_Hz_and_filename(Hz_and_filename: list[int, str]) -> tuple[list[int], list[str]]:\n",
        "    Hz = []\n",
        "    filename = []\n",
        "    for row in Hz_and_filename:\n",
        "      Hz.append(row[0])\n",
        "      filename.append(row[1])\n",
        "\n",
        "    return Hz, filename"
      ]
    },
    {
      "cell_type": "code",
      "execution_count": 6,
      "metadata": {
        "id": "nab3m0AvbXY6"
      },
      "outputs": [],
      "source": [
        "#自分の加速度データのCSVファイルから3軸加速度を取得する関数\n",
        "#なんか分割したら3, 4, 5色々おかしくなった\n",
        "def get_acceleration(filename: str) -> tuple[list[float], list[float], list[float]]:\n",
        "    AccX, AccY, AccZ = [], [], []\n",
        "    with open(filename) as f:\n",
        "        reader = csv.reader(f)\n",
        "        for row in reader:\n",
        "            AccX.append(float(row[3]))\n",
        "            AccY.append(float(row[4]))\n",
        "            AccZ.append(float(row[5]))\n",
        "\n",
        "    return AccX, AccY, AccZ"
      ]
    },
    {
      "cell_type": "code",
      "execution_count": 7,
      "metadata": {
        "id": "MBcD5SbVbtzz"
      },
      "outputs": [],
      "source": [
        "#自分の加速度データのCSVファイルから3軸加速度を取得する関数\n",
        "def get_accelerationHasc(filename: str) -> tuple[list[float], list[float], list[float]]:\n",
        "    AccX, AccY, AccZ = [], [], []\n",
        "    with open(filename) as f:\n",
        "        reader = csv.reader(f)\n",
        "        for row in reader:\n",
        "            AccX.append(float(row[1]))\n",
        "            AccY.append(float(row[2]))\n",
        "            AccZ.append(float(row[3]))\n",
        "\n",
        "    return AccX, AccY, AccZ"
      ]
    },
    {
      "cell_type": "code",
      "execution_count": 8,
      "metadata": {
        "id": "Ryj7pQ-TbxHG"
      },
      "outputs": [],
      "source": [
        "#静止区間を除去する関数\n",
        "def acc_to_remove_stationary_intervals(AccX: list[float], AccY: list[float], AccZ: list[float]) -> list[float]:\n",
        "    #各軸の加速度の平均を求める\n",
        "    AvgAccX = sum(AccX) / len(AccX)\n",
        "    AvgAccY = sum(AccY) / len(AccY)\n",
        "    AvgAccZ = sum(AccZ) / len(AccZ)\n",
        "\n",
        "    AvgResultantAcc = math.sqrt(AvgAccX ** 2 + AvgAccY ** 2 + AvgAccZ ** 2) #重力加速度の推定値=合成加速度の平均を求める\n",
        "\n",
        "    ResultantAcc = [math.sqrt(x ** 2 + y ** 2 + z ** 2) for x, y, z in zip(AccX, AccY, AccZ)]   #各時刻の合成加速度を求める\n",
        "\n",
        "    #各時刻の合成加速度から静止区間(重力加速度の推定値に近い値が一定以上以上連続している区間)を除去する\n",
        "    i = 0 #ループ変数\n",
        "    counter = 0 #静止区間がSTATIONARY_INTERVALS分続いているかをカウントする変数\n",
        "    while i < len(ResultantAcc):\n",
        "        if AvgResultantAcc * LOWER_LIMIT < ResultantAcc[i] < AvgResultantAcc * UPPER_LIMIT:   #平均のLOWER_LIMIT倍~UPPER_LIMIT倍の範囲を調べる\n",
        "            counter += 1    #範囲内ならカウントを増やす\n",
        "            if counter == STATIONARY_INTERVALS: #カウントがSTATIONARY_INTERVALSに達したらその区間を削除\n",
        "                del ResultantAcc[i+1-STATIONARY_INTERVALS:i+1]    #スライスでは選択範囲の開始位置startと終了位置stopを[start:stop]のように書くとstart <= x < stopの範囲が選択される #start番目の値は含まれるがstop番目の値は含まれない\n",
        "                counter = 0 #カウンターをリセット\n",
        "                i -= STATIONARY_INTERVALS   #削除した分インデックスがズレるので補正する\n",
        "        else:\n",
        "            counter = 0 #カウンターをリセット\n",
        "        i += 1\n",
        "\n",
        "    return ResultantAcc  #静止区間を除去した後のリストを返す"
      ]
    },
    {
      "cell_type": "code",
      "execution_count": 9,
      "metadata": {
        "id": "FNwGq1s2bzxl"
      },
      "outputs": [],
      "source": [
        "#連続する2サンプルの差分を取る関数\n",
        "def calculate_differences_of_acceleration(ResultantAcc: list[float]) -> list[float]:\n",
        "    #DifferenceAcc = [math.fabs(ResultantAcc[i + 1] * 100000 - ResultantAcc[i] * 100000) for i in range(len(ResultantAcc) - 1)]  #100000倍して誤差を取る\n",
        "    DifferenceAcc = [math.fabs(Decimal(ResultantAcc[i + 1]) - Decimal(ResultantAcc[i])) for i in range(len(ResultantAcc) - 1)]  #連続する2サンプルの誤差を取る\n",
        "    return DifferenceAcc"
      ]
    },
    {
      "cell_type": "code",
      "execution_count": 10,
      "metadata": {
        "id": "hbUSs34Ib4Z_"
      },
      "outputs": [],
      "source": [
        "#入力された加速度の差分のリストからヒストグラムを作る関数（ビンの範囲が各加速度の差分データの最小値〜最大値）\n",
        "def create_histogram2(DifferenceAcc_list: list[float]) -> np.histogram:\n",
        "    DifferenceAcc_hist = np.zeros((len(DifferenceAcc_list), BINS), dtype=float)\n",
        "    for i in range(len(DifferenceAcc_list)):\n",
        "        min_value = min(DifferenceAcc_list[i])\n",
        "        max_value = max(DifferenceAcc_list[i])\n",
        "        #DifferenceAcc_hist[i], _ = np.histogram(DifferenceAcc_list[i], bins=BINS, range=(min_value, max_value)) #ヒストグラムを作成し、同じ数のビンで区切る\n",
        "        DifferenceAcc_hist[i], _ = np.histogram(DifferenceAcc_list[i], bins=BINS, density=True) #ヒストグラムを作成し、同じ数のビンで区切る\n",
        "    return DifferenceAcc_hist"
      ]
    },
    {
      "cell_type": "code",
      "execution_count": 11,
      "metadata": {
        "id": "DqeTnb2lb9wM"
      },
      "outputs": [],
      "source": [
        "#各加速度データをダウンサンプリングする関数\n",
        "def resampling_Acc(originHz: int, newHz: int, AccX: list[float], AccY: list[float], AccZ: list[float], Hz: np.array) -> tuple[list[float], list[float], list[float], np.array]:\n",
        "    i = 0   #カウンター変数\n",
        "\n",
        "    while (Hz[i] == originHz):\n",
        "        originlen = len(AccX[i])    #元々のデータの長さ\n",
        "        sampling_factor = int(originlen * (newHz/originHz)) #ダウンサンプリングした後のデータの長さ\n",
        "        newAccX = signal.resample(AccX[i], sampling_factor)    #データをダウンサンプリング\n",
        "        newAccY = signal.resample(AccY[i], sampling_factor)    #データをダウンサンプリング\n",
        "        newAccZ = signal.resample(AccZ[i], sampling_factor)    #データをダウンサンプリング\n",
        "        AccX.append(newAccX)   #ダウンサンプリングデータを加速度データに追加\n",
        "        AccY.append(newAccY)   #ダウンサンプリングデータを加速度データに追加\n",
        "        AccZ.append(newAccZ)   #ダウンサンプリングデータを加速度データに追加\n",
        "        Hz = np.append(Hz, newHz)   #ダウンサンプリングレートを追加\n",
        "        i += 1\n",
        "\n",
        "    return AccX, AccY, AccZ, Hz"
      ]
    },
    {
      "cell_type": "code",
      "execution_count": 12,
      "metadata": {
        "colab": {
          "base_uri": "https://localhost:8080/"
        },
        "id": "RiHKUsoFcSgD",
        "outputId": "4180cc2c-abfd-40fb-88eb-86bd00f037f5"
      },
      "outputs": [
        {
          "output_type": "stream",
          "name": "stdout",
          "text": [
            "Found GPU at: /device:GPU:0\n"
          ]
        }
      ],
      "source": [
        "import tensorflow as tf\n",
        "device_name = tf.test.gpu_device_name()\n",
        "if device_name != '/device:GPU:0':\n",
        "  raise SystemError('GPU device not found')\n",
        "print('Found GPU at: {}'.format(device_name))"
      ]
    },
    {
      "cell_type": "code",
      "execution_count": 13,
      "metadata": {
        "id": "5nDyzHfwcJBx"
      },
      "outputs": [],
      "source": [
        "path = \"/content/drive/MyDrive/my_walk_data(100Hz15minutes)/\"  #Google colab用\n",
        "#path = \"my_walk_data(100Hz15minutesTo20seconds)/\"  #local用"
      ]
    },
    {
      "cell_type": "code",
      "execution_count": 14,
      "metadata": {
        "id": "eyDRU90UcfAi"
      },
      "outputs": [],
      "source": [
        "#一連の流れ\n",
        "Hz_and_filename = get_Hz_and_filename(path)\n",
        "Hz_and_filename.sort(reverse=True)  #周波数の大きい順にソート\n",
        "Hz, filename = divide_Hz_and_filename(Hz_and_filename)\n",
        "Hz = np.array(Hz)\n",
        "\n",
        "#使う変数を宣言\n",
        "readAccX, readAccY, readAccZ = [], [], []   #データ読み込む用\n",
        "AccX, AccY, AccZ = [], [], []\n",
        "ResultantAcc = []\n",
        "DifferenceAcc_list = []\n",
        "\n",
        "#各データセットからデータを読み込み二次元配列に格納\n",
        "for i in filename:\n",
        "    readAccX, readAccY, readAccZ = get_acceleration(path+i)\n",
        "    AccX.append(readAccX), AccY.append(readAccY), AccZ.append(readAccZ)\n",
        "\n",
        "#各加速度データをダウンサンプリング\n",
        "for i in range(9, 1, -1):\n",
        "    AccX, AccY, AccZ, Hz = resampling_Acc(100, i * 10, AccX, AccY, AccZ, Hz)\n",
        "\n",
        "#静止区間を除去\n",
        "for i in range(len(Hz)):\n",
        "    ResultantAcc.append(acc_to_remove_stationary_intervals(AccX[i], AccY[i], AccZ[i]))"
      ]
    },
    {
      "cell_type": "code",
      "execution_count": 15,
      "metadata": {
        "id": "5DEuTTiKchl6"
      },
      "outputs": [],
      "source": [
        "#ヒストグラム作成\n",
        "for i in range(len(ResultantAcc)):\n",
        "    DifferenceAcc_list.append(calculate_differences_of_acceleration(ResultantAcc[i]))\n",
        "DifferenceAcc_hist = create_histogram2(DifferenceAcc_list)"
      ]
    },
    {
      "cell_type": "code",
      "execution_count": 16,
      "metadata": {
        "id": "rIQXdUwvb-gQ"
      },
      "outputs": [],
      "source": [
        "pathHasc = \"/content/drive/MyDrive/hasc/\"\n",
        "filename = os.listdir(pathHasc) #引数のパスのディレクトリの中のファイル名一覧を取得\n",
        "#filename.remove(\".DS_Store\")"
      ]
    },
    {
      "cell_type": "code",
      "execution_count": 17,
      "metadata": {
        "id": "G2h7cewPcKKq"
      },
      "outputs": [],
      "source": [
        "#使う変数を宣言\n",
        "readAccX, readAccY, readAccZ = [], [], []   #データ読み込む用\n",
        "AccX, AccY, AccZ = [], [], []\n",
        "ResultantAcc = []\n",
        "DifferenceAcc_list = []\n",
        "\n",
        "#各データセットからデータを読み込み二次元配列に格納\n",
        "for i in filename:\n",
        "    readAccX, readAccY, readAccZ = get_accelerationHasc(pathHasc+i)\n",
        "    AccX.append(readAccX), AccY.append(readAccY), AccZ.append(readAccZ)\n",
        "\n",
        "HzHasc = np.ones(len(filename)) * 100\n",
        "\n",
        "#各加速度データをダウンサンプリング\n",
        "for i in range(9, 1, -1):\n",
        "    AccX, AccY, AccZ, HzHasc = resampling_Acc(100, i * 10, AccX, AccY, AccZ, HzHasc)\n",
        "\n",
        "#静止区間を除去\n",
        "for i in range(len(HzHasc)):\n",
        "    ResultantAcc.append(acc_to_remove_stationary_intervals(AccX[i], AccY[i], AccZ[i]))"
      ]
    },
    {
      "cell_type": "code",
      "execution_count": 18,
      "metadata": {
        "id": "PR_ij4tecrTm"
      },
      "outputs": [],
      "source": [
        "#ヒストグラム作成\n",
        "for i in range(len(ResultantAcc)):\n",
        "    DifferenceAcc_list.append(calculate_differences_of_acceleration(ResultantAcc[i]))\n",
        "DifferenceAcc_histHasc = create_histogram2(DifferenceAcc_list)"
      ]
    },
    {
      "cell_type": "code",
      "execution_count": 19,
      "metadata": {
        "id": "wUCx1z4JyVHe"
      },
      "outputs": [],
      "source": [
        "pathKaggle = \"/content/drive/MyDrive/11.Walk/\"\n",
        "filename = os.listdir(pathKaggle) #引数のパスのディレクトリの中のファイル名一覧を取得\n",
        "#filename.remove(\".DS_Store\")"
      ]
    },
    {
      "cell_type": "code",
      "execution_count": 20,
      "metadata": {
        "id": "1BlBKAJkyeHp"
      },
      "outputs": [],
      "source": [
        "#使う変数を宣言\n",
        "readAccX, readAccY, readAccZ = [], [], []   #データ読み込む用\n",
        "AccX, AccY, AccZ = [], [], []\n",
        "ResultantAcc = []\n",
        "DifferenceAcc_list = []\n",
        "\n",
        "#各データセットからデータを読み込み二次元配列に格納\n",
        "for i in filename:\n",
        "    readAccX, readAccY, readAccZ = get_accelerationHasc(pathKaggle+i)\n",
        "    AccX.append(readAccX), AccY.append(readAccY), AccZ.append(readAccZ)\n",
        "\n",
        "HzKaggle = np.ones(len(filename)) * 100\n",
        "\n",
        "#各加速度データをダウンサンプリング\n",
        "for i in range(9, 1, -1):\n",
        "    AccX, AccY, AccZ, HzKaggle = resampling_Acc(100, i * 10, AccX, AccY, AccZ, HzKaggle)\n",
        "\n",
        "#静止区間を除去\n",
        "for i in range(len(HzHasc)):\n",
        "    ResultantAcc.append(acc_to_remove_stationary_intervals(AccX[i], AccY[i], AccZ[i]))"
      ]
    },
    {
      "cell_type": "code",
      "execution_count": 21,
      "metadata": {
        "id": "wi4emrNEytHW"
      },
      "outputs": [],
      "source": [
        "#ヒストグラム作成\n",
        "for i in range(len(ResultantAcc)):\n",
        "    DifferenceAcc_list.append(calculate_differences_of_acceleration(ResultantAcc[i]))\n",
        "DifferenceAcc_histKaggle = create_histogram2(DifferenceAcc_list)"
      ]
    },
    {
      "cell_type": "code",
      "execution_count": 22,
      "metadata": {
        "id": "vTkauiAMdjMf"
      },
      "outputs": [],
      "source": [
        "#標準化\n",
        "scaler = StandardScaler()\n",
        "# Fit the scaler to x_train\n",
        "scaler.fit(DifferenceAcc_hist)\n",
        "# Use the scaler to transform x_train and x_test\n",
        "DifferenceAcc_hist = scaler.transform(DifferenceAcc_hist)"
      ]
    },
    {
      "cell_type": "code",
      "execution_count": 23,
      "metadata": {
        "id": "V8SRN1Jednsw"
      },
      "outputs": [],
      "source": [
        "#標準化\n",
        "scaler = StandardScaler()\n",
        "# Fit the scaler to x_train\n",
        "scaler.fit(DifferenceAcc_histHasc)\n",
        "# Use the scaler to transform x_train and x_test\n",
        "DifferenceAcc_histHasc = scaler.transform(DifferenceAcc_histHasc)"
      ]
    },
    {
      "cell_type": "code",
      "execution_count": 24,
      "metadata": {
        "id": "vECR1vmvyxNV"
      },
      "outputs": [],
      "source": [
        "#標準化\n",
        "scaler = StandardScaler()\n",
        "# Fit the scaler to x_train\n",
        "scaler.fit(DifferenceAcc_histKaggle)\n",
        "# Use the scaler to transform x_train and x_test\n",
        "DifferenceAcc_histKaggle = scaler.transform(DifferenceAcc_histKaggle)"
      ]
    },
    {
      "cell_type": "code",
      "execution_count": 25,
      "metadata": {
        "id": "wdkRN2n9dxeT"
      },
      "outputs": [],
      "source": [
        "#transformer regression\n",
        "#各種パラメータ\n",
        "NUM_HEADS = 2\n",
        "KEY_DIM = 25\n",
        "BINS = 50\n",
        "DROPOUT = 0.1\n",
        "N = 1\n",
        "\n",
        "# Define the input shape\n",
        "input_shape = (BINS,)\n",
        "output_shape = (1,)\n",
        "\n",
        "#形を定義(このモジュールは行列でないとダメっぽい)\n",
        "inputs_encoder = layers.Input(shape=input_shape)\n",
        "inputs_decoder = layers.Input(shape=output_shape)"
      ]
    },
    {
      "cell_type": "code",
      "execution_count": 26,
      "metadata": {
        "id": "8DfD41iqd2fh"
      },
      "outputs": [],
      "source": [
        "#Encoderに対する入力の形状\n",
        "x_encoder = layers.Reshape((1, 50))(inputs_encoder)"
      ]
    },
    {
      "cell_type": "code",
      "execution_count": 27,
      "metadata": {
        "id": "IdfPrQ4Rd558"
      },
      "outputs": [],
      "source": [
        "#Transformer Encoder Layer(BERT)\n",
        "for i in range(N):\n",
        "      #Multi-Head-Attention Layer\n",
        "      attention_encoder = layers.MultiHeadAttention(num_heads=NUM_HEADS, key_dim=KEY_DIM, use_bias=True)(x_encoder, x_encoder, x_encoder)\n",
        "\n",
        "      #Dropout Layer\n",
        "      attention_encoder = layers.Dropout(rate=DROPOUT)(attention_encoder)\n",
        "      #Add & Norm Layer\n",
        "      attention_encoder = layers.LayerNormalization()(x_encoder + attention_encoder)\n",
        "\n",
        "      #Feed-Forward-Network\n",
        "      ffn_encoder = layers.Dense(BINS * 4, use_bias=True, activation=\"relu\")(attention_encoder)\n",
        "      ffn_encoder = layers.Dense(BINS, use_bias=True)(ffn_encoder)\n",
        "\n",
        "      #Dropout Layer\n",
        "      ffn_encoder = layers.Dropout(rate=DROPOUT)(ffn_encoder)\n",
        "      #Add & Norm Layer\n",
        "      x_encoder = layers.LayerNormalization()(attention_encoder + ffn_encoder)"
      ]
    },
    {
      "cell_type": "code",
      "execution_count": 28,
      "metadata": {
        "id": "cAQZaPQHd8VO"
      },
      "outputs": [],
      "source": [
        "x = layers.Flatten()(x_encoder)\n",
        "x = layers.Dense(32, activation=\"relu\")(x)\n",
        "x = layers.Dropout(0.1)(x)\n",
        "x = layers.Dense(16, activation=\"relu\")(x)\n",
        "x = layers.Dropout(0.1)(x)\n",
        "outputs = layers.Dense(1, activation=\"relu\")(x)"
      ]
    },
    {
      "cell_type": "code",
      "execution_count": 29,
      "metadata": {
        "id": "i-knZZwMd-n8"
      },
      "outputs": [],
      "source": [
        "model = keras.Model(inputs=inputs_encoder, outputs=outputs)"
      ]
    },
    {
      "cell_type": "code",
      "execution_count": 30,
      "metadata": {
        "id": "7-IwMOl3eBLI"
      },
      "outputs": [],
      "source": [
        "# Compile the model\n",
        "model.compile(\n",
        "    optimizer=keras.optimizers.Adam(),\n",
        "    loss=keras.losses.mean_squared_error,\n",
        "    metrics=[keras.metrics.mean_squared_error],\n",
        ")"
      ]
    },
    {
      "cell_type": "code",
      "execution_count": 31,
      "metadata": {
        "id": "VeFKmnTieEqR"
      },
      "outputs": [],
      "source": [
        "mae = []\n",
        "mse = []\n",
        "r2 = []"
      ]
    },
    {
      "cell_type": "code",
      "execution_count": 32,
      "metadata": {
        "id": "NkoUJJqyHdyK",
        "outputId": "96daecce-3650-4e7c-e071-5690a29aea2f",
        "colab": {
          "base_uri": "https://localhost:8080/"
        }
      },
      "outputs": [
        {
          "output_type": "stream",
          "name": "stdout",
          "text": [
            "Epoch 1/100\n",
            "6/6 [==============================] - 10s 76ms/step - loss: 4941.7461 - mean_squared_error: 4941.7461 - val_loss: 552.6807 - val_mean_squared_error: 552.6807\n",
            "Epoch 2/100\n",
            "6/6 [==============================] - 0s 13ms/step - loss: 4637.0488 - mean_squared_error: 4637.0488 - val_loss: 520.5874 - val_mean_squared_error: 520.5874\n",
            "Epoch 3/100\n",
            "6/6 [==============================] - 0s 12ms/step - loss: 4380.5630 - mean_squared_error: 4380.5630 - val_loss: 486.5426 - val_mean_squared_error: 486.5426\n",
            "Epoch 4/100\n",
            "6/6 [==============================] - 0s 12ms/step - loss: 4165.7158 - mean_squared_error: 4165.7158 - val_loss: 445.9198 - val_mean_squared_error: 445.9198\n",
            "Epoch 5/100\n",
            "6/6 [==============================] - 0s 13ms/step - loss: 3941.1267 - mean_squared_error: 3941.1267 - val_loss: 394.8831 - val_mean_squared_error: 394.8831\n",
            "Epoch 6/100\n",
            "6/6 [==============================] - 0s 13ms/step - loss: 3693.4712 - mean_squared_error: 3693.4712 - val_loss: 336.4478 - val_mean_squared_error: 336.4478\n",
            "Epoch 7/100\n",
            "6/6 [==============================] - 0s 13ms/step - loss: 3373.7639 - mean_squared_error: 3373.7639 - val_loss: 265.9483 - val_mean_squared_error: 265.9483\n",
            "Epoch 8/100\n",
            "6/6 [==============================] - 0s 15ms/step - loss: 3002.7971 - mean_squared_error: 3002.7971 - val_loss: 180.7800 - val_mean_squared_error: 180.7800\n",
            "Epoch 9/100\n",
            "6/6 [==============================] - 0s 13ms/step - loss: 2607.9871 - mean_squared_error: 2607.9871 - val_loss: 84.5460 - val_mean_squared_error: 84.5460\n",
            "Epoch 10/100\n",
            "6/6 [==============================] - 0s 12ms/step - loss: 2194.5496 - mean_squared_error: 2194.5496 - val_loss: 32.9091 - val_mean_squared_error: 32.9091\n",
            "Epoch 11/100\n",
            "6/6 [==============================] - 0s 12ms/step - loss: 1681.5419 - mean_squared_error: 1681.5419 - val_loss: 85.7992 - val_mean_squared_error: 85.7992\n",
            "Epoch 12/100\n",
            "6/6 [==============================] - 0s 14ms/step - loss: 1328.6150 - mean_squared_error: 1328.6150 - val_loss: 264.5894 - val_mean_squared_error: 264.5894\n",
            "Epoch 13/100\n",
            "6/6 [==============================] - 0s 16ms/step - loss: 1033.8218 - mean_squared_error: 1033.8218 - val_loss: 547.3105 - val_mean_squared_error: 547.3105\n",
            "Epoch 14/100\n",
            "6/6 [==============================] - 0s 12ms/step - loss: 792.8043 - mean_squared_error: 792.8043 - val_loss: 877.4490 - val_mean_squared_error: 877.4490\n",
            "Epoch 15/100\n",
            "6/6 [==============================] - 0s 12ms/step - loss: 625.2699 - mean_squared_error: 625.2698 - val_loss: 1179.2325 - val_mean_squared_error: 1179.2325\n",
            "Epoch 16/100\n",
            "6/6 [==============================] - 0s 13ms/step - loss: 624.5765 - mean_squared_error: 624.5765 - val_loss: 1243.7643 - val_mean_squared_error: 1243.7643\n",
            "Epoch 17/100\n",
            "6/6 [==============================] - 0s 14ms/step - loss: 521.0253 - mean_squared_error: 521.0253 - val_loss: 969.2756 - val_mean_squared_error: 969.2756\n",
            "Epoch 18/100\n",
            "6/6 [==============================] - 0s 15ms/step - loss: 413.7234 - mean_squared_error: 413.7234 - val_loss: 590.3427 - val_mean_squared_error: 590.3427\n",
            "Epoch 19/100\n",
            "6/6 [==============================] - 0s 12ms/step - loss: 455.2312 - mean_squared_error: 455.2312 - val_loss: 432.6582 - val_mean_squared_error: 432.6582\n",
            "Epoch 20/100\n",
            "6/6 [==============================] - 0s 12ms/step - loss: 337.4586 - mean_squared_error: 337.4586 - val_loss: 374.3632 - val_mean_squared_error: 374.3632\n",
            "Epoch 21/100\n",
            "6/6 [==============================] - 0s 16ms/step - loss: 334.0368 - mean_squared_error: 334.0367 - val_loss: 383.4886 - val_mean_squared_error: 383.4886\n",
            "Epoch 22/100\n",
            "6/6 [==============================] - 0s 15ms/step - loss: 307.6612 - mean_squared_error: 307.6612 - val_loss: 483.5150 - val_mean_squared_error: 483.5150\n",
            "Epoch 23/100\n",
            "6/6 [==============================] - 0s 12ms/step - loss: 275.5855 - mean_squared_error: 275.5855 - val_loss: 448.1041 - val_mean_squared_error: 448.1041\n",
            "Epoch 24/100\n",
            "6/6 [==============================] - 0s 12ms/step - loss: 252.2773 - mean_squared_error: 252.2773 - val_loss: 280.4739 - val_mean_squared_error: 280.4739\n",
            "Epoch 25/100\n",
            "6/6 [==============================] - 0s 12ms/step - loss: 240.0502 - mean_squared_error: 240.0502 - val_loss: 129.0681 - val_mean_squared_error: 129.0681\n",
            "Epoch 26/100\n",
            "6/6 [==============================] - 0s 12ms/step - loss: 222.9285 - mean_squared_error: 222.9285 - val_loss: 100.0199 - val_mean_squared_error: 100.0199\n",
            "Epoch 27/100\n",
            "6/6 [==============================] - 0s 15ms/step - loss: 195.2034 - mean_squared_error: 195.2034 - val_loss: 165.0763 - val_mean_squared_error: 165.0763\n",
            "Epoch 28/100\n",
            "6/6 [==============================] - 0s 12ms/step - loss: 212.4472 - mean_squared_error: 212.4472 - val_loss: 301.3051 - val_mean_squared_error: 301.3051\n",
            "Epoch 29/100\n",
            "6/6 [==============================] - 0s 12ms/step - loss: 223.2970 - mean_squared_error: 223.2970 - val_loss: 264.6341 - val_mean_squared_error: 264.6341\n",
            "Epoch 30/100\n",
            "6/6 [==============================] - 0s 14ms/step - loss: 198.2296 - mean_squared_error: 198.2296 - val_loss: 221.0833 - val_mean_squared_error: 221.0833\n",
            "Epoch 31/100\n",
            "6/6 [==============================] - 0s 14ms/step - loss: 141.6434 - mean_squared_error: 141.6434 - val_loss: 208.7144 - val_mean_squared_error: 208.7144\n",
            "Epoch 32/100\n",
            "6/6 [==============================] - 0s 15ms/step - loss: 199.3397 - mean_squared_error: 199.3397 - val_loss: 242.2169 - val_mean_squared_error: 242.2169\n",
            "Epoch 33/100\n",
            "6/6 [==============================] - 0s 15ms/step - loss: 240.3542 - mean_squared_error: 240.3542 - val_loss: 298.6943 - val_mean_squared_error: 298.6943\n",
            "Epoch 34/100\n",
            "6/6 [==============================] - 0s 12ms/step - loss: 183.1127 - mean_squared_error: 183.1127 - val_loss: 387.4239 - val_mean_squared_error: 387.4239\n",
            "Epoch 35/100\n",
            "6/6 [==============================] - 0s 12ms/step - loss: 194.2068 - mean_squared_error: 194.2068 - val_loss: 468.1973 - val_mean_squared_error: 468.1973\n",
            "Epoch 36/100\n",
            "6/6 [==============================] - 0s 15ms/step - loss: 181.6094 - mean_squared_error: 181.6094 - val_loss: 336.5540 - val_mean_squared_error: 336.5540\n",
            "Epoch 37/100\n",
            "6/6 [==============================] - 0s 16ms/step - loss: 169.9799 - mean_squared_error: 169.9799 - val_loss: 171.1294 - val_mean_squared_error: 171.1294\n",
            "Epoch 38/100\n",
            "6/6 [==============================] - 0s 15ms/step - loss: 196.4139 - mean_squared_error: 196.4139 - val_loss: 113.7545 - val_mean_squared_error: 113.7545\n",
            "Epoch 39/100\n",
            "6/6 [==============================] - 0s 15ms/step - loss: 205.4663 - mean_squared_error: 205.4663 - val_loss: 155.3710 - val_mean_squared_error: 155.3710\n",
            "Epoch 40/100\n",
            "6/6 [==============================] - 0s 12ms/step - loss: 226.3785 - mean_squared_error: 226.3785 - val_loss: 258.5514 - val_mean_squared_error: 258.5514\n",
            "Epoch 41/100\n",
            "6/6 [==============================] - 0s 12ms/step - loss: 197.5016 - mean_squared_error: 197.5016 - val_loss: 292.1086 - val_mean_squared_error: 292.1086\n",
            "Epoch 42/100\n",
            "6/6 [==============================] - 0s 12ms/step - loss: 189.2208 - mean_squared_error: 189.2208 - val_loss: 187.9499 - val_mean_squared_error: 187.9499\n",
            "Epoch 43/100\n",
            "6/6 [==============================] - 0s 14ms/step - loss: 167.6100 - mean_squared_error: 167.6100 - val_loss: 159.2964 - val_mean_squared_error: 159.2964\n",
            "Epoch 44/100\n",
            "6/6 [==============================] - 0s 13ms/step - loss: 193.1176 - mean_squared_error: 193.1176 - val_loss: 172.6380 - val_mean_squared_error: 172.6380\n",
            "Epoch 45/100\n",
            "6/6 [==============================] - 0s 14ms/step - loss: 163.1060 - mean_squared_error: 163.1060 - val_loss: 226.5068 - val_mean_squared_error: 226.5068\n",
            "Epoch 46/100\n",
            "6/6 [==============================] - 0s 15ms/step - loss: 203.3118 - mean_squared_error: 203.3118 - val_loss: 258.6190 - val_mean_squared_error: 258.6190\n",
            "Epoch 47/100\n",
            "6/6 [==============================] - 0s 15ms/step - loss: 171.0514 - mean_squared_error: 171.0514 - val_loss: 341.2218 - val_mean_squared_error: 341.2218\n",
            "Epoch 48/100\n",
            "6/6 [==============================] - 0s 16ms/step - loss: 157.9823 - mean_squared_error: 157.9823 - val_loss: 327.3212 - val_mean_squared_error: 327.3212\n",
            "Epoch 49/100\n",
            "6/6 [==============================] - 0s 15ms/step - loss: 187.1441 - mean_squared_error: 187.1441 - val_loss: 315.2415 - val_mean_squared_error: 315.2415\n",
            "Epoch 50/100\n",
            "6/6 [==============================] - 0s 15ms/step - loss: 172.8651 - mean_squared_error: 172.8651 - val_loss: 239.8615 - val_mean_squared_error: 239.8615\n",
            "Epoch 51/100\n",
            "6/6 [==============================] - 0s 14ms/step - loss: 142.8259 - mean_squared_error: 142.8259 - val_loss: 153.3433 - val_mean_squared_error: 153.3433\n",
            "Epoch 52/100\n",
            "6/6 [==============================] - 0s 12ms/step - loss: 164.6256 - mean_squared_error: 164.6256 - val_loss: 215.2511 - val_mean_squared_error: 215.2511\n",
            "Epoch 53/100\n",
            "6/6 [==============================] - 0s 15ms/step - loss: 174.5280 - mean_squared_error: 174.5280 - val_loss: 226.2209 - val_mean_squared_error: 226.2209\n",
            "Epoch 54/100\n",
            "6/6 [==============================] - 0s 12ms/step - loss: 185.4022 - mean_squared_error: 185.4022 - val_loss: 205.7027 - val_mean_squared_error: 205.7027\n",
            "Epoch 55/100\n",
            "6/6 [==============================] - 0s 14ms/step - loss: 168.7481 - mean_squared_error: 168.7481 - val_loss: 248.7106 - val_mean_squared_error: 248.7106\n",
            "Epoch 56/100\n",
            "6/6 [==============================] - 0s 15ms/step - loss: 170.8665 - mean_squared_error: 170.8665 - val_loss: 232.7564 - val_mean_squared_error: 232.7564\n",
            "Epoch 57/100\n",
            "6/6 [==============================] - 0s 14ms/step - loss: 203.0471 - mean_squared_error: 203.0471 - val_loss: 256.9741 - val_mean_squared_error: 256.9741\n",
            "Epoch 58/100\n",
            "6/6 [==============================] - 0s 13ms/step - loss: 198.3770 - mean_squared_error: 198.3770 - val_loss: 347.3797 - val_mean_squared_error: 347.3797\n",
            "Epoch 59/100\n",
            "6/6 [==============================] - 0s 12ms/step - loss: 167.5415 - mean_squared_error: 167.5415 - val_loss: 441.2960 - val_mean_squared_error: 441.2960\n",
            "Epoch 60/100\n",
            "6/6 [==============================] - 0s 15ms/step - loss: 195.6369 - mean_squared_error: 195.6369 - val_loss: 309.8392 - val_mean_squared_error: 309.8392\n",
            "Epoch 61/100\n",
            "6/6 [==============================] - 0s 15ms/step - loss: 146.5207 - mean_squared_error: 146.5207 - val_loss: 224.1312 - val_mean_squared_error: 224.1312\n",
            "Epoch 62/100\n",
            "6/6 [==============================] - 0s 16ms/step - loss: 159.1949 - mean_squared_error: 159.1949 - val_loss: 247.0105 - val_mean_squared_error: 247.0105\n",
            "Epoch 63/100\n",
            "6/6 [==============================] - 0s 16ms/step - loss: 184.3527 - mean_squared_error: 184.3527 - val_loss: 253.3989 - val_mean_squared_error: 253.3989\n",
            "Epoch 64/100\n",
            "6/6 [==============================] - 0s 12ms/step - loss: 153.5849 - mean_squared_error: 153.5849 - val_loss: 231.1280 - val_mean_squared_error: 231.1280\n",
            "Epoch 65/100\n",
            "6/6 [==============================] - 0s 12ms/step - loss: 155.1404 - mean_squared_error: 155.1404 - val_loss: 232.5858 - val_mean_squared_error: 232.5858\n",
            "Epoch 66/100\n",
            "6/6 [==============================] - 0s 13ms/step - loss: 186.3005 - mean_squared_error: 186.3005 - val_loss: 315.5591 - val_mean_squared_error: 315.5591\n",
            "Epoch 67/100\n",
            "6/6 [==============================] - 0s 14ms/step - loss: 153.6942 - mean_squared_error: 153.6942 - val_loss: 354.0278 - val_mean_squared_error: 354.0278\n",
            "Epoch 68/100\n",
            "6/6 [==============================] - 0s 15ms/step - loss: 163.7246 - mean_squared_error: 163.7246 - val_loss: 268.5356 - val_mean_squared_error: 268.5356\n",
            "Epoch 69/100\n",
            "6/6 [==============================] - 0s 13ms/step - loss: 154.9177 - mean_squared_error: 154.9177 - val_loss: 258.9500 - val_mean_squared_error: 258.9500\n",
            "Epoch 70/100\n",
            "6/6 [==============================] - 0s 13ms/step - loss: 185.3696 - mean_squared_error: 185.3696 - val_loss: 275.0168 - val_mean_squared_error: 275.0168\n",
            "Epoch 71/100\n",
            "6/6 [==============================] - 0s 20ms/step - loss: 165.2098 - mean_squared_error: 165.2098 - val_loss: 325.1580 - val_mean_squared_error: 325.1580\n",
            "Epoch 72/100\n",
            "6/6 [==============================] - 0s 17ms/step - loss: 203.5888 - mean_squared_error: 203.5888 - val_loss: 404.5177 - val_mean_squared_error: 404.5177\n",
            "Epoch 73/100\n",
            "6/6 [==============================] - 0s 16ms/step - loss: 160.5504 - mean_squared_error: 160.5504 - val_loss: 373.2332 - val_mean_squared_error: 373.2332\n",
            "Epoch 74/100\n",
            "6/6 [==============================] - 0s 13ms/step - loss: 169.9985 - mean_squared_error: 169.9985 - val_loss: 313.3182 - val_mean_squared_error: 313.3182\n",
            "Epoch 75/100\n",
            "6/6 [==============================] - 0s 15ms/step - loss: 152.7762 - mean_squared_error: 152.7762 - val_loss: 277.0133 - val_mean_squared_error: 277.0133\n",
            "Epoch 76/100\n",
            "6/6 [==============================] - 0s 14ms/step - loss: 191.8398 - mean_squared_error: 191.8398 - val_loss: 275.4900 - val_mean_squared_error: 275.4900\n",
            "Epoch 77/100\n",
            "6/6 [==============================] - 0s 12ms/step - loss: 154.6707 - mean_squared_error: 154.6707 - val_loss: 227.9622 - val_mean_squared_error: 227.9622\n",
            "Epoch 78/100\n",
            "6/6 [==============================] - 0s 24ms/step - loss: 145.4129 - mean_squared_error: 145.4129 - val_loss: 227.4757 - val_mean_squared_error: 227.4757\n",
            "Epoch 79/100\n",
            "6/6 [==============================] - 0s 18ms/step - loss: 174.4587 - mean_squared_error: 174.4587 - val_loss: 241.8378 - val_mean_squared_error: 241.8378\n",
            "Epoch 80/100\n",
            "6/6 [==============================] - 0s 19ms/step - loss: 149.5783 - mean_squared_error: 149.5783 - val_loss: 406.0956 - val_mean_squared_error: 406.0956\n",
            "Epoch 81/100\n",
            "6/6 [==============================] - 0s 21ms/step - loss: 169.0443 - mean_squared_error: 169.0443 - val_loss: 504.3853 - val_mean_squared_error: 504.3853\n",
            "Epoch 82/100\n",
            "6/6 [==============================] - 0s 19ms/step - loss: 160.8636 - mean_squared_error: 160.8636 - val_loss: 484.7699 - val_mean_squared_error: 484.7699\n",
            "Epoch 83/100\n",
            "6/6 [==============================] - 0s 20ms/step - loss: 125.8768 - mean_squared_error: 125.8768 - val_loss: 287.9654 - val_mean_squared_error: 287.9654\n",
            "Epoch 84/100\n",
            "6/6 [==============================] - 0s 18ms/step - loss: 167.6941 - mean_squared_error: 167.6941 - val_loss: 263.5858 - val_mean_squared_error: 263.5858\n",
            "Epoch 85/100\n",
            "6/6 [==============================] - 0s 19ms/step - loss: 181.3092 - mean_squared_error: 181.3092 - val_loss: 362.5895 - val_mean_squared_error: 362.5895\n",
            "Epoch 86/100\n",
            "6/6 [==============================] - 0s 22ms/step - loss: 138.4978 - mean_squared_error: 138.4978 - val_loss: 379.3344 - val_mean_squared_error: 379.3344\n",
            "Epoch 87/100\n",
            "6/6 [==============================] - 0s 22ms/step - loss: 157.0685 - mean_squared_error: 157.0685 - val_loss: 315.4213 - val_mean_squared_error: 315.4213\n",
            "Epoch 88/100\n",
            "6/6 [==============================] - 0s 20ms/step - loss: 134.2173 - mean_squared_error: 134.2173 - val_loss: 283.4466 - val_mean_squared_error: 283.4466\n",
            "Epoch 89/100\n",
            "6/6 [==============================] - 0s 18ms/step - loss: 159.5197 - mean_squared_error: 159.5197 - val_loss: 338.9478 - val_mean_squared_error: 338.9478\n",
            "Epoch 90/100\n",
            "6/6 [==============================] - 0s 20ms/step - loss: 153.8280 - mean_squared_error: 153.8280 - val_loss: 378.0283 - val_mean_squared_error: 378.0283\n",
            "Epoch 91/100\n",
            "6/6 [==============================] - 0s 20ms/step - loss: 165.0280 - mean_squared_error: 165.0280 - val_loss: 398.8196 - val_mean_squared_error: 398.8196\n",
            "Epoch 92/100\n",
            "6/6 [==============================] - 0s 20ms/step - loss: 165.6630 - mean_squared_error: 165.6630 - val_loss: 511.2603 - val_mean_squared_error: 511.2603\n",
            "Epoch 93/100\n",
            "6/6 [==============================] - 0s 19ms/step - loss: 164.4456 - mean_squared_error: 164.4456 - val_loss: 397.5141 - val_mean_squared_error: 397.5141\n",
            "Epoch 94/100\n",
            "6/6 [==============================] - 0s 19ms/step - loss: 154.7011 - mean_squared_error: 154.7011 - val_loss: 314.2088 - val_mean_squared_error: 314.2088\n",
            "Epoch 95/100\n",
            "6/6 [==============================] - 0s 18ms/step - loss: 169.3566 - mean_squared_error: 169.3566 - val_loss: 323.0834 - val_mean_squared_error: 323.0834\n",
            "Epoch 96/100\n",
            "6/6 [==============================] - 0s 24ms/step - loss: 137.3332 - mean_squared_error: 137.3332 - val_loss: 290.8599 - val_mean_squared_error: 290.8599\n",
            "Epoch 97/100\n",
            "6/6 [==============================] - 0s 18ms/step - loss: 153.7297 - mean_squared_error: 153.7297 - val_loss: 312.0721 - val_mean_squared_error: 312.0721\n",
            "Epoch 98/100\n",
            "6/6 [==============================] - 0s 22ms/step - loss: 133.8125 - mean_squared_error: 133.8125 - val_loss: 321.2622 - val_mean_squared_error: 321.2622\n",
            "Epoch 99/100\n",
            "6/6 [==============================] - 0s 20ms/step - loss: 166.9886 - mean_squared_error: 166.9886 - val_loss: 353.9421 - val_mean_squared_error: 353.9421\n",
            "Epoch 100/100\n",
            "6/6 [==============================] - 0s 20ms/step - loss: 123.1100 - mean_squared_error: 123.1100 - val_loss: 388.9203 - val_mean_squared_error: 388.9203\n",
            "15/15 [==============================] - 0s 3ms/step\n"
          ]
        }
      ],
      "source": [
        "#自分ので構築→Hascので試す\n",
        "history = model.fit(DifferenceAcc_hist, Hz, batch_size=32, epochs=100, shuffle=True, validation_split=0.2)\n",
        "y_pred = tf.cast(tf.clip_by_value(model.predict(DifferenceAcc_histHasc), 20, 100), tf.int32)\n",
        "mae.append(mean_absolute_error(y_pred, HzHasc))\n",
        "mse.append(mean_squared_error(y_pred, HzHasc))\n",
        "r2.append(r2_score(y_pred, HzHasc))"
      ]
    },
    {
      "cell_type": "code",
      "execution_count": 33,
      "metadata": {
        "id": "V_ZYBN1vHdyK",
        "outputId": "f8da9156-4efb-4e70-b0ee-236df2dc4abf",
        "colab": {
          "base_uri": "https://localhost:8080/",
          "height": 1000
        }
      },
      "outputs": [
        {
          "output_type": "stream",
          "name": "stdout",
          "text": [
            "Epoch 1/100\n",
            "6/6 [==============================] - 0s 19ms/step - loss: 144.2723 - mean_squared_error: 144.2723 - val_loss: 434.2796 - val_mean_squared_error: 434.2796\n",
            "Epoch 2/100\n",
            "6/6 [==============================] - 0s 13ms/step - loss: 164.2371 - mean_squared_error: 164.2371 - val_loss: 499.1042 - val_mean_squared_error: 499.1042\n",
            "Epoch 3/100\n",
            "6/6 [==============================] - 0s 12ms/step - loss: 166.5203 - mean_squared_error: 166.5203 - val_loss: 482.2663 - val_mean_squared_error: 482.2663\n",
            "Epoch 4/100\n",
            "6/6 [==============================] - 0s 12ms/step - loss: 141.5027 - mean_squared_error: 141.5027 - val_loss: 466.4905 - val_mean_squared_error: 466.4905\n",
            "Epoch 5/100\n",
            "6/6 [==============================] - 0s 16ms/step - loss: 155.1443 - mean_squared_error: 155.1443 - val_loss: 478.3056 - val_mean_squared_error: 478.3056\n",
            "Epoch 6/100\n",
            "6/6 [==============================] - 0s 12ms/step - loss: 115.5458 - mean_squared_error: 115.5458 - val_loss: 467.4431 - val_mean_squared_error: 467.4431\n",
            "Epoch 7/100\n",
            "6/6 [==============================] - 0s 12ms/step - loss: 147.3063 - mean_squared_error: 147.3063 - val_loss: 438.2577 - val_mean_squared_error: 438.2577\n",
            "Epoch 8/100\n",
            "6/6 [==============================] - 0s 12ms/step - loss: 161.8712 - mean_squared_error: 161.8712 - val_loss: 392.7723 - val_mean_squared_error: 392.7723\n",
            "Epoch 9/100\n",
            "6/6 [==============================] - 0s 13ms/step - loss: 149.1340 - mean_squared_error: 149.1340 - val_loss: 425.5393 - val_mean_squared_error: 425.5393\n",
            "Epoch 10/100\n",
            "6/6 [==============================] - 0s 12ms/step - loss: 116.1625 - mean_squared_error: 116.1625 - val_loss: 508.4484 - val_mean_squared_error: 508.4484\n",
            "Epoch 11/100\n",
            "6/6 [==============================] - 0s 15ms/step - loss: 155.9339 - mean_squared_error: 155.9339 - val_loss: 486.0473 - val_mean_squared_error: 486.0473\n",
            "Epoch 12/100\n",
            "6/6 [==============================] - 0s 15ms/step - loss: 147.2883 - mean_squared_error: 147.2883 - val_loss: 371.8843 - val_mean_squared_error: 371.8843\n",
            "Epoch 13/100\n",
            "6/6 [==============================] - 0s 12ms/step - loss: 149.3826 - mean_squared_error: 149.3826 - val_loss: 339.9336 - val_mean_squared_error: 339.9336\n",
            "Epoch 14/100\n",
            "6/6 [==============================] - 0s 15ms/step - loss: 116.6175 - mean_squared_error: 116.6175 - val_loss: 389.4210 - val_mean_squared_error: 389.4210\n",
            "Epoch 15/100\n",
            "6/6 [==============================] - 0s 13ms/step - loss: 123.9360 - mean_squared_error: 123.9360 - val_loss: 452.9163 - val_mean_squared_error: 452.9163\n",
            "Epoch 16/100\n",
            "6/6 [==============================] - 0s 12ms/step - loss: 147.7611 - mean_squared_error: 147.7611 - val_loss: 396.1634 - val_mean_squared_error: 396.1634\n",
            "Epoch 17/100\n",
            "6/6 [==============================] - 0s 14ms/step - loss: 146.4984 - mean_squared_error: 146.4984 - val_loss: 300.9989 - val_mean_squared_error: 300.9989\n",
            "Epoch 18/100\n",
            "6/6 [==============================] - 0s 15ms/step - loss: 144.5505 - mean_squared_error: 144.5505 - val_loss: 299.3597 - val_mean_squared_error: 299.3597\n",
            "Epoch 19/100\n",
            "6/6 [==============================] - 0s 13ms/step - loss: 152.9335 - mean_squared_error: 152.9335 - val_loss: 289.4478 - val_mean_squared_error: 289.4478\n",
            "Epoch 20/100\n",
            "6/6 [==============================] - 0s 13ms/step - loss: 141.6773 - mean_squared_error: 141.6773 - val_loss: 319.0760 - val_mean_squared_error: 319.0760\n",
            "Epoch 21/100\n",
            "6/6 [==============================] - 0s 16ms/step - loss: 151.9360 - mean_squared_error: 151.9360 - val_loss: 390.8905 - val_mean_squared_error: 390.8905\n",
            "Epoch 22/100\n",
            "6/6 [==============================] - 0s 16ms/step - loss: 159.1342 - mean_squared_error: 159.1342 - val_loss: 400.1240 - val_mean_squared_error: 400.1240\n",
            "Epoch 23/100\n",
            "6/6 [==============================] - 0s 14ms/step - loss: 151.4365 - mean_squared_error: 151.4365 - val_loss: 344.7605 - val_mean_squared_error: 344.7605\n",
            "Epoch 24/100\n",
            "6/6 [==============================] - 0s 12ms/step - loss: 148.3544 - mean_squared_error: 148.3544 - val_loss: 279.0713 - val_mean_squared_error: 279.0713\n",
            "Epoch 25/100\n",
            "6/6 [==============================] - 0s 14ms/step - loss: 156.0658 - mean_squared_error: 156.0658 - val_loss: 241.5233 - val_mean_squared_error: 241.5233\n",
            "Epoch 26/100\n",
            "6/6 [==============================] - 0s 15ms/step - loss: 133.9713 - mean_squared_error: 133.9713 - val_loss: 231.5963 - val_mean_squared_error: 231.5963\n",
            "Epoch 27/100\n",
            "6/6 [==============================] - 0s 12ms/step - loss: 162.9113 - mean_squared_error: 162.9113 - val_loss: 197.5024 - val_mean_squared_error: 197.5024\n",
            "Epoch 28/100\n",
            "6/6 [==============================] - 0s 12ms/step - loss: 128.7380 - mean_squared_error: 128.7380 - val_loss: 272.8820 - val_mean_squared_error: 272.8820\n",
            "Epoch 29/100\n",
            "6/6 [==============================] - 0s 15ms/step - loss: 134.7255 - mean_squared_error: 134.7255 - val_loss: 290.1198 - val_mean_squared_error: 290.1198\n",
            "Epoch 30/100\n",
            "6/6 [==============================] - 0s 13ms/step - loss: 132.7626 - mean_squared_error: 132.7626 - val_loss: 224.9198 - val_mean_squared_error: 224.9198\n",
            "Epoch 31/100\n",
            "6/6 [==============================] - 0s 12ms/step - loss: 110.8833 - mean_squared_error: 110.8833 - val_loss: 280.4147 - val_mean_squared_error: 280.4147\n",
            "Epoch 32/100\n",
            "6/6 [==============================] - 0s 12ms/step - loss: 177.6701 - mean_squared_error: 177.6701 - val_loss: 311.7004 - val_mean_squared_error: 311.7004\n",
            "Epoch 33/100\n",
            "6/6 [==============================] - 0s 13ms/step - loss: 174.1140 - mean_squared_error: 174.1140 - val_loss: 371.6437 - val_mean_squared_error: 371.6437\n",
            "Epoch 34/100\n",
            "6/6 [==============================] - 0s 14ms/step - loss: 137.3038 - mean_squared_error: 137.3038 - val_loss: 421.8097 - val_mean_squared_error: 421.8097\n",
            "Epoch 35/100\n",
            "6/6 [==============================] - 0s 14ms/step - loss: 157.1030 - mean_squared_error: 157.1030 - val_loss: 373.1529 - val_mean_squared_error: 373.1529\n",
            "Epoch 36/100\n",
            "6/6 [==============================] - 0s 15ms/step - loss: 135.0379 - mean_squared_error: 135.0379 - val_loss: 349.5265 - val_mean_squared_error: 349.5265\n",
            "Epoch 37/100\n",
            "6/6 [==============================] - 0s 15ms/step - loss: 141.5555 - mean_squared_error: 141.5555 - val_loss: 334.7162 - val_mean_squared_error: 334.7162\n",
            "Epoch 38/100\n",
            "6/6 [==============================] - 0s 15ms/step - loss: 123.5137 - mean_squared_error: 123.5137 - val_loss: 379.1161 - val_mean_squared_error: 379.1161\n",
            "Epoch 39/100\n",
            "6/6 [==============================] - 0s 15ms/step - loss: 143.8777 - mean_squared_error: 143.8777 - val_loss: 410.3142 - val_mean_squared_error: 410.3142\n",
            "Epoch 40/100\n",
            "6/6 [==============================] - 0s 12ms/step - loss: 136.9140 - mean_squared_error: 136.9140 - val_loss: 361.7592 - val_mean_squared_error: 361.7592\n",
            "Epoch 41/100\n",
            "6/6 [==============================] - 0s 14ms/step - loss: 115.1351 - mean_squared_error: 115.1351 - val_loss: 350.6458 - val_mean_squared_error: 350.6458\n",
            "Epoch 42/100\n",
            "6/6 [==============================] - 0s 14ms/step - loss: 153.2297 - mean_squared_error: 153.2297 - val_loss: 323.6888 - val_mean_squared_error: 323.6888\n",
            "Epoch 43/100\n",
            "6/6 [==============================] - 0s 14ms/step - loss: 144.2496 - mean_squared_error: 144.2496 - val_loss: 349.1243 - val_mean_squared_error: 349.1243\n",
            "Epoch 44/100\n",
            "6/6 [==============================] - 0s 12ms/step - loss: 101.2192 - mean_squared_error: 101.2192 - val_loss: 337.4168 - val_mean_squared_error: 337.4168\n",
            "Epoch 45/100\n",
            "6/6 [==============================] - 0s 15ms/step - loss: 127.2772 - mean_squared_error: 127.2772 - val_loss: 305.3881 - val_mean_squared_error: 305.3881\n",
            "Epoch 46/100\n",
            "6/6 [==============================] - 0s 15ms/step - loss: 151.8906 - mean_squared_error: 151.8906 - val_loss: 314.4633 - val_mean_squared_error: 314.4633\n",
            "Epoch 47/100\n",
            "6/6 [==============================] - 0s 12ms/step - loss: 143.5671 - mean_squared_error: 143.5671 - val_loss: 331.4657 - val_mean_squared_error: 331.4657\n",
            "Epoch 48/100\n",
            "6/6 [==============================] - 0s 11ms/step - loss: 125.7401 - mean_squared_error: 125.7401 - val_loss: 356.8217 - val_mean_squared_error: 356.8217\n",
            "Epoch 49/100\n",
            "6/6 [==============================] - 0s 13ms/step - loss: 104.3107 - mean_squared_error: 104.3107 - val_loss: 383.5353 - val_mean_squared_error: 383.5353\n",
            "Epoch 50/100\n",
            "6/6 [==============================] - 0s 12ms/step - loss: 141.1097 - mean_squared_error: 141.1097 - val_loss: 412.0705 - val_mean_squared_error: 412.0705\n",
            "Epoch 51/100\n",
            "6/6 [==============================] - 0s 14ms/step - loss: 145.3161 - mean_squared_error: 145.3161 - val_loss: 452.1927 - val_mean_squared_error: 452.1927\n",
            "Epoch 52/100\n",
            "6/6 [==============================] - 0s 12ms/step - loss: 141.7508 - mean_squared_error: 141.7508 - val_loss: 438.5366 - val_mean_squared_error: 438.5366\n",
            "Epoch 53/100\n",
            "6/6 [==============================] - 0s 13ms/step - loss: 166.1856 - mean_squared_error: 166.1856 - val_loss: 439.6255 - val_mean_squared_error: 439.6255\n",
            "Epoch 54/100\n",
            "6/6 [==============================] - 0s 17ms/step - loss: 156.4821 - mean_squared_error: 156.4821 - val_loss: 471.0267 - val_mean_squared_error: 471.0267\n",
            "Epoch 55/100\n",
            "6/6 [==============================] - 0s 15ms/step - loss: 135.5309 - mean_squared_error: 135.5309 - val_loss: 483.3247 - val_mean_squared_error: 483.3247\n",
            "Epoch 56/100\n",
            "6/6 [==============================] - 0s 13ms/step - loss: 126.5356 - mean_squared_error: 126.5356 - val_loss: 499.8815 - val_mean_squared_error: 499.8815\n",
            "Epoch 57/100\n",
            "6/6 [==============================] - 0s 14ms/step - loss: 124.4442 - mean_squared_error: 124.4442 - val_loss: 494.2417 - val_mean_squared_error: 494.2417\n",
            "Epoch 58/100\n",
            "6/6 [==============================] - 0s 15ms/step - loss: 132.3008 - mean_squared_error: 132.3008 - val_loss: 404.5272 - val_mean_squared_error: 404.5272\n",
            "Epoch 59/100\n",
            "6/6 [==============================] - 0s 15ms/step - loss: 136.0077 - mean_squared_error: 136.0077 - val_loss: 371.6003 - val_mean_squared_error: 371.6003\n",
            "Epoch 60/100\n",
            "6/6 [==============================] - 0s 15ms/step - loss: 130.6148 - mean_squared_error: 130.6148 - val_loss: 429.9757 - val_mean_squared_error: 429.9757\n",
            "Epoch 61/100\n",
            "6/6 [==============================] - 0s 17ms/step - loss: 104.0333 - mean_squared_error: 104.0333 - val_loss: 417.1210 - val_mean_squared_error: 417.1210\n",
            "Epoch 62/100\n",
            "6/6 [==============================] - 0s 13ms/step - loss: 107.8855 - mean_squared_error: 107.8855 - val_loss: 404.3213 - val_mean_squared_error: 404.3213\n",
            "Epoch 63/100\n",
            "6/6 [==============================] - 0s 15ms/step - loss: 139.7403 - mean_squared_error: 139.7403 - val_loss: 366.1232 - val_mean_squared_error: 366.1232\n",
            "Epoch 64/100\n",
            "6/6 [==============================] - 0s 12ms/step - loss: 146.2061 - mean_squared_error: 146.2061 - val_loss: 369.1865 - val_mean_squared_error: 369.1865\n",
            "Epoch 65/100\n",
            "6/6 [==============================] - 0s 16ms/step - loss: 140.6467 - mean_squared_error: 140.6467 - val_loss: 394.2086 - val_mean_squared_error: 394.2086\n",
            "Epoch 66/100\n",
            "6/6 [==============================] - 0s 15ms/step - loss: 120.0571 - mean_squared_error: 120.0571 - val_loss: 340.7377 - val_mean_squared_error: 340.7377\n",
            "Epoch 67/100\n",
            "6/6 [==============================] - 0s 15ms/step - loss: 167.9027 - mean_squared_error: 167.9027 - val_loss: 342.4136 - val_mean_squared_error: 342.4136\n",
            "Epoch 68/100\n",
            "6/6 [==============================] - 0s 16ms/step - loss: 135.8867 - mean_squared_error: 135.8867 - val_loss: 281.3731 - val_mean_squared_error: 281.3731\n",
            "Epoch 69/100\n",
            "6/6 [==============================] - 0s 16ms/step - loss: 127.6217 - mean_squared_error: 127.6217 - val_loss: 215.9708 - val_mean_squared_error: 215.9708\n",
            "Epoch 70/100\n",
            "6/6 [==============================] - 0s 16ms/step - loss: 97.7048 - mean_squared_error: 97.7048 - val_loss: 310.1253 - val_mean_squared_error: 310.1253\n",
            "Epoch 71/100\n",
            "6/6 [==============================] - 0s 16ms/step - loss: 120.0353 - mean_squared_error: 120.0353 - val_loss: 409.8670 - val_mean_squared_error: 409.8670\n",
            "Epoch 72/100\n",
            "6/6 [==============================] - 0s 13ms/step - loss: 115.6988 - mean_squared_error: 115.6988 - val_loss: 459.7147 - val_mean_squared_error: 459.7147\n",
            "Epoch 73/100\n",
            "6/6 [==============================] - 0s 12ms/step - loss: 133.9514 - mean_squared_error: 133.9514 - val_loss: 484.2075 - val_mean_squared_error: 484.2075\n",
            "Epoch 74/100\n",
            "6/6 [==============================] - 0s 15ms/step - loss: 92.5190 - mean_squared_error: 92.5190 - val_loss: 490.1756 - val_mean_squared_error: 490.1756\n",
            "Epoch 75/100\n",
            "6/6 [==============================] - 0s 18ms/step - loss: 125.8073 - mean_squared_error: 125.8073 - val_loss: 450.9018 - val_mean_squared_error: 450.9018\n",
            "Epoch 76/100\n",
            "6/6 [==============================] - 0s 22ms/step - loss: 131.0835 - mean_squared_error: 131.0835 - val_loss: 400.6953 - val_mean_squared_error: 400.6953\n",
            "Epoch 77/100\n",
            "6/6 [==============================] - 0s 20ms/step - loss: 129.5172 - mean_squared_error: 129.5172 - val_loss: 424.5201 - val_mean_squared_error: 424.5201\n",
            "Epoch 78/100\n",
            "6/6 [==============================] - 0s 22ms/step - loss: 120.2342 - mean_squared_error: 120.2342 - val_loss: 444.3932 - val_mean_squared_error: 444.3932\n",
            "Epoch 79/100\n",
            "6/6 [==============================] - 0s 23ms/step - loss: 145.7566 - mean_squared_error: 145.7566 - val_loss: 498.6498 - val_mean_squared_error: 498.6498\n",
            "Epoch 80/100\n",
            "6/6 [==============================] - 0s 20ms/step - loss: 146.5473 - mean_squared_error: 146.5473 - val_loss: 574.7938 - val_mean_squared_error: 574.7938\n",
            "Epoch 81/100\n",
            "6/6 [==============================] - 0s 23ms/step - loss: 141.5651 - mean_squared_error: 141.5651 - val_loss: 506.2545 - val_mean_squared_error: 506.2545\n",
            "Epoch 82/100\n",
            "6/6 [==============================] - 0s 21ms/step - loss: 99.7507 - mean_squared_error: 99.7507 - val_loss: 466.9186 - val_mean_squared_error: 466.9186\n",
            "Epoch 83/100\n",
            "6/6 [==============================] - 0s 20ms/step - loss: 144.3552 - mean_squared_error: 144.3552 - val_loss: 463.5364 - val_mean_squared_error: 463.5364\n",
            "Epoch 84/100\n",
            "6/6 [==============================] - 0s 22ms/step - loss: 122.8043 - mean_squared_error: 122.8043 - val_loss: 486.2253 - val_mean_squared_error: 486.2253\n",
            "Epoch 85/100\n",
            "6/6 [==============================] - 0s 21ms/step - loss: 131.2197 - mean_squared_error: 131.2197 - val_loss: 490.7042 - val_mean_squared_error: 490.7042\n",
            "Epoch 86/100\n",
            "6/6 [==============================] - 0s 19ms/step - loss: 117.3997 - mean_squared_error: 117.3997 - val_loss: 480.8883 - val_mean_squared_error: 480.8883\n",
            "Epoch 87/100\n",
            "6/6 [==============================] - 0s 19ms/step - loss: 106.1503 - mean_squared_error: 106.1503 - val_loss: 545.1855 - val_mean_squared_error: 545.1855\n",
            "Epoch 88/100\n",
            "6/6 [==============================] - 0s 20ms/step - loss: 88.8586 - mean_squared_error: 88.8586 - val_loss: 595.6212 - val_mean_squared_error: 595.6212\n",
            "Epoch 89/100\n",
            "6/6 [==============================] - 0s 20ms/step - loss: 114.6092 - mean_squared_error: 114.6092 - val_loss: 558.9701 - val_mean_squared_error: 558.9701\n",
            "Epoch 90/100\n",
            "6/6 [==============================] - 0s 20ms/step - loss: 117.4770 - mean_squared_error: 117.4770 - val_loss: 533.0210 - val_mean_squared_error: 533.0210\n",
            "Epoch 91/100\n",
            "6/6 [==============================] - 0s 20ms/step - loss: 96.7509 - mean_squared_error: 96.7509 - val_loss: 554.6340 - val_mean_squared_error: 554.6340\n",
            "Epoch 92/100\n",
            "6/6 [==============================] - 0s 19ms/step - loss: 132.7906 - mean_squared_error: 132.7906 - val_loss: 528.1469 - val_mean_squared_error: 528.1469\n",
            "Epoch 93/100\n",
            "6/6 [==============================] - 0s 22ms/step - loss: 102.9760 - mean_squared_error: 102.9760 - val_loss: 419.2566 - val_mean_squared_error: 419.2566\n",
            "Epoch 94/100\n",
            "6/6 [==============================] - 0s 23ms/step - loss: 157.4082 - mean_squared_error: 157.4082 - val_loss: 439.9189 - val_mean_squared_error: 439.9189\n",
            "Epoch 95/100\n",
            "6/6 [==============================] - 0s 20ms/step - loss: 130.5126 - mean_squared_error: 130.5126 - val_loss: 429.8727 - val_mean_squared_error: 429.8727\n",
            "Epoch 96/100\n",
            "6/6 [==============================] - 0s 19ms/step - loss: 123.4797 - mean_squared_error: 123.4797 - val_loss: 438.6865 - val_mean_squared_error: 438.6865\n",
            "Epoch 97/100\n",
            "6/6 [==============================] - 0s 18ms/step - loss: 133.5120 - mean_squared_error: 133.5120 - val_loss: 425.4549 - val_mean_squared_error: 425.4549\n",
            "Epoch 98/100\n",
            "6/6 [==============================] - 0s 17ms/step - loss: 127.7289 - mean_squared_error: 127.7289 - val_loss: 323.7461 - val_mean_squared_error: 323.7461\n",
            "Epoch 99/100\n",
            "6/6 [==============================] - 0s 19ms/step - loss: 120.0374 - mean_squared_error: 120.0374 - val_loss: 250.5892 - val_mean_squared_error: 250.5892\n",
            "Epoch 100/100\n",
            "6/6 [==============================] - 0s 19ms/step - loss: 113.6383 - mean_squared_error: 113.6383 - val_loss: 241.9450 - val_mean_squared_error: 241.9450\n",
            "15/15 [==============================] - 0s 5ms/step\n"
          ]
        },
        {
          "output_type": "error",
          "ename": "ValueError",
          "evalue": "ignored",
          "traceback": [
            "\u001b[0;31m---------------------------------------------------------------------------\u001b[0m",
            "\u001b[0;31mValueError\u001b[0m                                Traceback (most recent call last)",
            "\u001b[0;32m<ipython-input-33-0b6fe96f3f30>\u001b[0m in \u001b[0;36m<cell line: 4>\u001b[0;34m()\u001b[0m\n\u001b[1;32m      2\u001b[0m \u001b[0mhistory\u001b[0m \u001b[0;34m=\u001b[0m \u001b[0mmodel\u001b[0m\u001b[0;34m.\u001b[0m\u001b[0mfit\u001b[0m\u001b[0;34m(\u001b[0m\u001b[0mDifferenceAcc_hist\u001b[0m\u001b[0;34m,\u001b[0m \u001b[0mHz\u001b[0m\u001b[0;34m,\u001b[0m \u001b[0mbatch_size\u001b[0m\u001b[0;34m=\u001b[0m\u001b[0;36m32\u001b[0m\u001b[0;34m,\u001b[0m \u001b[0mepochs\u001b[0m\u001b[0;34m=\u001b[0m\u001b[0;36m100\u001b[0m\u001b[0;34m,\u001b[0m \u001b[0mshuffle\u001b[0m\u001b[0;34m=\u001b[0m\u001b[0;32mTrue\u001b[0m\u001b[0;34m,\u001b[0m \u001b[0mvalidation_split\u001b[0m\u001b[0;34m=\u001b[0m\u001b[0;36m0.2\u001b[0m\u001b[0;34m)\u001b[0m\u001b[0;34m\u001b[0m\u001b[0;34m\u001b[0m\u001b[0m\n\u001b[1;32m      3\u001b[0m \u001b[0my_pred\u001b[0m \u001b[0;34m=\u001b[0m \u001b[0mtf\u001b[0m\u001b[0;34m.\u001b[0m\u001b[0mcast\u001b[0m\u001b[0;34m(\u001b[0m\u001b[0mtf\u001b[0m\u001b[0;34m.\u001b[0m\u001b[0mclip_by_value\u001b[0m\u001b[0;34m(\u001b[0m\u001b[0mmodel\u001b[0m\u001b[0;34m.\u001b[0m\u001b[0mpredict\u001b[0m\u001b[0;34m(\u001b[0m\u001b[0mDifferenceAcc_histKaggle\u001b[0m\u001b[0;34m)\u001b[0m\u001b[0;34m,\u001b[0m \u001b[0;36m20\u001b[0m\u001b[0;34m,\u001b[0m \u001b[0;36m100\u001b[0m\u001b[0;34m)\u001b[0m\u001b[0;34m,\u001b[0m \u001b[0mtf\u001b[0m\u001b[0;34m.\u001b[0m\u001b[0mint32\u001b[0m\u001b[0;34m)\u001b[0m\u001b[0;34m\u001b[0m\u001b[0;34m\u001b[0m\u001b[0m\n\u001b[0;32m----> 4\u001b[0;31m \u001b[0mmae\u001b[0m\u001b[0;34m.\u001b[0m\u001b[0mappend\u001b[0m\u001b[0;34m(\u001b[0m\u001b[0mmean_absolute_error\u001b[0m\u001b[0;34m(\u001b[0m\u001b[0my_pred\u001b[0m\u001b[0;34m,\u001b[0m \u001b[0mHzKaggle\u001b[0m\u001b[0;34m)\u001b[0m\u001b[0;34m)\u001b[0m\u001b[0;34m\u001b[0m\u001b[0;34m\u001b[0m\u001b[0m\n\u001b[0m\u001b[1;32m      5\u001b[0m \u001b[0mmse\u001b[0m\u001b[0;34m.\u001b[0m\u001b[0mappend\u001b[0m\u001b[0;34m(\u001b[0m\u001b[0mmean_squared_error\u001b[0m\u001b[0;34m(\u001b[0m\u001b[0my_pred\u001b[0m\u001b[0;34m,\u001b[0m \u001b[0mHzKaggle\u001b[0m\u001b[0;34m)\u001b[0m\u001b[0;34m)\u001b[0m\u001b[0;34m\u001b[0m\u001b[0;34m\u001b[0m\u001b[0m\n\u001b[1;32m      6\u001b[0m \u001b[0mr2\u001b[0m\u001b[0;34m.\u001b[0m\u001b[0mappend\u001b[0m\u001b[0;34m(\u001b[0m\u001b[0mr2_score\u001b[0m\u001b[0;34m(\u001b[0m\u001b[0my_pred\u001b[0m\u001b[0;34m,\u001b[0m \u001b[0mHzKaggle\u001b[0m\u001b[0;34m)\u001b[0m\u001b[0;34m)\u001b[0m\u001b[0;34m\u001b[0m\u001b[0;34m\u001b[0m\u001b[0m\n",
            "\u001b[0;32m/usr/local/lib/python3.10/dist-packages/sklearn/metrics/_regression.py\u001b[0m in \u001b[0;36mmean_absolute_error\u001b[0;34m(y_true, y_pred, sample_weight, multioutput)\u001b[0m\n\u001b[1;32m    194\u001b[0m     \u001b[0;36m0.85\u001b[0m\u001b[0;34m...\u001b[0m\u001b[0;34m\u001b[0m\u001b[0;34m\u001b[0m\u001b[0m\n\u001b[1;32m    195\u001b[0m     \"\"\"\n\u001b[0;32m--> 196\u001b[0;31m     y_type, y_true, y_pred, multioutput = _check_reg_targets(\n\u001b[0m\u001b[1;32m    197\u001b[0m         \u001b[0my_true\u001b[0m\u001b[0;34m,\u001b[0m \u001b[0my_pred\u001b[0m\u001b[0;34m,\u001b[0m \u001b[0mmultioutput\u001b[0m\u001b[0;34m\u001b[0m\u001b[0;34m\u001b[0m\u001b[0m\n\u001b[1;32m    198\u001b[0m     )\n",
            "\u001b[0;32m/usr/local/lib/python3.10/dist-packages/sklearn/metrics/_regression.py\u001b[0m in \u001b[0;36m_check_reg_targets\u001b[0;34m(y_true, y_pred, multioutput, dtype)\u001b[0m\n\u001b[1;32m     98\u001b[0m         \u001b[0mcorrect\u001b[0m \u001b[0mkeyword\u001b[0m\u001b[0;34m.\u001b[0m\u001b[0;34m\u001b[0m\u001b[0;34m\u001b[0m\u001b[0m\n\u001b[1;32m     99\u001b[0m     \"\"\"\n\u001b[0;32m--> 100\u001b[0;31m     \u001b[0mcheck_consistent_length\u001b[0m\u001b[0;34m(\u001b[0m\u001b[0my_true\u001b[0m\u001b[0;34m,\u001b[0m \u001b[0my_pred\u001b[0m\u001b[0;34m)\u001b[0m\u001b[0;34m\u001b[0m\u001b[0;34m\u001b[0m\u001b[0m\n\u001b[0m\u001b[1;32m    101\u001b[0m     \u001b[0my_true\u001b[0m \u001b[0;34m=\u001b[0m \u001b[0mcheck_array\u001b[0m\u001b[0;34m(\u001b[0m\u001b[0my_true\u001b[0m\u001b[0;34m,\u001b[0m \u001b[0mensure_2d\u001b[0m\u001b[0;34m=\u001b[0m\u001b[0;32mFalse\u001b[0m\u001b[0;34m,\u001b[0m \u001b[0mdtype\u001b[0m\u001b[0;34m=\u001b[0m\u001b[0mdtype\u001b[0m\u001b[0;34m)\u001b[0m\u001b[0;34m\u001b[0m\u001b[0;34m\u001b[0m\u001b[0m\n\u001b[1;32m    102\u001b[0m     \u001b[0my_pred\u001b[0m \u001b[0;34m=\u001b[0m \u001b[0mcheck_array\u001b[0m\u001b[0;34m(\u001b[0m\u001b[0my_pred\u001b[0m\u001b[0;34m,\u001b[0m \u001b[0mensure_2d\u001b[0m\u001b[0;34m=\u001b[0m\u001b[0;32mFalse\u001b[0m\u001b[0;34m,\u001b[0m \u001b[0mdtype\u001b[0m\u001b[0;34m=\u001b[0m\u001b[0mdtype\u001b[0m\u001b[0;34m)\u001b[0m\u001b[0;34m\u001b[0m\u001b[0;34m\u001b[0m\u001b[0m\n",
            "\u001b[0;32m/usr/local/lib/python3.10/dist-packages/sklearn/utils/validation.py\u001b[0m in \u001b[0;36mcheck_consistent_length\u001b[0;34m(*arrays)\u001b[0m\n\u001b[1;32m    395\u001b[0m     \u001b[0muniques\u001b[0m \u001b[0;34m=\u001b[0m \u001b[0mnp\u001b[0m\u001b[0;34m.\u001b[0m\u001b[0munique\u001b[0m\u001b[0;34m(\u001b[0m\u001b[0mlengths\u001b[0m\u001b[0;34m)\u001b[0m\u001b[0;34m\u001b[0m\u001b[0;34m\u001b[0m\u001b[0m\n\u001b[1;32m    396\u001b[0m     \u001b[0;32mif\u001b[0m \u001b[0mlen\u001b[0m\u001b[0;34m(\u001b[0m\u001b[0muniques\u001b[0m\u001b[0;34m)\u001b[0m \u001b[0;34m>\u001b[0m \u001b[0;36m1\u001b[0m\u001b[0;34m:\u001b[0m\u001b[0;34m\u001b[0m\u001b[0;34m\u001b[0m\u001b[0m\n\u001b[0;32m--> 397\u001b[0;31m         raise ValueError(\n\u001b[0m\u001b[1;32m    398\u001b[0m             \u001b[0;34m\"Found input variables with inconsistent numbers of samples: %r\"\u001b[0m\u001b[0;34m\u001b[0m\u001b[0;34m\u001b[0m\u001b[0m\n\u001b[1;32m    399\u001b[0m             \u001b[0;34m%\u001b[0m \u001b[0;34m[\u001b[0m\u001b[0mint\u001b[0m\u001b[0;34m(\u001b[0m\u001b[0ml\u001b[0m\u001b[0;34m)\u001b[0m \u001b[0;32mfor\u001b[0m \u001b[0ml\u001b[0m \u001b[0;32min\u001b[0m \u001b[0mlengths\u001b[0m\u001b[0;34m]\u001b[0m\u001b[0;34m\u001b[0m\u001b[0;34m\u001b[0m\u001b[0m\n",
            "\u001b[0;31mValueError\u001b[0m: Found input variables with inconsistent numbers of samples: [468, 520]"
          ]
        }
      ],
      "source": [
        "#自分ので構築→Kaggleので試す\n",
        "history = model.fit(DifferenceAcc_hist, Hz, batch_size=32, epochs=100, shuffle=True, validation_split=0.2)\n",
        "y_pred = tf.cast(tf.clip_by_value(model.predict(DifferenceAcc_histKaggle), 20, 100), tf.int32)\n",
        "mae.append(mean_absolute_error(y_pred, HzKaggle))\n",
        "mse.append(mean_squared_error(y_pred, HzKaggle))\n",
        "r2.append(r2_score(y_pred, HzKaggle))"
      ]
    },
    {
      "cell_type": "code",
      "execution_count": null,
      "metadata": {
        "id": "TzbKsZVmeHnW"
      },
      "outputs": [],
      "source": [
        "#Hascで構築→自分ので試す\n",
        "history = model.fit(DifferenceAcc_histHasc, HzHasc, batch_size=32, epochs=100, shuffle=True, validation_split=0.2)\n",
        "y_pred = tf.cast(tf.clip_by_value(model.predict(DifferenceAcc_hist), 20, 100), tf.int32)\n",
        "mae.append(mean_absolute_error(y_pred, Hz))\n",
        "mse.append(mean_squared_error(y_pred, Hz))\n",
        "r2.append(r2_score(y_pred, Hz))"
      ]
    },
    {
      "cell_type": "code",
      "execution_count": null,
      "metadata": {
        "id": "qLbCSxrQHdyL"
      },
      "outputs": [],
      "source": [
        "#Hascで構築→Kaggleので試す\n",
        "history = model.fit(DifferenceAcc_histHasc, HzHasc, batch_size=32, epochs=100, shuffle=True, validation_split=0.2)\n",
        "y_pred = tf.cast(tf.clip_by_value(model.predict(DifferenceAcc_histKaggle), 20, 100), tf.int32)\n",
        "mae.append(mean_absolute_error(y_pred, HzKaggle))\n",
        "mse.append(mean_squared_error(y_pred, HzKaggle))\n",
        "r2.append(r2_score(y_pred, HzKaggle))"
      ]
    },
    {
      "cell_type": "code",
      "execution_count": null,
      "metadata": {
        "id": "1EkulfwpzUjm"
      },
      "outputs": [],
      "source": [
        "#Kaggleで構築→自分ので試す\n",
        "history = model.fit(DifferenceAcc_histKaggle, HzKaggle, batch_size=32, epochs=100, shuffle=True, validation_split=0.2)\n",
        "y_pred = tf.cast(tf.clip_by_value(model.predict(DifferenceAcc_hist), 20, 100), tf.int32)\n",
        "mae.append(mean_absolute_error(y_pred, Hz))\n",
        "mse.append(mean_squared_error(y_pred, Hz))\n",
        "r2.append(r2_score(y_pred, Hz))"
      ]
    },
    {
      "cell_type": "code",
      "execution_count": null,
      "metadata": {
        "id": "ZJyXhvmezlNM"
      },
      "outputs": [],
      "source": [
        "#Kaggleので構築→HASCので試す\n",
        "history = model.fit(DifferenceAcc_histKaggle, HzKaggle, batch_size=32, epochs=100, shuffle=True, validation_split=0.2)\n",
        "y_pred = tf.cast(tf.clip_by_value(model.predict(DifferenceAcc_histHasc), 20, 100), tf.int32)\n",
        "mae.append(mean_absolute_error(y_pred, HzHasc))\n",
        "mse.append(mean_squared_error(y_pred, HzHasc))\n",
        "r2.append(r2_score(y_pred, HzHasc))"
      ]
    },
    {
      "cell_type": "code",
      "execution_count": 34,
      "metadata": {
        "colab": {
          "base_uri": "https://localhost:8080/"
        },
        "id": "6daUiYhjh9Xc",
        "outputId": "5f79b4fb-4779-4d4c-d402-f27ec2820aee"
      },
      "outputs": [
        {
          "output_type": "execute_result",
          "data": {
            "text/plain": [
              "[22.895299145299145]"
            ]
          },
          "metadata": {},
          "execution_count": 34
        }
      ],
      "source": [
        "mae"
      ]
    },
    {
      "cell_type": "code",
      "execution_count": null,
      "metadata": {
        "id": "8KRKeZVviZLA"
      },
      "outputs": [],
      "source": [
        "mse"
      ]
    },
    {
      "cell_type": "code",
      "execution_count": null,
      "metadata": {
        "id": "RR4SRZsBiagU"
      },
      "outputs": [],
      "source": [
        "r2"
      ]
    },
    {
      "cell_type": "code",
      "source": [],
      "metadata": {
        "id": "7w4YwhRxHvQv"
      },
      "execution_count": null,
      "outputs": []
    }
  ],
  "metadata": {
    "accelerator": "GPU",
    "colab": {
      "gpuType": "T4",
      "provenance": [],
      "include_colab_link": true
    },
    "kernelspec": {
      "display_name": "Python 3",
      "name": "python3"
    },
    "language_info": {
      "name": "python"
    }
  },
  "nbformat": 4,
  "nbformat_minor": 0
}