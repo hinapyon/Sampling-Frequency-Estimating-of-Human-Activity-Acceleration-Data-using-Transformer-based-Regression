{
  "cells": [
    {
      "cell_type": "markdown",
      "metadata": {
        "id": "view-in-github",
        "colab_type": "text"
      },
      "source": [
        "<a href=\"https://colab.research.google.com/github/hinapyon/Sampling-Frequency-Estimating-of-Human-Activity-Acceleration-Data-using-Transformer-based-Regression/blob/main/my_data%2Bhasc(Transformer-based-Regression-Model).ipynb\" target=\"_parent\"><img src=\"https://colab.research.google.com/assets/colab-badge.svg\" alt=\"Open In Colab\"/></a>"
      ]
    },
    {
      "cell_type": "code",
      "execution_count": 1,
      "metadata": {
        "id": "oTsgcWLEa9Nt"
      },
      "outputs": [],
      "source": [
        "#ライブラリをインポート\n",
        "import os #OSに依存する様々な機能を利用するためのモジュール(ファイルやディレクトリ操作など)\n",
        "import re #正規表現を利用するためのモジュール\n",
        "import csv  #csvファイルを扱うためのモジュール\n",
        "import math #数学的計算のためのモジュール\n",
        "import matplotlib.pyplot as plt #グラフ描画のためのモジュール\n",
        "import numpy as np  #多次元配列計算のためのモジュール\n",
        "import pandas as pd #データフレームを扱うためのモジュール\n",
        "from scipy import signal  #信号処理のためのモジュール\n",
        "from scipy.stats import skew, kurtosis  #歪度と尖度を調べるためのモジュール\n",
        "from sklearn.model_selection import train_test_split  #データをトレーニング用とテスト用に分けるためのモジュール\n",
        "from sklearn import preprocessing #データを正規化するためのモジュール\n",
        "from sklearn.preprocessing import StandardScaler  #データを標準化するためのモジュール\n",
        "from sklearn.preprocessing import LabelEncoder  #カテゴリ変数を数値化するためのモジュール\n",
        "from sklearn.metrics import accuracy_score, mean_squared_error, mean_absolute_error, r2_score #機械学習モデルの性能評価のためのモジュール\n",
        "import tensorflow as tf #TensorFlow(Googleが開発したオープンソースの機械学習フレームワーク)\n",
        "from tensorflow import keras  #TensorFlow用のニューラルネットワークライブラリAPI\n",
        "from tensorflow.keras import layers #ニューラルネットワークのレイヤーを定義するためのモジュール"
      ]
    },
    {
      "cell_type": "code",
      "execution_count": 2,
      "metadata": {
        "colab": {
          "base_uri": "https://localhost:8080/"
        },
        "id": "CrXcc8k3bDt9",
        "outputId": "75de253d-d54a-408d-cc9f-40f787f05959"
      },
      "outputs": [
        {
          "output_type": "stream",
          "name": "stdout",
          "text": [
            "Mounted at /content/drive\n"
          ]
        }
      ],
      "source": [
        "from google.colab import drive\n",
        "drive.mount('/content/drive')"
      ]
    },
    {
      "cell_type": "code",
      "execution_count": 3,
      "metadata": {
        "id": "-E1jV0_ybIY8"
      },
      "outputs": [],
      "source": [
        "#定数を定義\n",
        "BINS = 50  #ヒストグラムのビンの数\n",
        "EPSILON = .00001  #スムージングパラメータ\n",
        "UPPER_LIMIT = 1.1 #静止区間の上限\n",
        "LOWER_LIMIT = 0.9 #静止区間の加減\n",
        "STATIONARY_INTERVALS = 5  #静止区間除去のサンプルの間隔(静止区間が何サンプル連続したら除去するか)\n",
        "TRAIN_SIZE = 0.8  #機械学習のトレーニングデータの割合\n",
        "N_ESTIMATORS = 100  #決定木の数"
      ]
    },
    {
      "cell_type": "code",
      "execution_count": 4,
      "metadata": {
        "id": "Q_PFKcu2bMqW"
      },
      "outputs": [],
      "source": [
        "#ディレクトリ内のAMWS020のデータセットのファイル名と周波数を取得する関数\n",
        "def get_Hz_and_filename(path: str) -> list[int, str]:\n",
        "    filename = os.listdir(path) #引数のパスのディレクトリの中のファイル名一覧を取得\n",
        "    Hz_and_filename=[]  #ファイル名と周波数を格納するリストを宣言\n",
        "\n",
        "    for file in filename:\n",
        "        Hz = re.search(r'\\d+', file)    #正規表現を用いてファイル名の中で一番最初に出てくる数字(周波数)を取得\n",
        "        if Hz:  #数字の入っていないファイル名があるとエラーを吐くので、このif文でチェックする\n",
        "            Hz_and_filename.append([int(Hz.group(0)), file])    #ファイル名と周波数を格納\n",
        "\n",
        "    return Hz_and_filename"
      ]
    },
    {
      "cell_type": "code",
      "execution_count": 5,
      "metadata": {
        "id": "Mmd5z_SLbUNl"
      },
      "outputs": [],
      "source": [
        "#ファイル名と周波数を分けて出力する関数\n",
        "def divide_Hz_and_filename(Hz_and_filename: list[int, str]) -> tuple[list[int], list[str]]:\n",
        "    Hz = []\n",
        "    filename = []\n",
        "    for row in Hz_and_filename:\n",
        "      Hz.append(row[0])\n",
        "      filename.append(row[1])\n",
        "\n",
        "    return Hz, filename"
      ]
    },
    {
      "cell_type": "code",
      "execution_count": 6,
      "metadata": {
        "id": "nab3m0AvbXY6"
      },
      "outputs": [],
      "source": [
        "#自分の加速度データのCSVファイルから3軸加速度を取得する関数\n",
        "#なんか分割したら3, 4, 5色々おかしくなった\n",
        "def get_acceleration(filename: str) -> tuple[list[float], list[float], list[float]]:\n",
        "    AccX, AccY, AccZ = [], [], []\n",
        "    with open(filename) as f:\n",
        "        reader = csv.reader(f)\n",
        "        for row in reader:\n",
        "            AccX.append(float(row[3]))\n",
        "            AccY.append(float(row[4]))\n",
        "            AccZ.append(float(row[5]))\n",
        "\n",
        "    return AccX, AccY, AccZ"
      ]
    },
    {
      "cell_type": "code",
      "execution_count": 7,
      "metadata": {
        "id": "MBcD5SbVbtzz"
      },
      "outputs": [],
      "source": [
        "#自分の加速度データのCSVファイルから3軸加速度を取得する関数\n",
        "def get_accelerationHasc(filename: str) -> tuple[list[float], list[float], list[float]]:\n",
        "    AccX, AccY, AccZ = [], [], []\n",
        "    with open(filename) as f:\n",
        "        reader = csv.reader(f)\n",
        "        for row in reader:\n",
        "            AccX.append(float(row[1]))\n",
        "            AccY.append(float(row[2]))\n",
        "            AccZ.append(float(row[3]))\n",
        "\n",
        "    return AccX, AccY, AccZ"
      ]
    },
    {
      "cell_type": "code",
      "execution_count": 8,
      "metadata": {
        "id": "Ryj7pQ-TbxHG"
      },
      "outputs": [],
      "source": [
        "#静止区間を除去する関数\n",
        "def acc_to_remove_stationary_intervals(AccX: list[float], AccY: list[float], AccZ: list[float]) -> list[float]:\n",
        "    #各軸の加速度の平均を求める\n",
        "    AvgAccX = sum(AccX) / len(AccX)\n",
        "    AvgAccY = sum(AccY) / len(AccY)\n",
        "    AvgAccZ = sum(AccZ) / len(AccZ)\n",
        "\n",
        "    AvgResultantAcc = math.sqrt(AvgAccX ** 2 + AvgAccY ** 2 + AvgAccZ ** 2) #重力加速度の推定値=合成加速度の平均を求める\n",
        "\n",
        "    ResultantAcc = [math.sqrt(x ** 2 + y ** 2 + z ** 2) for x, y, z in zip(AccX, AccY, AccZ)]   #各時刻の合成加速度を求める\n",
        "\n",
        "    #各時刻の合成加速度から静止区間(重力加速度の推定値に近い値が一定以上以上連続している区間)を除去する\n",
        "    i = 0 #ループ変数\n",
        "    counter = 0 #静止区間がSTATIONARY_INTERVALS分続いているかをカウントする変数\n",
        "    while i < len(ResultantAcc):\n",
        "        if AvgResultantAcc * LOWER_LIMIT < ResultantAcc[i] < AvgResultantAcc * UPPER_LIMIT:   #平均のLOWER_LIMIT倍~UPPER_LIMIT倍の範囲を調べる\n",
        "            counter += 1    #範囲内ならカウントを増やす\n",
        "            if counter == STATIONARY_INTERVALS: #カウントがSTATIONARY_INTERVALSに達したらその区間を削除\n",
        "                del ResultantAcc[i+1-STATIONARY_INTERVALS:i+1]    #スライスでは選択範囲の開始位置startと終了位置stopを[start:stop]のように書くとstart <= x < stopの範囲が選択される #start番目の値は含まれるがstop番目の値は含まれない\n",
        "                counter = 0 #カウンターをリセット\n",
        "                i -= STATIONARY_INTERVALS   #削除した分インデックスがズレるので補正する\n",
        "        else:\n",
        "            counter = 0 #カウンターをリセット\n",
        "        i += 1\n",
        "\n",
        "    return ResultantAcc  #静止区間を除去した後のリストを返す"
      ]
    },
    {
      "cell_type": "code",
      "execution_count": 9,
      "metadata": {
        "id": "FNwGq1s2bzxl"
      },
      "outputs": [],
      "source": [
        "#連続する2サンプルの差分を取る関数\n",
        "def calculate_differences_of_acceleration(ResultantAcc: list[float]) -> list[float]:\n",
        "    #DifferenceAcc = [math.fabs(ResultantAcc[i + 1] * 100000 - ResultantAcc[i] * 100000) for i in range(len(ResultantAcc) - 1)]  #100000倍して誤差を取る\n",
        "    DifferenceAcc = [math.fabs(ResultantAcc[i + 1] - ResultantAcc[i]) for i in range(len(ResultantAcc) - 1)]  #誤差を取る\n",
        "    return DifferenceAcc"
      ]
    },
    {
      "cell_type": "code",
      "execution_count": 10,
      "metadata": {
        "id": "hbUSs34Ib4Z_"
      },
      "outputs": [],
      "source": [
        "#入力された加速度の差分のリストからヒストグラムを作る関数（ビンの範囲が各加速度の差分データの最小値〜最大値）\n",
        "def create_histogram2(DifferenceAcc_list: list[float]) -> np.histogram:\n",
        "    DifferenceAcc_hist = np.zeros((len(DifferenceAcc_list), BINS), dtype=float)\n",
        "    for i in range(len(DifferenceAcc_list)):\n",
        "        min_value = min(DifferenceAcc_list[i])\n",
        "        max_value = max(DifferenceAcc_list[i])\n",
        "        #DifferenceAcc_hist[i], _ = np.histogram(DifferenceAcc_list[i], bins=BINS, range=(min_value, max_value)) #ヒストグラムを作成し、同じ数のビンで区切る\n",
        "        DifferenceAcc_hist[i], _ = np.histogram(DifferenceAcc_list[i], bins=BINS, density=True) #ヒストグラムを作成し、同じ数のビンで区切る\n",
        "    return DifferenceAcc_hist"
      ]
    },
    {
      "cell_type": "code",
      "execution_count": 11,
      "metadata": {
        "id": "DqeTnb2lb9wM"
      },
      "outputs": [],
      "source": [
        "#各加速度データをダウンサンプリングする関数\n",
        "def resampling_Acc(originHz: int, newHz: int, AccX: list[float], AccY: list[float], AccZ: list[float], Hz: np.array) -> tuple[list[float], list[float], list[float], np.array]:\n",
        "    i = 0   #カウンター変数\n",
        "\n",
        "    while (Hz[i] == originHz):\n",
        "        originlen = len(AccX[i])    #元々のデータの長さ\n",
        "        sampling_factor = int(originlen * (newHz/originHz)) #ダウンサンプリングした後のデータの長さ\n",
        "        newAccX = signal.resample(AccX[i], sampling_factor)    #データをダウンサンプリング\n",
        "        newAccY = signal.resample(AccY[i], sampling_factor)    #データをダウンサンプリング\n",
        "        newAccZ = signal.resample(AccZ[i], sampling_factor)    #データをダウンサンプリング\n",
        "        AccX.append(newAccX)   #ダウンサンプリングデータを加速度データに追加\n",
        "        AccY.append(newAccY)   #ダウンサンプリングデータを加速度データに追加\n",
        "        AccZ.append(newAccZ)   #ダウンサンプリングデータを加速度データに追加\n",
        "        Hz = np.append(Hz, newHz)   #ダウンサンプリングレートを追加\n",
        "        i += 1\n",
        "\n",
        "    return AccX, AccY, AccZ, Hz"
      ]
    },
    {
      "cell_type": "code",
      "execution_count": 12,
      "metadata": {
        "colab": {
          "base_uri": "https://localhost:8080/"
        },
        "id": "RiHKUsoFcSgD",
        "outputId": "cc90e97e-de90-45ee-b173-bdee1d56e69d"
      },
      "outputs": [
        {
          "output_type": "stream",
          "name": "stdout",
          "text": [
            "Found GPU at: /device:GPU:0\n"
          ]
        }
      ],
      "source": [
        "import tensorflow as tf\n",
        "device_name = tf.test.gpu_device_name()\n",
        "if device_name != '/device:GPU:0':\n",
        "  raise SystemError('GPU device not found')\n",
        "print('Found GPU at: {}'.format(device_name))"
      ]
    },
    {
      "cell_type": "code",
      "execution_count": 13,
      "metadata": {
        "id": "5nDyzHfwcJBx"
      },
      "outputs": [],
      "source": [
        "path = \"/content/drive/MyDrive/my_walk_data(100Hz15minutesTo20seconds)/\"  #Google colab用\n",
        "#path = \"my_walk_data(100Hz15minutesTo20seconds)/\"  #local用"
      ]
    },
    {
      "cell_type": "code",
      "execution_count": 14,
      "metadata": {
        "id": "eyDRU90UcfAi"
      },
      "outputs": [],
      "source": [
        "#一連の流れ\n",
        "Hz_and_filename = get_Hz_and_filename(path)\n",
        "Hz_and_filename.sort(reverse=True)  #周波数の大きい順にソート\n",
        "Hz, filename = divide_Hz_and_filename(Hz_and_filename)\n",
        "Hz = np.array(Hz)\n",
        "\n",
        "#使う変数を宣言\n",
        "readAccX, readAccY, readAccZ = [], [], []   #データ読み込む用\n",
        "AccX, AccY, AccZ = [], [], []\n",
        "ResultantAcc = []\n",
        "DifferenceAcc_list = []\n",
        "\n",
        "#各データセットからデータを読み込み二次元配列に格納\n",
        "for i in filename:\n",
        "    readAccX, readAccY, readAccZ = get_acceleration(path+i)\n",
        "    AccX.append(readAccX), AccY.append(readAccY), AccZ.append(readAccZ)\n",
        "\n",
        "#各加速度データをダウンサンプリング\n",
        "for i in range(9, 1, -1):\n",
        "    AccX, AccY, AccZ, Hz = resampling_Acc(100, i * 10, AccX, AccY, AccZ, Hz)\n",
        "\n",
        "#静止区間を除去\n",
        "for i in range(len(Hz)):\n",
        "    ResultantAcc.append(acc_to_remove_stationary_intervals(AccX[i], AccY[i], AccZ[i]))"
      ]
    },
    {
      "cell_type": "code",
      "execution_count": 15,
      "metadata": {
        "id": "5DEuTTiKchl6"
      },
      "outputs": [],
      "source": [
        "#ヒストグラム作成\n",
        "for i in range(len(ResultantAcc)):\n",
        "    DifferenceAcc_list.append(calculate_differences_of_acceleration(ResultantAcc[i]))\n",
        "DifferenceAcc_hist = create_histogram2(DifferenceAcc_list)"
      ]
    },
    {
      "cell_type": "code",
      "execution_count": 16,
      "metadata": {
        "id": "rIQXdUwvb-gQ"
      },
      "outputs": [],
      "source": [
        "pathHasc = \"/content/drive/MyDrive/hasc/\"\n",
        "filename = os.listdir(pathHasc) #引数のパスのディレクトリの中のファイル名一覧を取得\n",
        "#filename.remove(\".DS_Store\")"
      ]
    },
    {
      "cell_type": "code",
      "execution_count": 17,
      "metadata": {
        "id": "G2h7cewPcKKq"
      },
      "outputs": [],
      "source": [
        "#使う変数を宣言\n",
        "readAccX, readAccY, readAccZ = [], [], []   #データ読み込む用\n",
        "AccX, AccY, AccZ = [], [], []\n",
        "ResultantAcc = []\n",
        "DifferenceAcc_list = []\n",
        "\n",
        "#各データセットからデータを読み込み二次元配列に格納\n",
        "for i in filename:\n",
        "    readAccX, readAccY, readAccZ = get_accelerationHasc(pathHasc+i)\n",
        "    AccX.append(readAccX), AccY.append(readAccY), AccZ.append(readAccZ)\n",
        "\n",
        "HzHasc = np.ones(len(filename)) * 100\n",
        "\n",
        "#各加速度データをダウンサンプリング\n",
        "for i in range(9, 1, -1):\n",
        "    AccX, AccY, AccZ, HzHasc = resampling_Acc(100, i * 10, AccX, AccY, AccZ, HzHasc)\n",
        "\n",
        "#静止区間を除去\n",
        "for i in range(len(HzHasc)):\n",
        "    ResultantAcc.append(acc_to_remove_stationary_intervals(AccX[i], AccY[i], AccZ[i]))"
      ]
    },
    {
      "cell_type": "code",
      "execution_count": 18,
      "metadata": {
        "id": "PR_ij4tecrTm"
      },
      "outputs": [],
      "source": [
        "#ヒストグラム作成\n",
        "for i in range(len(ResultantAcc)):\n",
        "    DifferenceAcc_list.append(calculate_differences_of_acceleration(ResultantAcc[i]))\n",
        "DifferenceAcc_histHasc = create_histogram2(DifferenceAcc_list)"
      ]
    },
    {
      "cell_type": "code",
      "execution_count": 19,
      "metadata": {
        "id": "vTkauiAMdjMf"
      },
      "outputs": [],
      "source": [
        "#標準化\n",
        "scaler = StandardScaler()\n",
        "# Fit the scaler to x_train\n",
        "scaler.fit(DifferenceAcc_hist)\n",
        "# Use the scaler to transform x_train and x_test\n",
        "DifferenceAcc_hist = scaler.transform(DifferenceAcc_hist)"
      ]
    },
    {
      "cell_type": "code",
      "execution_count": 20,
      "metadata": {
        "id": "V8SRN1Jednsw"
      },
      "outputs": [],
      "source": [
        "#標準化\n",
        "scaler = StandardScaler()\n",
        "# Fit the scaler to x_train\n",
        "scaler.fit(DifferenceAcc_histHasc)\n",
        "# Use the scaler to transform x_train and x_test\n",
        "DifferenceAcc_histHasc = scaler.transform(DifferenceAcc_histHasc)"
      ]
    },
    {
      "cell_type": "code",
      "execution_count": 21,
      "metadata": {
        "id": "wdkRN2n9dxeT"
      },
      "outputs": [],
      "source": [
        "#transformer regression\n",
        "#各種パラメータ\n",
        "NUM_HEADS = 2\n",
        "KEY_DIM = 25\n",
        "BINS = 50\n",
        "DROPOUT = 0.1\n",
        "N = 1\n",
        "\n",
        "# Define the input shape\n",
        "input_shape = (BINS,)\n",
        "output_shape = (1,)\n",
        "\n",
        "#形を定義(このモジュールは行列でないとダメっぽい)\n",
        "inputs_encoder = layers.Input(shape=input_shape)\n",
        "inputs_decoder = layers.Input(shape=output_shape)"
      ]
    },
    {
      "cell_type": "code",
      "execution_count": 22,
      "metadata": {
        "id": "8DfD41iqd2fh"
      },
      "outputs": [],
      "source": [
        "#Encoderに対する入力の形状\n",
        "x_encoder = layers.Reshape((1, 50))(inputs_encoder)"
      ]
    },
    {
      "cell_type": "code",
      "execution_count": 23,
      "metadata": {
        "id": "IdfPrQ4Rd558"
      },
      "outputs": [],
      "source": [
        "#Transformer Encoder Layer(BERT)\n",
        "for i in range(N):\n",
        "      #Multi-Head-Attention Layer\n",
        "      attention_encoder = layers.MultiHeadAttention(num_heads=NUM_HEADS, key_dim=KEY_DIM, use_bias=True)(x_encoder, x_encoder, x_encoder)\n",
        "\n",
        "      #Dropout Layer\n",
        "      attention_encoder = layers.Dropout(rate=DROPOUT)(attention_encoder)\n",
        "      #Add & Norm Layer\n",
        "      attention_encoder = layers.LayerNormalization()(x_encoder + attention_encoder)\n",
        "\n",
        "      #Feed-Forward-Network\n",
        "      ffn_encoder = layers.Dense(BINS * 4, use_bias=True, activation=\"relu\")(attention_encoder)\n",
        "      ffn_encoder = layers.Dense(BINS, use_bias=True)(ffn_encoder)\n",
        "\n",
        "      #Dropout Layer\n",
        "      ffn_encoder = layers.Dropout(rate=DROPOUT)(ffn_encoder)\n",
        "      #Add & Norm Layer\n",
        "      x_encoder = layers.LayerNormalization()(attention_encoder + ffn_encoder)"
      ]
    },
    {
      "cell_type": "code",
      "execution_count": 24,
      "metadata": {
        "id": "cAQZaPQHd8VO"
      },
      "outputs": [],
      "source": [
        "x = layers.Flatten()(x_encoder)\n",
        "x = layers.Dense(32, activation=\"relu\")(x)\n",
        "x = layers.Dropout(0.1)(x)\n",
        "x = layers.Dense(16, activation=\"relu\")(x)\n",
        "x = layers.Dropout(0.1)(x)\n",
        "outputs = layers.Dense(1, activation=\"relu\")(x)"
      ]
    },
    {
      "cell_type": "code",
      "execution_count": 25,
      "metadata": {
        "id": "i-knZZwMd-n8"
      },
      "outputs": [],
      "source": [
        "model = keras.Model(inputs=inputs_encoder, outputs=outputs)"
      ]
    },
    {
      "cell_type": "code",
      "execution_count": 26,
      "metadata": {
        "id": "7-IwMOl3eBLI"
      },
      "outputs": [],
      "source": [
        "# Compile the model\n",
        "model.compile(\n",
        "    optimizer=keras.optimizers.Adam(),\n",
        "    loss=keras.losses.mean_squared_error,\n",
        "    metrics=[keras.metrics.mean_squared_error],\n",
        ")"
      ]
    },
    {
      "cell_type": "code",
      "execution_count": 27,
      "metadata": {
        "id": "VeFKmnTieEqR"
      },
      "outputs": [],
      "source": [
        "mae = []\n",
        "mse = []\n",
        "r2 = []"
      ]
    },
    {
      "cell_type": "code",
      "execution_count": 28,
      "metadata": {
        "colab": {
          "base_uri": "https://localhost:8080/"
        },
        "id": "TzbKsZVmeHnW",
        "outputId": "13cdb288-b37b-4343-cfb8-fcc37368d14c"
      },
      "outputs": [
        {
          "output_type": "stream",
          "name": "stdout",
          "text": [
            "Epoch 1/100\n",
            "12/12 [==============================] - 10s 40ms/step - loss: 5088.0093 - mean_squared_error: 5088.0093 - val_loss: 594.7073 - val_mean_squared_error: 594.7073\n",
            "Epoch 2/100\n",
            "12/12 [==============================] - 0s 10ms/step - loss: 4779.8145 - mean_squared_error: 4779.8145 - val_loss: 468.1689 - val_mean_squared_error: 468.1689\n",
            "Epoch 3/100\n",
            "12/12 [==============================] - 0s 10ms/step - loss: 4256.9229 - mean_squared_error: 4256.9229 - val_loss: 299.9008 - val_mean_squared_error: 299.9008\n",
            "Epoch 4/100\n",
            "12/12 [==============================] - 0s 10ms/step - loss: 3836.0681 - mean_squared_error: 3836.0681 - val_loss: 165.7137 - val_mean_squared_error: 165.7137\n",
            "Epoch 5/100\n",
            "12/12 [==============================] - 0s 11ms/step - loss: 3392.8831 - mean_squared_error: 3392.8831 - val_loss: 70.2762 - val_mean_squared_error: 70.2762\n",
            "Epoch 6/100\n",
            "12/12 [==============================] - 0s 11ms/step - loss: 2834.7942 - mean_squared_error: 2834.7942 - val_loss: 24.8231 - val_mean_squared_error: 24.8231\n",
            "Epoch 7/100\n",
            "12/12 [==============================] - 0s 10ms/step - loss: 2272.7795 - mean_squared_error: 2272.7795 - val_loss: 78.1127 - val_mean_squared_error: 78.1127\n",
            "Epoch 8/100\n",
            "12/12 [==============================] - 0s 10ms/step - loss: 1719.1340 - mean_squared_error: 1719.1340 - val_loss: 290.6664 - val_mean_squared_error: 290.6664\n",
            "Epoch 9/100\n",
            "12/12 [==============================] - 0s 12ms/step - loss: 1142.5568 - mean_squared_error: 1142.5568 - val_loss: 695.8436 - val_mean_squared_error: 695.8436\n",
            "Epoch 10/100\n",
            "12/12 [==============================] - 0s 11ms/step - loss: 794.4907 - mean_squared_error: 794.4907 - val_loss: 1228.3303 - val_mean_squared_error: 1228.3303\n",
            "Epoch 11/100\n",
            "12/12 [==============================] - 0s 11ms/step - loss: 666.1102 - mean_squared_error: 666.1102 - val_loss: 1633.8856 - val_mean_squared_error: 1633.8856\n",
            "Epoch 12/100\n",
            "12/12 [==============================] - 0s 10ms/step - loss: 587.5977 - mean_squared_error: 587.5977 - val_loss: 1487.8108 - val_mean_squared_error: 1487.8108\n",
            "Epoch 13/100\n",
            "12/12 [==============================] - 0s 10ms/step - loss: 545.4959 - mean_squared_error: 545.4959 - val_loss: 923.9558 - val_mean_squared_error: 923.9558\n",
            "Epoch 14/100\n",
            "12/12 [==============================] - 0s 11ms/step - loss: 558.2160 - mean_squared_error: 558.2160 - val_loss: 465.5538 - val_mean_squared_error: 465.5538\n",
            "Epoch 15/100\n",
            "12/12 [==============================] - 0s 11ms/step - loss: 561.5101 - mean_squared_error: 561.5101 - val_loss: 632.3585 - val_mean_squared_error: 632.3585\n",
            "Epoch 16/100\n",
            "12/12 [==============================] - 0s 11ms/step - loss: 417.2001 - mean_squared_error: 417.2001 - val_loss: 702.8725 - val_mean_squared_error: 702.8725\n",
            "Epoch 17/100\n",
            "12/12 [==============================] - 0s 11ms/step - loss: 516.5300 - mean_squared_error: 516.5300 - val_loss: 728.9577 - val_mean_squared_error: 728.9577\n",
            "Epoch 18/100\n",
            "12/12 [==============================] - 0s 10ms/step - loss: 431.1742 - mean_squared_error: 431.1742 - val_loss: 432.9825 - val_mean_squared_error: 432.9825\n",
            "Epoch 19/100\n",
            "12/12 [==============================] - 0s 11ms/step - loss: 405.4629 - mean_squared_error: 405.4629 - val_loss: 746.9116 - val_mean_squared_error: 746.9116\n",
            "Epoch 20/100\n",
            "12/12 [==============================] - 0s 10ms/step - loss: 461.3230 - mean_squared_error: 461.3230 - val_loss: 596.2456 - val_mean_squared_error: 596.2456\n",
            "Epoch 21/100\n",
            "12/12 [==============================] - 0s 10ms/step - loss: 353.2558 - mean_squared_error: 353.2558 - val_loss: 505.7074 - val_mean_squared_error: 505.7074\n",
            "Epoch 22/100\n",
            "12/12 [==============================] - 0s 11ms/step - loss: 374.2682 - mean_squared_error: 374.2682 - val_loss: 621.0291 - val_mean_squared_error: 621.0291\n",
            "Epoch 23/100\n",
            "12/12 [==============================] - 0s 10ms/step - loss: 391.0872 - mean_squared_error: 391.0872 - val_loss: 461.6656 - val_mean_squared_error: 461.6656\n",
            "Epoch 24/100\n",
            "12/12 [==============================] - 0s 11ms/step - loss: 385.0431 - mean_squared_error: 385.0431 - val_loss: 628.9694 - val_mean_squared_error: 628.9694\n",
            "Epoch 25/100\n",
            "12/12 [==============================] - 0s 10ms/step - loss: 343.6039 - mean_squared_error: 343.6039 - val_loss: 556.4177 - val_mean_squared_error: 556.4177\n",
            "Epoch 26/100\n",
            "12/12 [==============================] - 0s 10ms/step - loss: 336.0292 - mean_squared_error: 336.0292 - val_loss: 373.1293 - val_mean_squared_error: 373.1293\n",
            "Epoch 27/100\n",
            "12/12 [==============================] - 0s 10ms/step - loss: 345.4391 - mean_squared_error: 345.4391 - val_loss: 622.7300 - val_mean_squared_error: 622.7300\n",
            "Epoch 28/100\n",
            "12/12 [==============================] - 0s 10ms/step - loss: 368.0039 - mean_squared_error: 368.0039 - val_loss: 561.7261 - val_mean_squared_error: 561.7261\n",
            "Epoch 29/100\n",
            "12/12 [==============================] - 0s 10ms/step - loss: 284.9376 - mean_squared_error: 284.9376 - val_loss: 614.1301 - val_mean_squared_error: 614.1301\n",
            "Epoch 30/100\n",
            "12/12 [==============================] - 0s 10ms/step - loss: 331.5060 - mean_squared_error: 331.5060 - val_loss: 516.2527 - val_mean_squared_error: 516.2527\n",
            "Epoch 31/100\n",
            "12/12 [==============================] - 0s 11ms/step - loss: 339.9774 - mean_squared_error: 339.9774 - val_loss: 507.7487 - val_mean_squared_error: 507.7487\n",
            "Epoch 32/100\n",
            "12/12 [==============================] - 0s 10ms/step - loss: 281.4539 - mean_squared_error: 281.4539 - val_loss: 427.9080 - val_mean_squared_error: 427.9080\n",
            "Epoch 33/100\n",
            "12/12 [==============================] - 0s 11ms/step - loss: 314.1238 - mean_squared_error: 314.1238 - val_loss: 427.8550 - val_mean_squared_error: 427.8550\n",
            "Epoch 34/100\n",
            "12/12 [==============================] - 0s 11ms/step - loss: 271.2688 - mean_squared_error: 271.2688 - val_loss: 453.6061 - val_mean_squared_error: 453.6061\n",
            "Epoch 35/100\n",
            "12/12 [==============================] - 0s 9ms/step - loss: 285.6360 - mean_squared_error: 285.6360 - val_loss: 516.4665 - val_mean_squared_error: 516.4665\n",
            "Epoch 36/100\n",
            "12/12 [==============================] - 0s 10ms/step - loss: 274.7907 - mean_squared_error: 274.7907 - val_loss: 489.6396 - val_mean_squared_error: 489.6396\n",
            "Epoch 37/100\n",
            "12/12 [==============================] - 0s 11ms/step - loss: 258.1293 - mean_squared_error: 258.1293 - val_loss: 581.6516 - val_mean_squared_error: 581.6516\n",
            "Epoch 38/100\n",
            "12/12 [==============================] - 0s 11ms/step - loss: 294.4638 - mean_squared_error: 294.4638 - val_loss: 328.5412 - val_mean_squared_error: 328.5412\n",
            "Epoch 39/100\n",
            "12/12 [==============================] - 0s 11ms/step - loss: 250.4368 - mean_squared_error: 250.4368 - val_loss: 473.5236 - val_mean_squared_error: 473.5236\n",
            "Epoch 40/100\n",
            "12/12 [==============================] - 0s 11ms/step - loss: 236.3552 - mean_squared_error: 236.3552 - val_loss: 378.2873 - val_mean_squared_error: 378.2873\n",
            "Epoch 41/100\n",
            "12/12 [==============================] - 0s 10ms/step - loss: 272.6431 - mean_squared_error: 272.6431 - val_loss: 394.4648 - val_mean_squared_error: 394.4648\n",
            "Epoch 42/100\n",
            "12/12 [==============================] - 0s 11ms/step - loss: 273.4771 - mean_squared_error: 273.4771 - val_loss: 397.1600 - val_mean_squared_error: 397.1600\n",
            "Epoch 43/100\n",
            "12/12 [==============================] - 0s 10ms/step - loss: 236.0974 - mean_squared_error: 236.0974 - val_loss: 655.7921 - val_mean_squared_error: 655.7921\n",
            "Epoch 44/100\n",
            "12/12 [==============================] - 0s 10ms/step - loss: 233.0900 - mean_squared_error: 233.0900 - val_loss: 453.2029 - val_mean_squared_error: 453.2029\n",
            "Epoch 45/100\n",
            "12/12 [==============================] - 0s 11ms/step - loss: 211.3482 - mean_squared_error: 211.3482 - val_loss: 539.1167 - val_mean_squared_error: 539.1167\n",
            "Epoch 46/100\n",
            "12/12 [==============================] - 0s 10ms/step - loss: 226.0104 - mean_squared_error: 226.0104 - val_loss: 513.7823 - val_mean_squared_error: 513.7823\n",
            "Epoch 47/100\n",
            "12/12 [==============================] - 0s 10ms/step - loss: 189.5688 - mean_squared_error: 189.5688 - val_loss: 528.0901 - val_mean_squared_error: 528.0901\n",
            "Epoch 48/100\n",
            "12/12 [==============================] - 0s 11ms/step - loss: 195.3683 - mean_squared_error: 195.3683 - val_loss: 451.0305 - val_mean_squared_error: 451.0305\n",
            "Epoch 49/100\n",
            "12/12 [==============================] - 0s 9ms/step - loss: 206.2425 - mean_squared_error: 206.2425 - val_loss: 531.9235 - val_mean_squared_error: 531.9235\n",
            "Epoch 50/100\n",
            "12/12 [==============================] - 0s 10ms/step - loss: 219.4254 - mean_squared_error: 219.4254 - val_loss: 452.4996 - val_mean_squared_error: 452.4996\n",
            "Epoch 51/100\n",
            "12/12 [==============================] - 0s 11ms/step - loss: 221.7567 - mean_squared_error: 221.7567 - val_loss: 635.2442 - val_mean_squared_error: 635.2442\n",
            "Epoch 52/100\n",
            "12/12 [==============================] - 0s 10ms/step - loss: 194.5065 - mean_squared_error: 194.5065 - val_loss: 498.1637 - val_mean_squared_error: 498.1637\n",
            "Epoch 53/100\n",
            "12/12 [==============================] - 0s 11ms/step - loss: 213.4975 - mean_squared_error: 213.4975 - val_loss: 606.3206 - val_mean_squared_error: 606.3206\n",
            "Epoch 54/100\n",
            "12/12 [==============================] - 0s 10ms/step - loss: 172.6988 - mean_squared_error: 172.6988 - val_loss: 395.8383 - val_mean_squared_error: 395.8383\n",
            "Epoch 55/100\n",
            "12/12 [==============================] - 0s 10ms/step - loss: 163.5730 - mean_squared_error: 163.5730 - val_loss: 418.9096 - val_mean_squared_error: 418.9097\n",
            "Epoch 56/100\n",
            "12/12 [==============================] - 0s 10ms/step - loss: 187.7396 - mean_squared_error: 187.7396 - val_loss: 469.3477 - val_mean_squared_error: 469.3477\n",
            "Epoch 57/100\n",
            "12/12 [==============================] - 0s 10ms/step - loss: 197.9974 - mean_squared_error: 197.9974 - val_loss: 508.9134 - val_mean_squared_error: 508.9134\n",
            "Epoch 58/100\n",
            "12/12 [==============================] - 0s 10ms/step - loss: 172.8307 - mean_squared_error: 172.8307 - val_loss: 450.8196 - val_mean_squared_error: 450.8196\n",
            "Epoch 59/100\n",
            "12/12 [==============================] - 0s 10ms/step - loss: 181.4072 - mean_squared_error: 181.4072 - val_loss: 520.9997 - val_mean_squared_error: 520.9997\n",
            "Epoch 60/100\n",
            "12/12 [==============================] - 0s 11ms/step - loss: 142.4977 - mean_squared_error: 142.4977 - val_loss: 585.3065 - val_mean_squared_error: 585.3065\n",
            "Epoch 61/100\n",
            "12/12 [==============================] - 0s 12ms/step - loss: 174.5871 - mean_squared_error: 174.5871 - val_loss: 430.8219 - val_mean_squared_error: 430.8219\n",
            "Epoch 62/100\n",
            "12/12 [==============================] - 0s 10ms/step - loss: 199.1093 - mean_squared_error: 199.1093 - val_loss: 659.1442 - val_mean_squared_error: 659.1442\n",
            "Epoch 63/100\n",
            "12/12 [==============================] - 0s 10ms/step - loss: 184.0767 - mean_squared_error: 184.0767 - val_loss: 511.5016 - val_mean_squared_error: 511.5016\n",
            "Epoch 64/100\n",
            "12/12 [==============================] - 0s 13ms/step - loss: 161.4188 - mean_squared_error: 161.4188 - val_loss: 688.7341 - val_mean_squared_error: 688.7341\n",
            "Epoch 65/100\n",
            "12/12 [==============================] - 0s 17ms/step - loss: 198.6847 - mean_squared_error: 198.6847 - val_loss: 454.6461 - val_mean_squared_error: 454.6461\n",
            "Epoch 66/100\n",
            "12/12 [==============================] - 0s 16ms/step - loss: 165.1534 - mean_squared_error: 165.1534 - val_loss: 596.5988 - val_mean_squared_error: 596.5988\n",
            "Epoch 67/100\n",
            "12/12 [==============================] - 0s 15ms/step - loss: 154.0899 - mean_squared_error: 154.0899 - val_loss: 472.0972 - val_mean_squared_error: 472.0972\n",
            "Epoch 68/100\n",
            "12/12 [==============================] - 0s 20ms/step - loss: 136.8181 - mean_squared_error: 136.8181 - val_loss: 591.7324 - val_mean_squared_error: 591.7324\n",
            "Epoch 69/100\n",
            "12/12 [==============================] - 0s 16ms/step - loss: 183.9642 - mean_squared_error: 183.9642 - val_loss: 563.0052 - val_mean_squared_error: 563.0052\n",
            "Epoch 70/100\n",
            "12/12 [==============================] - 0s 15ms/step - loss: 168.4655 - mean_squared_error: 168.4655 - val_loss: 570.9374 - val_mean_squared_error: 570.9374\n",
            "Epoch 71/100\n",
            "12/12 [==============================] - 0s 16ms/step - loss: 188.9673 - mean_squared_error: 188.9673 - val_loss: 514.3615 - val_mean_squared_error: 514.3615\n",
            "Epoch 72/100\n",
            "12/12 [==============================] - 0s 15ms/step - loss: 190.9540 - mean_squared_error: 190.9540 - val_loss: 542.0818 - val_mean_squared_error: 542.0818\n",
            "Epoch 73/100\n",
            "12/12 [==============================] - 0s 15ms/step - loss: 163.7965 - mean_squared_error: 163.7965 - val_loss: 441.8009 - val_mean_squared_error: 441.8009\n",
            "Epoch 74/100\n",
            "12/12 [==============================] - 0s 15ms/step - loss: 186.3414 - mean_squared_error: 186.3414 - val_loss: 710.3989 - val_mean_squared_error: 710.3989\n",
            "Epoch 75/100\n",
            "12/12 [==============================] - 0s 16ms/step - loss: 169.9697 - mean_squared_error: 169.9697 - val_loss: 511.9746 - val_mean_squared_error: 511.9746\n",
            "Epoch 76/100\n",
            "12/12 [==============================] - 0s 16ms/step - loss: 175.3820 - mean_squared_error: 175.3820 - val_loss: 551.1772 - val_mean_squared_error: 551.1772\n",
            "Epoch 77/100\n",
            "12/12 [==============================] - 0s 16ms/step - loss: 184.5965 - mean_squared_error: 184.5965 - val_loss: 549.8113 - val_mean_squared_error: 549.8113\n",
            "Epoch 78/100\n",
            "12/12 [==============================] - 0s 16ms/step - loss: 164.2569 - mean_squared_error: 164.2569 - val_loss: 483.4316 - val_mean_squared_error: 483.4316\n",
            "Epoch 79/100\n",
            "12/12 [==============================] - 0s 15ms/step - loss: 188.9716 - mean_squared_error: 188.9716 - val_loss: 441.8646 - val_mean_squared_error: 441.8646\n",
            "Epoch 80/100\n",
            "12/12 [==============================] - 0s 17ms/step - loss: 140.2470 - mean_squared_error: 140.2470 - val_loss: 551.6525 - val_mean_squared_error: 551.6525\n",
            "Epoch 81/100\n",
            "12/12 [==============================] - 0s 15ms/step - loss: 167.9439 - mean_squared_error: 167.9439 - val_loss: 591.7930 - val_mean_squared_error: 591.7930\n",
            "Epoch 82/100\n",
            "12/12 [==============================] - 0s 17ms/step - loss: 169.4747 - mean_squared_error: 169.4747 - val_loss: 370.2516 - val_mean_squared_error: 370.2516\n",
            "Epoch 83/100\n",
            "12/12 [==============================] - 0s 16ms/step - loss: 193.6400 - mean_squared_error: 193.6400 - val_loss: 477.8880 - val_mean_squared_error: 477.8880\n",
            "Epoch 84/100\n",
            "12/12 [==============================] - 0s 16ms/step - loss: 152.1190 - mean_squared_error: 152.1190 - val_loss: 594.7436 - val_mean_squared_error: 594.7436\n",
            "Epoch 85/100\n",
            "12/12 [==============================] - 0s 17ms/step - loss: 153.4582 - mean_squared_error: 153.4582 - val_loss: 551.0250 - val_mean_squared_error: 551.0250\n",
            "Epoch 86/100\n",
            "12/12 [==============================] - 0s 11ms/step - loss: 195.4240 - mean_squared_error: 195.4240 - val_loss: 603.6265 - val_mean_squared_error: 603.6265\n",
            "Epoch 87/100\n",
            "12/12 [==============================] - 0s 10ms/step - loss: 151.5614 - mean_squared_error: 151.5614 - val_loss: 485.4167 - val_mean_squared_error: 485.4167\n",
            "Epoch 88/100\n",
            "12/12 [==============================] - 0s 11ms/step - loss: 172.4498 - mean_squared_error: 172.4498 - val_loss: 601.5491 - val_mean_squared_error: 601.5491\n",
            "Epoch 89/100\n",
            "12/12 [==============================] - 0s 11ms/step - loss: 166.8458 - mean_squared_error: 166.8458 - val_loss: 531.7238 - val_mean_squared_error: 531.7238\n",
            "Epoch 90/100\n",
            "12/12 [==============================] - 0s 11ms/step - loss: 146.1428 - mean_squared_error: 146.1428 - val_loss: 431.2419 - val_mean_squared_error: 431.2419\n",
            "Epoch 91/100\n",
            "12/12 [==============================] - 0s 11ms/step - loss: 175.3840 - mean_squared_error: 175.3840 - val_loss: 488.7034 - val_mean_squared_error: 488.7034\n",
            "Epoch 92/100\n",
            "12/12 [==============================] - 0s 11ms/step - loss: 173.2632 - mean_squared_error: 173.2632 - val_loss: 624.9443 - val_mean_squared_error: 624.9443\n",
            "Epoch 93/100\n",
            "12/12 [==============================] - 0s 11ms/step - loss: 166.1899 - mean_squared_error: 166.1899 - val_loss: 491.6118 - val_mean_squared_error: 491.6118\n",
            "Epoch 94/100\n",
            "12/12 [==============================] - 0s 11ms/step - loss: 150.0383 - mean_squared_error: 150.0383 - val_loss: 566.5353 - val_mean_squared_error: 566.5353\n",
            "Epoch 95/100\n",
            "12/12 [==============================] - 0s 11ms/step - loss: 154.3474 - mean_squared_error: 154.3474 - val_loss: 472.9002 - val_mean_squared_error: 472.9002\n",
            "Epoch 96/100\n",
            "12/12 [==============================] - 0s 10ms/step - loss: 162.9693 - mean_squared_error: 162.9693 - val_loss: 740.6891 - val_mean_squared_error: 740.6891\n",
            "Epoch 97/100\n",
            "12/12 [==============================] - 0s 11ms/step - loss: 145.8950 - mean_squared_error: 145.8950 - val_loss: 560.3791 - val_mean_squared_error: 560.3791\n",
            "Epoch 98/100\n",
            "12/12 [==============================] - 0s 11ms/step - loss: 161.9552 - mean_squared_error: 161.9552 - val_loss: 491.7536 - val_mean_squared_error: 491.7536\n",
            "Epoch 99/100\n",
            "12/12 [==============================] - 0s 11ms/step - loss: 156.7655 - mean_squared_error: 156.7655 - val_loss: 581.8554 - val_mean_squared_error: 581.8554\n",
            "Epoch 100/100\n",
            "12/12 [==============================] - 0s 11ms/step - loss: 143.1730 - mean_squared_error: 143.1730 - val_loss: 481.5254 - val_mean_squared_error: 481.5254\n",
            "15/15 [==============================] - 0s 3ms/step\n"
          ]
        }
      ],
      "source": [
        "#Hascで構築→自分ので試す\n",
        "history = model.fit(DifferenceAcc_histHasc, HzHasc, batch_size=32, epochs=100, shuffle=True, validation_split=0.2)\n",
        "y_pred = tf.cast(tf.clip_by_value(model.predict(DifferenceAcc_hist), 20, 100), tf.int32)\n",
        "mae.append(mean_absolute_error(y_pred, Hz))\n",
        "mse.append(mean_squared_error(y_pred, Hz))\n",
        "r2.append(r2_score(y_pred, Hz))\n",
        "aa = Hz.reshape(len(Hz),1)\n",
        "diffa = y_pred - aa"
      ]
    },
    {
      "cell_type": "code",
      "execution_count": 29,
      "metadata": {
        "colab": {
          "base_uri": "https://localhost:8080/"
        },
        "id": "PVRw_HfxilaJ",
        "outputId": "a4f20825-8d71-451a-f428-da115d2033ca"
      },
      "outputs": [
        {
          "output_type": "stream",
          "name": "stdout",
          "text": [
            "Epoch 1/100\n",
            "12/12 [==============================] - 1s 42ms/step - loss: 331.1407 - mean_squared_error: 331.1407 - val_loss: 286.1343 - val_mean_squared_error: 286.1343\n",
            "Epoch 2/100\n",
            "12/12 [==============================] - 0s 16ms/step - loss: 245.8110 - mean_squared_error: 245.8110 - val_loss: 364.1488 - val_mean_squared_error: 364.1488\n",
            "Epoch 3/100\n",
            "12/12 [==============================] - 0s 16ms/step - loss: 204.5731 - mean_squared_error: 204.5731 - val_loss: 260.1947 - val_mean_squared_error: 260.1947\n",
            "Epoch 4/100\n",
            "12/12 [==============================] - 0s 16ms/step - loss: 192.9792 - mean_squared_error: 192.9792 - val_loss: 253.1272 - val_mean_squared_error: 253.1272\n",
            "Epoch 5/100\n",
            "12/12 [==============================] - 0s 15ms/step - loss: 188.4518 - mean_squared_error: 188.4518 - val_loss: 290.0776 - val_mean_squared_error: 290.0776\n",
            "Epoch 6/100\n",
            "12/12 [==============================] - 0s 16ms/step - loss: 184.2404 - mean_squared_error: 184.2404 - val_loss: 261.0428 - val_mean_squared_error: 261.0428\n",
            "Epoch 7/100\n",
            "12/12 [==============================] - 0s 16ms/step - loss: 170.2579 - mean_squared_error: 170.2579 - val_loss: 302.8768 - val_mean_squared_error: 302.8768\n",
            "Epoch 8/100\n",
            "12/12 [==============================] - 0s 17ms/step - loss: 179.9795 - mean_squared_error: 179.9795 - val_loss: 301.5211 - val_mean_squared_error: 301.5211\n",
            "Epoch 9/100\n",
            "12/12 [==============================] - 0s 19ms/step - loss: 183.6104 - mean_squared_error: 183.6104 - val_loss: 256.9284 - val_mean_squared_error: 256.9284\n",
            "Epoch 10/100\n",
            "12/12 [==============================] - 0s 17ms/step - loss: 200.3830 - mean_squared_error: 200.3830 - val_loss: 206.7997 - val_mean_squared_error: 206.7997\n",
            "Epoch 11/100\n",
            "12/12 [==============================] - 0s 16ms/step - loss: 193.0710 - mean_squared_error: 193.0710 - val_loss: 265.1280 - val_mean_squared_error: 265.1280\n",
            "Epoch 12/100\n",
            "12/12 [==============================] - 0s 15ms/step - loss: 165.4206 - mean_squared_error: 165.4206 - val_loss: 177.8814 - val_mean_squared_error: 177.8814\n",
            "Epoch 13/100\n",
            "12/12 [==============================] - 0s 16ms/step - loss: 197.0214 - mean_squared_error: 197.0214 - val_loss: 312.3646 - val_mean_squared_error: 312.3646\n",
            "Epoch 14/100\n",
            "12/12 [==============================] - 0s 18ms/step - loss: 163.8228 - mean_squared_error: 163.8228 - val_loss: 258.8828 - val_mean_squared_error: 258.8828\n",
            "Epoch 15/100\n",
            "12/12 [==============================] - 0s 16ms/step - loss: 170.4481 - mean_squared_error: 170.4481 - val_loss: 253.3035 - val_mean_squared_error: 253.3035\n",
            "Epoch 16/100\n",
            "12/12 [==============================] - 0s 15ms/step - loss: 170.4259 - mean_squared_error: 170.4259 - val_loss: 232.6704 - val_mean_squared_error: 232.6704\n",
            "Epoch 17/100\n",
            "12/12 [==============================] - 0s 16ms/step - loss: 160.0774 - mean_squared_error: 160.0774 - val_loss: 216.8778 - val_mean_squared_error: 216.8778\n",
            "Epoch 18/100\n",
            "12/12 [==============================] - 0s 15ms/step - loss: 180.0704 - mean_squared_error: 180.0704 - val_loss: 169.1204 - val_mean_squared_error: 169.1204\n",
            "Epoch 19/100\n",
            "12/12 [==============================] - 0s 16ms/step - loss: 186.7511 - mean_squared_error: 186.7511 - val_loss: 358.7889 - val_mean_squared_error: 358.7889\n",
            "Epoch 20/100\n",
            "12/12 [==============================] - 0s 17ms/step - loss: 144.7059 - mean_squared_error: 144.7059 - val_loss: 227.1095 - val_mean_squared_error: 227.1095\n",
            "Epoch 21/100\n",
            "12/12 [==============================] - 0s 16ms/step - loss: 183.4268 - mean_squared_error: 183.4268 - val_loss: 266.5163 - val_mean_squared_error: 266.5163\n",
            "Epoch 22/100\n",
            "12/12 [==============================] - 0s 30ms/step - loss: 165.0269 - mean_squared_error: 165.0269 - val_loss: 193.8479 - val_mean_squared_error: 193.8479\n",
            "Epoch 23/100\n",
            "12/12 [==============================] - 0s 13ms/step - loss: 164.4952 - mean_squared_error: 164.4952 - val_loss: 247.2431 - val_mean_squared_error: 247.2431\n",
            "Epoch 24/100\n",
            "12/12 [==============================] - 0s 10ms/step - loss: 160.8432 - mean_squared_error: 160.8432 - val_loss: 176.3379 - val_mean_squared_error: 176.3379\n",
            "Epoch 25/100\n",
            "12/12 [==============================] - 0s 11ms/step - loss: 145.3192 - mean_squared_error: 145.3192 - val_loss: 204.5057 - val_mean_squared_error: 204.5057\n",
            "Epoch 26/100\n",
            "12/12 [==============================] - 0s 12ms/step - loss: 174.0361 - mean_squared_error: 174.0361 - val_loss: 234.1377 - val_mean_squared_error: 234.1377\n",
            "Epoch 27/100\n",
            "12/12 [==============================] - 0s 25ms/step - loss: 168.7768 - mean_squared_error: 168.7768 - val_loss: 166.7761 - val_mean_squared_error: 166.7761\n",
            "Epoch 28/100\n",
            "12/12 [==============================] - 0s 11ms/step - loss: 146.4088 - mean_squared_error: 146.4088 - val_loss: 250.0797 - val_mean_squared_error: 250.0797\n",
            "Epoch 29/100\n",
            "12/12 [==============================] - 0s 10ms/step - loss: 167.8710 - mean_squared_error: 167.8710 - val_loss: 305.0248 - val_mean_squared_error: 305.0248\n",
            "Epoch 30/100\n",
            "12/12 [==============================] - 0s 10ms/step - loss: 163.0170 - mean_squared_error: 163.0170 - val_loss: 230.1565 - val_mean_squared_error: 230.1565\n",
            "Epoch 31/100\n",
            "12/12 [==============================] - 0s 13ms/step - loss: 153.0215 - mean_squared_error: 153.0215 - val_loss: 287.4298 - val_mean_squared_error: 287.4298\n",
            "Epoch 32/100\n",
            "12/12 [==============================] - 0s 25ms/step - loss: 131.5022 - mean_squared_error: 131.5022 - val_loss: 197.3472 - val_mean_squared_error: 197.3472\n",
            "Epoch 33/100\n",
            "12/12 [==============================] - 0s 10ms/step - loss: 136.2206 - mean_squared_error: 136.2206 - val_loss: 163.0361 - val_mean_squared_error: 163.0361\n",
            "Epoch 34/100\n",
            "12/12 [==============================] - 0s 10ms/step - loss: 169.3720 - mean_squared_error: 169.3720 - val_loss: 153.2342 - val_mean_squared_error: 153.2342\n",
            "Epoch 35/100\n",
            "12/12 [==============================] - 0s 11ms/step - loss: 153.4926 - mean_squared_error: 153.4926 - val_loss: 255.3914 - val_mean_squared_error: 255.3914\n",
            "Epoch 36/100\n",
            "12/12 [==============================] - 0s 11ms/step - loss: 138.6194 - mean_squared_error: 138.6194 - val_loss: 145.5153 - val_mean_squared_error: 145.5153\n",
            "Epoch 37/100\n",
            "12/12 [==============================] - 0s 11ms/step - loss: 170.3902 - mean_squared_error: 170.3902 - val_loss: 226.1664 - val_mean_squared_error: 226.1664\n",
            "Epoch 38/100\n",
            "12/12 [==============================] - 0s 10ms/step - loss: 154.4335 - mean_squared_error: 154.4335 - val_loss: 250.9742 - val_mean_squared_error: 250.9742\n",
            "Epoch 39/100\n",
            "12/12 [==============================] - 0s 11ms/step - loss: 146.5511 - mean_squared_error: 146.5511 - val_loss: 225.6673 - val_mean_squared_error: 225.6673\n",
            "Epoch 40/100\n",
            "12/12 [==============================] - 0s 10ms/step - loss: 154.4272 - mean_squared_error: 154.4272 - val_loss: 281.6325 - val_mean_squared_error: 281.6325\n",
            "Epoch 41/100\n",
            "12/12 [==============================] - 0s 10ms/step - loss: 154.0796 - mean_squared_error: 154.0796 - val_loss: 241.8064 - val_mean_squared_error: 241.8064\n",
            "Epoch 42/100\n",
            "12/12 [==============================] - 0s 11ms/step - loss: 145.0990 - mean_squared_error: 145.0990 - val_loss: 246.8257 - val_mean_squared_error: 246.8257\n",
            "Epoch 43/100\n",
            "12/12 [==============================] - 0s 10ms/step - loss: 164.1137 - mean_squared_error: 164.1137 - val_loss: 182.9205 - val_mean_squared_error: 182.9205\n",
            "Epoch 44/100\n",
            "12/12 [==============================] - 0s 10ms/step - loss: 152.0546 - mean_squared_error: 152.0546 - val_loss: 207.6547 - val_mean_squared_error: 207.6547\n",
            "Epoch 45/100\n",
            "12/12 [==============================] - 0s 12ms/step - loss: 146.4853 - mean_squared_error: 146.4853 - val_loss: 185.3870 - val_mean_squared_error: 185.3870\n",
            "Epoch 46/100\n",
            "12/12 [==============================] - 0s 11ms/step - loss: 125.2154 - mean_squared_error: 125.2154 - val_loss: 280.2238 - val_mean_squared_error: 280.2238\n",
            "Epoch 47/100\n",
            "12/12 [==============================] - 0s 10ms/step - loss: 143.6298 - mean_squared_error: 143.6298 - val_loss: 205.5598 - val_mean_squared_error: 205.5598\n",
            "Epoch 48/100\n",
            "12/12 [==============================] - 0s 11ms/step - loss: 153.4252 - mean_squared_error: 153.4252 - val_loss: 263.1718 - val_mean_squared_error: 263.1718\n",
            "Epoch 49/100\n",
            "12/12 [==============================] - 0s 10ms/step - loss: 132.8772 - mean_squared_error: 132.8772 - val_loss: 271.0794 - val_mean_squared_error: 271.0794\n",
            "Epoch 50/100\n",
            "12/12 [==============================] - 0s 11ms/step - loss: 145.7038 - mean_squared_error: 145.7038 - val_loss: 189.0291 - val_mean_squared_error: 189.0291\n",
            "Epoch 51/100\n",
            "12/12 [==============================] - 0s 10ms/step - loss: 156.2784 - mean_squared_error: 156.2784 - val_loss: 238.9845 - val_mean_squared_error: 238.9845\n",
            "Epoch 52/100\n",
            "12/12 [==============================] - 0s 11ms/step - loss: 137.5995 - mean_squared_error: 137.5995 - val_loss: 209.9854 - val_mean_squared_error: 209.9854\n",
            "Epoch 53/100\n",
            "12/12 [==============================] - 0s 11ms/step - loss: 174.8973 - mean_squared_error: 174.8973 - val_loss: 258.3602 - val_mean_squared_error: 258.3602\n",
            "Epoch 54/100\n",
            "12/12 [==============================] - 0s 10ms/step - loss: 152.1953 - mean_squared_error: 152.1953 - val_loss: 339.5154 - val_mean_squared_error: 339.5154\n",
            "Epoch 55/100\n",
            "12/12 [==============================] - 0s 11ms/step - loss: 136.5369 - mean_squared_error: 136.5369 - val_loss: 195.4306 - val_mean_squared_error: 195.4306\n",
            "Epoch 56/100\n",
            "12/12 [==============================] - 0s 10ms/step - loss: 153.6841 - mean_squared_error: 153.6841 - val_loss: 228.6805 - val_mean_squared_error: 228.6805\n",
            "Epoch 57/100\n",
            "12/12 [==============================] - 0s 10ms/step - loss: 161.2567 - mean_squared_error: 161.2567 - val_loss: 202.7202 - val_mean_squared_error: 202.7202\n",
            "Epoch 58/100\n",
            "12/12 [==============================] - 0s 10ms/step - loss: 134.7043 - mean_squared_error: 134.7043 - val_loss: 179.7822 - val_mean_squared_error: 179.7822\n",
            "Epoch 59/100\n",
            "12/12 [==============================] - 0s 11ms/step - loss: 146.7417 - mean_squared_error: 146.7417 - val_loss: 257.4334 - val_mean_squared_error: 257.4334\n",
            "Epoch 60/100\n",
            "12/12 [==============================] - 0s 11ms/step - loss: 159.6420 - mean_squared_error: 159.6420 - val_loss: 203.7289 - val_mean_squared_error: 203.7289\n",
            "Epoch 61/100\n",
            "12/12 [==============================] - 0s 10ms/step - loss: 154.0313 - mean_squared_error: 154.0313 - val_loss: 127.3327 - val_mean_squared_error: 127.3327\n",
            "Epoch 62/100\n",
            "12/12 [==============================] - 0s 10ms/step - loss: 142.1324 - mean_squared_error: 142.1324 - val_loss: 218.8868 - val_mean_squared_error: 218.8868\n",
            "Epoch 63/100\n",
            "12/12 [==============================] - 0s 9ms/step - loss: 126.9121 - mean_squared_error: 126.9121 - val_loss: 238.1635 - val_mean_squared_error: 238.1635\n",
            "Epoch 64/100\n",
            "12/12 [==============================] - 0s 11ms/step - loss: 163.2182 - mean_squared_error: 163.2182 - val_loss: 308.9749 - val_mean_squared_error: 308.9749\n",
            "Epoch 65/100\n",
            "12/12 [==============================] - 0s 10ms/step - loss: 147.0322 - mean_squared_error: 147.0322 - val_loss: 241.5468 - val_mean_squared_error: 241.5468\n",
            "Epoch 66/100\n",
            "12/12 [==============================] - 0s 11ms/step - loss: 153.6987 - mean_squared_error: 153.6987 - val_loss: 163.1401 - val_mean_squared_error: 163.1401\n",
            "Epoch 67/100\n",
            "12/12 [==============================] - 0s 12ms/step - loss: 149.6351 - mean_squared_error: 149.6351 - val_loss: 271.2963 - val_mean_squared_error: 271.2963\n",
            "Epoch 68/100\n",
            "12/12 [==============================] - 0s 11ms/step - loss: 151.1798 - mean_squared_error: 151.1798 - val_loss: 190.6740 - val_mean_squared_error: 190.6740\n",
            "Epoch 69/100\n",
            "12/12 [==============================] - 0s 11ms/step - loss: 149.3544 - mean_squared_error: 149.3544 - val_loss: 220.1738 - val_mean_squared_error: 220.1738\n",
            "Epoch 70/100\n",
            "12/12 [==============================] - 0s 11ms/step - loss: 156.0126 - mean_squared_error: 156.0126 - val_loss: 198.8133 - val_mean_squared_error: 198.8133\n",
            "Epoch 71/100\n",
            "12/12 [==============================] - 0s 10ms/step - loss: 148.9736 - mean_squared_error: 148.9736 - val_loss: 203.9433 - val_mean_squared_error: 203.9433\n",
            "Epoch 72/100\n",
            "12/12 [==============================] - 0s 10ms/step - loss: 150.1866 - mean_squared_error: 150.1866 - val_loss: 151.0191 - val_mean_squared_error: 151.0191\n",
            "Epoch 73/100\n",
            "12/12 [==============================] - 0s 10ms/step - loss: 132.8558 - mean_squared_error: 132.8558 - val_loss: 200.3270 - val_mean_squared_error: 200.3270\n",
            "Epoch 74/100\n",
            "12/12 [==============================] - 0s 11ms/step - loss: 133.6852 - mean_squared_error: 133.6852 - val_loss: 232.7896 - val_mean_squared_error: 232.7896\n",
            "Epoch 75/100\n",
            "12/12 [==============================] - 0s 10ms/step - loss: 138.3804 - mean_squared_error: 138.3804 - val_loss: 245.9409 - val_mean_squared_error: 245.9409\n",
            "Epoch 76/100\n",
            "12/12 [==============================] - 0s 11ms/step - loss: 128.2335 - mean_squared_error: 128.2335 - val_loss: 227.1865 - val_mean_squared_error: 227.1865\n",
            "Epoch 77/100\n",
            "12/12 [==============================] - 0s 11ms/step - loss: 152.9910 - mean_squared_error: 152.9910 - val_loss: 172.2138 - val_mean_squared_error: 172.2138\n",
            "Epoch 78/100\n",
            "12/12 [==============================] - 0s 10ms/step - loss: 133.1105 - mean_squared_error: 133.1105 - val_loss: 237.5231 - val_mean_squared_error: 237.5231\n",
            "Epoch 79/100\n",
            "12/12 [==============================] - 0s 11ms/step - loss: 117.0574 - mean_squared_error: 117.0574 - val_loss: 265.7422 - val_mean_squared_error: 265.7422\n",
            "Epoch 80/100\n",
            "12/12 [==============================] - 0s 10ms/step - loss: 155.6372 - mean_squared_error: 155.6372 - val_loss: 167.7964 - val_mean_squared_error: 167.7964\n",
            "Epoch 81/100\n",
            "12/12 [==============================] - 0s 11ms/step - loss: 144.3788 - mean_squared_error: 144.3788 - val_loss: 305.3707 - val_mean_squared_error: 305.3707\n",
            "Epoch 82/100\n",
            "12/12 [==============================] - 0s 12ms/step - loss: 153.5915 - mean_squared_error: 153.5915 - val_loss: 199.6221 - val_mean_squared_error: 199.6221\n",
            "Epoch 83/100\n",
            "12/12 [==============================] - 0s 13ms/step - loss: 138.3781 - mean_squared_error: 138.3781 - val_loss: 236.2950 - val_mean_squared_error: 236.2950\n",
            "Epoch 84/100\n",
            "12/12 [==============================] - 0s 11ms/step - loss: 144.9574 - mean_squared_error: 144.9574 - val_loss: 150.5360 - val_mean_squared_error: 150.5360\n",
            "Epoch 85/100\n",
            "12/12 [==============================] - 0s 11ms/step - loss: 152.9208 - mean_squared_error: 152.9208 - val_loss: 197.7508 - val_mean_squared_error: 197.7508\n",
            "Epoch 86/100\n",
            "12/12 [==============================] - 0s 11ms/step - loss: 131.0939 - mean_squared_error: 131.0939 - val_loss: 240.3478 - val_mean_squared_error: 240.3478\n",
            "Epoch 87/100\n",
            "12/12 [==============================] - 0s 11ms/step - loss: 117.5116 - mean_squared_error: 117.5116 - val_loss: 188.3320 - val_mean_squared_error: 188.3320\n",
            "Epoch 88/100\n",
            "12/12 [==============================] - 0s 11ms/step - loss: 142.5042 - mean_squared_error: 142.5042 - val_loss: 208.6684 - val_mean_squared_error: 208.6684\n",
            "Epoch 89/100\n",
            "12/12 [==============================] - 0s 11ms/step - loss: 138.8636 - mean_squared_error: 138.8636 - val_loss: 174.2121 - val_mean_squared_error: 174.2121\n",
            "Epoch 90/100\n",
            "12/12 [==============================] - 0s 11ms/step - loss: 137.7641 - mean_squared_error: 137.7641 - val_loss: 181.9885 - val_mean_squared_error: 181.9885\n",
            "Epoch 91/100\n",
            "12/12 [==============================] - 0s 12ms/step - loss: 115.1309 - mean_squared_error: 115.1309 - val_loss: 184.8516 - val_mean_squared_error: 184.8516\n",
            "Epoch 92/100\n",
            "12/12 [==============================] - 0s 11ms/step - loss: 127.9641 - mean_squared_error: 127.9641 - val_loss: 195.0405 - val_mean_squared_error: 195.0405\n",
            "Epoch 93/100\n",
            "12/12 [==============================] - 0s 16ms/step - loss: 114.1886 - mean_squared_error: 114.1886 - val_loss: 226.5421 - val_mean_squared_error: 226.5421\n",
            "Epoch 94/100\n",
            "12/12 [==============================] - 0s 16ms/step - loss: 138.2410 - mean_squared_error: 138.2410 - val_loss: 219.9576 - val_mean_squared_error: 219.9576\n",
            "Epoch 95/100\n",
            "12/12 [==============================] - 0s 16ms/step - loss: 139.6438 - mean_squared_error: 139.6438 - val_loss: 172.2894 - val_mean_squared_error: 172.2894\n",
            "Epoch 96/100\n",
            "12/12 [==============================] - 0s 17ms/step - loss: 144.7606 - mean_squared_error: 144.7606 - val_loss: 235.6838 - val_mean_squared_error: 235.6838\n",
            "Epoch 97/100\n",
            "12/12 [==============================] - 0s 16ms/step - loss: 138.3222 - mean_squared_error: 138.3222 - val_loss: 286.9138 - val_mean_squared_error: 286.9138\n",
            "Epoch 98/100\n",
            "12/12 [==============================] - 0s 18ms/step - loss: 111.3899 - mean_squared_error: 111.3899 - val_loss: 214.2456 - val_mean_squared_error: 214.2456\n",
            "Epoch 99/100\n",
            "12/12 [==============================] - 0s 14ms/step - loss: 115.3775 - mean_squared_error: 115.3775 - val_loss: 260.3229 - val_mean_squared_error: 260.3229\n",
            "Epoch 100/100\n",
            "12/12 [==============================] - 0s 17ms/step - loss: 137.8087 - mean_squared_error: 137.8087 - val_loss: 244.1268 - val_mean_squared_error: 244.1268\n",
            "15/15 [==============================] - 0s 5ms/step\n"
          ]
        }
      ],
      "source": [
        "#自分ので構築→Hascので試す\n",
        "history = model.fit(DifferenceAcc_hist, Hz, batch_size=32, epochs=100, shuffle=True, validation_split=0.2)\n",
        "y_pred = tf.cast(tf.clip_by_value(model.predict(DifferenceAcc_histHasc), 20, 100), tf.int32)\n",
        "mae.append(mean_absolute_error(y_pred, HzHasc))\n",
        "mse.append(mean_squared_error(y_pred, HzHasc))\n",
        "r2.append(r2_score(y_pred, HzHasc))\n",
        "aa = HzHasc.reshape(len(HzHasc),1)\n",
        "diffb = y_pred - aa"
      ]
    },
    {
      "cell_type": "code",
      "execution_count": 52,
      "metadata": {
        "colab": {
          "base_uri": "https://localhost:8080/"
        },
        "id": "6daUiYhjh9Xc",
        "outputId": "497322e2-b02d-46e7-9575-438b1e55cf56"
      },
      "outputs": [
        {
          "output_type": "execute_result",
          "data": {
            "text/plain": [
              "[14.673076923076923,\n",
              " 15.86965811965812,\n",
              " 13.698717948717949,\n",
              " 13.38888888888889,\n",
              " 11.782051282051283,\n",
              " 11.67094017094017,\n",
              " 12.905982905982906,\n",
              " 12.425213675213675,\n",
              " 11.77991452991453,\n",
              " 10.566239316239317]"
            ]
          },
          "metadata": {},
          "execution_count": 52
        }
      ],
      "source": [
        "mae"
      ]
    },
    {
      "cell_type": "code",
      "execution_count": 53,
      "metadata": {
        "colab": {
          "base_uri": "https://localhost:8080/"
        },
        "id": "8KRKeZVviZLA",
        "outputId": "c49990c6-05f8-4670-e6da-a48473ed6c02"
      },
      "outputs": [
        {
          "output_type": "execute_result",
          "data": {
            "text/plain": [
              "[344.12606837606836,\n",
              " 392.72008547008545,\n",
              " 288.22008547008545,\n",
              " 276.2307692307692,\n",
              " 240.22222222222223,\n",
              " 212.44871794871796,\n",
              " 256.28205128205127,\n",
              " 251.07051282051282,\n",
              " 233.19871794871796,\n",
              " 190.69017094017093]"
            ]
          },
          "metadata": {},
          "execution_count": 53
        }
      ],
      "source": [
        "mse"
      ]
    },
    {
      "cell_type": "code",
      "execution_count": 54,
      "metadata": {
        "colab": {
          "base_uri": "https://localhost:8080/"
        },
        "id": "RR4SRZsBiagU",
        "outputId": "e726f2fd-4abf-4708-fb95-5ee753490307"
      },
      "outputs": [
        {
          "output_type": "execute_result",
          "data": {
            "text/plain": [
              "[0.1230308373554101,\n",
              " -0.07888527047846172,\n",
              " 0.22436821302699494,\n",
              " 0.2948302709044288,\n",
              " 0.48849175194618266,\n",
              " 0.43776637345830727,\n",
              " 0.24847386369064817,\n",
              " 0.3944041636886836,\n",
              " 0.4110470627976158,\n",
              " 0.5491909621073858]"
            ]
          },
          "metadata": {},
          "execution_count": 54
        }
      ],
      "source": [
        "r2"
      ]
    },
    {
      "cell_type": "code",
      "execution_count": null,
      "metadata": {
        "id": "M-ZPd4XNibl1"
      },
      "outputs": [],
      "source": [
        "np.var(diffa)"
      ]
    },
    {
      "cell_type": "code",
      "execution_count": null,
      "metadata": {
        "id": "jWDWX2iDihmS"
      },
      "outputs": [],
      "source": [
        "np.var(diffb)"
      ]
    },
    {
      "cell_type": "code",
      "execution_count": null,
      "metadata": {
        "id": "ExQzwqff-Xgo"
      },
      "outputs": [],
      "source": []
    }
  ],
  "metadata": {
    "accelerator": "GPU",
    "colab": {
      "gpuType": "T4",
      "provenance": [],
      "include_colab_link": true
    },
    "gpuClass": "standard",
    "kernelspec": {
      "display_name": "Python 3",
      "name": "python3"
    },
    "language_info": {
      "name": "python"
    }
  },
  "nbformat": 4,
  "nbformat_minor": 0
}