{
  "cells": [
    {
      "cell_type": "code",
      "execution_count": 37,
      "metadata": {
        "id": "oTsgcWLEa9Nt"
      },
      "outputs": [],
      "source": [
        "#ライブラリをインポート\n",
        "import os #OSに依存する様々な機能を利用するためのモジュール(ファイルやディレクトリ操作など)\n",
        "import re #正規表現を利用するためのモジュール\n",
        "import csv  #csvファイルを扱うためのモジュール\n",
        "import math #数学的計算のためのモジュール\n",
        "from decimal import Decimal #小数点桁落ちをなくすためのモジュール\n",
        "import matplotlib.pyplot as plt #グラフ描画のためのモジュール\n",
        "import numpy as np  #多次元配列計算のためのモジュール\n",
        "import pandas as pd #データフレームを扱うためのモジュール\n",
        "from scipy import signal  #信号処理のためのモジュール\n",
        "from scipy.stats import skew, kurtosis  #歪度と尖度を調べるためのモジュール\n",
        "from sklearn.model_selection import train_test_split  #データをトレーニング用とテスト用に分けるためのモジュール\n",
        "from sklearn import preprocessing #データを正規化するためのモジュール\n",
        "from sklearn.preprocessing import StandardScaler  #データを標準化するためのモジュール\n",
        "from sklearn.preprocessing import LabelEncoder  #カテゴリ変数を数値化するためのモジュール\n",
        "from sklearn.metrics import accuracy_score, mean_squared_error, mean_absolute_error, r2_score #機械学習モデルの性能評価のためのモジュール\n",
        "import tensorflow as tf #TensorFlow(Googleが開発したオープンソースの機械学習フレームワーク)\n",
        "from tensorflow import keras  #TensorFlow用のニューラルネットワークライブラリAPI\n",
        "from tensorflow.keras import layers #ニューラルネットワークのレイヤーを定義するためのモジュール"
      ]
    },
    {
      "cell_type": "code",
      "execution_count": 38,
      "metadata": {
        "colab": {
          "base_uri": "https://localhost:8080/"
        },
        "id": "CrXcc8k3bDt9",
        "outputId": "c0704609-62b1-4897-cf7f-642a37897723"
      },
      "outputs": [
        {
          "output_type": "stream",
          "name": "stdout",
          "text": [
            "Drive already mounted at /content/drive; to attempt to forcibly remount, call drive.mount(\"/content/drive\", force_remount=True).\n"
          ]
        }
      ],
      "source": [
        "from google.colab import drive\n",
        "drive.mount('/content/drive')"
      ]
    },
    {
      "cell_type": "code",
      "execution_count": 64,
      "metadata": {
        "id": "-E1jV0_ybIY8"
      },
      "outputs": [],
      "source": [
        "#定数を定義\n",
        "BINS = 100  #ヒストグラムのビンの数\n",
        "EPSILON = .00001  #スムージングパラメータ\n",
        "UPPER_LIMIT = 1.1 #静止区間の上限\n",
        "LOWER_LIMIT = 0.9 #静止区間の加減\n",
        "STATIONARY_INTERVALS = 5  #静止区間除去のサンプルの間隔(静止区間が何サンプル連続したら除去するか)\n",
        "TRAIN_SIZE = 0.8  #機械学習のトレーニングデータの割合"
      ]
    },
    {
      "cell_type": "code",
      "execution_count": 40,
      "metadata": {
        "id": "Mmd5z_SLbUNl"
      },
      "outputs": [],
      "source": [
        "#ファイル名と周波数を分けて出力する関数\n",
        "def divide_Hz_and_filename(Hz_and_filename: list[int, str]) -> tuple[list[int], list[str]]:\n",
        "    Hz = []\n",
        "    filename = []\n",
        "    for row in Hz_and_filename:\n",
        "      Hz.append(row[0])\n",
        "      filename.append(row[1])\n",
        "    return Hz, filename"
      ]
    },
    {
      "cell_type": "code",
      "execution_count": 41,
      "metadata": {
        "id": "MBcD5SbVbtzz"
      },
      "outputs": [],
      "source": [
        "#Hascの加速度データのCSVファイルから3軸加速度を取得する関数\n",
        "def get_accelerationHasc(filename: str) -> tuple[list[float], list[float], list[float]]:\n",
        "    AccX, AccY, AccZ = [], [], []\n",
        "    with open(filename) as f:\n",
        "        reader = csv.reader(f)\n",
        "        for row in reader:\n",
        "            AccX.append(float(row[1]))\n",
        "            AccY.append(float(row[2]))\n",
        "            AccZ.append(float(row[3]))\n",
        "\n",
        "    return AccX, AccY, AccZ"
      ]
    },
    {
      "cell_type": "code",
      "execution_count": 6,
      "metadata": {
        "id": "Ryj7pQ-TbxHG"
      },
      "outputs": [],
      "source": [
        "#静止区間を除去する関数\n",
        "def acc_to_remove_stationary_intervals(AccX: list[float], AccY: list[float], AccZ: list[float]) -> list[float]:\n",
        "    #各軸の加速度の平均を求める\n",
        "    AvgAccX = sum(AccX) / len(AccX)\n",
        "    AvgAccY = sum(AccY) / len(AccY)\n",
        "    AvgAccZ = sum(AccZ) / len(AccZ)\n",
        "\n",
        "    AvgResultantAcc = math.sqrt(AvgAccX ** 2 + AvgAccY ** 2 + AvgAccZ ** 2) #重力加速度の推定値=合成加速度の平均を求める\n",
        "\n",
        "    ResultantAcc = [math.sqrt(x ** 2 + y ** 2 + z ** 2) for x, y, z in zip(AccX, AccY, AccZ)]   #各時刻の合成加速度を求める\n",
        "\n",
        "    #各時刻の合成加速度から静止区間(重力加速度の推定値に近い値が一定以上以上連続している区間)を除去する\n",
        "    i = 0 #ループ変数\n",
        "    counter = 0 #静止区間がSTATIONARY_INTERVALS分続いているかをカウントする変数\n",
        "    while i < len(ResultantAcc):\n",
        "        if AvgResultantAcc * LOWER_LIMIT < ResultantAcc[i] < AvgResultantAcc * UPPER_LIMIT:   #平均のLOWER_LIMIT倍~UPPER_LIMIT倍の範囲を調べる\n",
        "            counter += 1    #範囲内ならカウントを増やす\n",
        "            if counter == STATIONARY_INTERVALS: #カウントがSTATIONARY_INTERVALSに達したらその区間を削除\n",
        "                del ResultantAcc[i+1-STATIONARY_INTERVALS:i+1]    #スライスでは選択範囲の開始位置startと終了位置stopを[start:stop]のように書くとstart <= x < stopの範囲が選択される #start番目の値は含まれるがstop番目の値は含まれない\n",
        "                counter = 0 #カウンターをリセット\n",
        "                i -= STATIONARY_INTERVALS   #削除した分インデックスがズレるので補正する\n",
        "        else:\n",
        "            counter = 0 #カウンターをリセット\n",
        "        i += 1\n",
        "\n",
        "    return ResultantAcc  #静止区間を除去した後のリストを返す"
      ]
    },
    {
      "cell_type": "code",
      "source": [
        "#連続する2サンプルの差分を取る関数\n",
        "def calculate_differences_of_acceleration(ResultantAcc: list[float]) -> list[float]:\n",
        "    DifferenceAcc = [math.fabs(Decimal(ResultantAcc[i + 1]) - Decimal(ResultantAcc[i])) for i in range(len(ResultantAcc) - 1)]  #連続する2サンプルの誤差を取る\n",
        "    return DifferenceAcc"
      ],
      "metadata": {
        "id": "UVjjm5C493em"
      },
      "execution_count": 14,
      "outputs": []
    },
    {
      "cell_type": "code",
      "execution_count": 9,
      "metadata": {
        "id": "hbUSs34Ib4Z_"
      },
      "outputs": [],
      "source": [
        "#入力された加速度の差分のリストからヒストグラムを作る関数（ビンの範囲が各加速度の差分データの最小値〜最大値）\n",
        "def create_histogram2(DifferenceAcc_list: list[float]) -> np.histogram:\n",
        "    DifferenceAcc_hist = np.zeros((len(DifferenceAcc_list), BINS), dtype=float)\n",
        "    for i in range(len(DifferenceAcc_list)):\n",
        "        min_value = min(DifferenceAcc_list[i])\n",
        "        max_value = max(DifferenceAcc_list[i])\n",
        "        #DifferenceAcc_hist[i], _ = np.histogram(DifferenceAcc_list[i], bins=BINS, range=(min_value, max_value)) #ヒストグラムを作成し、同じ数のビンで区切る\n",
        "        DifferenceAcc_hist[i], _ = np.histogram(DifferenceAcc_list[i], bins=BINS, density=True) #ヒストグラムを作成し、同じ数のビンで区切る\n",
        "    return DifferenceAcc_hist"
      ]
    },
    {
      "cell_type": "code",
      "execution_count": 10,
      "metadata": {
        "id": "DqeTnb2lb9wM"
      },
      "outputs": [],
      "source": [
        "#各加速度データをダウンサンプリングする関数\n",
        "def resampling_Acc(originHz: int, newHz: int, AccX: list[float], AccY: list[float], AccZ: list[float], Hz: np.array) -> tuple[list[float], list[float], list[float], np.array]:\n",
        "    i = 0   #カウンター変数\n",
        "\n",
        "    while (Hz[i] == originHz):\n",
        "        originlen = len(AccX[i])    #元々のデータの長さ\n",
        "        sampling_factor = int(originlen * (newHz/originHz)) #ダウンサンプリングした後のデータの長さ\n",
        "        newAccX = signal.resample(AccX[i], sampling_factor)    #データをダウンサンプリング\n",
        "        newAccY = signal.resample(AccY[i], sampling_factor)    #データをダウンサンプリング\n",
        "        newAccZ = signal.resample(AccZ[i], sampling_factor)    #データをダウンサンプリング\n",
        "        AccX.append(newAccX)   #ダウンサンプリングデータを加速度データに追加\n",
        "        AccY.append(newAccY)   #ダウンサンプリングデータを加速度データに追加\n",
        "        AccZ.append(newAccZ)   #ダウンサンプリングデータを加速度データに追加\n",
        "        Hz = np.append(Hz, newHz)   #ダウンサンプリングレートを追加\n",
        "        i += 1\n",
        "\n",
        "    return AccX, AccY, AccZ, Hz"
      ]
    },
    {
      "cell_type": "code",
      "execution_count": 11,
      "metadata": {
        "colab": {
          "base_uri": "https://localhost:8080/"
        },
        "id": "RiHKUsoFcSgD",
        "outputId": "8ecbe6a1-9921-4f69-8a42-0241ecf3deeb"
      },
      "outputs": [
        {
          "output_type": "stream",
          "name": "stdout",
          "text": [
            "Found GPU at: /device:GPU:0\n"
          ]
        }
      ],
      "source": [
        "import tensorflow as tf\n",
        "device_name = tf.test.gpu_device_name()\n",
        "if device_name != '/device:GPU:0':\n",
        "  raise SystemError('GPU device not found')\n",
        "print('Found GPU at: {}'.format(device_name))"
      ]
    },
    {
      "cell_type": "code",
      "execution_count": 76,
      "metadata": {
        "id": "rIQXdUwvb-gQ"
      },
      "outputs": [],
      "source": [
        "pathHasc = \"/content/drive/MyDrive/hasc(walk)/\"\n",
        "filename = os.listdir(pathHasc) #引数のパスのディレクトリの中のファイル名一覧を取得\n",
        "#filename.remove(\".DS_Store\")"
      ]
    },
    {
      "cell_type": "code",
      "execution_count": 77,
      "metadata": {
        "id": "G2h7cewPcKKq"
      },
      "outputs": [],
      "source": [
        "#使う変数を宣言\n",
        "readAccX, readAccY, readAccZ = [], [], []   #データ読み込む用\n",
        "AccX, AccY, AccZ = [], [], []\n",
        "ResultantAcc = []\n",
        "DifferenceAcc_list = []\n",
        "\n",
        "#各データセットからデータを読み込み二次元配列に格納\n",
        "for i in filename:\n",
        "    readAccX, readAccY, readAccZ = get_accelerationHasc(pathHasc+i)\n",
        "    AccX.append(readAccX), AccY.append(readAccY), AccZ.append(readAccZ)\n",
        "\n",
        "HzHasc = np.ones(len(filename)) * 100\n",
        "\n",
        "#各加速度データをダウンサンプリング\n",
        "for i in range(9, 1, -1):\n",
        "    AccX, AccY, AccZ, HzHasc = resampling_Acc(100, i * 10, AccX, AccY, AccZ, HzHasc)\n",
        "\n",
        "#静止区間を除去\n",
        "for i in range(len(HzHasc)):\n",
        "    ResultantAcc.append(acc_to_remove_stationary_intervals(AccX[i], AccY[i], AccZ[i]))"
      ]
    },
    {
      "cell_type": "code",
      "source": [
        "#グラフを表示する領域を，figオブジェクトとして作成。\n",
        "fig = plt.figure(figsize = (9,6))\n",
        "xl1 = \"acceleration (0.1mG)\"\n",
        "yl1 = \"frequency\"\n",
        "\n",
        "#グラフを描画するsubplot領域を作成。\n",
        "ax1 = fig.add_subplot(3, 1, 1)\n",
        "ax2 = fig.add_subplot(3, 1, 2)\n",
        "ax3 = fig.add_subplot(3, 1, 3)\n",
        "\n",
        "#各subplot領域にデータを渡す\n",
        "ax1.hist(DifferenceAcc_list[0], bins=BINS,density=True, range=(0, 1), label=\"100 Hz\")\n",
        "ax2.hist(DifferenceAcc_list[260], bins=BINS,density=True, range=(0, 1), label=\"50 Hz\")\n",
        "ax3.hist(DifferenceAcc_list[416], bins=BINS,density=True, range=(0, 1), label=\"20 Hz\")\n",
        "\n",
        "#各subplotにxラベルを追加\n",
        "ax1.set_xlabel(xl1)\n",
        "ax2.set_xlabel(xl1)\n",
        "ax3.set_xlabel(xl1)\n",
        "\n",
        "#各subplotにyラベルを追加\n",
        "ax1.set_ylabel(yl1)\n",
        "ax2.set_ylabel(yl1)\n",
        "ax3.set_ylabel(yl1)\n",
        "\n",
        "#各subplotのy軸の範囲を指定\n",
        "ax1.set_ylim(0, 15)\n",
        "ax2.set_ylim(0, 15)\n",
        "ax3.set_ylim(0, 15)\n",
        "\n",
        "# 凡例表示\n",
        "ax1.legend(loc = 'upper right')\n",
        "ax2.legend(loc = 'upper right')\n",
        "ax3.legend(loc = 'upper right')\n",
        "\n",
        "plt.show()"
      ],
      "metadata": {
        "id": "ON2HDNrBAiPw",
        "outputId": "5022d25c-d4b2-461b-f422-513790d56022",
        "colab": {
          "base_uri": "https://localhost:8080/",
          "height": 547
        }
      },
      "execution_count": 89,
      "outputs": [
        {
          "output_type": "display_data",
          "data": {
            "text/plain": [
              "<Figure size 900x600 with 3 Axes>"
            ],
            "image/png": "[encoded data removed]"
          },
          "metadata": {}
        }
      ]
    },
    {
      "cell_type": "code",
      "execution_count": 78,
      "metadata": {
        "id": "PR_ij4tecrTm"
      },
      "outputs": [],
      "source": [
        "#ヒストグラム作成\n",
        "for i in range(len(ResultantAcc)):\n",
        "    DifferenceAcc_list.append(calculate_differences_of_acceleration(ResultantAcc[i]))\n",
        "DifferenceAcc_histHasc = create_histogram2(DifferenceAcc_list)"
      ]
    },
    {
      "cell_type": "code",
      "execution_count": 90,
      "metadata": {
        "id": "l2v5Zc9Z4JDg"
      },
      "outputs": [],
      "source": [
        "pathHascJog = \"/content/drive/MyDrive/hasc(jog)/\"\n",
        "filename = os.listdir(pathHascJog) #引数のパスのディレクトリの中のファイル名一覧を取得\n",
        "#filename.remove(\".DS_Store\")"
      ]
    },
    {
      "cell_type": "code",
      "execution_count": 91,
      "metadata": {
        "id": "5OCGrnAR4Npx"
      },
      "outputs": [],
      "source": [
        "#使う変数を宣言\n",
        "readAccX, readAccY, readAccZ = [], [], []   #データ読み込む用\n",
        "AccX, AccY, AccZ = [], [], []\n",
        "ResultantAcc = []\n",
        "DifferenceAcc_list = []\n",
        "\n",
        "#各データセットからデータを読み込み二次元配列に格納\n",
        "for i in filename:\n",
        "    readAccX, readAccY, readAccZ = get_accelerationHasc(pathHascJog+i)\n",
        "    AccX.append(readAccX), AccY.append(readAccY), AccZ.append(readAccZ)\n",
        "\n",
        "HzHascJog = np.ones(len(filename)) * 100\n",
        "\n",
        "#各加速度データをダウンサンプリング\n",
        "for i in range(9, 1, -1):\n",
        "    AccX, AccY, AccZ, HzHascJog = resampling_Acc(100, i * 10, AccX, AccY, AccZ, HzHascJog)\n",
        "\n",
        "#静止区間を除去\n",
        "for i in range(len(HzHascJog)):\n",
        "    ResultantAcc.append(acc_to_remove_stationary_intervals(AccX[i], AccY[i], AccZ[i]))"
      ]
    },
    {
      "cell_type": "code",
      "source": [
        "#ヒストグラム作成\n",
        "for i in range(len(ResultantAcc)):\n",
        "    DifferenceAcc_list.append(calculate_differences_of_acceleration(ResultantAcc[i]))\n",
        "DifferenceAcc_histHascJog = create_histogram2(DifferenceAcc_list)"
      ],
      "metadata": {
        "id": "cf2oqi_fBzeQ"
      },
      "execution_count": 93,
      "outputs": []
    },
    {
      "cell_type": "code",
      "source": [
        "#グラフを表示する領域を，figオブジェクトとして作成。\n",
        "fig = plt.figure(figsize = (9,6))\n",
        "xl1 = \"acceleration (0.1mG)\"\n",
        "yl1 = \"frequency\"\n",
        "\n",
        "#グラフを描画するsubplot領域を作成。\n",
        "ax1 = fig.add_subplot(3, 1, 1)\n",
        "ax2 = fig.add_subplot(3, 1, 2)\n",
        "ax3 = fig.add_subplot(3, 1, 3)\n",
        "\n",
        "#各subplot領域にデータを渡す\n",
        "ax1.hist(DifferenceAcc_list[0], bins=BINS,density=True, range=(0, 1), label=\"100 Hz\")\n",
        "ax2.hist(DifferenceAcc_list[260], bins=BINS,density=True, range=(0, 1), label=\"50 Hz\")\n",
        "ax3.hist(DifferenceAcc_list[416], bins=BINS,density=True, range=(0, 1), label=\"20 Hz\")\n",
        "\n",
        "#各subplotにxラベルを追加\n",
        "ax1.set_xlabel(xl1)\n",
        "ax2.set_xlabel(xl1)\n",
        "ax3.set_xlabel(xl1)\n",
        "\n",
        "#各subplotにyラベルを追加\n",
        "ax1.set_ylabel(yl1)\n",
        "ax2.set_ylabel(yl1)\n",
        "ax3.set_ylabel(yl1)\n",
        "\n",
        "#各subplotのy軸の範囲を指定\n",
        "ax1.set_ylim(0, 15)\n",
        "ax2.set_ylim(0, 15)\n",
        "ax3.set_ylim(0, 15)\n",
        "\n",
        "# 凡例表示\n",
        "ax1.legend(loc = 'upper right')\n",
        "ax2.legend(loc = 'upper right')\n",
        "ax3.legend(loc = 'upper right')\n",
        "\n",
        "plt.show()"
      ],
      "metadata": {
        "id": "4Xd55xIABo2D",
        "outputId": "4ef0c8ac-8975-467a-c1c2-1640735245c0",
        "colab": {
          "base_uri": "https://localhost:8080/",
          "height": 547
        }
      },
      "execution_count": 94,
      "outputs": [
        {
          "output_type": "display_data",
          "data": {
            "text/plain": [
              "<Figure size 900x600 with 3 Axes>"
            ],
            "image/png": "[encoded data removed]"
          },
          "metadata": {}
        }
      ]
    },
    {
      "cell_type": "code",
      "execution_count": 48,
      "metadata": {
        "id": "V8SRN1Jednsw"
      },
      "outputs": [],
      "source": [
        "#標準化\n",
        "scaler = StandardScaler()\n",
        "# Fit the scaler to x_train\n",
        "scaler.fit(DifferenceAcc_histHasc)\n",
        "# Use the scaler to transform x_train and x_test\n",
        "DifferenceAcc_histHasc = scaler.transform(DifferenceAcc_histHasc)"
      ]
    },
    {
      "cell_type": "code",
      "execution_count": 49,
      "metadata": {
        "id": "P_uUTxGG4tw7"
      },
      "outputs": [],
      "source": [
        "#標準化\n",
        "scaler = StandardScaler()\n",
        "# Fit the scaler to x_train\n",
        "scaler.fit(DifferenceAcc_histHascJog)\n",
        "# Use the scaler to transform x_train and x_test\n",
        "DifferenceAcc_histHascJog = scaler.transform(DifferenceAcc_histHascJog)"
      ]
    },
    {
      "cell_type": "code",
      "source": [
        "len(HzHascJog)"
      ],
      "metadata": {
        "id": "h-wESVEn-WsC",
        "outputId": "d2b79205-897b-483b-f058-68b8c000d1b5",
        "colab": {
          "base_uri": "https://localhost:8080/"
        }
      },
      "execution_count": 50,
      "outputs": [
        {
          "output_type": "execute_result",
          "data": {
            "text/plain": [
              "468"
            ]
          },
          "metadata": {},
          "execution_count": 50
        }
      ]
    },
    {
      "cell_type": "code",
      "execution_count": 65,
      "metadata": {
        "id": "wdkRN2n9dxeT"
      },
      "outputs": [],
      "source": [
        "#transformer regression\n",
        "#各種パラメータ\n",
        "NUM_HEADS = 2\n",
        "KEY_DIM = 50\n",
        "BINS = 100\n",
        "DROPOUT = 0.1\n",
        "N = 1\n",
        "\n",
        "# Define the input shape\n",
        "input_shape = (BINS,)\n",
        "output_shape = (1,)\n",
        "\n",
        "#形を定義(このモジュールは行列でないとダメっぽい)\n",
        "inputs_encoder = layers.Input(shape=input_shape)\n",
        "inputs_decoder = layers.Input(shape=output_shape)"
      ]
    },
    {
      "cell_type": "code",
      "execution_count": 66,
      "metadata": {
        "id": "8DfD41iqd2fh"
      },
      "outputs": [],
      "source": [
        "#Encoderに対する入力の形状\n",
        "x_encoder = layers.Reshape((1, 100))(inputs_encoder)"
      ]
    },
    {
      "cell_type": "code",
      "execution_count": 67,
      "metadata": {
        "id": "IdfPrQ4Rd558"
      },
      "outputs": [],
      "source": [
        "#Transformer Encoder Layer(BERT)\n",
        "for i in range(N):\n",
        "      #Multi-Head-Attention Layer\n",
        "      attention_encoder = layers.MultiHeadAttention(num_heads=NUM_HEADS, key_dim=KEY_DIM, use_bias=True)(x_encoder, x_encoder, x_encoder)\n",
        "\n",
        "      #Dropout Layer\n",
        "      attention_encoder = layers.Dropout(rate=DROPOUT)(attention_encoder)\n",
        "      #Add & Norm Layer\n",
        "      attention_encoder = layers.LayerNormalization()(x_encoder + attention_encoder)\n",
        "\n",
        "      #Feed-Forward-Network\n",
        "      ffn_encoder = layers.Dense(BINS * 4, use_bias=True, activation=\"relu\")(attention_encoder)\n",
        "      ffn_encoder = layers.Dense(BINS, use_bias=True)(ffn_encoder)\n",
        "\n",
        "      #Dropout Layer\n",
        "      ffn_encoder = layers.Dropout(rate=DROPOUT)(ffn_encoder)\n",
        "      #Add & Norm Layer\n",
        "      x_encoder = layers.LayerNormalization()(attention_encoder + ffn_encoder)"
      ]
    },
    {
      "cell_type": "code",
      "execution_count": 68,
      "metadata": {
        "id": "cAQZaPQHd8VO"
      },
      "outputs": [],
      "source": [
        "x = layers.Flatten()(x_encoder)\n",
        "x = layers.Dense(32, activation=\"relu\")(x)\n",
        "x = layers.Dropout(0.1)(x)\n",
        "x = layers.Dense(16, activation=\"relu\")(x)\n",
        "x = layers.Dropout(0.1)(x)\n",
        "outputs = layers.Dense(1, activation=\"relu\")(x)"
      ]
    },
    {
      "cell_type": "code",
      "execution_count": 69,
      "metadata": {
        "id": "i-knZZwMd-n8"
      },
      "outputs": [],
      "source": [
        "model = keras.Model(inputs=inputs_encoder, outputs=outputs)"
      ]
    },
    {
      "cell_type": "code",
      "execution_count": 70,
      "metadata": {
        "id": "7-IwMOl3eBLI"
      },
      "outputs": [],
      "source": [
        "# Compile the model\n",
        "model.compile(\n",
        "    optimizer=keras.optimizers.Adam(),\n",
        "    loss=keras.losses.mean_squared_error,\n",
        "    metrics=[keras.metrics.mean_squared_error],\n",
        ")"
      ]
    },
    {
      "cell_type": "code",
      "execution_count": 71,
      "metadata": {
        "id": "VeFKmnTieEqR"
      },
      "outputs": [],
      "source": [
        "mae = []\n",
        "mse = []\n",
        "r2 = []"
      ]
    },
    {
      "cell_type": "code",
      "execution_count": 72,
      "metadata": {
        "id": "4ku9BJbnx_6a"
      },
      "outputs": [],
      "source": [
        "EPOCHS = 100"
      ]
    },
    {
      "cell_type": "code",
      "execution_count": 73,
      "metadata": {
        "colab": {
          "base_uri": "https://localhost:8080/"
        },
        "id": "TzbKsZVmeHnW",
        "outputId": "9585503c-b39c-4fcc-ea71-b15f16bc6865"
      },
      "outputs": [
        {
          "output_type": "stream",
          "name": "stdout",
          "text": [
            "Epoch 1/100\n",
            "12/12 [==============================] - 5s 54ms/step - loss: 4450.2925 - mean_squared_error: 4450.2925 - val_loss: 273.2770 - val_mean_squared_error: 273.2770\n",
            "Epoch 2/100\n",
            "12/12 [==============================] - 0s 15ms/step - loss: 3401.1221 - mean_squared_error: 3401.1221 - val_loss: 55.2758 - val_mean_squared_error: 55.2758\n",
            "Epoch 3/100\n",
            "12/12 [==============================] - 0s 14ms/step - loss: 2407.1926 - mean_squared_error: 2407.1926 - val_loss: 91.0615 - val_mean_squared_error: 91.0615\n",
            "Epoch 4/100\n",
            "12/12 [==============================] - 0s 16ms/step - loss: 1300.4769 - mean_squared_error: 1300.4769 - val_loss: 777.4647 - val_mean_squared_error: 777.4647\n",
            "Epoch 5/100\n",
            "12/12 [==============================] - 0s 15ms/step - loss: 591.6737 - mean_squared_error: 591.6737 - val_loss: 2160.3430 - val_mean_squared_error: 2160.3430\n",
            "Epoch 6/100\n",
            "12/12 [==============================] - 0s 18ms/step - loss: 492.4955 - mean_squared_error: 492.4955 - val_loss: 2239.9185 - val_mean_squared_error: 2239.9185\n",
            "Epoch 7/100\n",
            "12/12 [==============================] - 0s 16ms/step - loss: 500.6998 - mean_squared_error: 500.6998 - val_loss: 1212.6062 - val_mean_squared_error: 1212.6062\n",
            "Epoch 8/100\n",
            "12/12 [==============================] - 0s 13ms/step - loss: 485.2357 - mean_squared_error: 485.2357 - val_loss: 953.8656 - val_mean_squared_error: 953.8656\n",
            "Epoch 9/100\n",
            "12/12 [==============================] - 0s 16ms/step - loss: 414.0540 - mean_squared_error: 414.0540 - val_loss: 743.4554 - val_mean_squared_error: 743.4554\n",
            "Epoch 10/100\n",
            "12/12 [==============================] - 0s 14ms/step - loss: 352.4200 - mean_squared_error: 352.4200 - val_loss: 470.0052 - val_mean_squared_error: 470.0052\n",
            "Epoch 11/100\n",
            "12/12 [==============================] - 0s 14ms/step - loss: 307.7289 - mean_squared_error: 307.7289 - val_loss: 746.9833 - val_mean_squared_error: 746.9833\n",
            "Epoch 12/100\n",
            "12/12 [==============================] - 0s 15ms/step - loss: 293.4905 - mean_squared_error: 293.4905 - val_loss: 519.2973 - val_mean_squared_error: 519.2973\n",
            "Epoch 13/100\n",
            "12/12 [==============================] - 0s 16ms/step - loss: 266.0861 - mean_squared_error: 266.0861 - val_loss: 493.6826 - val_mean_squared_error: 493.6826\n",
            "Epoch 14/100\n",
            "12/12 [==============================] - 0s 13ms/step - loss: 263.2272 - mean_squared_error: 263.2272 - val_loss: 535.2516 - val_mean_squared_error: 535.2516\n",
            "Epoch 15/100\n",
            "12/12 [==============================] - 0s 10ms/step - loss: 249.9305 - mean_squared_error: 249.9305 - val_loss: 446.9427 - val_mean_squared_error: 446.9427\n",
            "Epoch 16/100\n",
            "12/12 [==============================] - 0s 10ms/step - loss: 233.6667 - mean_squared_error: 233.6667 - val_loss: 633.5412 - val_mean_squared_error: 633.5412\n",
            "Epoch 17/100\n",
            "12/12 [==============================] - 0s 10ms/step - loss: 224.4274 - mean_squared_error: 224.4274 - val_loss: 335.3405 - val_mean_squared_error: 335.3405\n",
            "Epoch 18/100\n",
            "12/12 [==============================] - 0s 9ms/step - loss: 221.3860 - mean_squared_error: 221.3860 - val_loss: 563.1487 - val_mean_squared_error: 563.1487\n",
            "Epoch 19/100\n",
            "12/12 [==============================] - 0s 10ms/step - loss: 187.8958 - mean_squared_error: 187.8958 - val_loss: 539.1223 - val_mean_squared_error: 539.1223\n",
            "Epoch 20/100\n",
            "12/12 [==============================] - 0s 9ms/step - loss: 199.5944 - mean_squared_error: 199.5944 - val_loss: 536.1669 - val_mean_squared_error: 536.1669\n",
            "Epoch 21/100\n",
            "12/12 [==============================] - 0s 10ms/step - loss: 197.4563 - mean_squared_error: 197.4563 - val_loss: 479.6463 - val_mean_squared_error: 479.6462\n",
            "Epoch 22/100\n",
            "12/12 [==============================] - 0s 11ms/step - loss: 194.0585 - mean_squared_error: 194.0585 - val_loss: 444.8219 - val_mean_squared_error: 444.8219\n",
            "Epoch 23/100\n",
            "12/12 [==============================] - 0s 10ms/step - loss: 145.1413 - mean_squared_error: 145.1413 - val_loss: 563.0683 - val_mean_squared_error: 563.0683\n",
            "Epoch 24/100\n",
            "12/12 [==============================] - 0s 9ms/step - loss: 156.7841 - mean_squared_error: 156.7841 - val_loss: 409.5850 - val_mean_squared_error: 409.5850\n",
            "Epoch 25/100\n",
            "12/12 [==============================] - 0s 10ms/step - loss: 145.7353 - mean_squared_error: 145.7353 - val_loss: 530.0866 - val_mean_squared_error: 530.0866\n",
            "Epoch 26/100\n",
            "12/12 [==============================] - 0s 10ms/step - loss: 160.1026 - mean_squared_error: 160.1026 - val_loss: 454.3252 - val_mean_squared_error: 454.3252\n",
            "Epoch 27/100\n",
            "12/12 [==============================] - 0s 9ms/step - loss: 168.8528 - mean_squared_error: 168.8528 - val_loss: 352.3029 - val_mean_squared_error: 352.3029\n",
            "Epoch 28/100\n",
            "12/12 [==============================] - 0s 10ms/step - loss: 167.6011 - mean_squared_error: 167.6011 - val_loss: 561.2949 - val_mean_squared_error: 561.2949\n",
            "Epoch 29/100\n",
            "12/12 [==============================] - 0s 10ms/step - loss: 155.5441 - mean_squared_error: 155.5441 - val_loss: 397.0797 - val_mean_squared_error: 397.0797\n",
            "Epoch 30/100\n",
            "12/12 [==============================] - 0s 10ms/step - loss: 152.9326 - mean_squared_error: 152.9326 - val_loss: 511.8530 - val_mean_squared_error: 511.8530\n",
            "Epoch 31/100\n",
            "12/12 [==============================] - 0s 11ms/step - loss: 132.6181 - mean_squared_error: 132.6181 - val_loss: 508.1599 - val_mean_squared_error: 508.1599\n",
            "Epoch 32/100\n",
            "12/12 [==============================] - 0s 11ms/step - loss: 142.8901 - mean_squared_error: 142.8901 - val_loss: 504.9048 - val_mean_squared_error: 504.9048\n",
            "Epoch 33/100\n",
            "12/12 [==============================] - 0s 10ms/step - loss: 128.7476 - mean_squared_error: 128.7476 - val_loss: 599.4175 - val_mean_squared_error: 599.4175\n",
            "Epoch 34/100\n",
            "12/12 [==============================] - 0s 11ms/step - loss: 127.3424 - mean_squared_error: 127.3424 - val_loss: 493.2757 - val_mean_squared_error: 493.2757\n",
            "Epoch 35/100\n",
            "12/12 [==============================] - 0s 10ms/step - loss: 140.3151 - mean_squared_error: 140.3151 - val_loss: 416.5942 - val_mean_squared_error: 416.5942\n",
            "Epoch 36/100\n",
            "12/12 [==============================] - 0s 10ms/step - loss: 123.2851 - mean_squared_error: 123.2851 - val_loss: 468.7383 - val_mean_squared_error: 468.7383\n",
            "Epoch 37/100\n",
            "12/12 [==============================] - 0s 13ms/step - loss: 126.2282 - mean_squared_error: 126.2282 - val_loss: 524.7637 - val_mean_squared_error: 524.7637\n",
            "Epoch 38/100\n",
            "12/12 [==============================] - 0s 10ms/step - loss: 141.4591 - mean_squared_error: 141.4591 - val_loss: 532.1782 - val_mean_squared_error: 532.1782\n",
            "Epoch 39/100\n",
            "12/12 [==============================] - 0s 10ms/step - loss: 136.2453 - mean_squared_error: 136.2453 - val_loss: 510.6237 - val_mean_squared_error: 510.6237\n",
            "Epoch 40/100\n",
            "12/12 [==============================] - 0s 10ms/step - loss: 124.1411 - mean_squared_error: 124.1411 - val_loss: 525.8763 - val_mean_squared_error: 525.8763\n",
            "Epoch 41/100\n",
            "12/12 [==============================] - 0s 11ms/step - loss: 126.3585 - mean_squared_error: 126.3585 - val_loss: 461.0579 - val_mean_squared_error: 461.0579\n",
            "Epoch 42/100\n",
            "12/12 [==============================] - 0s 9ms/step - loss: 114.7579 - mean_squared_error: 114.7579 - val_loss: 381.2419 - val_mean_squared_error: 381.2419\n",
            "Epoch 43/100\n",
            "12/12 [==============================] - 0s 10ms/step - loss: 130.4229 - mean_squared_error: 130.4229 - val_loss: 556.5342 - val_mean_squared_error: 556.5342\n",
            "Epoch 44/100\n",
            "12/12 [==============================] - 0s 9ms/step - loss: 116.0271 - mean_squared_error: 116.0271 - val_loss: 546.7131 - val_mean_squared_error: 546.7131\n",
            "Epoch 45/100\n",
            "12/12 [==============================] - 0s 10ms/step - loss: 116.4724 - mean_squared_error: 116.4724 - val_loss: 564.9827 - val_mean_squared_error: 564.9827\n",
            "Epoch 46/100\n",
            "12/12 [==============================] - 0s 10ms/step - loss: 124.2889 - mean_squared_error: 124.2889 - val_loss: 468.0237 - val_mean_squared_error: 468.0237\n",
            "Epoch 47/100\n",
            "12/12 [==============================] - 0s 10ms/step - loss: 96.4796 - mean_squared_error: 96.4796 - val_loss: 439.0775 - val_mean_squared_error: 439.0775\n",
            "Epoch 48/100\n",
            "12/12 [==============================] - 0s 10ms/step - loss: 115.3828 - mean_squared_error: 115.3828 - val_loss: 619.2449 - val_mean_squared_error: 619.2449\n",
            "Epoch 49/100\n",
            "12/12 [==============================] - 0s 10ms/step - loss: 121.9187 - mean_squared_error: 121.9187 - val_loss: 549.2330 - val_mean_squared_error: 549.2330\n",
            "Epoch 50/100\n",
            "12/12 [==============================] - 0s 9ms/step - loss: 124.6583 - mean_squared_error: 124.6583 - val_loss: 536.3847 - val_mean_squared_error: 536.3847\n",
            "Epoch 51/100\n",
            "12/12 [==============================] - 0s 10ms/step - loss: 116.7433 - mean_squared_error: 116.7433 - val_loss: 495.9949 - val_mean_squared_error: 495.9949\n",
            "Epoch 52/100\n",
            "12/12 [==============================] - 0s 9ms/step - loss: 99.2626 - mean_squared_error: 99.2626 - val_loss: 531.8327 - val_mean_squared_error: 531.8327\n",
            "Epoch 53/100\n",
            "12/12 [==============================] - 0s 9ms/step - loss: 120.4937 - mean_squared_error: 120.4937 - val_loss: 554.1645 - val_mean_squared_error: 554.1645\n",
            "Epoch 54/100\n",
            "12/12 [==============================] - 0s 10ms/step - loss: 111.6040 - mean_squared_error: 111.6040 - val_loss: 528.8140 - val_mean_squared_error: 528.8140\n",
            "Epoch 55/100\n",
            "12/12 [==============================] - 0s 10ms/step - loss: 117.3263 - mean_squared_error: 117.3263 - val_loss: 577.4542 - val_mean_squared_error: 577.4542\n",
            "Epoch 56/100\n",
            "12/12 [==============================] - 0s 15ms/step - loss: 123.8493 - mean_squared_error: 123.8493 - val_loss: 581.6567 - val_mean_squared_error: 581.6567\n",
            "Epoch 57/100\n",
            "12/12 [==============================] - 0s 10ms/step - loss: 109.9207 - mean_squared_error: 109.9207 - val_loss: 664.3622 - val_mean_squared_error: 664.3622\n",
            "Epoch 58/100\n",
            "12/12 [==============================] - 0s 10ms/step - loss: 100.1743 - mean_squared_error: 100.1743 - val_loss: 611.2669 - val_mean_squared_error: 611.2669\n",
            "Epoch 59/100\n",
            "12/12 [==============================] - 0s 11ms/step - loss: 125.5057 - mean_squared_error: 125.5057 - val_loss: 581.0504 - val_mean_squared_error: 581.0504\n",
            "Epoch 60/100\n",
            "12/12 [==============================] - 0s 10ms/step - loss: 88.4421 - mean_squared_error: 88.4421 - val_loss: 577.7617 - val_mean_squared_error: 577.7617\n",
            "Epoch 61/100\n",
            "12/12 [==============================] - 0s 11ms/step - loss: 107.8883 - mean_squared_error: 107.8883 - val_loss: 470.0429 - val_mean_squared_error: 470.0429\n",
            "Epoch 62/100\n",
            "12/12 [==============================] - 0s 11ms/step - loss: 111.8023 - mean_squared_error: 111.8023 - val_loss: 533.9006 - val_mean_squared_error: 533.9006\n",
            "Epoch 63/100\n",
            "12/12 [==============================] - 0s 10ms/step - loss: 111.0269 - mean_squared_error: 111.0269 - val_loss: 573.1938 - val_mean_squared_error: 573.1938\n",
            "Epoch 64/100\n",
            "12/12 [==============================] - 0s 10ms/step - loss: 132.3283 - mean_squared_error: 132.3283 - val_loss: 475.3904 - val_mean_squared_error: 475.3904\n",
            "Epoch 65/100\n",
            "12/12 [==============================] - 0s 11ms/step - loss: 123.3125 - mean_squared_error: 123.3125 - val_loss: 502.7020 - val_mean_squared_error: 502.7020\n",
            "Epoch 66/100\n",
            "12/12 [==============================] - 0s 10ms/step - loss: 124.0961 - mean_squared_error: 124.0961 - val_loss: 646.3166 - val_mean_squared_error: 646.3166\n",
            "Epoch 67/100\n",
            "12/12 [==============================] - 0s 10ms/step - loss: 124.4063 - mean_squared_error: 124.4063 - val_loss: 478.5685 - val_mean_squared_error: 478.5685\n",
            "Epoch 68/100\n",
            "12/12 [==============================] - 0s 10ms/step - loss: 107.6342 - mean_squared_error: 107.6342 - val_loss: 607.8912 - val_mean_squared_error: 607.8912\n",
            "Epoch 69/100\n",
            "12/12 [==============================] - 0s 9ms/step - loss: 99.7570 - mean_squared_error: 99.7570 - val_loss: 524.6265 - val_mean_squared_error: 524.6265\n",
            "Epoch 70/100\n",
            "12/12 [==============================] - 0s 9ms/step - loss: 88.7676 - mean_squared_error: 88.7676 - val_loss: 476.4043 - val_mean_squared_error: 476.4043\n",
            "Epoch 71/100\n",
            "12/12 [==============================] - 0s 10ms/step - loss: 95.1568 - mean_squared_error: 95.1568 - val_loss: 507.8703 - val_mean_squared_error: 507.8703\n",
            "Epoch 72/100\n",
            "12/12 [==============================] - 0s 10ms/step - loss: 92.1751 - mean_squared_error: 92.1751 - val_loss: 564.0956 - val_mean_squared_error: 564.0956\n",
            "Epoch 73/100\n",
            "12/12 [==============================] - 0s 10ms/step - loss: 102.3421 - mean_squared_error: 102.3421 - val_loss: 506.2049 - val_mean_squared_error: 506.2049\n",
            "Epoch 74/100\n",
            "12/12 [==============================] - 0s 10ms/step - loss: 91.0602 - mean_squared_error: 91.0602 - val_loss: 488.1422 - val_mean_squared_error: 488.1422\n",
            "Epoch 75/100\n",
            "12/12 [==============================] - 0s 9ms/step - loss: 107.7173 - mean_squared_error: 107.7173 - val_loss: 624.4055 - val_mean_squared_error: 624.4055\n",
            "Epoch 76/100\n",
            "12/12 [==============================] - 0s 9ms/step - loss: 96.9739 - mean_squared_error: 96.9739 - val_loss: 505.3487 - val_mean_squared_error: 505.3487\n",
            "Epoch 77/100\n",
            "12/12 [==============================] - 0s 11ms/step - loss: 99.8995 - mean_squared_error: 99.8995 - val_loss: 626.3541 - val_mean_squared_error: 626.3541\n",
            "Epoch 78/100\n",
            "12/12 [==============================] - 0s 10ms/step - loss: 93.7581 - mean_squared_error: 93.7581 - val_loss: 478.8320 - val_mean_squared_error: 478.8320\n",
            "Epoch 79/100\n",
            "12/12 [==============================] - 0s 10ms/step - loss: 97.7957 - mean_squared_error: 97.7957 - val_loss: 573.4209 - val_mean_squared_error: 573.4209\n",
            "Epoch 80/100\n",
            "12/12 [==============================] - 0s 12ms/step - loss: 114.6398 - mean_squared_error: 114.6398 - val_loss: 523.5378 - val_mean_squared_error: 523.5378\n",
            "Epoch 81/100\n",
            "12/12 [==============================] - 0s 10ms/step - loss: 86.8728 - mean_squared_error: 86.8728 - val_loss: 508.0128 - val_mean_squared_error: 508.0128\n",
            "Epoch 82/100\n",
            "12/12 [==============================] - 0s 10ms/step - loss: 108.7319 - mean_squared_error: 108.7319 - val_loss: 666.7971 - val_mean_squared_error: 666.7971\n",
            "Epoch 83/100\n",
            "12/12 [==============================] - 0s 10ms/step - loss: 103.5480 - mean_squared_error: 103.5480 - val_loss: 511.3643 - val_mean_squared_error: 511.3643\n",
            "Epoch 84/100\n",
            "12/12 [==============================] - 0s 11ms/step - loss: 112.4135 - mean_squared_error: 112.4135 - val_loss: 793.6509 - val_mean_squared_error: 793.6509\n",
            "Epoch 85/100\n",
            "12/12 [==============================] - 0s 10ms/step - loss: 100.2232 - mean_squared_error: 100.2232 - val_loss: 433.0223 - val_mean_squared_error: 433.0223\n",
            "Epoch 86/100\n",
            "12/12 [==============================] - 0s 11ms/step - loss: 104.4031 - mean_squared_error: 104.4031 - val_loss: 551.3375 - val_mean_squared_error: 551.3375\n",
            "Epoch 87/100\n",
            "12/12 [==============================] - 0s 10ms/step - loss: 110.9800 - mean_squared_error: 110.9800 - val_loss: 594.2986 - val_mean_squared_error: 594.2986\n",
            "Epoch 88/100\n",
            "12/12 [==============================] - 0s 10ms/step - loss: 99.4827 - mean_squared_error: 99.4827 - val_loss: 579.1597 - val_mean_squared_error: 579.1597\n",
            "Epoch 89/100\n",
            "12/12 [==============================] - 0s 11ms/step - loss: 86.9012 - mean_squared_error: 86.9012 - val_loss: 584.9677 - val_mean_squared_error: 584.9677\n",
            "Epoch 90/100\n",
            "12/12 [==============================] - 0s 10ms/step - loss: 111.8324 - mean_squared_error: 111.8324 - val_loss: 524.8781 - val_mean_squared_error: 524.8781\n",
            "Epoch 91/100\n",
            "12/12 [==============================] - 0s 11ms/step - loss: 107.3268 - mean_squared_error: 107.3268 - val_loss: 461.4685 - val_mean_squared_error: 461.4685\n",
            "Epoch 92/100\n",
            "12/12 [==============================] - 0s 10ms/step - loss: 93.4386 - mean_squared_error: 93.4386 - val_loss: 555.6055 - val_mean_squared_error: 555.6055\n",
            "Epoch 93/100\n",
            "12/12 [==============================] - 0s 15ms/step - loss: 106.0290 - mean_squared_error: 106.0290 - val_loss: 411.1612 - val_mean_squared_error: 411.1612\n",
            "Epoch 94/100\n",
            "12/12 [==============================] - 0s 14ms/step - loss: 109.5042 - mean_squared_error: 109.5042 - val_loss: 562.6966 - val_mean_squared_error: 562.6966\n",
            "Epoch 95/100\n",
            "12/12 [==============================] - 0s 15ms/step - loss: 95.6516 - mean_squared_error: 95.6516 - val_loss: 582.9222 - val_mean_squared_error: 582.9222\n",
            "Epoch 96/100\n",
            "12/12 [==============================] - 0s 14ms/step - loss: 95.8879 - mean_squared_error: 95.8879 - val_loss: 539.1634 - val_mean_squared_error: 539.1634\n",
            "Epoch 97/100\n",
            "12/12 [==============================] - 0s 16ms/step - loss: 108.3180 - mean_squared_error: 108.3180 - val_loss: 521.5395 - val_mean_squared_error: 521.5395\n",
            "Epoch 98/100\n",
            "12/12 [==============================] - 0s 14ms/step - loss: 110.6076 - mean_squared_error: 110.6076 - val_loss: 572.0132 - val_mean_squared_error: 572.0132\n",
            "Epoch 99/100\n",
            "12/12 [==============================] - 0s 15ms/step - loss: 103.4929 - mean_squared_error: 103.4929 - val_loss: 441.0102 - val_mean_squared_error: 441.0102\n",
            "Epoch 100/100\n",
            "12/12 [==============================] - 0s 14ms/step - loss: 103.0583 - mean_squared_error: 103.0583 - val_loss: 517.4981 - val_mean_squared_error: 517.4981\n",
            "15/15 [==============================] - 0s 4ms/step\n"
          ]
        }
      ],
      "source": [
        "#HascWalkで構築→HascJogで試す\n",
        "history = model.fit(DifferenceAcc_histHasc, HzHasc, batch_size=32, epochs=EPOCHS, shuffle=True, validation_split=0.2)\n",
        "y_pred = tf.cast(tf.clip_by_value(model.predict(DifferenceAcc_histHascJog), 20, 100), tf.int32)\n",
        "mae.append(mean_absolute_error(y_pred, HzHascJog))\n",
        "mse.append(mean_squared_error(y_pred, HzHascJog))\n",
        "r2.append(r2_score(y_pred, HzHascJog))"
      ]
    },
    {
      "cell_type": "code",
      "execution_count": 74,
      "metadata": {
        "colab": {
          "base_uri": "https://localhost:8080/"
        },
        "id": "qLbCSxrQHdyL",
        "outputId": "0334e18c-374a-4184-bf2a-32113182f7d8"
      },
      "outputs": [
        {
          "output_type": "stream",
          "name": "stdout",
          "text": [
            "Epoch 1/100\n",
            "12/12 [==============================] - 0s 18ms/step - loss: 361.3387 - mean_squared_error: 361.3387 - val_loss: 536.8649 - val_mean_squared_error: 536.8649\n",
            "Epoch 2/100\n",
            "12/12 [==============================] - 0s 15ms/step - loss: 299.2652 - mean_squared_error: 299.2652 - val_loss: 461.0335 - val_mean_squared_error: 461.0335\n",
            "Epoch 3/100\n",
            "12/12 [==============================] - 0s 15ms/step - loss: 248.9503 - mean_squared_error: 248.9503 - val_loss: 407.9605 - val_mean_squared_error: 407.9605\n",
            "Epoch 4/100\n",
            "12/12 [==============================] - 0s 14ms/step - loss: 248.8878 - mean_squared_error: 248.8878 - val_loss: 381.7559 - val_mean_squared_error: 381.7559\n",
            "Epoch 5/100\n",
            "12/12 [==============================] - 0s 14ms/step - loss: 231.1126 - mean_squared_error: 231.1126 - val_loss: 682.9318 - val_mean_squared_error: 682.9318\n",
            "Epoch 6/100\n",
            "12/12 [==============================] - 0s 16ms/step - loss: 211.7334 - mean_squared_error: 211.7334 - val_loss: 419.1705 - val_mean_squared_error: 419.1705\n",
            "Epoch 7/100\n",
            "12/12 [==============================] - 0s 16ms/step - loss: 163.8126 - mean_squared_error: 163.8126 - val_loss: 627.3148 - val_mean_squared_error: 627.3148\n",
            "Epoch 8/100\n",
            "12/12 [==============================] - 0s 16ms/step - loss: 161.1961 - mean_squared_error: 161.1961 - val_loss: 483.9700 - val_mean_squared_error: 483.9700\n",
            "Epoch 9/100\n",
            "12/12 [==============================] - 0s 14ms/step - loss: 167.7775 - mean_squared_error: 167.7775 - val_loss: 322.9142 - val_mean_squared_error: 322.9142\n",
            "Epoch 10/100\n",
            "12/12 [==============================] - 0s 10ms/step - loss: 163.9485 - mean_squared_error: 163.9485 - val_loss: 512.4728 - val_mean_squared_error: 512.4729\n",
            "Epoch 11/100\n",
            "12/12 [==============================] - 0s 10ms/step - loss: 142.8137 - mean_squared_error: 142.8137 - val_loss: 398.8657 - val_mean_squared_error: 398.8657\n",
            "Epoch 12/100\n",
            "12/12 [==============================] - 0s 9ms/step - loss: 117.6239 - mean_squared_error: 117.6239 - val_loss: 495.9159 - val_mean_squared_error: 495.9159\n",
            "Epoch 13/100\n",
            "12/12 [==============================] - 0s 9ms/step - loss: 125.8721 - mean_squared_error: 125.8721 - val_loss: 446.8719 - val_mean_squared_error: 446.8719\n",
            "Epoch 14/100\n",
            "12/12 [==============================] - 0s 9ms/step - loss: 137.5148 - mean_squared_error: 137.5148 - val_loss: 335.3201 - val_mean_squared_error: 335.3201\n",
            "Epoch 15/100\n",
            "12/12 [==============================] - 0s 9ms/step - loss: 132.1991 - mean_squared_error: 132.1991 - val_loss: 497.3687 - val_mean_squared_error: 497.3687\n",
            "Epoch 16/100\n",
            "12/12 [==============================] - 0s 11ms/step - loss: 126.8946 - mean_squared_error: 126.8946 - val_loss: 436.3263 - val_mean_squared_error: 436.3263\n",
            "Epoch 17/100\n",
            "12/12 [==============================] - 0s 12ms/step - loss: 133.4715 - mean_squared_error: 133.4715 - val_loss: 417.3765 - val_mean_squared_error: 417.3765\n",
            "Epoch 18/100\n",
            "12/12 [==============================] - 0s 11ms/step - loss: 150.2728 - mean_squared_error: 150.2728 - val_loss: 544.3007 - val_mean_squared_error: 544.3007\n",
            "Epoch 19/100\n",
            "12/12 [==============================] - 0s 10ms/step - loss: 115.2358 - mean_squared_error: 115.2358 - val_loss: 290.3408 - val_mean_squared_error: 290.3408\n",
            "Epoch 20/100\n",
            "12/12 [==============================] - 0s 10ms/step - loss: 133.5691 - mean_squared_error: 133.5691 - val_loss: 545.3714 - val_mean_squared_error: 545.3714\n",
            "Epoch 21/100\n",
            "12/12 [==============================] - 0s 10ms/step - loss: 137.5441 - mean_squared_error: 137.5441 - val_loss: 396.9548 - val_mean_squared_error: 396.9548\n",
            "Epoch 22/100\n",
            "12/12 [==============================] - 0s 10ms/step - loss: 108.6496 - mean_squared_error: 108.6496 - val_loss: 354.4181 - val_mean_squared_error: 354.4181\n",
            "Epoch 23/100\n",
            "12/12 [==============================] - 0s 10ms/step - loss: 132.9523 - mean_squared_error: 132.9523 - val_loss: 500.2762 - val_mean_squared_error: 500.2762\n",
            "Epoch 24/100\n",
            "12/12 [==============================] - 0s 10ms/step - loss: 116.1405 - mean_squared_error: 116.1405 - val_loss: 497.1081 - val_mean_squared_error: 497.1081\n",
            "Epoch 25/100\n",
            "12/12 [==============================] - 0s 11ms/step - loss: 113.5881 - mean_squared_error: 113.5881 - val_loss: 489.3089 - val_mean_squared_error: 489.3089\n",
            "Epoch 26/100\n",
            "12/12 [==============================] - 0s 10ms/step - loss: 109.0672 - mean_squared_error: 109.0672 - val_loss: 519.4863 - val_mean_squared_error: 519.4863\n",
            "Epoch 27/100\n",
            "12/12 [==============================] - 0s 11ms/step - loss: 106.7953 - mean_squared_error: 106.7953 - val_loss: 439.0768 - val_mean_squared_error: 439.0768\n",
            "Epoch 28/100\n",
            "12/12 [==============================] - 0s 10ms/step - loss: 114.4671 - mean_squared_error: 114.4671 - val_loss: 543.8516 - val_mean_squared_error: 543.8516\n",
            "Epoch 29/100\n",
            "12/12 [==============================] - 0s 10ms/step - loss: 122.5635 - mean_squared_error: 122.5635 - val_loss: 403.6484 - val_mean_squared_error: 403.6484\n",
            "Epoch 30/100\n",
            "12/12 [==============================] - 0s 10ms/step - loss: 111.3157 - mean_squared_error: 111.3157 - val_loss: 475.2456 - val_mean_squared_error: 475.2456\n",
            "Epoch 31/100\n",
            "12/12 [==============================] - 0s 9ms/step - loss: 120.6990 - mean_squared_error: 120.6990 - val_loss: 460.5821 - val_mean_squared_error: 460.5821\n",
            "Epoch 32/100\n",
            "12/12 [==============================] - 0s 10ms/step - loss: 127.9136 - mean_squared_error: 127.9136 - val_loss: 489.9997 - val_mean_squared_error: 489.9997\n",
            "Epoch 33/100\n",
            "12/12 [==============================] - 0s 10ms/step - loss: 100.8188 - mean_squared_error: 100.8188 - val_loss: 560.4246 - val_mean_squared_error: 560.4246\n",
            "Epoch 34/100\n",
            "12/12 [==============================] - 0s 9ms/step - loss: 95.5006 - mean_squared_error: 95.5006 - val_loss: 458.8085 - val_mean_squared_error: 458.8085\n",
            "Epoch 35/100\n",
            "12/12 [==============================] - 0s 10ms/step - loss: 110.5480 - mean_squared_error: 110.5480 - val_loss: 405.0923 - val_mean_squared_error: 405.0923\n",
            "Epoch 36/100\n",
            "12/12 [==============================] - 0s 10ms/step - loss: 111.2659 - mean_squared_error: 111.2659 - val_loss: 410.2190 - val_mean_squared_error: 410.2190\n",
            "Epoch 37/100\n",
            "12/12 [==============================] - 0s 10ms/step - loss: 102.5549 - mean_squared_error: 102.5549 - val_loss: 480.6454 - val_mean_squared_error: 480.6454\n",
            "Epoch 38/100\n",
            "12/12 [==============================] - 0s 10ms/step - loss: 106.8086 - mean_squared_error: 106.8086 - val_loss: 417.3265 - val_mean_squared_error: 417.3265\n",
            "Epoch 39/100\n",
            "12/12 [==============================] - 0s 10ms/step - loss: 100.0555 - mean_squared_error: 100.0555 - val_loss: 407.7066 - val_mean_squared_error: 407.7066\n",
            "Epoch 40/100\n",
            "12/12 [==============================] - 0s 10ms/step - loss: 117.9637 - mean_squared_error: 117.9637 - val_loss: 497.4162 - val_mean_squared_error: 497.4162\n",
            "Epoch 41/100\n",
            "12/12 [==============================] - 0s 10ms/step - loss: 98.1605 - mean_squared_error: 98.1605 - val_loss: 367.1733 - val_mean_squared_error: 367.1733\n",
            "Epoch 42/100\n",
            "12/12 [==============================] - 0s 10ms/step - loss: 106.6563 - mean_squared_error: 106.6563 - val_loss: 425.5855 - val_mean_squared_error: 425.5855\n",
            "Epoch 43/100\n",
            "12/12 [==============================] - 0s 9ms/step - loss: 98.6527 - mean_squared_error: 98.6527 - val_loss: 433.8792 - val_mean_squared_error: 433.8792\n",
            "Epoch 44/100\n",
            "12/12 [==============================] - 0s 10ms/step - loss: 108.0647 - mean_squared_error: 108.0647 - val_loss: 438.6783 - val_mean_squared_error: 438.6783\n",
            "Epoch 45/100\n",
            "12/12 [==============================] - 0s 10ms/step - loss: 116.6153 - mean_squared_error: 116.6153 - val_loss: 476.9561 - val_mean_squared_error: 476.9561\n",
            "Epoch 46/100\n",
            "12/12 [==============================] - 0s 9ms/step - loss: 108.7761 - mean_squared_error: 108.7761 - val_loss: 343.6694 - val_mean_squared_error: 343.6694\n",
            "Epoch 47/100\n",
            "12/12 [==============================] - 0s 9ms/step - loss: 98.5606 - mean_squared_error: 98.5606 - val_loss: 457.6743 - val_mean_squared_error: 457.6743\n",
            "Epoch 48/100\n",
            "12/12 [==============================] - 0s 9ms/step - loss: 111.0025 - mean_squared_error: 111.0025 - val_loss: 495.1108 - val_mean_squared_error: 495.1108\n",
            "Epoch 49/100\n",
            "12/12 [==============================] - 0s 11ms/step - loss: 89.7448 - mean_squared_error: 89.7448 - val_loss: 425.5252 - val_mean_squared_error: 425.5252\n",
            "Epoch 50/100\n",
            "12/12 [==============================] - 0s 10ms/step - loss: 105.9864 - mean_squared_error: 105.9864 - val_loss: 457.4863 - val_mean_squared_error: 457.4863\n",
            "Epoch 51/100\n",
            "12/12 [==============================] - 0s 9ms/step - loss: 102.1559 - mean_squared_error: 102.1559 - val_loss: 472.8300 - val_mean_squared_error: 472.8300\n",
            "Epoch 52/100\n",
            "12/12 [==============================] - 0s 10ms/step - loss: 102.2115 - mean_squared_error: 102.2115 - val_loss: 366.8050 - val_mean_squared_error: 366.8050\n",
            "Epoch 53/100\n",
            "12/12 [==============================] - 0s 10ms/step - loss: 88.5467 - mean_squared_error: 88.5467 - val_loss: 491.7291 - val_mean_squared_error: 491.7291\n",
            "Epoch 54/100\n",
            "12/12 [==============================] - 0s 9ms/step - loss: 108.9398 - mean_squared_error: 108.9398 - val_loss: 525.0831 - val_mean_squared_error: 525.0831\n",
            "Epoch 55/100\n",
            "12/12 [==============================] - 0s 10ms/step - loss: 102.9827 - mean_squared_error: 102.9827 - val_loss: 303.9218 - val_mean_squared_error: 303.9218\n",
            "Epoch 56/100\n",
            "12/12 [==============================] - 0s 10ms/step - loss: 84.8833 - mean_squared_error: 84.8833 - val_loss: 396.5681 - val_mean_squared_error: 396.5681\n",
            "Epoch 57/100\n",
            "12/12 [==============================] - 0s 10ms/step - loss: 113.8760 - mean_squared_error: 113.8760 - val_loss: 473.7512 - val_mean_squared_error: 473.7512\n",
            "Epoch 58/100\n",
            "12/12 [==============================] - 0s 11ms/step - loss: 120.9915 - mean_squared_error: 120.9915 - val_loss: 382.1202 - val_mean_squared_error: 382.1202\n",
            "Epoch 59/100\n",
            "12/12 [==============================] - 0s 11ms/step - loss: 89.1405 - mean_squared_error: 89.1405 - val_loss: 342.7442 - val_mean_squared_error: 342.7442\n",
            "Epoch 60/100\n",
            "12/12 [==============================] - 0s 11ms/step - loss: 90.9736 - mean_squared_error: 90.9736 - val_loss: 512.7753 - val_mean_squared_error: 512.7753\n",
            "Epoch 61/100\n",
            "12/12 [==============================] - 0s 10ms/step - loss: 94.8829 - mean_squared_error: 94.8829 - val_loss: 426.4180 - val_mean_squared_error: 426.4180\n",
            "Epoch 62/100\n",
            "12/12 [==============================] - 0s 10ms/step - loss: 105.9030 - mean_squared_error: 105.9030 - val_loss: 508.8901 - val_mean_squared_error: 508.8901\n",
            "Epoch 63/100\n",
            "12/12 [==============================] - 0s 10ms/step - loss: 107.5064 - mean_squared_error: 107.5064 - val_loss: 410.5085 - val_mean_squared_error: 410.5085\n",
            "Epoch 64/100\n",
            "12/12 [==============================] - 0s 9ms/step - loss: 103.3728 - mean_squared_error: 103.3728 - val_loss: 549.5359 - val_mean_squared_error: 549.5359\n",
            "Epoch 65/100\n",
            "12/12 [==============================] - 0s 10ms/step - loss: 106.4458 - mean_squared_error: 106.4458 - val_loss: 450.1961 - val_mean_squared_error: 450.1961\n",
            "Epoch 66/100\n",
            "12/12 [==============================] - 0s 9ms/step - loss: 104.4589 - mean_squared_error: 104.4589 - val_loss: 387.8463 - val_mean_squared_error: 387.8463\n",
            "Epoch 67/100\n",
            "12/12 [==============================] - 0s 10ms/step - loss: 88.5226 - mean_squared_error: 88.5226 - val_loss: 495.0628 - val_mean_squared_error: 495.0628\n",
            "Epoch 68/100\n",
            "12/12 [==============================] - 0s 10ms/step - loss: 104.9567 - mean_squared_error: 104.9567 - val_loss: 435.7931 - val_mean_squared_error: 435.7931\n",
            "Epoch 69/100\n",
            "12/12 [==============================] - 0s 9ms/step - loss: 89.9324 - mean_squared_error: 89.9324 - val_loss: 575.6157 - val_mean_squared_error: 575.6157\n",
            "Epoch 70/100\n",
            "12/12 [==============================] - 0s 11ms/step - loss: 97.8976 - mean_squared_error: 97.8976 - val_loss: 458.8127 - val_mean_squared_error: 458.8127\n",
            "Epoch 71/100\n",
            "12/12 [==============================] - 0s 10ms/step - loss: 90.7486 - mean_squared_error: 90.7486 - val_loss: 456.5007 - val_mean_squared_error: 456.5007\n",
            "Epoch 72/100\n",
            "12/12 [==============================] - 0s 10ms/step - loss: 93.6135 - mean_squared_error: 93.6135 - val_loss: 511.1318 - val_mean_squared_error: 511.1318\n",
            "Epoch 73/100\n",
            "12/12 [==============================] - 0s 10ms/step - loss: 85.3407 - mean_squared_error: 85.3407 - val_loss: 424.5862 - val_mean_squared_error: 424.5862\n",
            "Epoch 74/100\n",
            "12/12 [==============================] - 0s 10ms/step - loss: 99.5949 - mean_squared_error: 99.5949 - val_loss: 457.3479 - val_mean_squared_error: 457.3479\n",
            "Epoch 75/100\n",
            "12/12 [==============================] - 0s 11ms/step - loss: 100.2305 - mean_squared_error: 100.2305 - val_loss: 550.6408 - val_mean_squared_error: 550.6408\n",
            "Epoch 76/100\n",
            "12/12 [==============================] - 0s 11ms/step - loss: 96.7430 - mean_squared_error: 96.7430 - val_loss: 403.9554 - val_mean_squared_error: 403.9554\n",
            "Epoch 77/100\n",
            "12/12 [==============================] - 0s 9ms/step - loss: 87.3039 - mean_squared_error: 87.3039 - val_loss: 581.5918 - val_mean_squared_error: 581.5918\n",
            "Epoch 78/100\n",
            "12/12 [==============================] - 0s 10ms/step - loss: 98.3183 - mean_squared_error: 98.3183 - val_loss: 395.8434 - val_mean_squared_error: 395.8434\n",
            "Epoch 79/100\n",
            "12/12 [==============================] - 0s 11ms/step - loss: 86.5808 - mean_squared_error: 86.5808 - val_loss: 483.2432 - val_mean_squared_error: 483.2432\n",
            "Epoch 80/100\n",
            "12/12 [==============================] - 0s 9ms/step - loss: 96.7392 - mean_squared_error: 96.7392 - val_loss: 403.4767 - val_mean_squared_error: 403.4767\n",
            "Epoch 81/100\n",
            "12/12 [==============================] - 0s 11ms/step - loss: 90.5630 - mean_squared_error: 90.5630 - val_loss: 541.4535 - val_mean_squared_error: 541.4535\n",
            "Epoch 82/100\n",
            "12/12 [==============================] - 0s 10ms/step - loss: 74.1237 - mean_squared_error: 74.1237 - val_loss: 488.8260 - val_mean_squared_error: 488.8260\n",
            "Epoch 83/100\n",
            "12/12 [==============================] - 0s 10ms/step - loss: 77.4375 - mean_squared_error: 77.4375 - val_loss: 324.2061 - val_mean_squared_error: 324.2061\n",
            "Epoch 84/100\n",
            "12/12 [==============================] - 0s 11ms/step - loss: 102.6397 - mean_squared_error: 102.6397 - val_loss: 511.2879 - val_mean_squared_error: 511.2879\n",
            "Epoch 85/100\n",
            "12/12 [==============================] - 0s 9ms/step - loss: 90.2369 - mean_squared_error: 90.2369 - val_loss: 461.8660 - val_mean_squared_error: 461.8660\n",
            "Epoch 86/100\n",
            "12/12 [==============================] - 0s 10ms/step - loss: 105.2598 - mean_squared_error: 105.2598 - val_loss: 417.3167 - val_mean_squared_error: 417.3167\n",
            "Epoch 87/100\n",
            "12/12 [==============================] - 0s 10ms/step - loss: 96.0892 - mean_squared_error: 96.0892 - val_loss: 600.9984 - val_mean_squared_error: 600.9984\n",
            "Epoch 88/100\n",
            "12/12 [==============================] - 0s 10ms/step - loss: 87.9684 - mean_squared_error: 87.9684 - val_loss: 423.5069 - val_mean_squared_error: 423.5069\n",
            "Epoch 89/100\n",
            "12/12 [==============================] - 0s 17ms/step - loss: 92.2470 - mean_squared_error: 92.2470 - val_loss: 511.9078 - val_mean_squared_error: 511.9078\n",
            "Epoch 90/100\n",
            "12/12 [==============================] - 0s 14ms/step - loss: 84.6791 - mean_squared_error: 84.6791 - val_loss: 474.8366 - val_mean_squared_error: 474.8366\n",
            "Epoch 91/100\n",
            "12/12 [==============================] - 0s 14ms/step - loss: 96.2469 - mean_squared_error: 96.2469 - val_loss: 371.3158 - val_mean_squared_error: 371.3158\n",
            "Epoch 92/100\n",
            "12/12 [==============================] - 0s 15ms/step - loss: 86.6528 - mean_squared_error: 86.6528 - val_loss: 543.9720 - val_mean_squared_error: 543.9720\n",
            "Epoch 93/100\n",
            "12/12 [==============================] - 0s 16ms/step - loss: 86.2019 - mean_squared_error: 86.2019 - val_loss: 421.9431 - val_mean_squared_error: 421.9431\n",
            "Epoch 94/100\n",
            "12/12 [==============================] - 0s 14ms/step - loss: 99.0069 - mean_squared_error: 99.0069 - val_loss: 423.6232 - val_mean_squared_error: 423.6232\n",
            "Epoch 95/100\n",
            "12/12 [==============================] - 0s 16ms/step - loss: 92.4756 - mean_squared_error: 92.4756 - val_loss: 609.6981 - val_mean_squared_error: 609.6981\n",
            "Epoch 96/100\n",
            "12/12 [==============================] - 0s 15ms/step - loss: 80.3157 - mean_squared_error: 80.3157 - val_loss: 464.4851 - val_mean_squared_error: 464.4851\n",
            "Epoch 97/100\n",
            "12/12 [==============================] - 0s 15ms/step - loss: 87.9125 - mean_squared_error: 87.9125 - val_loss: 421.2819 - val_mean_squared_error: 421.2819\n",
            "Epoch 98/100\n",
            "12/12 [==============================] - 0s 15ms/step - loss: 101.7005 - mean_squared_error: 101.7005 - val_loss: 473.7634 - val_mean_squared_error: 473.7634\n",
            "Epoch 99/100\n",
            "12/12 [==============================] - 0s 14ms/step - loss: 97.3080 - mean_squared_error: 97.3080 - val_loss: 488.5793 - val_mean_squared_error: 488.5793\n",
            "Epoch 100/100\n",
            "12/12 [==============================] - 0s 16ms/step - loss: 95.2309 - mean_squared_error: 95.2309 - val_loss: 556.5499 - val_mean_squared_error: 556.5499\n",
            "15/15 [==============================] - 0s 3ms/step\n"
          ]
        }
      ],
      "source": [
        "#HascJogで構築→HascWalkで試す\n",
        "history = model.fit(DifferenceAcc_histHascJog, HzHascJog, batch_size=32, epochs=EPOCHS, shuffle=True, validation_split=0.2)\n",
        "y_pred = tf.cast(tf.clip_by_value(model.predict(DifferenceAcc_histHasc), 20, 100), tf.int32)\n",
        "mae.append(mean_absolute_error(y_pred, HzHasc))\n",
        "mse.append(mean_squared_error(y_pred, HzHasc))\n",
        "r2.append(r2_score(y_pred, HzHasc))"
      ]
    },
    {
      "cell_type": "code",
      "execution_count": 75,
      "metadata": {
        "colab": {
          "base_uri": "https://localhost:8080/"
        },
        "id": "6pqVA9ls59uQ",
        "outputId": "903d04b4-ebd8-4311-eb2b-6c539c6cff20"
      },
      "outputs": [
        {
          "output_type": "execute_result",
          "data": {
            "text/plain": [
              "[15.711538461538462, 13.85897435897436]"
            ]
          },
          "metadata": {},
          "execution_count": 75
        }
      ],
      "source": [
        "mae"
      ]
    },
    {
      "cell_type": "code",
      "source": [],
      "metadata": {
        "id": "ixvjVJCP-1JM"
      },
      "execution_count": null,
      "outputs": []
    }
  ],
  "metadata": {
    "accelerator": "GPU",
    "colab": {
      "gpuType": "T4",
      "provenance": []
    },
    "kernelspec": {
      "display_name": "Python 3",
      "name": "python3"
    },
    "language_info": {
      "name": "python"
    }
  },
  "nbformat": 4,
  "nbformat_minor": 0
}