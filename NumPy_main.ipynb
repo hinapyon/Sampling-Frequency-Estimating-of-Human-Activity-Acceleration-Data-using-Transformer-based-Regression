{
 "cells": [
  {
   "cell_type": "code",
   "execution_count": 20,
   "metadata": {},
   "outputs": [],
   "source": [
    "x_train = np.random.rand(73, 40)\n",
    "y_train = np.random.rand(73, )"
   ]
  },
  {
   "cell_type": "code",
   "execution_count": 24,
   "metadata": {},
   "outputs": [
    {
     "name": "stdout",
     "output_type": "stream",
     "text": [
      "Epoch 1/10\n",
      "4/4 [==============================] - 3s 82ms/step - loss: 0.2485 - mean_squared_error: 0.2485 - val_loss: 0.1074 - val_mean_squared_error: 0.1074\n",
      "Epoch 2/10\n",
      "4/4 [==============================] - 0s 15ms/step - loss: 0.1535 - mean_squared_error: 0.1535 - val_loss: 0.0702 - val_mean_squared_error: 0.0702\n",
      "Epoch 3/10\n",
      "4/4 [==============================] - 0s 14ms/step - loss: 0.1221 - mean_squared_error: 0.1221 - val_loss: 0.0691 - val_mean_squared_error: 0.0691\n",
      "Epoch 4/10\n",
      "4/4 [==============================] - 0s 16ms/step - loss: 0.1667 - mean_squared_error: 0.1667 - val_loss: 0.0816 - val_mean_squared_error: 0.0816\n",
      "Epoch 5/10\n",
      "4/4 [==============================] - 0s 24ms/step - loss: 0.1349 - mean_squared_error: 0.1349 - val_loss: 0.0770 - val_mean_squared_error: 0.0770\n",
      "Epoch 6/10\n",
      "4/4 [==============================] - 0s 25ms/step - loss: 0.1392 - mean_squared_error: 0.1392 - val_loss: 0.0702 - val_mean_squared_error: 0.0702\n",
      "Epoch 7/10\n",
      "4/4 [==============================] - 0s 22ms/step - loss: 0.0968 - mean_squared_error: 0.0968 - val_loss: 0.0671 - val_mean_squared_error: 0.0671\n",
      "Epoch 8/10\n",
      "4/4 [==============================] - 0s 16ms/step - loss: 0.0956 - mean_squared_error: 0.0956 - val_loss: 0.0674 - val_mean_squared_error: 0.0674\n",
      "Epoch 9/10\n",
      "4/4 [==============================] - 0s 14ms/step - loss: 0.1244 - mean_squared_error: 0.1244 - val_loss: 0.0678 - val_mean_squared_error: 0.0678\n",
      "Epoch 10/10\n",
      "4/4 [==============================] - 0s 12ms/step - loss: 0.0963 - mean_squared_error: 0.0963 - val_loss: 0.0676 - val_mean_squared_error: 0.0676\n"
     ]
    },
    {
     "data": {
      "text/plain": [
       "<keras.callbacks.History at 0x14143aa90>"
      ]
     },
     "execution_count": 24,
     "metadata": {},
     "output_type": "execute_result"
    }
   ],
   "source": [
    "import tensorflow as tf\n",
    "from tensorflow import keras\n",
    "from tensorflow.keras import layers\n",
    "import numpy as np\n",
    "\n",
    "# Define the input shape\n",
    "input_shape = (40,)\n",
    "\n",
    "# Define the model\n",
    "inputs = layers.Input(shape=input_shape)\n",
    "x = layers.Reshape((10, 4))(inputs)\n",
    "x = layers.MultiHeadAttention(num_heads=2, key_dim=32)(x, x)\n",
    "x = layers.Flatten()(x)\n",
    "x = layers.Dense(16, activation=\"relu\")(x)\n",
    "x = layers.Dropout(0.1)(x)\n",
    "x = layers.Dense(8, activation=\"relu\")(x)\n",
    "x = layers.Dropout(0.1)(x)\n",
    "outputs = layers.Dense(1)(x)\n",
    "\n",
    "model = keras.Model(inputs=inputs, outputs=outputs)\n",
    "\n",
    "# Compile the model\n",
    "model.compile(\n",
    "    optimizer=keras.optimizers.Adam(),\n",
    "    loss=keras.losses.mean_squared_error,\n",
    "    metrics=[keras.metrics.mean_squared_error],\n",
    ")\n",
    "\n",
    "# Generate some dummy data for training and testing\n",
    "x_train = np.random.rand(73, 40)\n",
    "y_train = np.random.rand(73, )\n",
    "\n",
    "# Train the model\n",
    "model.fit(x_train, y_train, batch_size=16, epochs=10, validation_split=0.2)\n"
   ]
  },
  {
   "cell_type": "code",
   "execution_count": 25,
   "metadata": {},
   "outputs": [],
   "source": [
    "x_test = np.random.rand(20, 40)\n",
    "y_test = np.random.rand(20, )"
   ]
  },
  {
   "cell_type": "code",
   "execution_count": 26,
   "metadata": {},
   "outputs": [
    {
     "name": "stdout",
     "output_type": "stream",
     "text": [
      "1/1 [==============================] - 1s 627ms/step\n"
     ]
    }
   ],
   "source": [
    "y_pred = model.predict(x_test)"
   ]
  },
  {
   "cell_type": "code",
   "execution_count": 27,
   "metadata": {},
   "outputs": [
    {
     "data": {
      "text/plain": [
       "array([[0.47470725],\n",
       "       [0.49570984],\n",
       "       [0.48911595],\n",
       "       [0.46654558],\n",
       "       [0.4860024 ],\n",
       "       [0.48930156],\n",
       "       [0.44063073],\n",
       "       [0.49340546],\n",
       "       [0.47334838],\n",
       "       [0.5346774 ],\n",
       "       [0.543053  ],\n",
       "       [0.5300362 ],\n",
       "       [0.45997745],\n",
       "       [0.46345204],\n",
       "       [0.50698566],\n",
       "       [0.5003813 ],\n",
       "       [0.53128046],\n",
       "       [0.5169224 ],\n",
       "       [0.46786046],\n",
       "       [0.4887755 ]], dtype=float32)"
      ]
     },
     "execution_count": 27,
     "metadata": {},
     "output_type": "execute_result"
    }
   ],
   "source": [
    "y_pred"
   ]
  },
  {
   "cell_type": "code",
   "execution_count": null,
   "metadata": {},
   "outputs": [],
   "source": []
  }
 ],
 "metadata": {
  "kernelspec": {
   "display_name": "base",
   "language": "python",
   "name": "python3"
  },
  "language_info": {
   "codemirror_mode": {
    "name": "ipython",
    "version": 3
   },
   "file_extension": ".py",
   "mimetype": "text/x-python",
   "name": "python",
   "nbconvert_exporter": "python",
   "pygments_lexer": "ipython3",
   "version": "3.11.3"
  },
  "orig_nbformat": 4,
  "vscode": {
   "interpreter": {
    "hash": "919e6181955fbc636a96e4fdb04fb1b969c9681582829f05a2534c8d07862e2e"
   }
  }
 },
 "nbformat": 4,
 "nbformat_minor": 2
}
