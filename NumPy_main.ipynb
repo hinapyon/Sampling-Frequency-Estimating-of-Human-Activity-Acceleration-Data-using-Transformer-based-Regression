{
 "cells": [
  {
   "cell_type": "code",
   "execution_count": 41,
   "metadata": {},
   "outputs": [],
   "source": [
    "x_train = np.random.rand(73, 400)\n",
    "y_train = np.random.rand(73, )"
   ]
  },
  {
   "cell_type": "code",
   "execution_count": 1,
   "metadata": {},
   "outputs": [
    {
     "name": "stderr",
     "output_type": "stream",
     "text": [
      "2023-04-24 16:49:13.075472: I tensorflow/core/platform/cpu_feature_guard.cc:182] This TensorFlow binary is optimized to use available CPU instructions in performance-critical operations.\n",
      "To enable the following instructions: AVX2 FMA, in other operations, rebuild TensorFlow with the appropriate compiler flags.\n"
     ]
    },
    {
     "name": "stdout",
     "output_type": "stream",
     "text": [
      "Epoch 1/10\n",
      "4/4 [==============================] - 2s 75ms/step - loss: 0.2515 - mean_squared_error: 0.2515 - val_loss: 0.1006 - val_mean_squared_error: 0.1006\n",
      "Epoch 2/10\n",
      "4/4 [==============================] - 0s 19ms/step - loss: 0.1395 - mean_squared_error: 0.1395 - val_loss: 0.1381 - val_mean_squared_error: 0.1381\n",
      "Epoch 3/10\n",
      "4/4 [==============================] - 0s 18ms/step - loss: 0.1779 - mean_squared_error: 0.1779 - val_loss: 0.1318 - val_mean_squared_error: 0.1318\n",
      "Epoch 4/10\n",
      "4/4 [==============================] - 0s 18ms/step - loss: 0.1130 - mean_squared_error: 0.1130 - val_loss: 0.0869 - val_mean_squared_error: 0.0869\n",
      "Epoch 5/10\n",
      "4/4 [==============================] - 0s 19ms/step - loss: 0.1355 - mean_squared_error: 0.1355 - val_loss: 0.0799 - val_mean_squared_error: 0.0799\n",
      "Epoch 6/10\n",
      "4/4 [==============================] - 0s 21ms/step - loss: 0.1222 - mean_squared_error: 0.1222 - val_loss: 0.0959 - val_mean_squared_error: 0.0959\n",
      "Epoch 7/10\n",
      "4/4 [==============================] - 0s 21ms/step - loss: 0.1311 - mean_squared_error: 0.1311 - val_loss: 0.0760 - val_mean_squared_error: 0.0760\n",
      "Epoch 8/10\n",
      "4/4 [==============================] - 0s 21ms/step - loss: 0.1395 - mean_squared_error: 0.1395 - val_loss: 0.0757 - val_mean_squared_error: 0.0757\n",
      "Epoch 9/10\n",
      "4/4 [==============================] - 0s 19ms/step - loss: 0.1336 - mean_squared_error: 0.1336 - val_loss: 0.0823 - val_mean_squared_error: 0.0823\n",
      "Epoch 10/10\n",
      "4/4 [==============================] - 0s 20ms/step - loss: 0.1156 - mean_squared_error: 0.1156 - val_loss: 0.0775 - val_mean_squared_error: 0.0775\n"
     ]
    },
    {
     "data": {
      "text/plain": [
       "<keras.callbacks.History at 0x1362de050>"
      ]
     },
     "execution_count": 1,
     "metadata": {},
     "output_type": "execute_result"
    }
   ],
   "source": [
    "import tensorflow as tf\n",
    "from tensorflow import keras\n",
    "from tensorflow.keras import layers\n",
    "import numpy as np\n",
    "\n",
    "# Define the input shape\n",
    "input_shape = (4000,)\n",
    "\n",
    "# Define the model\n",
    "inputs = layers.Input(shape=input_shape)\n",
    "x = layers.Reshape((100, 40))(inputs)\n",
    "x = layers.MultiHeadAttention(num_heads=2, key_dim=32)(x, x)\n",
    "x = layers.Flatten()(x)\n",
    "x = layers.Dense(16, activation=\"relu\")(x)\n",
    "x = layers.Dropout(0.1)(x)\n",
    "x = layers.Dense(8, activation=\"relu\")(x)\n",
    "x = layers.Dropout(0.1)(x)\n",
    "outputs = layers.Dense(1)(x)\n",
    "\n",
    "model = keras.Model(inputs=inputs, outputs=outputs)\n",
    "\n",
    "# Compile the model\n",
    "model.compile(\n",
    "    optimizer=keras.optimizers.Adam(),\n",
    "    loss=keras.losses.mean_squared_error,\n",
    "    metrics=[keras.metrics.mean_squared_error],\n",
    ")\n",
    "\n",
    "# Generate some dummy data for training and testing\n",
    "x_train = np.random.rand(73, 4000)\n",
    "y_train = np.random.rand(73, )\n",
    "\n",
    "# Train the model\n",
    "model.fit(x_train, y_train, batch_size=16, epochs=10, validation_split=0.2)\n"
   ]
  },
  {
   "cell_type": "code",
   "execution_count": 2,
   "metadata": {},
   "outputs": [],
   "source": [
    "x_test = np.random.rand(20, 4000)\n",
    "y_test = np.random.rand(20, )"
   ]
  },
  {
   "cell_type": "code",
   "execution_count": 3,
   "metadata": {},
   "outputs": [
    {
     "name": "stdout",
     "output_type": "stream",
     "text": [
      "1/1 [==============================] - 0s 149ms/step\n"
     ]
    }
   ],
   "source": [
    "y_pred = model.predict(x_test)"
   ]
  },
  {
   "cell_type": "code",
   "execution_count": 4,
   "metadata": {},
   "outputs": [
    {
     "data": {
      "text/plain": [
       "array([[0.45983964],\n",
       "       [0.46452713],\n",
       "       [0.45363247],\n",
       "       [0.46818757],\n",
       "       [0.45089996],\n",
       "       [0.45645368],\n",
       "       [0.45923668],\n",
       "       [0.46747416],\n",
       "       [0.4592499 ],\n",
       "       [0.45967406],\n",
       "       [0.46044314],\n",
       "       [0.45692044],\n",
       "       [0.46306336],\n",
       "       [0.4472472 ],\n",
       "       [0.46270823],\n",
       "       [0.45486903],\n",
       "       [0.45669788],\n",
       "       [0.45245636],\n",
       "       [0.45297134],\n",
       "       [0.46158403]], dtype=float32)"
      ]
     },
     "execution_count": 4,
     "metadata": {},
     "output_type": "execute_result"
    }
   ],
   "source": [
    "y_pred"
   ]
  },
  {
   "cell_type": "code",
   "execution_count": null,
   "metadata": {},
   "outputs": [],
   "source": []
  }
 ],
 "metadata": {
  "kernelspec": {
   "display_name": "base",
   "language": "python",
   "name": "python3"
  },
  "language_info": {
   "codemirror_mode": {
    "name": "ipython",
    "version": 3
   },
   "file_extension": ".py",
   "mimetype": "text/x-python",
   "name": "python",
   "nbconvert_exporter": "python",
   "pygments_lexer": "ipython3",
   "version": "3.11.3"
  },
  "orig_nbformat": 4,
  "vscode": {
   "interpreter": {
    "hash": "919e6181955fbc636a96e4fdb04fb1b969c9681582829f05a2534c8d07862e2e"
   }
  }
 },
 "nbformat": 4,
 "nbformat_minor": 2
}
