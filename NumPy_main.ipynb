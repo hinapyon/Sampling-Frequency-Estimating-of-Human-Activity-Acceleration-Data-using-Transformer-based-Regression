{
 "cells": [
  {
   "cell_type": "code",
   "execution_count": 41,
   "metadata": {},
   "outputs": [],
   "source": [
    "x_train = np.random.rand(73, 400)\n",
    "y_train = np.random.rand(73, )"
   ]
  },
  {
   "cell_type": "code",
   "execution_count": 18,
   "metadata": {},
   "outputs": [
    {
     "name": "stdout",
     "output_type": "stream",
     "text": [
      "Epoch 1/10\n",
      "4/4 [==============================] - 2s 75ms/step - loss: 0.1912 - mean_squared_error: 0.1912 - val_loss: 0.1544 - val_mean_squared_error: 0.1544\n",
      "Epoch 2/10\n",
      "4/4 [==============================] - 0s 20ms/step - loss: 0.0924 - mean_squared_error: 0.0924 - val_loss: 0.1005 - val_mean_squared_error: 0.1005\n",
      "Epoch 3/10\n",
      "4/4 [==============================] - 0s 19ms/step - loss: 0.1106 - mean_squared_error: 0.1106 - val_loss: 0.1055 - val_mean_squared_error: 0.1055\n",
      "Epoch 4/10\n",
      "4/4 [==============================] - 0s 18ms/step - loss: 0.0990 - mean_squared_error: 0.0990 - val_loss: 0.0902 - val_mean_squared_error: 0.0902\n",
      "Epoch 5/10\n",
      "4/4 [==============================] - 0s 20ms/step - loss: 0.1028 - mean_squared_error: 0.1028 - val_loss: 0.1007 - val_mean_squared_error: 0.1007\n",
      "Epoch 6/10\n",
      "4/4 [==============================] - 0s 18ms/step - loss: 0.1081 - mean_squared_error: 0.1081 - val_loss: 0.0896 - val_mean_squared_error: 0.0896\n",
      "Epoch 7/10\n",
      "4/4 [==============================] - 0s 20ms/step - loss: 0.0849 - mean_squared_error: 0.0849 - val_loss: 0.0915 - val_mean_squared_error: 0.0915\n",
      "Epoch 8/10\n",
      "4/4 [==============================] - 0s 20ms/step - loss: 0.1016 - mean_squared_error: 0.1016 - val_loss: 0.1073 - val_mean_squared_error: 0.1073\n",
      "Epoch 9/10\n",
      "4/4 [==============================] - 0s 26ms/step - loss: 0.1140 - mean_squared_error: 0.1140 - val_loss: 0.0905 - val_mean_squared_error: 0.0905\n",
      "Epoch 10/10\n",
      "4/4 [==============================] - 0s 24ms/step - loss: 0.0790 - mean_squared_error: 0.0790 - val_loss: 0.0905 - val_mean_squared_error: 0.0905\n"
     ]
    },
    {
     "data": {
      "text/plain": [
       "<keras.callbacks.History at 0x1613735d0>"
      ]
     },
     "execution_count": 18,
     "metadata": {},
     "output_type": "execute_result"
    }
   ],
   "source": [
    "import tensorflow as tf\n",
    "from tensorflow import keras\n",
    "from tensorflow.keras import layers\n",
    "import numpy as np\n",
    "\n",
    "# Define the input shape\n",
    "input_shape = (4000,)\n",
    "\n",
    "# Define the model\n",
    "inputs = layers.Input(shape=input_shape)\n",
    "x = layers.Reshape((100, 40))(inputs)\n",
    "x = layers.MultiHeadAttention(num_heads=2, key_dim=32)(x, x)\n",
    "x = layers.Flatten()(x)\n",
    "x = layers.Dense(16, activation=\"relu\")(x)\n",
    "x = layers.Dropout(0.1)(x)\n",
    "x = layers.Dense(8, activation=\"relu\")(x)\n",
    "x = layers.Dropout(0.1)(x)\n",
    "outputs = layers.Dense(1)(x)\n",
    "\n",
    "model = keras.Model(inputs=inputs, outputs=outputs)\n",
    "\n",
    "# Compile the model\n",
    "model.compile(\n",
    "    optimizer=keras.optimizers.Adam(),\n",
    "    loss=keras.losses.mean_squared_error,\n",
    "    metrics=[keras.metrics.mean_squared_error],\n",
    ")\n",
    "\n",
    "# Generate some dummy data for training and testing\n",
    "x_train = np.random.rand(73, 4000)\n",
    "y_train = np.random.rand(73, )\n",
    "\n",
    "# Train the model\n",
    "model.fit(x_train, y_train, batch_size=16, epochs=10, validation_split=0.2)"
   ]
  },
  {
   "cell_type": "code",
   "execution_count": 2,
   "metadata": {},
   "outputs": [],
   "source": [
    "x_test = np.random.rand(20, 4000)\n",
    "y_test = np.random.rand(20, )"
   ]
  },
  {
   "cell_type": "code",
   "execution_count": 3,
   "metadata": {},
   "outputs": [
    {
     "name": "stdout",
     "output_type": "stream",
     "text": [
      "1/1 [==============================] - 0s 149ms/step\n"
     ]
    }
   ],
   "source": [
    "y_pred = model.predict(x_test)"
   ]
  },
  {
   "cell_type": "code",
   "execution_count": 4,
   "metadata": {},
   "outputs": [
    {
     "data": {
      "text/plain": [
       "array([[0.45983964],\n",
       "       [0.46452713],\n",
       "       [0.45363247],\n",
       "       [0.46818757],\n",
       "       [0.45089996],\n",
       "       [0.45645368],\n",
       "       [0.45923668],\n",
       "       [0.46747416],\n",
       "       [0.4592499 ],\n",
       "       [0.45967406],\n",
       "       [0.46044314],\n",
       "       [0.45692044],\n",
       "       [0.46306336],\n",
       "       [0.4472472 ],\n",
       "       [0.46270823],\n",
       "       [0.45486903],\n",
       "       [0.45669788],\n",
       "       [0.45245636],\n",
       "       [0.45297134],\n",
       "       [0.46158403]], dtype=float32)"
      ]
     },
     "execution_count": 4,
     "metadata": {},
     "output_type": "execute_result"
    }
   ],
   "source": [
    "y_pred"
   ]
  },
  {
   "cell_type": "code",
   "execution_count": 8,
   "metadata": {},
   "outputs": [
    {
     "name": "stdout",
     "output_type": "stream",
     "text": [
      "Epoch 1/20\n",
      "7/7 [==============================] - 1s 30ms/step - loss: 3.6114 - mean_squared_error: 3.6114 - val_loss: 0.4182 - val_mean_squared_error: 0.4182\n",
      "Epoch 2/20\n",
      "7/7 [==============================] - 0s 10ms/step - loss: 1.7213 - mean_squared_error: 1.7213 - val_loss: 0.1960 - val_mean_squared_error: 0.1960\n",
      "Epoch 3/20\n",
      "7/7 [==============================] - 0s 10ms/step - loss: 0.8317 - mean_squared_error: 0.8317 - val_loss: 0.0985 - val_mean_squared_error: 0.0985\n",
      "Epoch 4/20\n",
      "7/7 [==============================] - 0s 10ms/step - loss: 0.3510 - mean_squared_error: 0.3510 - val_loss: 0.0897 - val_mean_squared_error: 0.0897\n",
      "Epoch 5/20\n",
      "7/7 [==============================] - 0s 10ms/step - loss: 0.2409 - mean_squared_error: 0.2409 - val_loss: 0.0862 - val_mean_squared_error: 0.0862\n",
      "Epoch 6/20\n",
      "7/7 [==============================] - 0s 10ms/step - loss: 0.1884 - mean_squared_error: 0.1884 - val_loss: 0.0882 - val_mean_squared_error: 0.0882\n",
      "Epoch 7/20\n",
      "7/7 [==============================] - 0s 10ms/step - loss: 0.1654 - mean_squared_error: 0.1654 - val_loss: 0.0900 - val_mean_squared_error: 0.0900\n",
      "Epoch 8/20\n",
      "7/7 [==============================] - 0s 11ms/step - loss: 0.1517 - mean_squared_error: 0.1517 - val_loss: 0.0875 - val_mean_squared_error: 0.0875\n",
      "Epoch 9/20\n",
      "7/7 [==============================] - 0s 11ms/step - loss: 0.1303 - mean_squared_error: 0.1303 - val_loss: 0.0915 - val_mean_squared_error: 0.0915\n",
      "Epoch 10/20\n",
      "7/7 [==============================] - 0s 11ms/step - loss: 0.1244 - mean_squared_error: 0.1244 - val_loss: 0.0923 - val_mean_squared_error: 0.0923\n",
      "Epoch 11/20\n",
      "7/7 [==============================] - 0s 17ms/step - loss: 0.1254 - mean_squared_error: 0.1254 - val_loss: 0.0940 - val_mean_squared_error: 0.0940\n",
      "Epoch 12/20\n",
      "7/7 [==============================] - 0s 10ms/step - loss: 0.1160 - mean_squared_error: 0.1160 - val_loss: 0.0939 - val_mean_squared_error: 0.0939\n",
      "Epoch 13/20\n",
      "7/7 [==============================] - 0s 10ms/step - loss: 0.1074 - mean_squared_error: 0.1074 - val_loss: 0.1008 - val_mean_squared_error: 0.1008\n",
      "Epoch 14/20\n",
      "7/7 [==============================] - 0s 11ms/step - loss: 0.1088 - mean_squared_error: 0.1088 - val_loss: 0.0984 - val_mean_squared_error: 0.0984\n",
      "Epoch 15/20\n",
      "7/7 [==============================] - 0s 11ms/step - loss: 0.1122 - mean_squared_error: 0.1122 - val_loss: 0.0953 - val_mean_squared_error: 0.0953\n",
      "Epoch 16/20\n",
      "7/7 [==============================] - 0s 11ms/step - loss: 0.1036 - mean_squared_error: 0.1036 - val_loss: 0.0978 - val_mean_squared_error: 0.0978\n",
      "Epoch 17/20\n",
      "7/7 [==============================] - 0s 11ms/step - loss: 0.1067 - mean_squared_error: 0.1067 - val_loss: 0.0916 - val_mean_squared_error: 0.0916\n",
      "Epoch 18/20\n",
      "7/7 [==============================] - 0s 11ms/step - loss: 0.1035 - mean_squared_error: 0.1035 - val_loss: 0.0931 - val_mean_squared_error: 0.0931\n",
      "Epoch 19/20\n",
      "7/7 [==============================] - 0s 10ms/step - loss: 0.1017 - mean_squared_error: 0.1017 - val_loss: 0.0942 - val_mean_squared_error: 0.0942\n",
      "Epoch 20/20\n",
      "7/7 [==============================] - 0s 10ms/step - loss: 0.1091 - mean_squared_error: 0.1091 - val_loss: 0.0973 - val_mean_squared_error: 0.0973\n"
     ]
    },
    {
     "data": {
      "text/plain": [
       "<keras.callbacks.History at 0x139d8c810>"
      ]
     },
     "execution_count": 8,
     "metadata": {},
     "output_type": "execute_result"
    }
   ],
   "source": [
    "import tensorflow as tf\n",
    "from tensorflow import keras\n",
    "from tensorflow.keras import layers\n",
    "\n",
    "# Define the input shape\n",
    "input_shape = (4000,)\n",
    "\n",
    "# Define the model\n",
    "inputs = layers.Input(shape=input_shape)\n",
    "x = layers.Dense(128, activation=\"relu\")(inputs)\n",
    "x = layers.Dropout(0.1)(x)\n",
    "x = layers.Dense(64, activation=\"relu\")(x)\n",
    "x = layers.Dropout(0.1)(x)\n",
    "x = layers.Dense(32, activation=\"relu\")(x)\n",
    "x = layers.Dropout(0.1)(x)\n",
    "outputs = layers.Dense(1)(x)\n",
    "\n",
    "model = keras.Model(inputs=inputs, outputs=outputs)\n",
    "\n",
    "# Compile the model\n",
    "model.compile(\n",
    "    optimizer=keras.optimizers.Adam(),\n",
    "    loss=keras.losses.mean_squared_error,\n",
    "    metrics=[keras.metrics.mean_squared_error],\n",
    ")\n",
    "\n",
    "# Generate some dummy data for training and testing\n",
    "x_train = np.random.rand(1000, 4000)\n",
    "y_train = np.random.rand(1000, )\n",
    "\n",
    "# Train the model\n",
    "model.fit(x_train, y_train, batch_size=128, epochs=20, validation_split=0.2)"
   ]
  },
  {
   "cell_type": "code",
   "execution_count": 10,
   "metadata": {},
   "outputs": [
    {
     "name": "stdout",
     "output_type": "stream",
     "text": [
      "1/1 [==============================] - 0s 21ms/step\n"
     ]
    }
   ],
   "source": [
    "from sklearn.metrics import mean_squared_error, mean_absolute_error, r2_score\n",
    "y_pred = tf.cast(model.predict(x_test), tf.int32)\n",
    "\n",
    "  # Calculate the mean squared error between the predictions and the ground truth labels.\n",
    "mse = mean_squared_error(y_pred, y_test)\n",
    "\n",
    "  # Calculate the root mean squared error between the predictions and the ground truth labels.\n",
    "rmse = np.sqrt(mse)\n",
    "\n",
    "  # Calculate the mean absolute error between the predictions and the ground truth labels.\n",
    "mae = mean_absolute_error(y_pred, y_test)\n",
    "\n",
    "  # Calculate the R^2 score between the predictions and the ground truth labels.\n",
    "r2 = r2_score(y_pred, y_test)"
   ]
  },
  {
   "cell_type": "code",
   "execution_count": 11,
   "metadata": {},
   "outputs": [
    {
     "data": {
      "text/plain": [
       "0.05395604358795354"
      ]
     },
     "execution_count": 11,
     "metadata": {},
     "output_type": "execute_result"
    }
   ],
   "source": [
    "mse"
   ]
  },
  {
   "cell_type": "code",
   "execution_count": 12,
   "metadata": {},
   "outputs": [
    {
     "data": {
      "text/plain": [
       "0.2322844023776748"
      ]
     },
     "execution_count": 12,
     "metadata": {},
     "output_type": "execute_result"
    }
   ],
   "source": [
    "rmse"
   ]
  },
  {
   "cell_type": "code",
   "execution_count": 13,
   "metadata": {},
   "outputs": [
    {
     "data": {
      "text/plain": [
       "0.19293207410576058"
      ]
     },
     "execution_count": 13,
     "metadata": {},
     "output_type": "execute_result"
    }
   ],
   "source": [
    "mae"
   ]
  },
  {
   "cell_type": "code",
   "execution_count": 14,
   "metadata": {},
   "outputs": [
    {
     "data": {
      "text/plain": [
       "-71.71969858042739"
      ]
     },
     "execution_count": 14,
     "metadata": {},
     "output_type": "execute_result"
    }
   ],
   "source": [
    "r2"
   ]
  },
  {
   "cell_type": "code",
   "execution_count": 16,
   "metadata": {},
   "outputs": [
    {
     "name": "stdout",
     "output_type": "stream",
     "text": [
      "(1000,)\n",
      "(500,)\n"
     ]
    }
   ],
   "source": [
    "import numpy as np\n",
    "from scipy import signal\n",
    "\n",
    "# Define the original data with sampling rate of 100 Hz\n",
    "data_100hz = np.random.rand(1000)\n",
    "print(data_100hz.shape)\n",
    "# Define the desired sampling rate of 50 Hz\n",
    "new_fs = 50\n",
    "\n",
    "# Compute the decimation factor\n",
    "decimation_factor = int(round(100 / new_fs))\n",
    "\n",
    "# Downsample the data using decimation\n",
    "data_50hz = signal.decimate(data_100hz, decimation_factor, zero_phase=True)\n",
    "\n",
    "# Print the shape of the downsampled data\n",
    "print(data_50hz.shape)"
   ]
  },
  {
   "cell_type": "code",
   "execution_count": 1,
   "metadata": {},
   "outputs": [
    {
     "name": "stdout",
     "output_type": "stream",
     "text": [
      "[2. 4.]\n"
     ]
    }
   ],
   "source": [
    "from scipy import signal\n",
    "\n",
    "# original data\n",
    "accel_data = [1, 2, 3, 4, 5]\n",
    "\n",
    "# define original and target sampling frequencies\n",
    "original_fs = 10\n",
    "target_fs = 5\n",
    "\n",
    "# calculate resampling factor\n",
    "resampling_factor = target_fs / original_fs\n",
    "\n",
    "# calculate new length of data\n",
    "new_length = int(len(accel_data) * resampling_factor)\n",
    "\n",
    "# resample data\n",
    "resampled_data = signal.resample(accel_data, new_length)\n",
    "\n",
    "print(resampled_data)\n"
   ]
  },
  {
   "cell_type": "code",
   "execution_count": null,
   "metadata": {},
   "outputs": [],
   "source": []
  }
 ],
 "metadata": {
  "kernelspec": {
   "display_name": "base",
   "language": "python",
   "name": "python3"
  },
  "language_info": {
   "codemirror_mode": {
    "name": "ipython",
    "version": 3
   },
   "file_extension": ".py",
   "mimetype": "text/x-python",
   "name": "python",
   "nbconvert_exporter": "python",
   "pygments_lexer": "ipython3",
   "version": "3.11.3"
  },
  "orig_nbformat": 4,
  "vscode": {
   "interpreter": {
    "hash": "919e6181955fbc636a96e4fdb04fb1b969c9681582829f05a2534c8d07862e2e"
   }
  }
 },
 "nbformat": 4,
 "nbformat_minor": 2
}
