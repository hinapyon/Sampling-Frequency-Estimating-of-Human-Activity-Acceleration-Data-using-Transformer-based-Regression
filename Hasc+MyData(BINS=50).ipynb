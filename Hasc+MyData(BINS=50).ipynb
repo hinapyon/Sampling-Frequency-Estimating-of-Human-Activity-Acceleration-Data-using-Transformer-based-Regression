{
  "nbformat": 4,
  "nbformat_minor": 0,
  "metadata": {
    "colab": {
      "provenance": [],
      "gpuType": "T4",
      "authorship_tag": "ABX9TyO5KUl8oLk6MVWou0DIKSYN",
      "include_colab_link": true
    },
    "kernelspec": {
      "name": "python3",
      "display_name": "Python 3"
    },
    "language_info": {
      "name": "python"
    },
    "accelerator": "GPU",
    "gpuClass": "standard"
  },
  "cells": [
    {
      "cell_type": "markdown",
      "metadata": {
        "id": "view-in-github",
        "colab_type": "text"
      },
      "source": [
        "<a href=\"https://colab.research.google.com/github/hinapyon/Estimation-Method-of-Sampling-Frequency-of-Data-Collected-from-Wearable-Accelerometers/blob/main/Hasc%2BMyData(BINS%3D50).ipynb\" target=\"_parent\"><img src=\"https://colab.research.google.com/assets/colab-badge.svg\" alt=\"Open In Colab\"/></a>"
      ]
    },
    {
      "cell_type": "code",
      "execution_count": 61,
      "metadata": {
        "id": "oTsgcWLEa9Nt"
      },
      "outputs": [],
      "source": [
        "#ライブラリをインポート\n",
        "import os #OSに依存する様々な機能を利用するためのモジュール(ファイルやディレクトリ操作など)\n",
        "import re #正規表現を利用するためのモジュール\n",
        "import csv  #csvファイルを扱うためのモジュール\n",
        "import math #数学的計算のためのモジュール\n",
        "import matplotlib.pyplot as plt #グラフ描画のためのモジュール\n",
        "import numpy as np  #多次元配列計算のためのモジュール\n",
        "import pandas as pd #データフレームを扱うためのモジュール\n",
        "from scipy import signal  #信号処理のためのモジュール\n",
        "from scipy.stats import skew, kurtosis  #歪度と尖度を調べるためのモジュール\n",
        "from sklearn.model_selection import train_test_split  #データをトレーニング用とテスト用に分けるためのモジュール\n",
        "from sklearn import preprocessing #データを正規化するためのモジュール\n",
        "from sklearn.preprocessing import StandardScaler  #データを標準化するためのモジュール\n",
        "from sklearn.preprocessing import LabelEncoder  #カテゴリ変数を数値化するためのモジュール\n",
        "from sklearn.linear_model import LinearRegression #線型回帰\n",
        "from sklearn.svm import SVC #サポートベクターマシン\n",
        "from sklearn.ensemble import RandomForestClassifier #ランダムフォレスト\n",
        "from sklearn.neighbors import KNeighborsClassifier  #k-近傍法\n",
        "from sklearn.metrics import accuracy_score, mean_squared_error, mean_absolute_error, r2_score #機械学習モデルの性能評価のためのモジュール\n",
        "import xgboost as xgb #XGBoost\n",
        "import lightgbm as lgb  #LightGBM\n",
        "import tensorflow as tf #TensorFlow(Googleが開発したオープンソースの機械学習フレームワーク)\n",
        "from tensorflow import keras  #TensorFlow用のニューラルネットワークライブラリAPI\n",
        "from tensorflow.keras import layers #ニューラルネットワークのレイヤーを定義するためのモジュール\n",
        "import torch  #PyTorch\n",
        "import torch.nn as nn #ニューラルネットワークのためのモジュール\n",
        "import torch.optim as optim #パラメータの最適化を行うためのモジュール\n",
        "from torch.utils.data import DataLoader, Dataset  #データをバッチ単位でロードするためのユーティリティクラスz"
      ]
    },
    {
      "cell_type": "code",
      "source": [
        "from google.colab import drive\n",
        "drive.mount('/content/drive')"
      ],
      "metadata": {
        "colab": {
          "base_uri": "https://localhost:8080/"
        },
        "id": "CrXcc8k3bDt9",
        "outputId": "4978be43-3daa-4238-8b87-7016e055b336"
      },
      "execution_count": 62,
      "outputs": [
        {
          "output_type": "stream",
          "name": "stdout",
          "text": [
            "Drive already mounted at /content/drive; to attempt to forcibly remount, call drive.mount(\"/content/drive\", force_remount=True).\n"
          ]
        }
      ]
    },
    {
      "cell_type": "code",
      "source": [
        "\n",
        "#定数を定義\n",
        "BINS = 50  #ヒストグラムのビンの数\n",
        "EPSILON = .00001  #スムージングパラメータ\n",
        "UPPER_LIMIT = 1.1 #静止区間の上限\n",
        "LOWER_LIMIT = 0.9 #静止区間の加減\n",
        "STATIONARY_INTERVALS = 5  #静止区間除去のサンプルの間隔(静止区間が何サンプル連続したら除去するか)\n",
        "TRAIN_SIZE = 0.8  #機械学習のトレーニングデータの割合\n",
        "N_ESTIMATORS = 100  #決定木の数"
      ],
      "metadata": {
        "id": "-E1jV0_ybIY8"
      },
      "execution_count": 63,
      "outputs": []
    },
    {
      "cell_type": "code",
      "source": [
        "#ディレクトリ内のAMWS020のデータセットのファイル名と周波数を取得する関数\n",
        "def get_Hz_and_filename(path: str) -> list[int, str]:\n",
        "    filename = os.listdir(path) #引数のパスのディレクトリの中のファイル名一覧を取得\n",
        "    Hz_and_filename=[]  #ファイル名と周波数を格納するリストを宣言\n",
        "\n",
        "    for file in filename:\n",
        "        Hz = re.search(r'\\d+', file)    #正規表現を用いてファイル名の中で一番最初に出てくる数字(周波数)を取得\n",
        "        if Hz:  #数字の入っていないファイル名があるとエラーを吐くので、このif文でチェックする\n",
        "            Hz_and_filename.append([int(Hz.group(0)), file])    #ファイル名と周波数を格納\n",
        "\n",
        "    return Hz_and_filename"
      ],
      "metadata": {
        "id": "Q_PFKcu2bMqW"
      },
      "execution_count": 64,
      "outputs": []
    },
    {
      "cell_type": "code",
      "source": [
        "#ファイル名と周波数を分けて出力する関数\n",
        "def divide_Hz_and_filename(Hz_and_filename: list[int, str]) -> tuple[list[int], list[str]]:\n",
        "    Hz = []\n",
        "    filename = []\n",
        "    for row in Hz_and_filename:\n",
        "      Hz.append(row[0])\n",
        "      filename.append(row[1])\n",
        "\n",
        "    return Hz, filename"
      ],
      "metadata": {
        "id": "Mmd5z_SLbUNl"
      },
      "execution_count": 65,
      "outputs": []
    },
    {
      "cell_type": "code",
      "source": [
        "#自分の加速度データのCSVファイルから3軸加速度を取得する関数\n",
        "#なんか分割したら3, 4, 5色々おかしくなった\n",
        "def get_acceleration(filename: str) -> tuple[list[float], list[float], list[float]]:\n",
        "    AccX, AccY, AccZ = [], [], []\n",
        "    with open(filename) as f:\n",
        "        reader = csv.reader(f)\n",
        "        for row in reader:\n",
        "            AccX.append(float(row[3]))\n",
        "            AccY.append(float(row[4]))\n",
        "            AccZ.append(float(row[5]))\n",
        "\n",
        "    return AccX, AccY, AccZ"
      ],
      "metadata": {
        "id": "nab3m0AvbXY6"
      },
      "execution_count": 66,
      "outputs": []
    },
    {
      "cell_type": "code",
      "source": [
        "#自分の加速度データのCSVファイルから3軸加速度を取得する関数\n",
        "def get_accelerationHasc(filename: str) -> tuple[list[float], list[float], list[float]]:\n",
        "    AccX, AccY, AccZ = [], [], []\n",
        "    with open(filename) as f:\n",
        "        reader = csv.reader(f)\n",
        "        for row in reader:\n",
        "            AccX.append(float(row[1]))\n",
        "            AccY.append(float(row[2]))\n",
        "            AccZ.append(float(row[3]))\n",
        "\n",
        "    return AccX, AccY, AccZ"
      ],
      "metadata": {
        "id": "MBcD5SbVbtzz"
      },
      "execution_count": 67,
      "outputs": []
    },
    {
      "cell_type": "code",
      "source": [
        "#静止区間を除去する関数\n",
        "def acc_to_remove_stationary_intervals(AccX: list[float], AccY: list[float], AccZ: list[float]) -> list[float]:\n",
        "    #各軸の加速度の平均を求める\n",
        "    AvgAccX = sum(AccX) / len(AccX)\n",
        "    AvgAccY = sum(AccY) / len(AccY)\n",
        "    AvgAccZ = sum(AccZ) / len(AccZ)\n",
        "\n",
        "    AvgResultantAcc = math.sqrt(AvgAccX ** 2 + AvgAccY ** 2 + AvgAccZ ** 2) #重力加速度の推定値=合成加速度の平均を求める\n",
        "\n",
        "    ResultantAcc = [math.sqrt(x ** 2 + y ** 2 + z ** 2) for x, y, z in zip(AccX, AccY, AccZ)]   #各時刻の合成加速度を求める\n",
        "\n",
        "    #各時刻の合成加速度から静止区間(重力加速度の推定値に近い値が一定以上以上連続している区間)を除去する\n",
        "    i = 0 #ループ変数\n",
        "    counter = 0 #静止区間がSTATIONARY_INTERVALS分続いているかをカウントする変数\n",
        "    while i < len(ResultantAcc):\n",
        "        if AvgResultantAcc * LOWER_LIMIT < ResultantAcc[i] < AvgResultantAcc * UPPER_LIMIT:   #平均のLOWER_LIMIT倍~UPPER_LIMIT倍の範囲を調べる\n",
        "            counter += 1    #範囲内ならカウントを増やす\n",
        "            if counter == STATIONARY_INTERVALS: #カウントがSTATIONARY_INTERVALSに達したらその区間を削除\n",
        "                del ResultantAcc[i+1-STATIONARY_INTERVALS:i+1]    #スライスでは選択範囲の開始位置startと終了位置stopを[start:stop]のように書くとstart <= x < stopの範囲が選択される #start番目の値は含まれるがstop番目の値は含まれない\n",
        "                counter = 0 #カウンターをリセット\n",
        "                i -= STATIONARY_INTERVALS   #削除した分インデックスがズレるので補正する\n",
        "        else:\n",
        "            counter = 0 #カウンターをリセット\n",
        "        i += 1\n",
        "\n",
        "    return ResultantAcc  #静止区間を除去した後のリストを返す"
      ],
      "metadata": {
        "id": "Ryj7pQ-TbxHG"
      },
      "execution_count": 68,
      "outputs": []
    },
    {
      "cell_type": "code",
      "source": [
        "#連続する2サンプルの差分を取る関数\n",
        "def calculate_differences_of_acceleration(ResultantAcc: list[float]) -> list[float]:\n",
        "    DifferenceAcc = [math.fabs(ResultantAcc[i + 1] * 100000 - ResultantAcc[i] * 100000) for i in range(len(ResultantAcc) - 1)]  #100000倍して誤差を取る\n",
        "    return DifferenceAcc"
      ],
      "metadata": {
        "id": "FNwGq1s2bzxl"
      },
      "execution_count": 69,
      "outputs": []
    },
    {
      "cell_type": "code",
      "source": [
        "#入力された加速度の差分のリストからヒストグラムを作る関数（ビンの範囲が各加速度の差分データの最小値〜最大値）\n",
        "def create_histogram2(DifferenceAcc_list: list[float]) -> np.histogram:\n",
        "    DifferenceAcc_hist = np.zeros((len(DifferenceAcc_list), BINS), dtype=float)\n",
        "    for i in range(len(DifferenceAcc_list)):\n",
        "        min_value = min(DifferenceAcc_list[i])\n",
        "        max_value = max(DifferenceAcc_list[i])\n",
        "        #DifferenceAcc_hist[i], _ = np.histogram(DifferenceAcc_list[i], bins=BINS, range=(min_value, max_value)) #ヒストグラムを作成し、同じ数のビンで区切る\n",
        "        DifferenceAcc_hist[i], _ = np.histogram(DifferenceAcc_list[i], bins=BINS) #ヒストグラムを作成し、同じ数のビンで区切る\n",
        "    return DifferenceAcc_hist"
      ],
      "metadata": {
        "id": "hbUSs34Ib4Z_"
      },
      "execution_count": 70,
      "outputs": []
    },
    {
      "cell_type": "code",
      "source": [
        "#各加速度データをダウンサンプリングする関数\n",
        "def resampling_Acc(originHz: int, newHz: int, AccX: list[float], AccY: list[float], AccZ: list[float], Hz: np.array) -> tuple[list[float], list[float], list[float], np.array]:\n",
        "    i = 0   #カウンター変数\n",
        "\n",
        "    while (Hz[i] == originHz):\n",
        "        originlen = len(AccX[i])    #元々のデータの長さ\n",
        "        sampling_factor = int(originlen * (newHz/originHz)) #ダウンサンプリングした後のデータの長さ\n",
        "        newAccX = signal.resample(AccX[i], sampling_factor)    #データをダウンサンプリング\n",
        "        newAccY = signal.resample(AccY[i], sampling_factor)    #データをダウンサンプリング\n",
        "        newAccZ = signal.resample(AccZ[i], sampling_factor)    #データをダウンサンプリング\n",
        "        AccX.append(newAccX)   #ダウンサンプリングデータを加速度データに追加\n",
        "        AccY.append(newAccY)   #ダウンサンプリングデータを加速度データに追加\n",
        "        AccZ.append(newAccZ)   #ダウンサンプリングデータを加速度データに追加\n",
        "        Hz = np.append(Hz, newHz)   #ダウンサンプリングレートを追加\n",
        "        i += 1\n",
        "\n",
        "    return AccX, AccY, AccZ, Hz"
      ],
      "metadata": {
        "id": "DqeTnb2lb9wM"
      },
      "execution_count": 71,
      "outputs": []
    },
    {
      "cell_type": "code",
      "source": [
        "import tensorflow as tf\n",
        "device_name = tf.test.gpu_device_name()\n",
        "if device_name != '/device:GPU:0':\n",
        "  raise SystemError('GPU device not found')\n",
        "print('Found GPU at: {}'.format(device_name))"
      ],
      "metadata": {
        "colab": {
          "base_uri": "https://localhost:8080/"
        },
        "id": "RiHKUsoFcSgD",
        "outputId": "b809a0a4-318a-47e3-ac01-a334e5ce8589"
      },
      "execution_count": 72,
      "outputs": [
        {
          "output_type": "stream",
          "name": "stdout",
          "text": [
            "Found GPU at: /device:GPU:0\n"
          ]
        }
      ]
    },
    {
      "cell_type": "code",
      "source": [
        "path = \"/content/drive/MyDrive/my_walk_data(100Hz15minutesTo20seconds)/\"  #Google colab用\n",
        "#path = \"my_walk_data(100Hz15minutesTo20seconds)/\"  #local用"
      ],
      "metadata": {
        "id": "5nDyzHfwcJBx"
      },
      "execution_count": 73,
      "outputs": []
    },
    {
      "cell_type": "code",
      "source": [
        "#一連の流れ\n",
        "Hz_and_filename = get_Hz_and_filename(path)\n",
        "Hz_and_filename.sort(reverse=True)  #周波数の大きい順にソート\n",
        "Hz, filename = divide_Hz_and_filename(Hz_and_filename)\n",
        "Hz = np.array(Hz)\n",
        "\n",
        "#使う変数を宣言\n",
        "readAccX, readAccY, readAccZ = [], [], []   #データ読み込む用\n",
        "AccX, AccY, AccZ = [], [], []\n",
        "ResultantAcc = []\n",
        "DifferenceAcc_list = []\n",
        "\n",
        "#各データセットからデータを読み込み二次元配列に格納\n",
        "for i in filename:\n",
        "    readAccX, readAccY, readAccZ = get_acceleration(path+i)\n",
        "    AccX.append(readAccX), AccY.append(readAccY), AccZ.append(readAccZ)\n",
        "\n",
        "#各加速度データをダウンサンプリング\n",
        "for i in range(9, 1, -1):\n",
        "    AccX, AccY, AccZ, Hz = resampling_Acc(100, i * 10, AccX, AccY, AccZ, Hz)\n",
        "\n",
        "#静止区間を除去\n",
        "for i in range(len(Hz)):\n",
        "    ResultantAcc.append(acc_to_remove_stationary_intervals(AccX[i], AccY[i], AccZ[i]))"
      ],
      "metadata": {
        "id": "eyDRU90UcfAi"
      },
      "execution_count": 74,
      "outputs": []
    },
    {
      "cell_type": "code",
      "source": [
        "ResultantAcc[0]"
      ],
      "metadata": {
        "id": "eA4BRXk98fcc"
      },
      "execution_count": null,
      "outputs": []
    },
    {
      "cell_type": "code",
      "source": [
        "#ヒストグラム作成\n",
        "for i in range(len(ResultantAcc)):\n",
        "    DifferenceAcc_list.append(calculate_differences_of_acceleration(ResultantAcc[i]))\n",
        "DifferenceAcc_hist = create_histogram2(DifferenceAcc_list)"
      ],
      "metadata": {
        "id": "5DEuTTiKchl6"
      },
      "execution_count": 75,
      "outputs": []
    },
    {
      "cell_type": "code",
      "source": [
        "#ヒストグラムの度数を揃える\n",
        "for i in range(len(DifferenceAcc_hist)):\n",
        "  for j in range(BINS):\n",
        "      DifferenceAcc_hist[i][j] = DifferenceAcc_hist[i][j] / sum(DifferenceAcc_hist[i])"
      ],
      "metadata": {
        "id": "AqogTr3ycjuk"
      },
      "execution_count": 76,
      "outputs": []
    },
    {
      "cell_type": "code",
      "source": [
        "sum(DifferenceAcc_hist[9])"
      ],
      "metadata": {
        "colab": {
          "base_uri": "https://localhost:8080/"
        },
        "id": "AeXlKwoPfVkY",
        "outputId": "b0ed321c-13fa-48f2-e394-c40a6673b8fc"
      },
      "execution_count": 77,
      "outputs": [
        {
          "output_type": "execute_result",
          "data": {
            "text/plain": [
              "5.5014575805726595"
            ]
          },
          "metadata": {},
          "execution_count": 77
        }
      ]
    },
    {
      "cell_type": "code",
      "source": [
        "pathHasc = \"/content/drive/MyDrive/hasc/\"\n",
        "filename = os.listdir(pathHasc) #引数のパスのディレクトリの中のファイル名一覧を取得\n",
        "#filename.remove(\".DS_Store\")"
      ],
      "metadata": {
        "id": "rIQXdUwvb-gQ"
      },
      "execution_count": 78,
      "outputs": []
    },
    {
      "cell_type": "code",
      "source": [
        "#使う変数を宣言\n",
        "readAccX, readAccY, readAccZ = [], [], []   #データ読み込む用\n",
        "AccX, AccY, AccZ = [], [], []\n",
        "ResultantAcc = []\n",
        "DifferenceAcc_list = []\n",
        "\n",
        "#各データセットからデータを読み込み二次元配列に格納\n",
        "for i in filename:\n",
        "    readAccX, readAccY, readAccZ = get_accelerationHasc(pathHasc+i)\n",
        "    AccX.append(readAccX), AccY.append(readAccY), AccZ.append(readAccZ)\n",
        "\n",
        "HzHasc = np.ones(len(filename)) * 100\n",
        "\n",
        "#各加速度データをダウンサンプリング\n",
        "for i in range(9, 1, -1):\n",
        "    AccX, AccY, AccZ, HzHasc = resampling_Acc(100, i * 10, AccX, AccY, AccZ, HzHasc)\n",
        "\n",
        "#静止区間を除去\n",
        "for i in range(len(HzHasc)):\n",
        "    ResultantAcc.append(acc_to_remove_stationary_intervals(AccX[i], AccY[i], AccZ[i]))"
      ],
      "metadata": {
        "id": "G2h7cewPcKKq"
      },
      "execution_count": 79,
      "outputs": []
    },
    {
      "cell_type": "code",
      "source": [
        "#ヒストグラム作成\n",
        "for i in range(len(ResultantAcc)):\n",
        "    DifferenceAcc_list.append(calculate_differences_of_acceleration(ResultantAcc[i]))\n",
        "DifferenceAcc_histHasc = create_histogram2(DifferenceAcc_list)"
      ],
      "metadata": {
        "id": "PR_ij4tecrTm"
      },
      "execution_count": 80,
      "outputs": []
    },
    {
      "cell_type": "code",
      "source": [
        "#ヒストグラムの度数を揃える\n",
        "for i in range(len(DifferenceAcc_list)):\n",
        "  for j in range(BINS):\n",
        "      DifferenceAcc_histHasc[i][j] = DifferenceAcc_histHasc[i][j] / sum(DifferenceAcc_histHasc[i])"
      ],
      "metadata": {
        "id": "Ray7HmrbdG1u"
      },
      "execution_count": 81,
      "outputs": []
    },
    {
      "cell_type": "code",
      "source": [
        "sum(DifferenceAcc_histHasc[1])"
      ],
      "metadata": {
        "colab": {
          "base_uri": "https://localhost:8080/"
        },
        "id": "F37tCiR8F9Q0",
        "outputId": "36d8fe4d-8a0f-40e3-b04f-133e12bef7bd"
      },
      "execution_count": 82,
      "outputs": [
        {
          "output_type": "execute_result",
          "data": {
            "text/plain": [
              "5.4018173526129125"
            ]
          },
          "metadata": {},
          "execution_count": 82
        }
      ]
    },
    {
      "cell_type": "code",
      "source": [
        "sum(DifferenceAcc_hist[1])"
      ],
      "metadata": {
        "id": "4EtcWVdn4k1f",
        "outputId": "247b301e-6b39-4a65-9123-02dfd3a793c8",
        "colab": {
          "base_uri": "https://localhost:8080/"
        }
      },
      "execution_count": 83,
      "outputs": [
        {
          "output_type": "execute_result",
          "data": {
            "text/plain": [
              "5.440341019652992"
            ]
          },
          "metadata": {},
          "execution_count": 83
        }
      ]
    },
    {
      "cell_type": "code",
      "source": [
        "#標準化\n",
        "scaler = StandardScaler()\n",
        "# Fit the scaler to x_train\n",
        "scaler.fit(DifferenceAcc_hist)\n",
        "# Use the scaler to transform x_train and x_test\n",
        "DifferenceAcc_hist = scaler.transform(DifferenceAcc_hist)"
      ],
      "metadata": {
        "id": "vTkauiAMdjMf"
      },
      "execution_count": 84,
      "outputs": []
    },
    {
      "cell_type": "code",
      "source": [
        "#標準化\n",
        "scaler = StandardScaler()\n",
        "# Fit the scaler to x_train\n",
        "scaler.fit(DifferenceAcc_histHasc)\n",
        "# Use the scaler to transform x_train and x_test\n",
        "DifferenceAcc_histHasc = scaler.transform(DifferenceAcc_histHasc)"
      ],
      "metadata": {
        "id": "V8SRN1Jednsw"
      },
      "execution_count": 85,
      "outputs": []
    },
    {
      "cell_type": "code",
      "source": [
        "#transformer regression\n",
        "#各種パラメータ\n",
        "NUM_HEADS = 2\n",
        "KEY_DIM = 25\n",
        "BINS = 50\n",
        "DROPOUT = 0.1\n",
        "N = 1\n",
        "\n",
        "# Define the input shape\n",
        "input_shape = (BINS,)\n",
        "output_shape = (1,)\n",
        "\n",
        "#形を定義(このモジュールは行列でないとダメっぽい)\n",
        "inputs_encoder = layers.Input(shape=input_shape)\n",
        "inputs_decoder = layers.Input(shape=output_shape)"
      ],
      "metadata": {
        "id": "wdkRN2n9dxeT"
      },
      "execution_count": 86,
      "outputs": []
    },
    {
      "cell_type": "code",
      "source": [
        "#Encoderに対する入力の形状\n",
        "x_encoder = layers.Reshape((1, 50))(inputs_encoder)"
      ],
      "metadata": {
        "id": "8DfD41iqd2fh"
      },
      "execution_count": 87,
      "outputs": []
    },
    {
      "cell_type": "code",
      "source": [
        "#Transformer Encoder Layer(BERT)\n",
        "for i in range(N):\n",
        "      #Multi-Head-Attention Layer\n",
        "      attention_encoder = layers.MultiHeadAttention(num_heads=NUM_HEADS, key_dim=KEY_DIM, use_bias=True)(x_encoder, x_encoder, x_encoder)\n",
        "\n",
        "      #Dropout Layer\n",
        "      attention_encoder = layers.Dropout(rate=DROPOUT)(attention_encoder)\n",
        "      #Add & Norm Layer\n",
        "      attention_encoder = layers.LayerNormalization()(x_encoder + attention_encoder)\n",
        "\n",
        "      #Feed-Forward-Network\n",
        "      ffn_encoder = layers.Dense(BINS * 4, use_bias=True, activation=\"relu\")(attention_encoder)\n",
        "      ffn_encoder = layers.Dense(BINS, use_bias=True)(ffn_encoder)\n",
        "\n",
        "      #Dropout Layer\n",
        "      ffn_encoder = layers.Dropout(rate=DROPOUT)(ffn_encoder)\n",
        "      #Add & Norm Layer\n",
        "      x_encoder = layers.LayerNormalization()(attention_encoder + ffn_encoder)"
      ],
      "metadata": {
        "id": "IdfPrQ4Rd558"
      },
      "execution_count": 88,
      "outputs": []
    },
    {
      "cell_type": "code",
      "source": [
        "x = layers.Flatten()(x_encoder)\n",
        "x = layers.Dense(32, activation=\"relu\")(x)\n",
        "x = layers.Dropout(0.1)(x)\n",
        "x = layers.Dense(16, activation=\"relu\")(x)\n",
        "x = layers.Dropout(0.1)(x)\n",
        "outputs = layers.Dense(1, activation=\"relu\")(x)"
      ],
      "metadata": {
        "id": "cAQZaPQHd8VO"
      },
      "execution_count": 89,
      "outputs": []
    },
    {
      "cell_type": "code",
      "source": [
        "model = keras.Model(inputs=inputs_encoder, outputs=outputs)"
      ],
      "metadata": {
        "id": "i-knZZwMd-n8"
      },
      "execution_count": 90,
      "outputs": []
    },
    {
      "cell_type": "code",
      "source": [
        "# Compile the model\n",
        "model.compile(\n",
        "    optimizer=keras.optimizers.Adam(),\n",
        "    loss=keras.losses.mean_squared_error,\n",
        "    metrics=[keras.metrics.mean_squared_error],\n",
        ")"
      ],
      "metadata": {
        "id": "7-IwMOl3eBLI"
      },
      "execution_count": 91,
      "outputs": []
    },
    {
      "cell_type": "code",
      "source": [
        "mae = []\n",
        "mse = []\n",
        "r2 = []\n",
        "var = []"
      ],
      "metadata": {
        "id": "VeFKmnTieEqR"
      },
      "execution_count": 122,
      "outputs": []
    },
    {
      "cell_type": "code",
      "source": [
        "len(DifferenceAcc_histHasc)"
      ],
      "metadata": {
        "id": "rXWNiBIg94nw",
        "outputId": "dc4bfe60-496f-4386-937d-59afd11b1f2d",
        "colab": {
          "base_uri": "https://localhost:8080/"
        }
      },
      "execution_count": 95,
      "outputs": [
        {
          "output_type": "execute_result",
          "data": {
            "text/plain": [
              "468"
            ]
          },
          "metadata": {},
          "execution_count": 95
        }
      ]
    },
    {
      "cell_type": "code",
      "source": [
        "#Hascで構築→自分ので試す\n",
        "history = model.fit(DifferenceAcc_histHasc, HzHasc, batch_size=32, epochs=50, shuffle=True, validation_split=0.2)\n",
        "y_pred = tf.cast(tf.clip_by_value(model.predict(DifferenceAcc_hist), 20, 100), tf.int32)\n",
        "mae.append(mean_absolute_error(y_pred, Hz))\n",
        "mse.append(mean_squared_error(y_pred, Hz))\n",
        "r2.append(r2_score(y_pred, Hz))\n",
        "aa = Hz.reshape(len(Hz),1)\n",
        "diffa = y_pred - aa"
      ],
      "metadata": {
        "colab": {
          "base_uri": "https://localhost:8080/"
        },
        "id": "TzbKsZVmeHnW",
        "outputId": "2e498932-3526-4cec-a994-2d2229a2b8a3"
      },
      "execution_count": 123,
      "outputs": [
        {
          "output_type": "stream",
          "name": "stdout",
          "text": [
            "Epoch 1/50\n",
            "12/12 [==============================] - 0s 13ms/step - loss: 260.5645 - mean_squared_error: 260.5645 - val_loss: 519.8095 - val_mean_squared_error: 519.8095\n",
            "Epoch 2/50\n",
            "12/12 [==============================] - 0s 9ms/step - loss: 136.4173 - mean_squared_error: 136.4173 - val_loss: 717.0508 - val_mean_squared_error: 717.0508\n",
            "Epoch 3/50\n",
            "12/12 [==============================] - 0s 10ms/step - loss: 128.8111 - mean_squared_error: 128.8111 - val_loss: 414.5273 - val_mean_squared_error: 414.5273\n",
            "Epoch 4/50\n",
            "12/12 [==============================] - 0s 9ms/step - loss: 151.4089 - mean_squared_error: 151.4089 - val_loss: 457.5695 - val_mean_squared_error: 457.5695\n",
            "Epoch 5/50\n",
            "12/12 [==============================] - 0s 10ms/step - loss: 110.2927 - mean_squared_error: 110.2927 - val_loss: 507.9299 - val_mean_squared_error: 507.9299\n",
            "Epoch 6/50\n",
            "12/12 [==============================] - 0s 9ms/step - loss: 113.5311 - mean_squared_error: 113.5311 - val_loss: 442.0449 - val_mean_squared_error: 442.0449\n",
            "Epoch 7/50\n",
            "12/12 [==============================] - 0s 9ms/step - loss: 107.1008 - mean_squared_error: 107.1008 - val_loss: 382.1076 - val_mean_squared_error: 382.1076\n",
            "Epoch 8/50\n",
            "12/12 [==============================] - 0s 11ms/step - loss: 117.8252 - mean_squared_error: 117.8252 - val_loss: 432.0756 - val_mean_squared_error: 432.0756\n",
            "Epoch 9/50\n",
            "12/12 [==============================] - 0s 10ms/step - loss: 109.1924 - mean_squared_error: 109.1924 - val_loss: 552.0221 - val_mean_squared_error: 552.0221\n",
            "Epoch 10/50\n",
            "12/12 [==============================] - 0s 9ms/step - loss: 103.5768 - mean_squared_error: 103.5768 - val_loss: 414.7502 - val_mean_squared_error: 414.7502\n",
            "Epoch 11/50\n",
            "12/12 [==============================] - 0s 9ms/step - loss: 109.5955 - mean_squared_error: 109.5955 - val_loss: 407.6857 - val_mean_squared_error: 407.6857\n",
            "Epoch 12/50\n",
            "12/12 [==============================] - 0s 9ms/step - loss: 108.1058 - mean_squared_error: 108.1058 - val_loss: 398.9787 - val_mean_squared_error: 398.9787\n",
            "Epoch 13/50\n",
            "12/12 [==============================] - 0s 10ms/step - loss: 106.1445 - mean_squared_error: 106.1445 - val_loss: 444.0611 - val_mean_squared_error: 444.0611\n",
            "Epoch 14/50\n",
            "12/12 [==============================] - 0s 9ms/step - loss: 112.4681 - mean_squared_error: 112.4681 - val_loss: 494.3798 - val_mean_squared_error: 494.3798\n",
            "Epoch 15/50\n",
            "12/12 [==============================] - 0s 9ms/step - loss: 126.2494 - mean_squared_error: 126.2494 - val_loss: 518.5607 - val_mean_squared_error: 518.5607\n",
            "Epoch 16/50\n",
            "12/12 [==============================] - 0s 9ms/step - loss: 118.1401 - mean_squared_error: 118.1401 - val_loss: 508.7144 - val_mean_squared_error: 508.7144\n",
            "Epoch 17/50\n",
            "12/12 [==============================] - 0s 9ms/step - loss: 127.0614 - mean_squared_error: 127.0614 - val_loss: 564.2933 - val_mean_squared_error: 564.2933\n",
            "Epoch 18/50\n",
            "12/12 [==============================] - 0s 10ms/step - loss: 101.1140 - mean_squared_error: 101.1140 - val_loss: 500.7054 - val_mean_squared_error: 500.7054\n",
            "Epoch 19/50\n",
            "12/12 [==============================] - 0s 10ms/step - loss: 117.1028 - mean_squared_error: 117.1028 - val_loss: 432.8517 - val_mean_squared_error: 432.8517\n",
            "Epoch 20/50\n",
            "12/12 [==============================] - 0s 10ms/step - loss: 126.2443 - mean_squared_error: 126.2443 - val_loss: 435.4651 - val_mean_squared_error: 435.4651\n",
            "Epoch 21/50\n",
            "12/12 [==============================] - 0s 9ms/step - loss: 117.7557 - mean_squared_error: 117.7557 - val_loss: 438.5955 - val_mean_squared_error: 438.5955\n",
            "Epoch 22/50\n",
            "12/12 [==============================] - 0s 9ms/step - loss: 114.4316 - mean_squared_error: 114.4316 - val_loss: 401.5795 - val_mean_squared_error: 401.5795\n",
            "Epoch 23/50\n",
            "12/12 [==============================] - 0s 9ms/step - loss: 122.2949 - mean_squared_error: 122.2949 - val_loss: 505.5667 - val_mean_squared_error: 505.5667\n",
            "Epoch 24/50\n",
            "12/12 [==============================] - 0s 10ms/step - loss: 116.0231 - mean_squared_error: 116.0231 - val_loss: 405.5665 - val_mean_squared_error: 405.5665\n",
            "Epoch 25/50\n",
            "12/12 [==============================] - 0s 14ms/step - loss: 95.0815 - mean_squared_error: 95.0815 - val_loss: 516.5390 - val_mean_squared_error: 516.5390\n",
            "Epoch 26/50\n",
            "12/12 [==============================] - 0s 18ms/step - loss: 107.0559 - mean_squared_error: 107.0559 - val_loss: 404.0245 - val_mean_squared_error: 404.0245\n",
            "Epoch 27/50\n",
            "12/12 [==============================] - 0s 14ms/step - loss: 105.3814 - mean_squared_error: 105.3814 - val_loss: 542.8420 - val_mean_squared_error: 542.8420\n",
            "Epoch 28/50\n",
            "12/12 [==============================] - 0s 14ms/step - loss: 105.3763 - mean_squared_error: 105.3763 - val_loss: 442.5274 - val_mean_squared_error: 442.5274\n",
            "Epoch 29/50\n",
            "12/12 [==============================] - 0s 14ms/step - loss: 106.8209 - mean_squared_error: 106.8209 - val_loss: 370.6590 - val_mean_squared_error: 370.6590\n",
            "Epoch 30/50\n",
            "12/12 [==============================] - 0s 15ms/step - loss: 107.4051 - mean_squared_error: 107.4051 - val_loss: 429.5362 - val_mean_squared_error: 429.5361\n",
            "Epoch 31/50\n",
            "12/12 [==============================] - 0s 14ms/step - loss: 114.9442 - mean_squared_error: 114.9442 - val_loss: 462.5177 - val_mean_squared_error: 462.5178\n",
            "Epoch 32/50\n",
            "12/12 [==============================] - 0s 14ms/step - loss: 109.5341 - mean_squared_error: 109.5341 - val_loss: 399.6142 - val_mean_squared_error: 399.6142\n",
            "Epoch 33/50\n",
            "12/12 [==============================] - 0s 14ms/step - loss: 104.2215 - mean_squared_error: 104.2215 - val_loss: 460.9437 - val_mean_squared_error: 460.9437\n",
            "Epoch 34/50\n",
            "12/12 [==============================] - 0s 15ms/step - loss: 114.9032 - mean_squared_error: 114.9032 - val_loss: 462.3917 - val_mean_squared_error: 462.3917\n",
            "Epoch 35/50\n",
            "12/12 [==============================] - 0s 14ms/step - loss: 97.1151 - mean_squared_error: 97.1151 - val_loss: 498.5015 - val_mean_squared_error: 498.5015\n",
            "Epoch 36/50\n",
            "12/12 [==============================] - 0s 14ms/step - loss: 104.8954 - mean_squared_error: 104.8954 - val_loss: 509.1071 - val_mean_squared_error: 509.1071\n",
            "Epoch 37/50\n",
            "12/12 [==============================] - 0s 15ms/step - loss: 104.4883 - mean_squared_error: 104.4883 - val_loss: 372.8362 - val_mean_squared_error: 372.8362\n",
            "Epoch 38/50\n",
            "12/12 [==============================] - 0s 14ms/step - loss: 95.3124 - mean_squared_error: 95.3124 - val_loss: 443.9387 - val_mean_squared_error: 443.9387\n",
            "Epoch 39/50\n",
            "12/12 [==============================] - 0s 13ms/step - loss: 113.8155 - mean_squared_error: 113.8155 - val_loss: 420.4823 - val_mean_squared_error: 420.4823\n",
            "Epoch 40/50\n",
            "12/12 [==============================] - 0s 13ms/step - loss: 109.8305 - mean_squared_error: 109.8305 - val_loss: 421.1607 - val_mean_squared_error: 421.1607\n",
            "Epoch 41/50\n",
            "12/12 [==============================] - 0s 14ms/step - loss: 102.5906 - mean_squared_error: 102.5906 - val_loss: 523.1208 - val_mean_squared_error: 523.1208\n",
            "Epoch 42/50\n",
            "12/12 [==============================] - 0s 13ms/step - loss: 128.7290 - mean_squared_error: 128.7290 - val_loss: 442.5000 - val_mean_squared_error: 442.5000\n",
            "Epoch 43/50\n",
            "12/12 [==============================] - 0s 15ms/step - loss: 119.5919 - mean_squared_error: 119.5919 - val_loss: 448.3676 - val_mean_squared_error: 448.3676\n",
            "Epoch 44/50\n",
            "12/12 [==============================] - 0s 14ms/step - loss: 100.4186 - mean_squared_error: 100.4186 - val_loss: 420.3418 - val_mean_squared_error: 420.3418\n",
            "Epoch 45/50\n",
            "12/12 [==============================] - 0s 12ms/step - loss: 86.5649 - mean_squared_error: 86.5649 - val_loss: 426.4406 - val_mean_squared_error: 426.4406\n",
            "Epoch 46/50\n",
            "12/12 [==============================] - 0s 10ms/step - loss: 103.6286 - mean_squared_error: 103.6286 - val_loss: 475.3852 - val_mean_squared_error: 475.3852\n",
            "Epoch 47/50\n",
            "12/12 [==============================] - 0s 10ms/step - loss: 100.8172 - mean_squared_error: 100.8172 - val_loss: 441.1063 - val_mean_squared_error: 441.1063\n",
            "Epoch 48/50\n",
            "12/12 [==============================] - 0s 9ms/step - loss: 124.8770 - mean_squared_error: 124.8770 - val_loss: 489.8000 - val_mean_squared_error: 489.8000\n",
            "Epoch 49/50\n",
            "12/12 [==============================] - 0s 11ms/step - loss: 94.3352 - mean_squared_error: 94.3352 - val_loss: 408.1706 - val_mean_squared_error: 408.1706\n",
            "Epoch 50/50\n",
            "12/12 [==============================] - 0s 9ms/step - loss: 122.1959 - mean_squared_error: 122.1959 - val_loss: 564.0090 - val_mean_squared_error: 564.0090\n",
            "15/15 [==============================] - 0s 3ms/step\n"
          ]
        }
      ]
    },
    {
      "cell_type": "code",
      "source": [
        "#自分ので構築→Hascので試す\n",
        "history = model.fit(DifferenceAcc_hist, Hz, batch_size=32, epochs=50, shuffle=True, validation_split=0.2)\n",
        "y_pred = tf.cast(tf.clip_by_value(model.predict(DifferenceAcc_histHasc), 20, 100), tf.int32)\n",
        "mae.append(mean_absolute_error(y_pred, HzHasc))\n",
        "mse.append(mean_squared_error(y_pred, HzHasc))\n",
        "r2.append(r2_score(y_pred, HzHasc))\n",
        "aa = HzHasc.reshape(len(HzHasc),1)\n",
        "diffb = y_pred - aa"
      ],
      "metadata": {
        "colab": {
          "base_uri": "https://localhost:8080/"
        },
        "id": "PVRw_HfxilaJ",
        "outputId": "8c510b72-1085-476f-e0a0-f01e4edbd920"
      },
      "execution_count": 124,
      "outputs": [
        {
          "output_type": "stream",
          "name": "stdout",
          "text": [
            "Epoch 1/50\n",
            "12/12 [==============================] - 0s 13ms/step - loss: 188.7042 - mean_squared_error: 188.7042 - val_loss: 273.8127 - val_mean_squared_error: 273.8127\n",
            "Epoch 2/50\n",
            "12/12 [==============================] - 0s 10ms/step - loss: 147.8613 - mean_squared_error: 147.8613 - val_loss: 215.5546 - val_mean_squared_error: 215.5546\n",
            "Epoch 3/50\n",
            "12/12 [==============================] - 0s 9ms/step - loss: 110.3535 - mean_squared_error: 110.3535 - val_loss: 171.0026 - val_mean_squared_error: 171.0026\n",
            "Epoch 4/50\n",
            "12/12 [==============================] - 0s 9ms/step - loss: 98.4658 - mean_squared_error: 98.4658 - val_loss: 151.2086 - val_mean_squared_error: 151.2086\n",
            "Epoch 5/50\n",
            "12/12 [==============================] - 0s 9ms/step - loss: 113.7099 - mean_squared_error: 113.7099 - val_loss: 188.3974 - val_mean_squared_error: 188.3974\n",
            "Epoch 6/50\n",
            "12/12 [==============================] - 0s 9ms/step - loss: 100.7311 - mean_squared_error: 100.7311 - val_loss: 136.1320 - val_mean_squared_error: 136.1320\n",
            "Epoch 7/50\n",
            "12/12 [==============================] - 0s 10ms/step - loss: 94.9623 - mean_squared_error: 94.9623 - val_loss: 119.5825 - val_mean_squared_error: 119.5825\n",
            "Epoch 8/50\n",
            "12/12 [==============================] - 0s 10ms/step - loss: 118.4671 - mean_squared_error: 118.4671 - val_loss: 140.3374 - val_mean_squared_error: 140.3374\n",
            "Epoch 9/50\n",
            "12/12 [==============================] - 0s 10ms/step - loss: 118.4082 - mean_squared_error: 118.4082 - val_loss: 139.4973 - val_mean_squared_error: 139.4973\n",
            "Epoch 10/50\n",
            "12/12 [==============================] - 0s 9ms/step - loss: 110.4584 - mean_squared_error: 110.4584 - val_loss: 124.6946 - val_mean_squared_error: 124.6946\n",
            "Epoch 11/50\n",
            "12/12 [==============================] - 0s 10ms/step - loss: 115.9519 - mean_squared_error: 115.9519 - val_loss: 97.8924 - val_mean_squared_error: 97.8925\n",
            "Epoch 12/50\n",
            "12/12 [==============================] - 0s 9ms/step - loss: 111.2202 - mean_squared_error: 111.2202 - val_loss: 111.3510 - val_mean_squared_error: 111.3510\n",
            "Epoch 13/50\n",
            "12/12 [==============================] - 0s 9ms/step - loss: 80.9180 - mean_squared_error: 80.9180 - val_loss: 126.7127 - val_mean_squared_error: 126.7127\n",
            "Epoch 14/50\n",
            "12/12 [==============================] - 0s 10ms/step - loss: 120.0328 - mean_squared_error: 120.0328 - val_loss: 133.5208 - val_mean_squared_error: 133.5208\n",
            "Epoch 15/50\n",
            "12/12 [==============================] - 0s 9ms/step - loss: 116.5743 - mean_squared_error: 116.5743 - val_loss: 124.0369 - val_mean_squared_error: 124.0369\n",
            "Epoch 16/50\n",
            "12/12 [==============================] - 0s 10ms/step - loss: 109.4440 - mean_squared_error: 109.4440 - val_loss: 106.9446 - val_mean_squared_error: 106.9446\n",
            "Epoch 17/50\n",
            "12/12 [==============================] - 0s 10ms/step - loss: 104.3619 - mean_squared_error: 104.3619 - val_loss: 95.1174 - val_mean_squared_error: 95.1174\n",
            "Epoch 18/50\n",
            "12/12 [==============================] - 0s 11ms/step - loss: 104.0640 - mean_squared_error: 104.0640 - val_loss: 124.5418 - val_mean_squared_error: 124.5418\n",
            "Epoch 19/50\n",
            "12/12 [==============================] - 0s 9ms/step - loss: 103.1502 - mean_squared_error: 103.1502 - val_loss: 89.8775 - val_mean_squared_error: 89.8775\n",
            "Epoch 20/50\n",
            "12/12 [==============================] - 0s 9ms/step - loss: 103.1468 - mean_squared_error: 103.1468 - val_loss: 91.1048 - val_mean_squared_error: 91.1048\n",
            "Epoch 21/50\n",
            "12/12 [==============================] - 0s 9ms/step - loss: 106.4363 - mean_squared_error: 106.4363 - val_loss: 87.5982 - val_mean_squared_error: 87.5982\n",
            "Epoch 22/50\n",
            "12/12 [==============================] - 0s 9ms/step - loss: 99.1663 - mean_squared_error: 99.1663 - val_loss: 96.4413 - val_mean_squared_error: 96.4413\n",
            "Epoch 23/50\n",
            "12/12 [==============================] - 0s 10ms/step - loss: 118.7822 - mean_squared_error: 118.7822 - val_loss: 94.9919 - val_mean_squared_error: 94.9919\n",
            "Epoch 24/50\n",
            "12/12 [==============================] - 0s 10ms/step - loss: 118.6888 - mean_squared_error: 118.6888 - val_loss: 88.6272 - val_mean_squared_error: 88.6272\n",
            "Epoch 25/50\n",
            "12/12 [==============================] - 0s 10ms/step - loss: 116.9640 - mean_squared_error: 116.9640 - val_loss: 93.1827 - val_mean_squared_error: 93.1827\n",
            "Epoch 26/50\n",
            "12/12 [==============================] - 0s 11ms/step - loss: 93.4995 - mean_squared_error: 93.4995 - val_loss: 103.5549 - val_mean_squared_error: 103.5549\n",
            "Epoch 27/50\n",
            "12/12 [==============================] - 0s 9ms/step - loss: 105.3951 - mean_squared_error: 105.3951 - val_loss: 92.3736 - val_mean_squared_error: 92.3736\n",
            "Epoch 28/50\n",
            "12/12 [==============================] - 0s 9ms/step - loss: 96.4693 - mean_squared_error: 96.4693 - val_loss: 97.6168 - val_mean_squared_error: 97.6168\n",
            "Epoch 29/50\n",
            "12/12 [==============================] - 0s 11ms/step - loss: 110.6340 - mean_squared_error: 110.6340 - val_loss: 93.2080 - val_mean_squared_error: 93.2080\n",
            "Epoch 30/50\n",
            "12/12 [==============================] - 0s 10ms/step - loss: 111.7583 - mean_squared_error: 111.7583 - val_loss: 84.4288 - val_mean_squared_error: 84.4288\n",
            "Epoch 31/50\n",
            "12/12 [==============================] - 0s 10ms/step - loss: 114.4215 - mean_squared_error: 114.4215 - val_loss: 109.2856 - val_mean_squared_error: 109.2856\n",
            "Epoch 32/50\n",
            "12/12 [==============================] - 0s 11ms/step - loss: 104.5782 - mean_squared_error: 104.5782 - val_loss: 72.1026 - val_mean_squared_error: 72.1026\n",
            "Epoch 33/50\n",
            "12/12 [==============================] - 0s 10ms/step - loss: 105.2049 - mean_squared_error: 105.2049 - val_loss: 119.6887 - val_mean_squared_error: 119.6887\n",
            "Epoch 34/50\n",
            "12/12 [==============================] - 0s 11ms/step - loss: 115.9006 - mean_squared_error: 115.9006 - val_loss: 93.7698 - val_mean_squared_error: 93.7698\n",
            "Epoch 35/50\n",
            "12/12 [==============================] - 0s 9ms/step - loss: 95.3063 - mean_squared_error: 95.3063 - val_loss: 86.0912 - val_mean_squared_error: 86.0912\n",
            "Epoch 36/50\n",
            "12/12 [==============================] - 0s 9ms/step - loss: 105.2111 - mean_squared_error: 105.2111 - val_loss: 91.3938 - val_mean_squared_error: 91.3938\n",
            "Epoch 37/50\n",
            "12/12 [==============================] - 0s 11ms/step - loss: 96.6226 - mean_squared_error: 96.6226 - val_loss: 91.2493 - val_mean_squared_error: 91.2493\n",
            "Epoch 38/50\n",
            "12/12 [==============================] - 0s 9ms/step - loss: 118.7755 - mean_squared_error: 118.7755 - val_loss: 100.9316 - val_mean_squared_error: 100.9316\n",
            "Epoch 39/50\n",
            "12/12 [==============================] - 0s 9ms/step - loss: 121.8387 - mean_squared_error: 121.8387 - val_loss: 91.4888 - val_mean_squared_error: 91.4888\n",
            "Epoch 40/50\n",
            "12/12 [==============================] - 0s 10ms/step - loss: 109.8886 - mean_squared_error: 109.8886 - val_loss: 94.5228 - val_mean_squared_error: 94.5228\n",
            "Epoch 41/50\n",
            "12/12 [==============================] - 0s 9ms/step - loss: 103.8849 - mean_squared_error: 103.8849 - val_loss: 120.3040 - val_mean_squared_error: 120.3040\n",
            "Epoch 42/50\n",
            "12/12 [==============================] - 0s 10ms/step - loss: 99.2350 - mean_squared_error: 99.2350 - val_loss: 82.1830 - val_mean_squared_error: 82.1830\n",
            "Epoch 43/50\n",
            "12/12 [==============================] - 0s 10ms/step - loss: 100.6395 - mean_squared_error: 100.6395 - val_loss: 100.4398 - val_mean_squared_error: 100.4398\n",
            "Epoch 44/50\n",
            "12/12 [==============================] - 0s 9ms/step - loss: 102.9109 - mean_squared_error: 102.9109 - val_loss: 128.4921 - val_mean_squared_error: 128.4921\n",
            "Epoch 45/50\n",
            "12/12 [==============================] - 0s 9ms/step - loss: 111.9416 - mean_squared_error: 111.9416 - val_loss: 85.8949 - val_mean_squared_error: 85.8949\n",
            "Epoch 46/50\n",
            "12/12 [==============================] - 0s 9ms/step - loss: 92.4976 - mean_squared_error: 92.4976 - val_loss: 94.8263 - val_mean_squared_error: 94.8263\n",
            "Epoch 47/50\n",
            "12/12 [==============================] - 0s 9ms/step - loss: 103.1178 - mean_squared_error: 103.1178 - val_loss: 102.9327 - val_mean_squared_error: 102.9327\n",
            "Epoch 48/50\n",
            "12/12 [==============================] - 0s 11ms/step - loss: 119.1786 - mean_squared_error: 119.1786 - val_loss: 83.2479 - val_mean_squared_error: 83.2479\n",
            "Epoch 49/50\n",
            "12/12 [==============================] - 0s 10ms/step - loss: 112.8381 - mean_squared_error: 112.8381 - val_loss: 75.8483 - val_mean_squared_error: 75.8483\n",
            "Epoch 50/50\n",
            "12/12 [==============================] - 0s 10ms/step - loss: 108.0006 - mean_squared_error: 108.0006 - val_loss: 78.1076 - val_mean_squared_error: 78.1076\n",
            "15/15 [==============================] - 0s 3ms/step\n"
          ]
        }
      ]
    },
    {
      "cell_type": "code",
      "source": [
        "mae"
      ],
      "metadata": {
        "colab": {
          "base_uri": "https://localhost:8080/"
        },
        "id": "6daUiYhjh9Xc",
        "outputId": "69b6f2f6-7d46-474c-963e-b947c3c9b00a"
      },
      "execution_count": 125,
      "outputs": [
        {
          "output_type": "execute_result",
          "data": {
            "text/plain": [
              "[12.403846153846153, 10.649572649572649]"
            ]
          },
          "metadata": {},
          "execution_count": 125
        }
      ]
    },
    {
      "cell_type": "code",
      "source": [
        "mse"
      ],
      "metadata": {
        "colab": {
          "base_uri": "https://localhost:8080/"
        },
        "id": "8KRKeZVviZLA",
        "outputId": "f182c9cd-75b1-4eb4-e0e4-0003ce3e8d2f"
      },
      "execution_count": 126,
      "outputs": [
        {
          "output_type": "execute_result",
          "data": {
            "text/plain": [
              "[246.32692307692307, 185.10256410256412]"
            ]
          },
          "metadata": {},
          "execution_count": 126
        }
      ]
    },
    {
      "cell_type": "code",
      "source": [
        "r2"
      ],
      "metadata": {
        "colab": {
          "base_uri": "https://localhost:8080/"
        },
        "id": "RR4SRZsBiagU",
        "outputId": "386c6045-a817-401a-bc1c-e4075ad1d9fd"
      },
      "execution_count": 127,
      "outputs": [
        {
          "output_type": "execute_result",
          "data": {
            "text/plain": [
              "[0.11537251523980352, 0.7567022384815323]"
            ]
          },
          "metadata": {},
          "execution_count": 127
        }
      ]
    },
    {
      "cell_type": "code",
      "source": [
        "np.var(diffa)"
      ],
      "metadata": {
        "colab": {
          "base_uri": "https://localhost:8080/"
        },
        "id": "M-ZPd4XNibl1",
        "outputId": "d3c91978-503b-40ec-fd73-d71feafe8f6c"
      },
      "execution_count": 128,
      "outputs": [
        {
          "output_type": "execute_result",
          "data": {
            "text/plain": [
              "173.2390377310249"
            ]
          },
          "metadata": {},
          "execution_count": 128
        }
      ]
    },
    {
      "cell_type": "code",
      "source": [
        "np.var(diffb)"
      ],
      "metadata": {
        "id": "jWDWX2iDihmS",
        "colab": {
          "base_uri": "https://localhost:8080/"
        },
        "outputId": "c9ca5a4d-fd2a-4506-9d52-d7d590dca769"
      },
      "execution_count": 129,
      "outputs": [
        {
          "output_type": "execute_result",
          "data": {
            "text/plain": [
              "185.08019212506392"
            ]
          },
          "metadata": {},
          "execution_count": 129
        }
      ]
    },
    {
      "cell_type": "code",
      "source": [],
      "metadata": {
        "id": "ExQzwqff-Xgo"
      },
      "execution_count": null,
      "outputs": []
    }
  ]
}