{
  "nbformat": 4,
  "nbformat_minor": 0,
  "metadata": {
    "colab": {
      "provenance": [],
      "gpuType": "T4",
      "authorship_tag": "ABX9TyPr5lUuSkTlLtAaTQpQFSDV",
      "include_colab_link": true
    },
    "kernelspec": {
      "name": "python3",
      "display_name": "Python 3"
    },
    "language_info": {
      "name": "python"
    },
    "accelerator": "GPU",
    "gpuClass": "standard"
  },
  "cells": [
    {
      "cell_type": "markdown",
      "metadata": {
        "id": "view-in-github",
        "colab_type": "text"
      },
      "source": [
        "<a href=\"https://colab.research.google.com/github/hinapyon/Estimation-Method-of-Sampling-Frequency-of-Data-Collected-from-Wearable-Accelerometers/blob/main/Hasc%2BMyData(BINS%3D50).ipynb\" target=\"_parent\"><img src=\"https://colab.research.google.com/assets/colab-badge.svg\" alt=\"Open In Colab\"/></a>"
      ]
    },
    {
      "cell_type": "code",
      "execution_count": 61,
      "metadata": {
        "id": "oTsgcWLEa9Nt"
      },
      "outputs": [],
      "source": [
        "#ライブラリをインポート\n",
        "import os #OSに依存する様々な機能を利用するためのモジュール(ファイルやディレクトリ操作など)\n",
        "import re #正規表現を利用するためのモジュール\n",
        "import csv  #csvファイルを扱うためのモジュール\n",
        "import math #数学的計算のためのモジュール\n",
        "import matplotlib.pyplot as plt #グラフ描画のためのモジュール\n",
        "import numpy as np  #多次元配列計算のためのモジュール\n",
        "import pandas as pd #データフレームを扱うためのモジュール\n",
        "from scipy import signal  #信号処理のためのモジュール\n",
        "from scipy.stats import skew, kurtosis  #歪度と尖度を調べるためのモジュール\n",
        "from sklearn.model_selection import train_test_split  #データをトレーニング用とテスト用に分けるためのモジュール\n",
        "from sklearn import preprocessing #データを正規化するためのモジュール\n",
        "from sklearn.preprocessing import StandardScaler  #データを標準化するためのモジュール\n",
        "from sklearn.preprocessing import LabelEncoder  #カテゴリ変数を数値化するためのモジュール\n",
        "from sklearn.linear_model import LinearRegression #線型回帰\n",
        "from sklearn.svm import SVC #サポートベクターマシン\n",
        "from sklearn.ensemble import RandomForestClassifier #ランダムフォレスト\n",
        "from sklearn.neighbors import KNeighborsClassifier  #k-近傍法\n",
        "from sklearn.metrics import accuracy_score, mean_squared_error, mean_absolute_error, r2_score #機械学習モデルの性能評価のためのモジュール\n",
        "import xgboost as xgb #XGBoost\n",
        "import lightgbm as lgb  #LightGBM\n",
        "import tensorflow as tf #TensorFlow(Googleが開発したオープンソースの機械学習フレームワーク)\n",
        "from tensorflow import keras  #TensorFlow用のニューラルネットワークライブラリAPI\n",
        "from tensorflow.keras import layers #ニューラルネットワークのレイヤーを定義するためのモジュール\n",
        "import torch  #PyTorch\n",
        "import torch.nn as nn #ニューラルネットワークのためのモジュール\n",
        "import torch.optim as optim #パラメータの最適化を行うためのモジュール\n",
        "from torch.utils.data import DataLoader, Dataset  #データをバッチ単位でロードするためのユーティリティクラスz"
      ]
    },
    {
      "cell_type": "code",
      "source": [
        "from google.colab import drive\n",
        "drive.mount('/content/drive')"
      ],
      "metadata": {
        "colab": {
          "base_uri": "https://localhost:8080/"
        },
        "id": "CrXcc8k3bDt9",
        "outputId": "4978be43-3daa-4238-8b87-7016e055b336"
      },
      "execution_count": 62,
      "outputs": [
        {
          "output_type": "stream",
          "name": "stdout",
          "text": [
            "Drive already mounted at /content/drive; to attempt to forcibly remount, call drive.mount(\"/content/drive\", force_remount=True).\n"
          ]
        }
      ]
    },
    {
      "cell_type": "code",
      "source": [
        "\n",
        "#定数を定義\n",
        "BINS = 50  #ヒストグラムのビンの数\n",
        "EPSILON = .00001  #スムージングパラメータ\n",
        "UPPER_LIMIT = 1.1 #静止区間の上限\n",
        "LOWER_LIMIT = 0.9 #静止区間の加減\n",
        "STATIONARY_INTERVALS = 5  #静止区間除去のサンプルの間隔(静止区間が何サンプル連続したら除去するか)\n",
        "TRAIN_SIZE = 0.8  #機械学習のトレーニングデータの割合\n",
        "N_ESTIMATORS = 100  #決定木の数"
      ],
      "metadata": {
        "id": "-E1jV0_ybIY8"
      },
      "execution_count": 63,
      "outputs": []
    },
    {
      "cell_type": "code",
      "source": [
        "#ディレクトリ内のAMWS020のデータセットのファイル名と周波数を取得する関数\n",
        "def get_Hz_and_filename(path: str) -> list[int, str]:\n",
        "    filename = os.listdir(path) #引数のパスのディレクトリの中のファイル名一覧を取得\n",
        "    Hz_and_filename=[]  #ファイル名と周波数を格納するリストを宣言\n",
        "\n",
        "    for file in filename:\n",
        "        Hz = re.search(r'\\d+', file)    #正規表現を用いてファイル名の中で一番最初に出てくる数字(周波数)を取得\n",
        "        if Hz:  #数字の入っていないファイル名があるとエラーを吐くので、このif文でチェックする\n",
        "            Hz_and_filename.append([int(Hz.group(0)), file])    #ファイル名と周波数を格納\n",
        "\n",
        "    return Hz_and_filename"
      ],
      "metadata": {
        "id": "Q_PFKcu2bMqW"
      },
      "execution_count": 64,
      "outputs": []
    },
    {
      "cell_type": "code",
      "source": [
        "#ファイル名と周波数を分けて出力する関数\n",
        "def divide_Hz_and_filename(Hz_and_filename: list[int, str]) -> tuple[list[int], list[str]]:\n",
        "    Hz = []\n",
        "    filename = []\n",
        "    for row in Hz_and_filename:\n",
        "      Hz.append(row[0])\n",
        "      filename.append(row[1])\n",
        "\n",
        "    return Hz, filename"
      ],
      "metadata": {
        "id": "Mmd5z_SLbUNl"
      },
      "execution_count": 65,
      "outputs": []
    },
    {
      "cell_type": "code",
      "source": [
        "#自分の加速度データのCSVファイルから3軸加速度を取得する関数\n",
        "#なんか分割したら3, 4, 5色々おかしくなった\n",
        "def get_acceleration(filename: str) -> tuple[list[float], list[float], list[float]]:\n",
        "    AccX, AccY, AccZ = [], [], []\n",
        "    with open(filename) as f:\n",
        "        reader = csv.reader(f)\n",
        "        for row in reader:\n",
        "            AccX.append(float(row[3]))\n",
        "            AccY.append(float(row[4]))\n",
        "            AccZ.append(float(row[5]))\n",
        "\n",
        "    return AccX, AccY, AccZ"
      ],
      "metadata": {
        "id": "nab3m0AvbXY6"
      },
      "execution_count": 66,
      "outputs": []
    },
    {
      "cell_type": "code",
      "source": [
        "#自分の加速度データのCSVファイルから3軸加速度を取得する関数\n",
        "def get_accelerationHasc(filename: str) -> tuple[list[float], list[float], list[float]]:\n",
        "    AccX, AccY, AccZ = [], [], []\n",
        "    with open(filename) as f:\n",
        "        reader = csv.reader(f)\n",
        "        for row in reader:\n",
        "            AccX.append(float(row[1]))\n",
        "            AccY.append(float(row[2]))\n",
        "            AccZ.append(float(row[3]))\n",
        "\n",
        "    return AccX, AccY, AccZ"
      ],
      "metadata": {
        "id": "MBcD5SbVbtzz"
      },
      "execution_count": 67,
      "outputs": []
    },
    {
      "cell_type": "code",
      "source": [
        "#静止区間を除去する関数\n",
        "def acc_to_remove_stationary_intervals(AccX: list[float], AccY: list[float], AccZ: list[float]) -> list[float]:\n",
        "    #各軸の加速度の平均を求める\n",
        "    AvgAccX = sum(AccX) / len(AccX)\n",
        "    AvgAccY = sum(AccY) / len(AccY)\n",
        "    AvgAccZ = sum(AccZ) / len(AccZ)\n",
        "\n",
        "    AvgResultantAcc = math.sqrt(AvgAccX ** 2 + AvgAccY ** 2 + AvgAccZ ** 2) #重力加速度の推定値=合成加速度の平均を求める\n",
        "\n",
        "    ResultantAcc = [math.sqrt(x ** 2 + y ** 2 + z ** 2) for x, y, z in zip(AccX, AccY, AccZ)]   #各時刻の合成加速度を求める\n",
        "\n",
        "    #各時刻の合成加速度から静止区間(重力加速度の推定値に近い値が一定以上以上連続している区間)を除去する\n",
        "    i = 0 #ループ変数\n",
        "    counter = 0 #静止区間がSTATIONARY_INTERVALS分続いているかをカウントする変数\n",
        "    while i < len(ResultantAcc):\n",
        "        if AvgResultantAcc * LOWER_LIMIT < ResultantAcc[i] < AvgResultantAcc * UPPER_LIMIT:   #平均のLOWER_LIMIT倍~UPPER_LIMIT倍の範囲を調べる\n",
        "            counter += 1    #範囲内ならカウントを増やす\n",
        "            if counter == STATIONARY_INTERVALS: #カウントがSTATIONARY_INTERVALSに達したらその区間を削除\n",
        "                del ResultantAcc[i+1-STATIONARY_INTERVALS:i+1]    #スライスでは選択範囲の開始位置startと終了位置stopを[start:stop]のように書くとstart <= x < stopの範囲が選択される #start番目の値は含まれるがstop番目の値は含まれない\n",
        "                counter = 0 #カウンターをリセット\n",
        "                i -= STATIONARY_INTERVALS   #削除した分インデックスがズレるので補正する\n",
        "        else:\n",
        "            counter = 0 #カウンターをリセット\n",
        "        i += 1\n",
        "\n",
        "    return ResultantAcc  #静止区間を除去した後のリストを返す"
      ],
      "metadata": {
        "id": "Ryj7pQ-TbxHG"
      },
      "execution_count": 68,
      "outputs": []
    },
    {
      "cell_type": "code",
      "source": [
        "#連続する2サンプルの差分を取る関数\n",
        "def calculate_differences_of_acceleration(ResultantAcc: list[float]) -> list[float]:\n",
        "    DifferenceAcc = [math.fabs(ResultantAcc[i + 1] * 100000 - ResultantAcc[i] * 100000) for i in range(len(ResultantAcc) - 1)]  #100000倍して誤差を取る\n",
        "    return DifferenceAcc"
      ],
      "metadata": {
        "id": "FNwGq1s2bzxl"
      },
      "execution_count": 69,
      "outputs": []
    },
    {
      "cell_type": "code",
      "source": [
        "#入力された加速度の差分のリストからヒストグラムを作る関数（ビンの範囲が各加速度の差分データの最小値〜最大値）\n",
        "def create_histogram2(DifferenceAcc_list: list[float]) -> np.histogram:\n",
        "    DifferenceAcc_hist = np.zeros((len(DifferenceAcc_list), BINS), dtype=float)\n",
        "    for i in range(len(DifferenceAcc_list)):\n",
        "        min_value = min(DifferenceAcc_list[i])\n",
        "        max_value = max(DifferenceAcc_list[i])\n",
        "        #DifferenceAcc_hist[i], _ = np.histogram(DifferenceAcc_list[i], bins=BINS, range=(min_value, max_value)) #ヒストグラムを作成し、同じ数のビンで区切る\n",
        "        DifferenceAcc_hist[i], _ = np.histogram(DifferenceAcc_list[i], bins=BINS) #ヒストグラムを作成し、同じ数のビンで区切る\n",
        "    return DifferenceAcc_hist"
      ],
      "metadata": {
        "id": "hbUSs34Ib4Z_"
      },
      "execution_count": 70,
      "outputs": []
    },
    {
      "cell_type": "code",
      "source": [
        "#各加速度データをダウンサンプリングする関数\n",
        "def resampling_Acc(originHz: int, newHz: int, AccX: list[float], AccY: list[float], AccZ: list[float], Hz: np.array) -> tuple[list[float], list[float], list[float], np.array]:\n",
        "    i = 0   #カウンター変数\n",
        "\n",
        "    while (Hz[i] == originHz):\n",
        "        originlen = len(AccX[i])    #元々のデータの長さ\n",
        "        sampling_factor = int(originlen * (newHz/originHz)) #ダウンサンプリングした後のデータの長さ\n",
        "        newAccX = signal.resample(AccX[i], sampling_factor)    #データをダウンサンプリング\n",
        "        newAccY = signal.resample(AccY[i], sampling_factor)    #データをダウンサンプリング\n",
        "        newAccZ = signal.resample(AccZ[i], sampling_factor)    #データをダウンサンプリング\n",
        "        AccX.append(newAccX)   #ダウンサンプリングデータを加速度データに追加\n",
        "        AccY.append(newAccY)   #ダウンサンプリングデータを加速度データに追加\n",
        "        AccZ.append(newAccZ)   #ダウンサンプリングデータを加速度データに追加\n",
        "        Hz = np.append(Hz, newHz)   #ダウンサンプリングレートを追加\n",
        "        i += 1\n",
        "\n",
        "    return AccX, AccY, AccZ, Hz"
      ],
      "metadata": {
        "id": "DqeTnb2lb9wM"
      },
      "execution_count": 71,
      "outputs": []
    },
    {
      "cell_type": "code",
      "source": [
        "import tensorflow as tf\n",
        "device_name = tf.test.gpu_device_name()\n",
        "if device_name != '/device:GPU:0':\n",
        "  raise SystemError('GPU device not found')\n",
        "print('Found GPU at: {}'.format(device_name))"
      ],
      "metadata": {
        "colab": {
          "base_uri": "https://localhost:8080/"
        },
        "id": "RiHKUsoFcSgD",
        "outputId": "b809a0a4-318a-47e3-ac01-a334e5ce8589"
      },
      "execution_count": 72,
      "outputs": [
        {
          "output_type": "stream",
          "name": "stdout",
          "text": [
            "Found GPU at: /device:GPU:0\n"
          ]
        }
      ]
    },
    {
      "cell_type": "code",
      "source": [
        "path = \"/content/drive/MyDrive/my_walk_data(100Hz15minutesTo20seconds)/\"  #Google colab用\n",
        "#path = \"my_walk_data(100Hz15minutesTo20seconds)/\"  #local用"
      ],
      "metadata": {
        "id": "5nDyzHfwcJBx"
      },
      "execution_count": 73,
      "outputs": []
    },
    {
      "cell_type": "code",
      "source": [
        "#一連の流れ\n",
        "Hz_and_filename = get_Hz_and_filename(path)\n",
        "Hz_and_filename.sort(reverse=True)  #周波数の大きい順にソート\n",
        "Hz, filename = divide_Hz_and_filename(Hz_and_filename)\n",
        "Hz = np.array(Hz)\n",
        "\n",
        "#使う変数を宣言\n",
        "readAccX, readAccY, readAccZ = [], [], []   #データ読み込む用\n",
        "AccX, AccY, AccZ = [], [], []\n",
        "ResultantAcc = []\n",
        "DifferenceAcc_list = []\n",
        "\n",
        "#各データセットからデータを読み込み二次元配列に格納\n",
        "for i in filename:\n",
        "    readAccX, readAccY, readAccZ = get_acceleration(path+i)\n",
        "    AccX.append(readAccX), AccY.append(readAccY), AccZ.append(readAccZ)\n",
        "\n",
        "#各加速度データをダウンサンプリング\n",
        "for i in range(9, 1, -1):\n",
        "    AccX, AccY, AccZ, Hz = resampling_Acc(100, i * 10, AccX, AccY, AccZ, Hz)\n",
        "\n",
        "#静止区間を除去\n",
        "for i in range(len(Hz)):\n",
        "    ResultantAcc.append(acc_to_remove_stationary_intervals(AccX[i], AccY[i], AccZ[i]))"
      ],
      "metadata": {
        "id": "eyDRU90UcfAi"
      },
      "execution_count": 74,
      "outputs": []
    },
    {
      "cell_type": "code",
      "source": [
        "ResultantAcc[0]"
      ],
      "metadata": {
        "id": "eA4BRXk98fcc"
      },
      "execution_count": null,
      "outputs": []
    },
    {
      "cell_type": "code",
      "source": [
        "#ヒストグラム作成\n",
        "for i in range(len(ResultantAcc)):\n",
        "    DifferenceAcc_list.append(calculate_differences_of_acceleration(ResultantAcc[i]))\n",
        "DifferenceAcc_hist = create_histogram2(DifferenceAcc_list)"
      ],
      "metadata": {
        "id": "5DEuTTiKchl6"
      },
      "execution_count": 75,
      "outputs": []
    },
    {
      "cell_type": "code",
      "source": [
        "#ヒストグラムの度数を揃える\n",
        "for i in range(len(DifferenceAcc_hist)):\n",
        "  for j in range(BINS):\n",
        "      DifferenceAcc_hist[i][j] = DifferenceAcc_hist[i][j] / sum(DifferenceAcc_hist[i])"
      ],
      "metadata": {
        "id": "AqogTr3ycjuk"
      },
      "execution_count": 76,
      "outputs": []
    },
    {
      "cell_type": "code",
      "source": [
        "sum(DifferenceAcc_hist[9])"
      ],
      "metadata": {
        "colab": {
          "base_uri": "https://localhost:8080/"
        },
        "id": "AeXlKwoPfVkY",
        "outputId": "b0ed321c-13fa-48f2-e394-c40a6673b8fc"
      },
      "execution_count": 77,
      "outputs": [
        {
          "output_type": "execute_result",
          "data": {
            "text/plain": [
              "5.5014575805726595"
            ]
          },
          "metadata": {},
          "execution_count": 77
        }
      ]
    },
    {
      "cell_type": "code",
      "source": [
        "pathHasc = \"/content/drive/MyDrive/hasc/\"\n",
        "filename = os.listdir(pathHasc) #引数のパスのディレクトリの中のファイル名一覧を取得\n",
        "#filename.remove(\".DS_Store\")"
      ],
      "metadata": {
        "id": "rIQXdUwvb-gQ"
      },
      "execution_count": 78,
      "outputs": []
    },
    {
      "cell_type": "code",
      "source": [
        "#使う変数を宣言\n",
        "readAccX, readAccY, readAccZ = [], [], []   #データ読み込む用\n",
        "AccX, AccY, AccZ = [], [], []\n",
        "ResultantAcc = []\n",
        "DifferenceAcc_list = []\n",
        "\n",
        "#各データセットからデータを読み込み二次元配列に格納\n",
        "for i in filename:\n",
        "    readAccX, readAccY, readAccZ = get_accelerationHasc(pathHasc+i)\n",
        "    AccX.append(readAccX), AccY.append(readAccY), AccZ.append(readAccZ)\n",
        "\n",
        "HzHasc = np.ones(len(filename)) * 100\n",
        "\n",
        "#各加速度データをダウンサンプリング\n",
        "for i in range(9, 1, -1):\n",
        "    AccX, AccY, AccZ, HzHasc = resampling_Acc(100, i * 10, AccX, AccY, AccZ, HzHasc)\n",
        "\n",
        "#静止区間を除去\n",
        "for i in range(len(HzHasc)):\n",
        "    ResultantAcc.append(acc_to_remove_stationary_intervals(AccX[i], AccY[i], AccZ[i]))"
      ],
      "metadata": {
        "id": "G2h7cewPcKKq"
      },
      "execution_count": 79,
      "outputs": []
    },
    {
      "cell_type": "code",
      "source": [
        "#ヒストグラム作成\n",
        "for i in range(len(ResultantAcc)):\n",
        "    DifferenceAcc_list.append(calculate_differences_of_acceleration(ResultantAcc[i]))\n",
        "DifferenceAcc_histHasc = create_histogram2(DifferenceAcc_list)"
      ],
      "metadata": {
        "id": "PR_ij4tecrTm"
      },
      "execution_count": 80,
      "outputs": []
    },
    {
      "cell_type": "code",
      "source": [
        "#ヒストグラムの度数を揃える\n",
        "for i in range(len(DifferenceAcc_list)):\n",
        "  for j in range(BINS):\n",
        "      DifferenceAcc_histHasc[i][j] = DifferenceAcc_histHasc[i][j] / sum(DifferenceAcc_histHasc[i])"
      ],
      "metadata": {
        "id": "Ray7HmrbdG1u"
      },
      "execution_count": 81,
      "outputs": []
    },
    {
      "cell_type": "code",
      "source": [
        "sum(DifferenceAcc_histHasc[1]) / len(DifferenceAcc_histHasc[1])"
      ],
      "metadata": {
        "colab": {
          "base_uri": "https://localhost:8080/"
        },
        "id": "F37tCiR8F9Q0",
        "outputId": "ec67db91-ce40-4586-e558-1ca265b778e7"
      },
      "execution_count": 134,
      "outputs": [
        {
          "output_type": "execute_result",
          "data": {
            "text/plain": [
              "0.22810366902072984"
            ]
          },
          "metadata": {},
          "execution_count": 134
        }
      ]
    },
    {
      "cell_type": "code",
      "source": [
        "min(DifferenceAcc_hist[1])"
      ],
      "metadata": {
        "colab": {
          "base_uri": "https://localhost:8080/"
        },
        "id": "4EtcWVdn4k1f",
        "outputId": "6fb15b88-a71b-4109-d8a4-6b3630f88b16"
      },
      "execution_count": 132,
      "outputs": [
        {
          "output_type": "execute_result",
          "data": {
            "text/plain": [
              "-1.4890029317591427"
            ]
          },
          "metadata": {},
          "execution_count": 132
        }
      ]
    },
    {
      "cell_type": "code",
      "source": [
        "#標準化\n",
        "scaler = StandardScaler()\n",
        "# Fit the scaler to x_train\n",
        "scaler.fit(DifferenceAcc_hist)\n",
        "# Use the scaler to transform x_train and x_test\n",
        "DifferenceAcc_hist = scaler.transform(DifferenceAcc_hist)"
      ],
      "metadata": {
        "id": "vTkauiAMdjMf"
      },
      "execution_count": 84,
      "outputs": []
    },
    {
      "cell_type": "code",
      "source": [
        "#標準化\n",
        "scaler = StandardScaler()\n",
        "# Fit the scaler to x_train\n",
        "scaler.fit(DifferenceAcc_histHasc)\n",
        "# Use the scaler to transform x_train and x_test\n",
        "DifferenceAcc_histHasc = scaler.transform(DifferenceAcc_histHasc)"
      ],
      "metadata": {
        "id": "V8SRN1Jednsw"
      },
      "execution_count": 85,
      "outputs": []
    },
    {
      "cell_type": "code",
      "source": [
        "#transformer regression\n",
        "#各種パラメータ\n",
        "NUM_HEADS = 2\n",
        "KEY_DIM = 25\n",
        "BINS = 50\n",
        "DROPOUT = 0.1\n",
        "N = 1\n",
        "\n",
        "# Define the input shape\n",
        "input_shape = (BINS,)\n",
        "output_shape = (1,)\n",
        "\n",
        "#形を定義(このモジュールは行列でないとダメっぽい)\n",
        "inputs_encoder = layers.Input(shape=input_shape)\n",
        "inputs_decoder = layers.Input(shape=output_shape)"
      ],
      "metadata": {
        "id": "wdkRN2n9dxeT"
      },
      "execution_count": 86,
      "outputs": []
    },
    {
      "cell_type": "code",
      "source": [
        "#Encoderに対する入力の形状\n",
        "x_encoder = layers.Reshape((1, 50))(inputs_encoder)"
      ],
      "metadata": {
        "id": "8DfD41iqd2fh"
      },
      "execution_count": 87,
      "outputs": []
    },
    {
      "cell_type": "code",
      "source": [
        "#Transformer Encoder Layer(BERT)\n",
        "for i in range(N):\n",
        "      #Multi-Head-Attention Layer\n",
        "      attention_encoder = layers.MultiHeadAttention(num_heads=NUM_HEADS, key_dim=KEY_DIM, use_bias=True)(x_encoder, x_encoder, x_encoder)\n",
        "\n",
        "      #Dropout Layer\n",
        "      attention_encoder = layers.Dropout(rate=DROPOUT)(attention_encoder)\n",
        "      #Add & Norm Layer\n",
        "      attention_encoder = layers.LayerNormalization()(x_encoder + attention_encoder)\n",
        "\n",
        "      #Feed-Forward-Network\n",
        "      ffn_encoder = layers.Dense(BINS * 4, use_bias=True, activation=\"relu\")(attention_encoder)\n",
        "      ffn_encoder = layers.Dense(BINS, use_bias=True)(ffn_encoder)\n",
        "\n",
        "      #Dropout Layer\n",
        "      ffn_encoder = layers.Dropout(rate=DROPOUT)(ffn_encoder)\n",
        "      #Add & Norm Layer\n",
        "      x_encoder = layers.LayerNormalization()(attention_encoder + ffn_encoder)"
      ],
      "metadata": {
        "id": "IdfPrQ4Rd558"
      },
      "execution_count": 88,
      "outputs": []
    },
    {
      "cell_type": "code",
      "source": [
        "x = layers.Flatten()(x_encoder)\n",
        "x = layers.Dense(32, activation=\"relu\")(x)\n",
        "x = layers.Dropout(0.1)(x)\n",
        "x = layers.Dense(16, activation=\"relu\")(x)\n",
        "x = layers.Dropout(0.1)(x)\n",
        "outputs = layers.Dense(1, activation=\"relu\")(x)"
      ],
      "metadata": {
        "id": "cAQZaPQHd8VO"
      },
      "execution_count": 89,
      "outputs": []
    },
    {
      "cell_type": "code",
      "source": [
        "model = keras.Model(inputs=inputs_encoder, outputs=outputs)"
      ],
      "metadata": {
        "id": "i-knZZwMd-n8"
      },
      "execution_count": 90,
      "outputs": []
    },
    {
      "cell_type": "code",
      "source": [
        "# Compile the model\n",
        "model.compile(\n",
        "    optimizer=keras.optimizers.Adam(),\n",
        "    loss=keras.losses.mean_squared_error,\n",
        "    metrics=[keras.metrics.mean_squared_error],\n",
        ")"
      ],
      "metadata": {
        "id": "7-IwMOl3eBLI"
      },
      "execution_count": 91,
      "outputs": []
    },
    {
      "cell_type": "code",
      "source": [
        "mae = []\n",
        "mse = []\n",
        "r2 = []\n",
        "var = []"
      ],
      "metadata": {
        "id": "VeFKmnTieEqR"
      },
      "execution_count": 156,
      "outputs": []
    },
    {
      "cell_type": "code",
      "source": [
        "len(DifferenceAcc_histHasc)"
      ],
      "metadata": {
        "colab": {
          "base_uri": "https://localhost:8080/"
        },
        "id": "rXWNiBIg94nw",
        "outputId": "dc4bfe60-496f-4386-937d-59afd11b1f2d"
      },
      "execution_count": 95,
      "outputs": [
        {
          "output_type": "execute_result",
          "data": {
            "text/plain": [
              "468"
            ]
          },
          "metadata": {},
          "execution_count": 95
        }
      ]
    },
    {
      "cell_type": "code",
      "source": [
        "#Hascで構築→自分ので試す\n",
        "history = model.fit(DifferenceAcc_histHasc, HzHasc, batch_size=32, epochs=50, shuffle=True, validation_split=0.2)\n",
        "y_pred = tf.cast(tf.clip_by_value(model.predict(DifferenceAcc_hist), 20, 100), tf.int32)\n",
        "mae.append(mean_absolute_error(y_pred, Hz))\n",
        "mse.append(mean_squared_error(y_pred, Hz))\n",
        "r2.append(r2_score(y_pred, Hz))\n",
        "aa = Hz.reshape(len(Hz),1)\n",
        "diffa = y_pred - aa"
      ],
      "metadata": {
        "colab": {
          "base_uri": "https://localhost:8080/"
        },
        "id": "TzbKsZVmeHnW",
        "outputId": "f5e4086b-80de-4436-a05d-a4414e51ff04"
      },
      "execution_count": 157,
      "outputs": [
        {
          "output_type": "stream",
          "name": "stdout",
          "text": [
            "Epoch 1/50\n",
            "12/12 [==============================] - 0s 9ms/step - loss: 105.2993 - mean_squared_error: 105.2993 - val_loss: 464.0835 - val_mean_squared_error: 464.0835\n",
            "Epoch 2/50\n",
            "12/12 [==============================] - 0s 9ms/step - loss: 101.3693 - mean_squared_error: 101.3693 - val_loss: 449.0784 - val_mean_squared_error: 449.0784\n",
            "Epoch 3/50\n",
            "12/12 [==============================] - 0s 10ms/step - loss: 96.9360 - mean_squared_error: 96.9360 - val_loss: 478.1428 - val_mean_squared_error: 478.1428\n",
            "Epoch 4/50\n",
            "12/12 [==============================] - 0s 9ms/step - loss: 108.1202 - mean_squared_error: 108.1202 - val_loss: 541.0015 - val_mean_squared_error: 541.0015\n",
            "Epoch 5/50\n",
            "12/12 [==============================] - 0s 9ms/step - loss: 104.6364 - mean_squared_error: 104.6364 - val_loss: 486.4568 - val_mean_squared_error: 486.4568\n",
            "Epoch 6/50\n",
            "12/12 [==============================] - 0s 17ms/step - loss: 109.0854 - mean_squared_error: 109.0854 - val_loss: 445.0944 - val_mean_squared_error: 445.0944\n",
            "Epoch 7/50\n",
            "12/12 [==============================] - 0s 14ms/step - loss: 84.0486 - mean_squared_error: 84.0486 - val_loss: 436.2951 - val_mean_squared_error: 436.2951\n",
            "Epoch 8/50\n",
            "12/12 [==============================] - 0s 14ms/step - loss: 105.9757 - mean_squared_error: 105.9757 - val_loss: 544.5114 - val_mean_squared_error: 544.5114\n",
            "Epoch 9/50\n",
            "12/12 [==============================] - 0s 13ms/step - loss: 101.7741 - mean_squared_error: 101.7741 - val_loss: 359.4340 - val_mean_squared_error: 359.4340\n",
            "Epoch 10/50\n",
            "12/12 [==============================] - 0s 14ms/step - loss: 111.1419 - mean_squared_error: 111.1419 - val_loss: 478.2523 - val_mean_squared_error: 478.2523\n",
            "Epoch 11/50\n",
            "12/12 [==============================] - 0s 13ms/step - loss: 112.6836 - mean_squared_error: 112.6836 - val_loss: 401.5883 - val_mean_squared_error: 401.5883\n",
            "Epoch 12/50\n",
            "12/12 [==============================] - 0s 15ms/step - loss: 103.6084 - mean_squared_error: 103.6084 - val_loss: 540.8232 - val_mean_squared_error: 540.8232\n",
            "Epoch 13/50\n",
            "12/12 [==============================] - 0s 14ms/step - loss: 93.5834 - mean_squared_error: 93.5834 - val_loss: 557.3182 - val_mean_squared_error: 557.3182\n",
            "Epoch 14/50\n",
            "12/12 [==============================] - 0s 13ms/step - loss: 92.2285 - mean_squared_error: 92.2285 - val_loss: 435.5366 - val_mean_squared_error: 435.5366\n",
            "Epoch 15/50\n",
            "12/12 [==============================] - 0s 15ms/step - loss: 108.1734 - mean_squared_error: 108.1734 - val_loss: 453.4604 - val_mean_squared_error: 453.4604\n",
            "Epoch 16/50\n",
            "12/12 [==============================] - 0s 13ms/step - loss: 96.1580 - mean_squared_error: 96.1580 - val_loss: 461.8121 - val_mean_squared_error: 461.8121\n",
            "Epoch 17/50\n",
            "12/12 [==============================] - 0s 13ms/step - loss: 86.6552 - mean_squared_error: 86.6552 - val_loss: 519.6639 - val_mean_squared_error: 519.6639\n",
            "Epoch 18/50\n",
            "12/12 [==============================] - 0s 13ms/step - loss: 106.3400 - mean_squared_error: 106.3400 - val_loss: 477.8028 - val_mean_squared_error: 477.8028\n",
            "Epoch 19/50\n",
            "12/12 [==============================] - 0s 14ms/step - loss: 90.2707 - mean_squared_error: 90.2707 - val_loss: 441.8050 - val_mean_squared_error: 441.8050\n",
            "Epoch 20/50\n",
            "12/12 [==============================] - 0s 13ms/step - loss: 104.9498 - mean_squared_error: 104.9498 - val_loss: 532.2484 - val_mean_squared_error: 532.2484\n",
            "Epoch 21/50\n",
            "12/12 [==============================] - 0s 14ms/step - loss: 105.2760 - mean_squared_error: 105.2760 - val_loss: 491.7094 - val_mean_squared_error: 491.7094\n",
            "Epoch 22/50\n",
            "12/12 [==============================] - 0s 13ms/step - loss: 103.8919 - mean_squared_error: 103.8919 - val_loss: 415.0593 - val_mean_squared_error: 415.0593\n",
            "Epoch 23/50\n",
            "12/12 [==============================] - 0s 14ms/step - loss: 113.2649 - mean_squared_error: 113.2649 - val_loss: 451.5485 - val_mean_squared_error: 451.5485\n",
            "Epoch 24/50\n",
            "12/12 [==============================] - 0s 15ms/step - loss: 109.0793 - mean_squared_error: 109.0793 - val_loss: 463.4305 - val_mean_squared_error: 463.4305\n",
            "Epoch 25/50\n",
            "12/12 [==============================] - 0s 15ms/step - loss: 100.9379 - mean_squared_error: 100.9379 - val_loss: 451.0674 - val_mean_squared_error: 451.0674\n",
            "Epoch 26/50\n",
            "12/12 [==============================] - 0s 15ms/step - loss: 87.3075 - mean_squared_error: 87.3075 - val_loss: 466.4953 - val_mean_squared_error: 466.4953\n",
            "Epoch 27/50\n",
            "12/12 [==============================] - 0s 10ms/step - loss: 101.6463 - mean_squared_error: 101.6463 - val_loss: 407.4608 - val_mean_squared_error: 407.4608\n",
            "Epoch 28/50\n",
            "12/12 [==============================] - 0s 9ms/step - loss: 110.5355 - mean_squared_error: 110.5355 - val_loss: 420.2296 - val_mean_squared_error: 420.2296\n",
            "Epoch 29/50\n",
            "12/12 [==============================] - 0s 10ms/step - loss: 89.2828 - mean_squared_error: 89.2828 - val_loss: 441.8922 - val_mean_squared_error: 441.8922\n",
            "Epoch 30/50\n",
            "12/12 [==============================] - 0s 9ms/step - loss: 105.7401 - mean_squared_error: 105.7401 - val_loss: 522.1329 - val_mean_squared_error: 522.1329\n",
            "Epoch 31/50\n",
            "12/12 [==============================] - 0s 9ms/step - loss: 117.6253 - mean_squared_error: 117.6253 - val_loss: 433.3857 - val_mean_squared_error: 433.3857\n",
            "Epoch 32/50\n",
            "12/12 [==============================] - 0s 10ms/step - loss: 127.2072 - mean_squared_error: 127.2072 - val_loss: 437.7750 - val_mean_squared_error: 437.7751\n",
            "Epoch 33/50\n",
            "12/12 [==============================] - 0s 9ms/step - loss: 105.0510 - mean_squared_error: 105.0510 - val_loss: 414.8072 - val_mean_squared_error: 414.8072\n",
            "Epoch 34/50\n",
            "12/12 [==============================] - 0s 9ms/step - loss: 107.8058 - mean_squared_error: 107.8058 - val_loss: 447.1362 - val_mean_squared_error: 447.1362\n",
            "Epoch 35/50\n",
            "12/12 [==============================] - 0s 9ms/step - loss: 96.1576 - mean_squared_error: 96.1576 - val_loss: 432.1011 - val_mean_squared_error: 432.1011\n",
            "Epoch 36/50\n",
            "12/12 [==============================] - 0s 10ms/step - loss: 89.1327 - mean_squared_error: 89.1327 - val_loss: 410.2597 - val_mean_squared_error: 410.2597\n",
            "Epoch 37/50\n",
            "12/12 [==============================] - 0s 9ms/step - loss: 102.3431 - mean_squared_error: 102.3431 - val_loss: 482.0351 - val_mean_squared_error: 482.0351\n",
            "Epoch 38/50\n",
            "12/12 [==============================] - 0s 11ms/step - loss: 80.2973 - mean_squared_error: 80.2973 - val_loss: 493.1551 - val_mean_squared_error: 493.1551\n",
            "Epoch 39/50\n",
            "12/12 [==============================] - 0s 9ms/step - loss: 91.6990 - mean_squared_error: 91.6990 - val_loss: 496.3964 - val_mean_squared_error: 496.3964\n",
            "Epoch 40/50\n",
            "12/12 [==============================] - 0s 10ms/step - loss: 87.6196 - mean_squared_error: 87.6196 - val_loss: 470.4316 - val_mean_squared_error: 470.4316\n",
            "Epoch 41/50\n",
            "12/12 [==============================] - 0s 11ms/step - loss: 107.5782 - mean_squared_error: 107.5782 - val_loss: 545.6032 - val_mean_squared_error: 545.6032\n",
            "Epoch 42/50\n",
            "12/12 [==============================] - 0s 10ms/step - loss: 98.2720 - mean_squared_error: 98.2720 - val_loss: 435.3223 - val_mean_squared_error: 435.3223\n",
            "Epoch 43/50\n",
            "12/12 [==============================] - 0s 9ms/step - loss: 116.3183 - mean_squared_error: 116.3183 - val_loss: 474.8007 - val_mean_squared_error: 474.8007\n",
            "Epoch 44/50\n",
            "12/12 [==============================] - 0s 10ms/step - loss: 110.0110 - mean_squared_error: 110.0110 - val_loss: 384.6422 - val_mean_squared_error: 384.6422\n",
            "Epoch 45/50\n",
            "12/12 [==============================] - 0s 9ms/step - loss: 102.2282 - mean_squared_error: 102.2282 - val_loss: 464.9640 - val_mean_squared_error: 464.9640\n",
            "Epoch 46/50\n",
            "12/12 [==============================] - 0s 9ms/step - loss: 91.6243 - mean_squared_error: 91.6243 - val_loss: 431.5844 - val_mean_squared_error: 431.5844\n",
            "Epoch 47/50\n",
            "12/12 [==============================] - 0s 10ms/step - loss: 97.0907 - mean_squared_error: 97.0907 - val_loss: 450.9903 - val_mean_squared_error: 450.9903\n",
            "Epoch 48/50\n",
            "12/12 [==============================] - 0s 11ms/step - loss: 91.3153 - mean_squared_error: 91.3153 - val_loss: 450.2234 - val_mean_squared_error: 450.2234\n",
            "Epoch 49/50\n",
            "12/12 [==============================] - 0s 11ms/step - loss: 102.0452 - mean_squared_error: 102.0452 - val_loss: 473.9327 - val_mean_squared_error: 473.9327\n",
            "Epoch 50/50\n",
            "12/12 [==============================] - 0s 10ms/step - loss: 87.2113 - mean_squared_error: 87.2113 - val_loss: 395.7849 - val_mean_squared_error: 395.7849\n",
            "15/15 [==============================] - 0s 3ms/step\n"
          ]
        }
      ]
    },
    {
      "cell_type": "code",
      "source": [
        "#自分ので構築→Hascので試す\n",
        "history = model.fit(DifferenceAcc_hist, Hz, batch_size=32, epochs=50, shuffle=True, validation_split=0.2)\n",
        "y_pred = tf.cast(tf.clip_by_value(model.predict(DifferenceAcc_histHasc), 20, 100), tf.int32)\n",
        "mae.append(mean_absolute_error(y_pred, HzHasc))\n",
        "mse.append(mean_squared_error(y_pred, HzHasc))\n",
        "r2.append(r2_score(y_pred, HzHasc))\n",
        "aa = HzHasc.reshape(len(HzHasc),1)\n",
        "diffb = y_pred - aa"
      ],
      "metadata": {
        "colab": {
          "base_uri": "https://localhost:8080/"
        },
        "id": "PVRw_HfxilaJ",
        "outputId": "f04a8dfc-68f7-41ef-fc7b-75be23c6624e"
      },
      "execution_count": 158,
      "outputs": [
        {
          "output_type": "stream",
          "name": "stdout",
          "text": [
            "Epoch 1/50\n",
            "12/12 [==============================] - 0s 14ms/step - loss: 148.3503 - mean_squared_error: 148.3503 - val_loss: 254.4877 - val_mean_squared_error: 254.4877\n",
            "Epoch 2/50\n",
            "12/12 [==============================] - 0s 9ms/step - loss: 110.6887 - mean_squared_error: 110.6887 - val_loss: 158.8758 - val_mean_squared_error: 158.8758\n",
            "Epoch 3/50\n",
            "12/12 [==============================] - 0s 9ms/step - loss: 93.7716 - mean_squared_error: 93.7716 - val_loss: 127.0854 - val_mean_squared_error: 127.0854\n",
            "Epoch 4/50\n",
            "12/12 [==============================] - 0s 10ms/step - loss: 114.4760 - mean_squared_error: 114.4760 - val_loss: 148.5841 - val_mean_squared_error: 148.5841\n",
            "Epoch 5/50\n",
            "12/12 [==============================] - 0s 9ms/step - loss: 105.6421 - mean_squared_error: 105.6421 - val_loss: 163.0673 - val_mean_squared_error: 163.0673\n",
            "Epoch 6/50\n",
            "12/12 [==============================] - 0s 10ms/step - loss: 86.4582 - mean_squared_error: 86.4582 - val_loss: 166.9628 - val_mean_squared_error: 166.9628\n",
            "Epoch 7/50\n",
            "12/12 [==============================] - 0s 9ms/step - loss: 109.9726 - mean_squared_error: 109.9726 - val_loss: 131.9787 - val_mean_squared_error: 131.9787\n",
            "Epoch 8/50\n",
            "12/12 [==============================] - 0s 10ms/step - loss: 89.6926 - mean_squared_error: 89.6926 - val_loss: 132.8704 - val_mean_squared_error: 132.8704\n",
            "Epoch 9/50\n",
            "12/12 [==============================] - 0s 9ms/step - loss: 107.1641 - mean_squared_error: 107.1641 - val_loss: 115.2869 - val_mean_squared_error: 115.2869\n",
            "Epoch 10/50\n",
            "12/12 [==============================] - 0s 10ms/step - loss: 105.6650 - mean_squared_error: 105.6650 - val_loss: 135.6643 - val_mean_squared_error: 135.6643\n",
            "Epoch 11/50\n",
            "12/12 [==============================] - 0s 9ms/step - loss: 95.9686 - mean_squared_error: 95.9686 - val_loss: 158.7530 - val_mean_squared_error: 158.7530\n",
            "Epoch 12/50\n",
            "12/12 [==============================] - 0s 15ms/step - loss: 99.7764 - mean_squared_error: 99.7764 - val_loss: 164.3796 - val_mean_squared_error: 164.3796\n",
            "Epoch 13/50\n",
            "12/12 [==============================] - 0s 15ms/step - loss: 102.1491 - mean_squared_error: 102.1491 - val_loss: 132.5891 - val_mean_squared_error: 132.5891\n",
            "Epoch 14/50\n",
            "12/12 [==============================] - 0s 13ms/step - loss: 96.0050 - mean_squared_error: 96.0050 - val_loss: 127.1158 - val_mean_squared_error: 127.1158\n",
            "Epoch 15/50\n",
            "12/12 [==============================] - 0s 14ms/step - loss: 111.2373 - mean_squared_error: 111.2373 - val_loss: 137.8209 - val_mean_squared_error: 137.8209\n",
            "Epoch 16/50\n",
            "12/12 [==============================] - 0s 14ms/step - loss: 102.3140 - mean_squared_error: 102.3140 - val_loss: 133.9097 - val_mean_squared_error: 133.9097\n",
            "Epoch 17/50\n",
            "12/12 [==============================] - 0s 14ms/step - loss: 106.5473 - mean_squared_error: 106.5473 - val_loss: 130.4809 - val_mean_squared_error: 130.4809\n",
            "Epoch 18/50\n",
            "12/12 [==============================] - 0s 13ms/step - loss: 101.0551 - mean_squared_error: 101.0551 - val_loss: 114.5136 - val_mean_squared_error: 114.5136\n",
            "Epoch 19/50\n",
            "12/12 [==============================] - 0s 14ms/step - loss: 105.9212 - mean_squared_error: 105.9212 - val_loss: 175.3919 - val_mean_squared_error: 175.3919\n",
            "Epoch 20/50\n",
            "12/12 [==============================] - 0s 14ms/step - loss: 102.8875 - mean_squared_error: 102.8875 - val_loss: 126.2230 - val_mean_squared_error: 126.2230\n",
            "Epoch 21/50\n",
            "12/12 [==============================] - 0s 14ms/step - loss: 106.4713 - mean_squared_error: 106.4713 - val_loss: 139.8248 - val_mean_squared_error: 139.8248\n",
            "Epoch 22/50\n",
            "12/12 [==============================] - 0s 12ms/step - loss: 97.0306 - mean_squared_error: 97.0306 - val_loss: 127.9396 - val_mean_squared_error: 127.9396\n",
            "Epoch 23/50\n",
            "12/12 [==============================] - 0s 14ms/step - loss: 91.1670 - mean_squared_error: 91.1670 - val_loss: 143.9184 - val_mean_squared_error: 143.9184\n",
            "Epoch 24/50\n",
            "12/12 [==============================] - 0s 14ms/step - loss: 117.3518 - mean_squared_error: 117.3518 - val_loss: 130.3270 - val_mean_squared_error: 130.3270\n",
            "Epoch 25/50\n",
            "12/12 [==============================] - 0s 14ms/step - loss: 99.6756 - mean_squared_error: 99.6756 - val_loss: 154.1117 - val_mean_squared_error: 154.1117\n",
            "Epoch 26/50\n",
            "12/12 [==============================] - 0s 13ms/step - loss: 94.9583 - mean_squared_error: 94.9583 - val_loss: 143.6610 - val_mean_squared_error: 143.6610\n",
            "Epoch 27/50\n",
            "12/12 [==============================] - 0s 14ms/step - loss: 108.6739 - mean_squared_error: 108.6739 - val_loss: 167.0376 - val_mean_squared_error: 167.0376\n",
            "Epoch 28/50\n",
            "12/12 [==============================] - 0s 13ms/step - loss: 100.9851 - mean_squared_error: 100.9851 - val_loss: 134.1209 - val_mean_squared_error: 134.1209\n",
            "Epoch 29/50\n",
            "12/12 [==============================] - 0s 14ms/step - loss: 98.1721 - mean_squared_error: 98.1721 - val_loss: 106.0359 - val_mean_squared_error: 106.0359\n",
            "Epoch 30/50\n",
            "12/12 [==============================] - 0s 13ms/step - loss: 119.4984 - mean_squared_error: 119.4984 - val_loss: 139.0823 - val_mean_squared_error: 139.0823\n",
            "Epoch 31/50\n",
            "12/12 [==============================] - 0s 14ms/step - loss: 95.7299 - mean_squared_error: 95.7299 - val_loss: 114.5258 - val_mean_squared_error: 114.5258\n",
            "Epoch 32/50\n",
            "12/12 [==============================] - 0s 13ms/step - loss: 93.2130 - mean_squared_error: 93.2130 - val_loss: 114.6854 - val_mean_squared_error: 114.6854\n",
            "Epoch 33/50\n",
            "12/12 [==============================] - 0s 9ms/step - loss: 97.0045 - mean_squared_error: 97.0045 - val_loss: 102.8969 - val_mean_squared_error: 102.8969\n",
            "Epoch 34/50\n",
            "12/12 [==============================] - 0s 10ms/step - loss: 101.7829 - mean_squared_error: 101.7829 - val_loss: 126.7052 - val_mean_squared_error: 126.7052\n",
            "Epoch 35/50\n",
            "12/12 [==============================] - 0s 9ms/step - loss: 109.5268 - mean_squared_error: 109.5268 - val_loss: 122.7786 - val_mean_squared_error: 122.7786\n",
            "Epoch 36/50\n",
            "12/12 [==============================] - 0s 9ms/step - loss: 113.2348 - mean_squared_error: 113.2348 - val_loss: 106.8298 - val_mean_squared_error: 106.8298\n",
            "Epoch 37/50\n",
            "12/12 [==============================] - 0s 9ms/step - loss: 90.9899 - mean_squared_error: 90.9899 - val_loss: 95.6202 - val_mean_squared_error: 95.6202\n",
            "Epoch 38/50\n",
            "12/12 [==============================] - 0s 9ms/step - loss: 98.6989 - mean_squared_error: 98.6989 - val_loss: 128.6475 - val_mean_squared_error: 128.6475\n",
            "Epoch 39/50\n",
            "12/12 [==============================] - 0s 10ms/step - loss: 92.0311 - mean_squared_error: 92.0311 - val_loss: 101.3540 - val_mean_squared_error: 101.3540\n",
            "Epoch 40/50\n",
            "12/12 [==============================] - 0s 9ms/step - loss: 93.3102 - mean_squared_error: 93.3102 - val_loss: 118.4516 - val_mean_squared_error: 118.4516\n",
            "Epoch 41/50\n",
            "12/12 [==============================] - 0s 10ms/step - loss: 94.3350 - mean_squared_error: 94.3350 - val_loss: 94.1114 - val_mean_squared_error: 94.1114\n",
            "Epoch 42/50\n",
            "12/12 [==============================] - 0s 9ms/step - loss: 100.2969 - mean_squared_error: 100.2969 - val_loss: 91.9039 - val_mean_squared_error: 91.9039\n",
            "Epoch 43/50\n",
            "12/12 [==============================] - 0s 9ms/step - loss: 92.5280 - mean_squared_error: 92.5280 - val_loss: 99.0415 - val_mean_squared_error: 99.0415\n",
            "Epoch 44/50\n",
            "12/12 [==============================] - 0s 10ms/step - loss: 82.0266 - mean_squared_error: 82.0266 - val_loss: 132.6468 - val_mean_squared_error: 132.6468\n",
            "Epoch 45/50\n",
            "12/12 [==============================] - 0s 11ms/step - loss: 97.8749 - mean_squared_error: 97.8749 - val_loss: 138.6583 - val_mean_squared_error: 138.6583\n",
            "Epoch 46/50\n",
            "12/12 [==============================] - 0s 9ms/step - loss: 104.6627 - mean_squared_error: 104.6627 - val_loss: 113.7575 - val_mean_squared_error: 113.7575\n",
            "Epoch 47/50\n",
            "12/12 [==============================] - 0s 9ms/step - loss: 96.3504 - mean_squared_error: 96.3504 - val_loss: 122.5483 - val_mean_squared_error: 122.5483\n",
            "Epoch 48/50\n",
            "12/12 [==============================] - 0s 9ms/step - loss: 87.5394 - mean_squared_error: 87.5394 - val_loss: 130.1383 - val_mean_squared_error: 130.1383\n",
            "Epoch 49/50\n",
            "12/12 [==============================] - 0s 9ms/step - loss: 96.3701 - mean_squared_error: 96.3701 - val_loss: 143.6086 - val_mean_squared_error: 143.6086\n",
            "Epoch 50/50\n",
            "12/12 [==============================] - 0s 9ms/step - loss: 101.3371 - mean_squared_error: 101.3371 - val_loss: 145.8086 - val_mean_squared_error: 145.8086\n",
            "15/15 [==============================] - 0s 4ms/step\n"
          ]
        }
      ]
    },
    {
      "cell_type": "code",
      "source": [
        "mae"
      ],
      "metadata": {
        "colab": {
          "base_uri": "https://localhost:8080/"
        },
        "id": "6daUiYhjh9Xc",
        "outputId": "f430e335-3f13-4e95-c5aa-92654e9d35ed"
      },
      "execution_count": 164,
      "outputs": [
        {
          "output_type": "execute_result",
          "data": {
            "text/plain": [
              "[9.617521367521368, 9.547008547008547]"
            ]
          },
          "metadata": {},
          "execution_count": 164
        }
      ]
    },
    {
      "cell_type": "code",
      "source": [
        "mse"
      ],
      "metadata": {
        "colab": {
          "base_uri": "https://localhost:8080/"
        },
        "id": "8KRKeZVviZLA",
        "outputId": "97891552-9cc3-470e-854e-8e19dea65cd1"
      },
      "execution_count": 165,
      "outputs": [
        {
          "output_type": "execute_result",
          "data": {
            "text/plain": [
              "[158.3311965811966, 148.0811965811966]"
            ]
          },
          "metadata": {},
          "execution_count": 165
        }
      ]
    },
    {
      "cell_type": "code",
      "source": [
        "r2"
      ],
      "metadata": {
        "colab": {
          "base_uri": "https://localhost:8080/"
        },
        "id": "RR4SRZsBiagU",
        "outputId": "59fbc203-7c85-433e-a6d8-066e21ed5281"
      },
      "execution_count": 166,
      "outputs": [
        {
          "output_type": "execute_result",
          "data": {
            "text/plain": [
              "[0.466954008876196, 0.7839934497406523]"
            ]
          },
          "metadata": {},
          "execution_count": 166
        }
      ]
    },
    {
      "cell_type": "code",
      "source": [
        "np.var(diffa)"
      ],
      "metadata": {
        "colab": {
          "base_uri": "https://localhost:8080/"
        },
        "id": "M-ZPd4XNibl1",
        "outputId": "d69c5730-4b0b-4958-ee2c-bca5ba7a2d7a"
      },
      "execution_count": 167,
      "outputs": [
        {
          "output_type": "execute_result",
          "data": {
            "text/plain": [
              "135.2788872452334"
            ]
          },
          "metadata": {},
          "execution_count": 167
        }
      ]
    },
    {
      "cell_type": "code",
      "source": [
        "np.var(diffb)"
      ],
      "metadata": {
        "id": "jWDWX2iDihmS",
        "colab": {
          "base_uri": "https://localhost:8080/"
        },
        "outputId": "3f183641-14a8-4312-a22e-91f3f5350a25"
      },
      "execution_count": 168,
      "outputs": [
        {
          "output_type": "execute_result",
          "data": {
            "text/plain": [
              "145.88218642705823"
            ]
          },
          "metadata": {},
          "execution_count": 168
        }
      ]
    },
    {
      "cell_type": "code",
      "source": [],
      "metadata": {
        "id": "ExQzwqff-Xgo"
      },
      "execution_count": null,
      "outputs": []
    }
  ]
}